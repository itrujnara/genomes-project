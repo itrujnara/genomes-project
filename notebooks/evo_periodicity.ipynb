{
 "cells": [
  {
   "cell_type": "code",
   "execution_count": 1,
   "id": "59dbe1b1-5b3e-4070-8953-e875cf30d8a2",
   "metadata": {},
   "outputs": [],
   "source": [
    "from collections import defaultdict\n",
    "from dataclasses import dataclass\n",
    "from functools import wraps\n",
    "import random\n",
    "from time import perf_counter_ns\n",
    "\n",
    "import torch\n",
    "from evo import Evo, generate\n",
    "from stripedhyena.sample import sample\n",
    "\n",
    "from Bio import SeqIO\n",
    "import numpy as np\n",
    "import matplotlib.pyplot as plt\n",
    "%matplotlib inline\n",
    "import pandas as pd\n",
    "import seaborn as sns\n",
    "from sklearn.metrics import roc_auc_score, average_precision_score\n",
    "from sklearn.preprocessing import OneHotEncoder"
   ]
  },
  {
   "cell_type": "markdown",
   "id": "942606a4-c24c-4efe-84a4-976407ff7fd1",
   "metadata": {},
   "source": [
    "# Setup"
   ]
  },
  {
   "cell_type": "code",
   "execution_count": 2,
   "id": "599bc898-d8c2-47c1-8798-3602709ae29e",
   "metadata": {},
   "outputs": [],
   "source": [
    "# run on GPU if available, otherwise panic\n",
    "if not torch.cuda.is_available():\n",
    "    raise RuntimeError(\"CUDA not available, just don't do it\")\n",
    "\n",
    "device = torch.device(\"cuda:0\")"
   ]
  },
  {
   "cell_type": "code",
   "execution_count": 3,
   "id": "13b3187b-9332-4e3e-bd27-8bda67975e4d",
   "metadata": {},
   "outputs": [
    {
     "data": {
      "application/vnd.jupyter.widget-view+json": {
       "model_id": "72cd3fd7e1bf4090b7ec64d7c44fcf0a",
       "version_major": 2,
       "version_minor": 0
      },
      "text/plain": [
       "Loading checkpoint shards:   0%|          | 0/3 [00:00<?, ?it/s]"
      ]
     },
     "metadata": {},
     "output_type": "display_data"
    }
   ],
   "source": [
    "# download the model\n",
    "evo_model = Evo(\"evo-1.5-8k-base\")"
   ]
  },
  {
   "cell_type": "code",
   "execution_count": 4,
   "id": "6924cd65-06e6-43d6-b33f-de327bb83adf",
   "metadata": {},
   "outputs": [],
   "source": [
    "# extract tokenizer and model\n",
    "tokenizer = evo_model.tokenizer\n",
    "model = evo_model.model.to(device)"
   ]
  },
  {
   "cell_type": "markdown",
   "id": "566659dd-6f65-4ab8-8383-154608d954a5",
   "metadata": {},
   "source": [
    "# Utils"
   ]
  },
  {
   "cell_type": "code",
   "execution_count": 5,
   "id": "c4402310-5c0d-4a9e-bf96-7b6b8933303a",
   "metadata": {},
   "outputs": [],
   "source": [
    "def get_internal_acgt_probs(seq):\n",
    "    \"\"\"Get per-position nucleotide probabilities within a sequence. They go from position 1 to k+1.\"\"\"\n",
    "    tokens = torch.tensor(tokenizer.tokenize(seq), dtype=torch.int).unsqueeze(0).to(device)\n",
    "    with torch.inference_mode():\n",
    "        logits, _ = model(tokens)\n",
    "    acgt_logits = logits[0,:,(65,67,71,84)]\n",
    "    acgt_probs = torch.softmax(acgt_logits, dim=-1)\n",
    "    return acgt_probs"
   ]
  },
  {
   "cell_type": "code",
   "execution_count": 12,
   "id": "5328eedc-49ac-4a9e-a7c8-95d68a329c48",
   "metadata": {},
   "outputs": [],
   "source": [
    "def periodic_array(k, period):\n",
    "    \"\"\"Create a periodic numbering of a given length.\"\"\"\n",
    "    reps = k // period + 1\n",
    "    return np.tile(range(1,period+1), reps)[:k]"
   ]
  },
  {
   "cell_type": "code",
   "execution_count": 11,
   "id": "7ecdccdc-b674-4208-8332-db6826650aeb",
   "metadata": {},
   "outputs": [
    {
     "data": {
      "text/plain": [
       "array([1, 2, 3, 1, 2, 3, 1, 2, 3, 1])"
      ]
     },
     "execution_count": 11,
     "metadata": {},
     "output_type": "execute_result"
    }
   ],
   "source": [
    "periodic_array(10,3)"
   ]
  },
  {
   "cell_type": "code",
   "execution_count": 18,
   "id": "326c434f-9ef1-42d0-9199-63617facce61",
   "metadata": {},
   "outputs": [],
   "source": [
    "def periodicity_from_fasta(path, k=1000, period=3):\n",
    "    with open(path) as f:\n",
    "        seqs = SeqIO.parse(f, \"fasta\")\n",
    "        seq = next(seqs)\n",
    "    probs = get_internal_acgt_probs(str(seq.seq)[:k])\n",
    "    conf = probs.max(dim=1).values.to(torch.float32).to(\"cpu\").numpy()\n",
    "    pos = periodic_array(k, period)\n",
    "    df_full = pd.DataFrame({\"conf\": conf, \"pos\": pos})\n",
    "    return df_full.groupby(\"pos\").mean(), df_full[\"conf\"].mean()"
   ]
  },
  {
   "cell_type": "code",
   "execution_count": 22,
   "id": "7bb2d9b1-2ce1-4ead-b565-3af36420fc5d",
   "metadata": {
    "scrolled": true
   },
   "outputs": [
    {
     "name": "stdout",
     "output_type": "stream",
     "text": [
      "0.501041\n"
     ]
    },
    {
     "data": {
      "text/html": [
       "<div>\n",
       "<style scoped>\n",
       "    .dataframe tbody tr th:only-of-type {\n",
       "        vertical-align: middle;\n",
       "    }\n",
       "\n",
       "    .dataframe tbody tr th {\n",
       "        vertical-align: top;\n",
       "    }\n",
       "\n",
       "    .dataframe thead th {\n",
       "        text-align: right;\n",
       "    }\n",
       "</style>\n",
       "<table border=\"1\" class=\"dataframe\">\n",
       "  <thead>\n",
       "    <tr style=\"text-align: right;\">\n",
       "      <th></th>\n",
       "      <th>conf</th>\n",
       "    </tr>\n",
       "    <tr>\n",
       "      <th>pos</th>\n",
       "      <th></th>\n",
       "    </tr>\n",
       "  </thead>\n",
       "  <tbody>\n",
       "    <tr>\n",
       "      <th>1</th>\n",
       "      <td>0.477206</td>\n",
       "    </tr>\n",
       "    <tr>\n",
       "      <th>2</th>\n",
       "      <td>0.599803</td>\n",
       "    </tr>\n",
       "    <tr>\n",
       "      <th>3</th>\n",
       "      <td>0.426186</td>\n",
       "    </tr>\n",
       "  </tbody>\n",
       "</table>\n",
       "</div>"
      ],
      "text/plain": [
       "         conf\n",
       "pos          \n",
       "1    0.477206\n",
       "2    0.599803\n",
       "3    0.426186"
      ]
     },
     "execution_count": 22,
     "metadata": {},
     "output_type": "execute_result"
    }
   ],
   "source": [
    "p_cds, mean_cds = periodicity_from_fasta(\"seqs/cds_1.fa\")\n",
    "print(mean_cds)\n",
    "p_cds"
   ]
  },
  {
   "cell_type": "code",
   "execution_count": 37,
   "id": "23094759-1885-40a9-b296-b6c1901aa817",
   "metadata": {},
   "outputs": [
    {
     "data": {
      "text/plain": [
       "<matplotlib.legend.Legend at 0x7f7598d4b740>"
      ]
     },
     "execution_count": 37,
     "metadata": {},
     "output_type": "execute_result"
    },
    {
     "data": {
      "image/png": "[encoded data removed]",
      "text/plain": [
       "<Figure size 640x480 with 1 Axes>"
      ]
     },
     "metadata": {},
     "output_type": "display_data"
    }
   ],
   "source": [
    "ax = sns.barplot(data = p_cds, x = \"pos\", y = \"conf\")\n",
    "ax.set_ylim(0,1)\n",
    "ax.axhline(y = mean_intergenic, color=\"firebrick\", label=\"Sequence average\")\n",
    "ax.set(title=\"Confidence by 3-mer position\", xlabel=\"Position\", ylabel=\"Confidence\")\n",
    "ax.legend()"
   ]
  },
  {
   "cell_type": "code",
   "execution_count": 42,
   "id": "5fbc800d-1186-4f64-a39a-e0f5d55e174e",
   "metadata": {},
   "outputs": [
    {
     "name": "stdout",
     "output_type": "stream",
     "text": [
      "0.4045215\n"
     ]
    },
    {
     "data": {
      "text/html": [
       "<div>\n",
       "<style scoped>\n",
       "    .dataframe tbody tr th:only-of-type {\n",
       "        vertical-align: middle;\n",
       "    }\n",
       "\n",
       "    .dataframe tbody tr th {\n",
       "        vertical-align: top;\n",
       "    }\n",
       "\n",
       "    .dataframe thead th {\n",
       "        text-align: right;\n",
       "    }\n",
       "</style>\n",
       "<table border=\"1\" class=\"dataframe\">\n",
       "  <thead>\n",
       "    <tr style=\"text-align: right;\">\n",
       "      <th></th>\n",
       "      <th>conf</th>\n",
       "    </tr>\n",
       "    <tr>\n",
       "      <th>pos</th>\n",
       "      <th></th>\n",
       "    </tr>\n",
       "  </thead>\n",
       "  <tbody>\n",
       "    <tr>\n",
       "      <th>1</th>\n",
       "      <td>0.391847</td>\n",
       "    </tr>\n",
       "    <tr>\n",
       "      <th>2</th>\n",
       "      <td>0.413400</td>\n",
       "    </tr>\n",
       "    <tr>\n",
       "      <th>3</th>\n",
       "      <td>0.408356</td>\n",
       "    </tr>\n",
       "  </tbody>\n",
       "</table>\n",
       "</div>"
      ],
      "text/plain": [
       "         conf\n",
       "pos          \n",
       "1    0.391847\n",
       "2    0.413400\n",
       "3    0.408356"
      ]
     },
     "execution_count": 42,
     "metadata": {},
     "output_type": "execute_result"
    }
   ],
   "source": [
    "p_intron, mean_intron = periodicity_from_fasta(\"seqs/intron_1.fa\")\n",
    "print(mean_intron)\n",
    "p_intron"
   ]
  },
  {
   "cell_type": "code",
   "execution_count": 43,
   "id": "e9a43457-179c-4155-8209-b1dbab55b4da",
   "metadata": {},
   "outputs": [
    {
     "data": {
      "text/plain": [
       "<matplotlib.legend.Legend at 0x7f75988e8260>"
      ]
     },
     "execution_count": 43,
     "metadata": {},
     "output_type": "execute_result"
    },
    {
     "data": {
      "image/png": "[encoded data removed]",
      "text/plain": [
       "<Figure size 640x480 with 1 Axes>"
      ]
     },
     "metadata": {},
     "output_type": "display_data"
    }
   ],
   "source": [
    "ax = sns.barplot(data = p_intron, x = \"pos\", y = \"conf\")\n",
    "ax.set_ylim(0,1)\n",
    "ax.axhline(y = mean_intron, color=\"firebrick\", label=\"Sequence average\")\n",
    "ax.set(title=\"Confidence by 3-mer position\", xlabel=\"Position\", ylabel=\"Confidence\")\n",
    "ax.legend()"
   ]
  },
  {
   "cell_type": "code",
   "execution_count": 24,
   "id": "d7a12c63-3e5b-4a60-9d79-0147c6480aad",
   "metadata": {},
   "outputs": [
    {
     "name": "stdout",
     "output_type": "stream",
     "text": [
      "0.5949063\n"
     ]
    },
    {
     "data": {
      "text/html": [
       "<div>\n",
       "<style scoped>\n",
       "    .dataframe tbody tr th:only-of-type {\n",
       "        vertical-align: middle;\n",
       "    }\n",
       "\n",
       "    .dataframe tbody tr th {\n",
       "        vertical-align: top;\n",
       "    }\n",
       "\n",
       "    .dataframe thead th {\n",
       "        text-align: right;\n",
       "    }\n",
       "</style>\n",
       "<table border=\"1\" class=\"dataframe\">\n",
       "  <thead>\n",
       "    <tr style=\"text-align: right;\">\n",
       "      <th></th>\n",
       "      <th>conf</th>\n",
       "    </tr>\n",
       "    <tr>\n",
       "      <th>pos</th>\n",
       "      <th></th>\n",
       "    </tr>\n",
       "  </thead>\n",
       "  <tbody>\n",
       "    <tr>\n",
       "      <th>1</th>\n",
       "      <td>0.595247</td>\n",
       "    </tr>\n",
       "    <tr>\n",
       "      <th>2</th>\n",
       "      <td>0.596964</td>\n",
       "    </tr>\n",
       "    <tr>\n",
       "      <th>3</th>\n",
       "      <td>0.592507</td>\n",
       "    </tr>\n",
       "  </tbody>\n",
       "</table>\n",
       "</div>"
      ],
      "text/plain": [
       "         conf\n",
       "pos          \n",
       "1    0.595247\n",
       "2    0.596964\n",
       "3    0.592507"
      ]
     },
     "execution_count": 24,
     "metadata": {},
     "output_type": "execute_result"
    }
   ],
   "source": [
    "p_intergenic, mean_intergenic = periodicity_from_fasta(\"seqs/intergenic_1.fa\")\n",
    "print(mean_intergenic)\n",
    "p_intergenic"
   ]
  },
  {
   "cell_type": "code",
   "execution_count": 39,
   "id": "e7942213-1f79-4d43-9788-2f0b8928a545",
   "metadata": {},
   "outputs": [
    {
     "data": {
      "text/plain": [
       "<matplotlib.legend.Legend at 0x7f7598a1b620>"
      ]
     },
     "execution_count": 39,
     "metadata": {},
     "output_type": "execute_result"
    },
    {
     "data": {
      "image/png": "[encoded data removed]",
      "text/plain": [
       "<Figure size 640x480 with 1 Axes>"
      ]
     },
     "metadata": {},
     "output_type": "display_data"
    }
   ],
   "source": [
    "ax = sns.barplot(data = p_intergenic, x = \"pos\", y = \"conf\")\n",
    "ax.set_ylim(0,1)\n",
    "ax.axhline(y = mean_intergenic, color=\"firebrick\", label=\"Sequence average\")\n",
    "ax.set(title=\"Confidence by 3-mer position\", xlabel=\"Position\", ylabel=\"Confidence\")\n",
    "ax.legend()"
   ]
  },
  {
   "cell_type": "code",
   "execution_count": 25,
   "id": "ea21753f-0f2b-490e-b10a-0faac6908785",
   "metadata": {},
   "outputs": [
    {
     "name": "stdout",
     "output_type": "stream",
     "text": [
      "0.3755625\n"
     ]
    },
    {
     "data": {
      "text/html": [
       "<div>\n",
       "<style scoped>\n",
       "    .dataframe tbody tr th:only-of-type {\n",
       "        vertical-align: middle;\n",
       "    }\n",
       "\n",
       "    .dataframe tbody tr th {\n",
       "        vertical-align: top;\n",
       "    }\n",
       "\n",
       "    .dataframe thead th {\n",
       "        text-align: right;\n",
       "    }\n",
       "</style>\n",
       "<table border=\"1\" class=\"dataframe\">\n",
       "  <thead>\n",
       "    <tr style=\"text-align: right;\">\n",
       "      <th></th>\n",
       "      <th>conf</th>\n",
       "    </tr>\n",
       "    <tr>\n",
       "      <th>pos</th>\n",
       "      <th></th>\n",
       "    </tr>\n",
       "  </thead>\n",
       "  <tbody>\n",
       "    <tr>\n",
       "      <th>1</th>\n",
       "      <td>0.373415</td>\n",
       "    </tr>\n",
       "    <tr>\n",
       "      <th>2</th>\n",
       "      <td>0.375821</td>\n",
       "    </tr>\n",
       "    <tr>\n",
       "      <th>3</th>\n",
       "      <td>0.377458</td>\n",
       "    </tr>\n",
       "  </tbody>\n",
       "</table>\n",
       "</div>"
      ],
      "text/plain": [
       "         conf\n",
       "pos          \n",
       "1    0.373415\n",
       "2    0.375821\n",
       "3    0.377458"
      ]
     },
     "execution_count": 25,
     "metadata": {},
     "output_type": "execute_result"
    }
   ],
   "source": [
    "p_lnc, mean_lnc = periodicity_from_fasta(\"seqs/lnc_1.fa\")\n",
    "print(mean_lnc)\n",
    "p_lnc"
   ]
  },
  {
   "cell_type": "code",
   "execution_count": 40,
   "id": "55290506-689f-4c9a-9640-945a3acb3dc2",
   "metadata": {},
   "outputs": [
    {
     "data": {
      "text/plain": [
       "<matplotlib.legend.Legend at 0x7f7598885160>"
      ]
     },
     "execution_count": 40,
     "metadata": {},
     "output_type": "execute_result"
    },
    {
     "data": {
      "image/png": "[encoded data removed]",
      "text/plain": [
       "<Figure size 640x480 with 1 Axes>"
      ]
     },
     "metadata": {},
     "output_type": "display_data"
    }
   ],
   "source": [
    "ax = sns.barplot(data = p_lnc, x = \"pos\", y = \"conf\")\n",
    "ax.set_ylim(0,1)\n",
    "ax.axhline(y = mean_lnc, color=\"firebrick\", label=\"Sequence average\")\n",
    "ax.set(title=\"Confidence by 3-mer position\", xlabel=\"Position\", ylabel=\"Confidence\")\n",
    "ax.legend()"
   ]
  },
  {
   "cell_type": "code",
   "execution_count": 44,
   "id": "024ee7fe-3af7-4e68-8d5a-b256be171e4e",
   "metadata": {},
   "outputs": [
    {
     "name": "stdout",
     "output_type": "stream",
     "text": [
      "0.501041\n"
     ]
    },
    {
     "data": {
      "text/html": [
       "<div>\n",
       "<style scoped>\n",
       "    .dataframe tbody tr th:only-of-type {\n",
       "        vertical-align: middle;\n",
       "    }\n",
       "\n",
       "    .dataframe tbody tr th {\n",
       "        vertical-align: top;\n",
       "    }\n",
       "\n",
       "    .dataframe thead th {\n",
       "        text-align: right;\n",
       "    }\n",
       "</style>\n",
       "<table border=\"1\" class=\"dataframe\">\n",
       "  <thead>\n",
       "    <tr style=\"text-align: right;\">\n",
       "      <th></th>\n",
       "      <th>conf</th>\n",
       "    </tr>\n",
       "    <tr>\n",
       "      <th>pos</th>\n",
       "      <th></th>\n",
       "    </tr>\n",
       "  </thead>\n",
       "  <tbody>\n",
       "    <tr>\n",
       "      <th>1</th>\n",
       "      <td>0.506789</td>\n",
       "    </tr>\n",
       "    <tr>\n",
       "      <th>2</th>\n",
       "      <td>0.500984</td>\n",
       "    </tr>\n",
       "    <tr>\n",
       "      <th>3</th>\n",
       "      <td>0.500820</td>\n",
       "    </tr>\n",
       "    <tr>\n",
       "      <th>4</th>\n",
       "      <td>0.495570</td>\n",
       "    </tr>\n",
       "  </tbody>\n",
       "</table>\n",
       "</div>"
      ],
      "text/plain": [
       "         conf\n",
       "pos          \n",
       "1    0.506789\n",
       "2    0.500984\n",
       "3    0.500820\n",
       "4    0.495570"
      ]
     },
     "execution_count": 44,
     "metadata": {},
     "output_type": "execute_result"
    }
   ],
   "source": [
    "p_cds_4, mean_cds_4 = periodicity_from_fasta(\"seqs/cds_1.fa\", period=4)\n",
    "print(mean_cds_4)\n",
    "p_cds_4"
   ]
  },
  {
   "cell_type": "code",
   "execution_count": 47,
   "id": "461abcde-aa22-4002-9984-afa71b531c10",
   "metadata": {},
   "outputs": [
    {
     "data": {
      "text/plain": [
       "<matplotlib.legend.Legend at 0x7f75987c6690>"
      ]
     },
     "execution_count": 47,
     "metadata": {},
     "output_type": "execute_result"
    },
    {
     "data": {
      "image/png": "[encoded data removed]",
      "text/plain": [
       "<Figure size 640x480 with 1 Axes>"
      ]
     },
     "metadata": {},
     "output_type": "display_data"
    }
   ],
   "source": [
    "ax = sns.barplot(data = p_cds_4, x = \"pos\", y = \"conf\")\n",
    "ax.set_ylim(0,1)\n",
    "ax.axhline(y = mean_cds_4, color=\"firebrick\", label=\"Sequence average\")\n",
    "ax.set(title=\"Confidence by 4-mer position\", xlabel=\"Position\", ylabel=\"Confidence\")\n",
    "ax.legend()"
   ]
  },
  {
   "cell_type": "code",
   "execution_count": 48,
   "id": "3efb0b52-9110-4eea-af60-e4f9c11663bd",
   "metadata": {},
   "outputs": [
    {
     "name": "stdout",
     "output_type": "stream",
     "text": [
      "0.4045215\n"
     ]
    },
    {
     "data": {
      "text/html": [
       "<div>\n",
       "<style scoped>\n",
       "    .dataframe tbody tr th:only-of-type {\n",
       "        vertical-align: middle;\n",
       "    }\n",
       "\n",
       "    .dataframe tbody tr th {\n",
       "        vertical-align: top;\n",
       "    }\n",
       "\n",
       "    .dataframe thead th {\n",
       "        text-align: right;\n",
       "    }\n",
       "</style>\n",
       "<table border=\"1\" class=\"dataframe\">\n",
       "  <thead>\n",
       "    <tr style=\"text-align: right;\">\n",
       "      <th></th>\n",
       "      <th>conf</th>\n",
       "    </tr>\n",
       "    <tr>\n",
       "      <th>pos</th>\n",
       "      <th></th>\n",
       "    </tr>\n",
       "  </thead>\n",
       "  <tbody>\n",
       "    <tr>\n",
       "      <th>1</th>\n",
       "      <td>0.404633</td>\n",
       "    </tr>\n",
       "    <tr>\n",
       "      <th>2</th>\n",
       "      <td>0.406711</td>\n",
       "    </tr>\n",
       "    <tr>\n",
       "      <th>3</th>\n",
       "      <td>0.403734</td>\n",
       "    </tr>\n",
       "    <tr>\n",
       "      <th>4</th>\n",
       "      <td>0.403008</td>\n",
       "    </tr>\n",
       "  </tbody>\n",
       "</table>\n",
       "</div>"
      ],
      "text/plain": [
       "         conf\n",
       "pos          \n",
       "1    0.404633\n",
       "2    0.406711\n",
       "3    0.403734\n",
       "4    0.403008"
      ]
     },
     "execution_count": 48,
     "metadata": {},
     "output_type": "execute_result"
    }
   ],
   "source": [
    "p_intron_4, mean_intron_4 = periodicity_from_fasta(\"seqs/intron_1.fa\", period=4)\n",
    "print(mean_intron_4)\n",
    "p_intron_4"
   ]
  },
  {
   "cell_type": "code",
   "execution_count": 51,
   "id": "f9d64d56-0e01-4b1d-8f0c-0302a3d15121",
   "metadata": {},
   "outputs": [
    {
     "data": {
      "text/plain": [
       "<matplotlib.legend.Legend at 0x7f7598869ac0>"
      ]
     },
     "execution_count": 51,
     "metadata": {},
     "output_type": "execute_result"
    },
    {
     "data": {
      "image/png": "[encoded data removed]",
      "text/plain": [
       "<Figure size 640x480 with 1 Axes>"
      ]
     },
     "metadata": {},
     "output_type": "display_data"
    }
   ],
   "source": [
    "ax = sns.barplot(data = p_intron_4, x = \"pos\", y = \"conf\")\n",
    "ax.set_ylim(0,1)\n",
    "ax.axhline(y = mean_intron_4, color=\"firebrick\", label=\"Sequence average\")\n",
    "ax.set(title=\"Confidence by 4-mer position\", xlabel=\"Position\", ylabel=\"Confidence\")\n",
    "ax.legend()"
   ]
  },
  {
   "cell_type": "code",
   "execution_count": 49,
   "id": "028bb98f-2656-4f72-8932-1351e2163b16",
   "metadata": {},
   "outputs": [
    {
     "name": "stdout",
     "output_type": "stream",
     "text": [
      "0.5949063\n"
     ]
    },
    {
     "data": {
      "text/html": [
       "<div>\n",
       "<style scoped>\n",
       "    .dataframe tbody tr th:only-of-type {\n",
       "        vertical-align: middle;\n",
       "    }\n",
       "\n",
       "    .dataframe tbody tr th {\n",
       "        vertical-align: top;\n",
       "    }\n",
       "\n",
       "    .dataframe thead th {\n",
       "        text-align: right;\n",
       "    }\n",
       "</style>\n",
       "<table border=\"1\" class=\"dataframe\">\n",
       "  <thead>\n",
       "    <tr style=\"text-align: right;\">\n",
       "      <th></th>\n",
       "      <th>conf</th>\n",
       "    </tr>\n",
       "    <tr>\n",
       "      <th>pos</th>\n",
       "      <th></th>\n",
       "    </tr>\n",
       "  </thead>\n",
       "  <tbody>\n",
       "    <tr>\n",
       "      <th>1</th>\n",
       "      <td>0.590773</td>\n",
       "    </tr>\n",
       "    <tr>\n",
       "      <th>2</th>\n",
       "      <td>0.594117</td>\n",
       "    </tr>\n",
       "    <tr>\n",
       "      <th>3</th>\n",
       "      <td>0.602484</td>\n",
       "    </tr>\n",
       "    <tr>\n",
       "      <th>4</th>\n",
       "      <td>0.592250</td>\n",
       "    </tr>\n",
       "  </tbody>\n",
       "</table>\n",
       "</div>"
      ],
      "text/plain": [
       "         conf\n",
       "pos          \n",
       "1    0.590773\n",
       "2    0.594117\n",
       "3    0.602484\n",
       "4    0.592250"
      ]
     },
     "execution_count": 49,
     "metadata": {},
     "output_type": "execute_result"
    }
   ],
   "source": [
    "p_intergenic_4, mean_intergenic_4 = periodicity_from_fasta(\"seqs/intergenic_1.fa\", period=4)\n",
    "print(mean_intergenic_4)\n",
    "p_intergenic_4"
   ]
  },
  {
   "cell_type": "code",
   "execution_count": 52,
   "id": "825d6a7b-6328-48bc-9940-3119ab6b1336",
   "metadata": {},
   "outputs": [
    {
     "data": {
      "text/plain": [
       "<matplotlib.legend.Legend at 0x7f7598793d40>"
      ]
     },
     "execution_count": 52,
     "metadata": {},
     "output_type": "execute_result"
    },
    {
     "data": {
      "image/png": "[encoded data removed]",
      "text/plain": [
       "<Figure size 640x480 with 1 Axes>"
      ]
     },
     "metadata": {},
     "output_type": "display_data"
    }
   ],
   "source": [
    "ax = sns.barplot(data = p_intergenic_4, x = \"pos\", y = \"conf\")\n",
    "ax.set_ylim(0,1)\n",
    "ax.axhline(y = mean_intergenic_4, color=\"firebrick\", label=\"Sequence average\")\n",
    "ax.set(title=\"Confidence by 4-mer position\", xlabel=\"Position\", ylabel=\"Confidence\")\n",
    "ax.legend()"
   ]
  },
  {
   "cell_type": "code",
   "execution_count": 50,
   "id": "aa77edf4-b844-4099-81d4-e224616f0841",
   "metadata": {},
   "outputs": [
    {
     "name": "stdout",
     "output_type": "stream",
     "text": [
      "0.3755625\n"
     ]
    },
    {
     "data": {
      "text/html": [
       "<div>\n",
       "<style scoped>\n",
       "    .dataframe tbody tr th:only-of-type {\n",
       "        vertical-align: middle;\n",
       "    }\n",
       "\n",
       "    .dataframe tbody tr th {\n",
       "        vertical-align: top;\n",
       "    }\n",
       "\n",
       "    .dataframe thead th {\n",
       "        text-align: right;\n",
       "    }\n",
       "</style>\n",
       "<table border=\"1\" class=\"dataframe\">\n",
       "  <thead>\n",
       "    <tr style=\"text-align: right;\">\n",
       "      <th></th>\n",
       "      <th>conf</th>\n",
       "    </tr>\n",
       "    <tr>\n",
       "      <th>pos</th>\n",
       "      <th></th>\n",
       "    </tr>\n",
       "  </thead>\n",
       "  <tbody>\n",
       "    <tr>\n",
       "      <th>1</th>\n",
       "      <td>0.379305</td>\n",
       "    </tr>\n",
       "    <tr>\n",
       "      <th>2</th>\n",
       "      <td>0.374109</td>\n",
       "    </tr>\n",
       "    <tr>\n",
       "      <th>3</th>\n",
       "      <td>0.373570</td>\n",
       "    </tr>\n",
       "    <tr>\n",
       "      <th>4</th>\n",
       "      <td>0.375266</td>\n",
       "    </tr>\n",
       "  </tbody>\n",
       "</table>\n",
       "</div>"
      ],
      "text/plain": [
       "         conf\n",
       "pos          \n",
       "1    0.379305\n",
       "2    0.374109\n",
       "3    0.373570\n",
       "4    0.375266"
      ]
     },
     "execution_count": 50,
     "metadata": {},
     "output_type": "execute_result"
    }
   ],
   "source": [
    "p_lnc_4, mean_lnc_4 = periodicity_from_fasta(\"seqs/lnc_1.fa\", period=4)\n",
    "print(mean_lnc_4)\n",
    "p_lnc_4"
   ]
  },
  {
   "cell_type": "code",
   "execution_count": 53,
   "id": "15e74842-cd7d-4012-b44d-266b58f8f33a",
   "metadata": {},
   "outputs": [
    {
     "data": {
      "text/plain": [
       "<matplotlib.legend.Legend at 0x7f759886bb00>"
      ]
     },
     "execution_count": 53,
     "metadata": {},
     "output_type": "execute_result"
    },
    {
     "data": {
      "image/png": "[encoded data removed]",
      "text/plain": [
       "<Figure size 640x480 with 1 Axes>"
      ]
     },
     "metadata": {},
     "output_type": "display_data"
    }
   ],
   "source": [
    "ax = sns.barplot(data = p_lnc_4, x = \"pos\", y = \"conf\")\n",
    "ax.set_ylim(0,1)\n",
    "ax.axhline(y = mean_lnc_4, color=\"firebrick\", label=\"Sequence average\")\n",
    "ax.set(title=\"Confidence by 4-mer position\", xlabel=\"Position\", ylabel=\"Confidence\")\n",
    "ax.legend()"
   ]
  }
 ],
 "metadata": {
  "kernelspec": {
   "display_name": "gpu",
   "language": "python",
   "name": "gpu"
  },
  "language_info": {
   "codemirror_mode": {
    "name": "ipython",
    "version": 3
   },
   "file_extension": ".py",
   "mimetype": "text/x-python",
   "name": "python",
   "nbconvert_exporter": "python",
   "pygments_lexer": "ipython3",
   "version": "3.12.4"
  }
 },
 "nbformat": 4,
 "nbformat_minor": 5
}
