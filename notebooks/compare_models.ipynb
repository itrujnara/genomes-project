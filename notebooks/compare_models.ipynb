{
 "cells": [
  {
   "cell_type": "code",
   "execution_count": 97,
   "id": "3f15f477-c2f3-4141-8de7-57bf179b5b90",
   "metadata": {},
   "outputs": [],
   "source": [
    "from pathlib import Path\n",
    "\n",
    "import polars as pl\n",
    "from safetensors.torch import load_file\n",
    "import seaborn as sns\n",
    "\n",
    "import torch"
   ]
  },
  {
   "cell_type": "code",
   "execution_count": 2,
   "id": "a0f6b61a-87c5-44a9-bfa0-11d19390fb54",
   "metadata": {},
   "outputs": [],
   "source": [
    "basepath = Path(\"/users/cn/itrujnara/genomes-project/infer_chromosome/one_chunk/tensors\")"
   ]
  },
  {
   "cell_type": "markdown",
   "id": "9c8e9ad7-4e65-4c39-ba6a-bb3e2aafe8a0",
   "metadata": {},
   "source": [
    "# 7b_base vs. 7b"
   ]
  },
  {
   "cell_type": "code",
   "execution_count": 3,
   "id": "dc3c97d4-2277-4793-bffb-65622f6d0951",
   "metadata": {},
   "outputs": [],
   "source": [
    "probs_base = load_file(basepath / \"probs_context8192_stride512.safetensors\")[\"probs\"]"
   ]
  },
  {
   "cell_type": "code",
   "execution_count": 4,
   "id": "a9761515-3cdf-4a64-b622-cb22a7cb4ab7",
   "metadata": {},
   "outputs": [
    {
     "data": {
      "text/plain": [
       "torch.Size([122880, 4])"
      ]
     },
     "execution_count": 4,
     "metadata": {},
     "output_type": "execute_result"
    }
   ],
   "source": [
    "probs_base.shape"
   ]
  },
  {
   "cell_type": "code",
   "execution_count": 5,
   "id": "7eca3072-d3ae-4967-8cb3-da235e3e20fa",
   "metadata": {},
   "outputs": [],
   "source": [
    "probs_long = load_file(basepath / \"evo2_7b_probs_context8192_stride512.safetensors\")[\"probs\"]"
   ]
  },
  {
   "cell_type": "code",
   "execution_count": 6,
   "id": "77dbe648-cbe6-470c-99ea-5652035c638a",
   "metadata": {},
   "outputs": [
    {
     "data": {
      "text/plain": [
       "torch.Size([122880, 4])"
      ]
     },
     "execution_count": 6,
     "metadata": {},
     "output_type": "execute_result"
    }
   ],
   "source": [
    "probs_long.shape"
   ]
  },
  {
   "cell_type": "code",
   "execution_count": 7,
   "id": "e82cdb16-a352-4424-8a29-cd4bc1954e2a",
   "metadata": {},
   "outputs": [
    {
     "data": {
      "text/plain": [
       "tensor(0.0648)"
      ]
     },
     "execution_count": 7,
     "metadata": {},
     "output_type": "execute_result"
    }
   ],
   "source": [
    "((probs_long - probs_base) ** 2).sum(dim=1).sqrt().mean()"
   ]
  },
  {
   "cell_type": "markdown",
   "id": "9b6c2412-f44e-4105-a222-588badef896f",
   "metadata": {},
   "source": [
    "# Embedding distances"
   ]
  },
  {
   "cell_type": "code",
   "execution_count": 105,
   "id": "86f8bcc6-9199-4de8-af4a-f834a867452d",
   "metadata": {},
   "outputs": [],
   "source": [
    "emb_tensors = {}\n",
    "\n",
    "for stride in [16,32,64,128,256,512]:\n",
    "    emb_tensors[stride] = load_file(basepath / f\"evo2_7b_embeddings_context8192_stride{stride}.safetensors\")[\"embeddings\"]"
   ]
  },
  {
   "cell_type": "code",
   "execution_count": 9,
   "id": "23000728-87cb-4779-9917-82198f20f6bb",
   "metadata": {},
   "outputs": [],
   "source": [
    "#emb_tensors"
   ]
  },
  {
   "cell_type": "markdown",
   "id": "84de6e25-6d12-4caf-93e2-318962185fe8",
   "metadata": {},
   "source": [
    "## Exploration"
   ]
  },
  {
   "cell_type": "code",
   "execution_count": 106,
   "id": "d2e5c1c6-e819-4214-b025-e432f761007a",
   "metadata": {},
   "outputs": [
    {
     "data": {
      "text/plain": [
       "tensor(0.0981)"
      ]
     },
     "execution_count": 106,
     "metadata": {},
     "output_type": "execute_result"
    }
   ],
   "source": [
    "((emb_tensors[16] - emb_tensors[512]) ** 2).sum(dim=1).sqrt().mean()"
   ]
  },
  {
   "cell_type": "code",
   "execution_count": 66,
   "id": "143f186e-bb7a-4c5e-a5a1-14eae26e6d94",
   "metadata": {},
   "outputs": [
    {
     "name": "stdout",
     "output_type": "stream",
     "text": [
      "tensor(0.0059)\n",
      "tensor(-0.0001)\n",
      "tensor(-4.5312)\n",
      "tensor(26.2500)\n",
      "tensor(0.3778)\n"
     ]
    }
   ],
   "source": [
    "print(emb_tensors[32].mean())\n",
    "print(emb_tensors[32].median())\n",
    "print(emb_tensors[32].min())\n",
    "print(emb_tensors[32].max())\n",
    "print(emb_tensors[32].std())"
   ]
  },
  {
   "cell_type": "code",
   "execution_count": 57,
   "id": "62bae9ba-8d97-495e-8d3b-c59b9570f796",
   "metadata": {},
   "outputs": [],
   "source": [
    "# ax = sns.histplot(emb_tensors[64][50000,:]).set_xlim(-1,1)"
   ]
  },
  {
   "cell_type": "markdown",
   "id": "317febaa-b75a-4867-af81-3a1e2ef43bb0",
   "metadata": {},
   "source": [
    "## Null distribution"
   ]
  },
  {
   "cell_type": "code",
   "execution_count": 25,
   "id": "d0f27ea4-616d-4bad-8766-12feb5f1ae67",
   "metadata": {},
   "outputs": [],
   "source": [
    "torch.random.manual_seed(42)\n",
    "\n",
    "t1 = torch.normal(0.0059, 0.3778, (122880, 4096))\n",
    "t2 = torch.normal(0.0059, 0.3778, (122880, 4096))"
   ]
  },
  {
   "cell_type": "code",
   "execution_count": 26,
   "id": "618b959d-1f5a-4650-9f50-be36077cf6e7",
   "metadata": {},
   "outputs": [],
   "source": [
    "null_dist = ((t1 - t2) ** 2).sum(dim=1).sqrt()"
   ]
  },
  {
   "cell_type": "code",
   "execution_count": 28,
   "id": "9da9400d-5943-4dd5-8b25-493365af6e14",
   "metadata": {},
   "outputs": [
    {
     "data": {
      "text/plain": [
       "tensor(34.1913)"
      ]
     },
     "execution_count": 28,
     "metadata": {},
     "output_type": "execute_result"
    }
   ],
   "source": [
    "null_dist.mean()"
   ]
  },
  {
   "cell_type": "code",
   "execution_count": 29,
   "id": "cd98f63c-f77d-4877-9b1e-9534bb399839",
   "metadata": {},
   "outputs": [
    {
     "data": {
      "text/plain": [
       "tensor(0.3781)"
      ]
     },
     "execution_count": 29,
     "metadata": {},
     "output_type": "execute_result"
    }
   ],
   "source": [
    "null_dist.std()"
   ]
  },
  {
   "cell_type": "code",
   "execution_count": 81,
   "id": "ed6dfdd6-2ca3-4682-88e9-de85090ab897",
   "metadata": {},
   "outputs": [
    {
     "data": {
      "text/plain": [
       "tensor(32.4483)"
      ]
     },
     "execution_count": 81,
     "metadata": {},
     "output_type": "execute_result"
    }
   ],
   "source": [
    "null_dist.min()"
   ]
  },
  {
   "cell_type": "code",
   "execution_count": 34,
   "id": "7c096121-7aba-47ae-b502-31cece4992ed",
   "metadata": {},
   "outputs": [
    {
     "data": {
      "text/plain": [
       "tensor(0)"
      ]
     },
     "execution_count": 34,
     "metadata": {},
     "output_type": "execute_result"
    }
   ],
   "source": [
    "(null_dist < 0.0162).sum()"
   ]
  },
  {
   "cell_type": "markdown",
   "id": "546d610c-5100-4d22-85fe-042ea13f5a65",
   "metadata": {},
   "source": [
    "## Permutation"
   ]
  },
  {
   "cell_type": "code",
   "execution_count": 82,
   "id": "78e30a4c-ae30-401f-949e-eb6eb228a861",
   "metadata": {},
   "outputs": [
    {
     "data": {
      "text/plain": [
       "tensor([15462, 51829, 50938,  ..., 36430, 60069, 49583])"
      ]
     },
     "execution_count": 82,
     "metadata": {},
     "output_type": "execute_result"
    }
   ],
   "source": [
    "torch.random.manual_seed(42)\n",
    "\n",
    "idx = torch.randperm(122880)\n",
    "idx"
   ]
  },
  {
   "cell_type": "code",
   "execution_count": 107,
   "id": "5ba4181c-e8a0-4f9c-b301-efe9467854fe",
   "metadata": {},
   "outputs": [],
   "source": [
    "perm_dist = ((emb_tensors[16] - emb_tensors[16][idx,:]) ** 2).sum(dim=1).sqrt()"
   ]
  },
  {
   "cell_type": "code",
   "execution_count": 108,
   "id": "281ee9db-a0b0-40d4-9d0e-9dab19fbd270",
   "metadata": {},
   "outputs": [
    {
     "data": {
      "text/plain": [
       "tensor(5.0270)"
      ]
     },
     "execution_count": 108,
     "metadata": {},
     "output_type": "execute_result"
    }
   ],
   "source": [
    "perm_dist.mean()"
   ]
  },
  {
   "cell_type": "code",
   "execution_count": 109,
   "id": "73ad38c0-2a9e-4a5f-84b9-3667f6e00ed6",
   "metadata": {},
   "outputs": [
    {
     "data": {
      "text/plain": [
       "tensor(0.)"
      ]
     },
     "execution_count": 109,
     "metadata": {},
     "output_type": "execute_result"
    }
   ],
   "source": [
    "perm_dist.min()"
   ]
  },
  {
   "cell_type": "markdown",
   "id": "fa900b22-9b31-47e0-b291-cf49dec0102c",
   "metadata": {},
   "source": [
    "## All distances"
   ]
  },
  {
   "cell_type": "code",
   "execution_count": 115,
   "id": "9556c09d-ca84-4261-869c-5f5ff24ac85f",
   "metadata": {},
   "outputs": [],
   "source": [
    "distances = {}\n",
    "\n",
    "for stride in emb_tensors:\n",
    "    distances[str(stride)] = ((emb_tensors[stride] - emb_tensors[16]) ** 2).sum(dim=1).sqrt()"
   ]
  },
  {
   "cell_type": "code",
   "execution_count": 116,
   "id": "d597b27d-fe62-469c-b253-ca68dbf98435",
   "metadata": {},
   "outputs": [
    {
     "data": {
      "text/plain": [
       "tensor(0.0981)"
      ]
     },
     "execution_count": 116,
     "metadata": {},
     "output_type": "execute_result"
    }
   ],
   "source": [
    "distances[\"512\"].mean()"
   ]
  },
  {
   "cell_type": "code",
   "execution_count": 120,
   "id": "03d1f344-1b5b-475f-b5bb-d40fc2c1dd36",
   "metadata": {},
   "outputs": [
    {
     "name": "stdout",
     "output_type": "stream",
     "text": [
      "16: 0.0000\n",
      "32: 0.0589\n",
      "64: 0.0609\n",
      "128: 0.0632\n",
      "256: 0.0666\n",
      "512: 0.0720\n"
     ]
    }
   ],
   "source": [
    "for stride in distances:\n",
    "    print(f\"{stride}: {distances[stride].median():.4f}\")"
   ]
  },
  {
   "cell_type": "code",
   "execution_count": 78,
   "id": "4a37cdc0-a02a-4971-bd80-54370dc9941e",
   "metadata": {},
   "outputs": [
    {
     "data": {
      "text/plain": [
       "0.00140625"
      ]
     },
     "execution_count": 78,
     "metadata": {},
     "output_type": "execute_result"
    }
   ],
   "source": [
    "((0.09 ** 2) / 4096) ** 0.5"
   ]
  },
  {
   "cell_type": "code",
   "execution_count": 80,
   "id": "4d7227cf-9f7c-467b-8409-1b5a09116425",
   "metadata": {},
   "outputs": [
    {
     "data": {
      "text/plain": [
       "tensor(0)"
      ]
     },
     "execution_count": 80,
     "metadata": {},
     "output_type": "execute_result"
    }
   ],
   "source": [
    "(null_dist < 0.0976).sum()"
   ]
  },
  {
   "cell_type": "code",
   "execution_count": 95,
   "id": "002d27b2-1228-4aef-b80f-60ee1d039795",
   "metadata": {},
   "outputs": [
    {
     "data": {
      "text/plain": [
       "tensor(1)"
      ]
     },
     "execution_count": 95,
     "metadata": {},
     "output_type": "execute_result"
    }
   ],
   "source": [
    "(perm_dist < 0.0976).sum()"
   ]
  },
  {
   "cell_type": "code",
   "execution_count": 118,
   "id": "08d1245b-a278-4b38-aa87-7fd14fa26af4",
   "metadata": {},
   "outputs": [
    {
     "data": {
      "text/html": [
       "<div><style>\n",
       ".dataframe > thead > tr,\n",
       ".dataframe > tbody > tr {\n",
       "  text-align: right;\n",
       "  white-space: pre-wrap;\n",
       "}\n",
       "</style>\n",
       "<small>shape: (122_880, 6)</small><table border=\"1\" class=\"dataframe\"><thead><tr><th>16</th><th>32</th><th>64</th><th>128</th><th>256</th><th>512</th></tr><tr><td>f32</td><td>f32</td><td>f32</td><td>f32</td><td>f32</td><td>f32</td></tr></thead><tbody><tr><td>0.0</td><td>0.137791</td><td>0.137268</td><td>0.137944</td><td>0.137099</td><td>0.139437</td></tr><tr><td>0.0</td><td>0.038088</td><td>0.029794</td><td>0.033354</td><td>0.037222</td><td>0.042611</td></tr><tr><td>0.0</td><td>0.035785</td><td>0.026591</td><td>0.032823</td><td>0.026001</td><td>0.129137</td></tr><tr><td>0.0</td><td>0.029713</td><td>0.037496</td><td>0.039382</td><td>0.044721</td><td>0.042446</td></tr><tr><td>0.0</td><td>0.128005</td><td>0.019537</td><td>0.035085</td><td>0.044519</td><td>0.044468</td></tr><tr><td>&hellip;</td><td>&hellip;</td><td>&hellip;</td><td>&hellip;</td><td>&hellip;</td><td>&hellip;</td></tr><tr><td>0.0</td><td>0.037161</td><td>0.035963</td><td>0.051523</td><td>0.027435</td><td>0.053804</td></tr><tr><td>0.0</td><td>0.042167</td><td>0.030132</td><td>0.14463</td><td>0.03868</td><td>0.045553</td></tr><tr><td>0.0</td><td>0.0383</td><td>0.034973</td><td>0.130475</td><td>0.03345</td><td>0.033231</td></tr><tr><td>0.0</td><td>0.049065</td><td>0.029241</td><td>0.133705</td><td>0.036593</td><td>0.040214</td></tr><tr><td>0.0</td><td>0.041254</td><td>0.040859</td><td>0.131213</td><td>0.053168</td><td>0.055753</td></tr></tbody></table></div>"
      ],
      "text/plain": [
       "shape: (122_880, 6)\n",
       "┌─────┬──────────┬──────────┬──────────┬──────────┬──────────┐\n",
       "│ 16  ┆ 32       ┆ 64       ┆ 128      ┆ 256      ┆ 512      │\n",
       "│ --- ┆ ---      ┆ ---      ┆ ---      ┆ ---      ┆ ---      │\n",
       "│ f32 ┆ f32      ┆ f32      ┆ f32      ┆ f32      ┆ f32      │\n",
       "╞═════╪══════════╪══════════╪══════════╪══════════╪══════════╡\n",
       "│ 0.0 ┆ 0.137791 ┆ 0.137268 ┆ 0.137944 ┆ 0.137099 ┆ 0.139437 │\n",
       "│ 0.0 ┆ 0.038088 ┆ 0.029794 ┆ 0.033354 ┆ 0.037222 ┆ 0.042611 │\n",
       "│ 0.0 ┆ 0.035785 ┆ 0.026591 ┆ 0.032823 ┆ 0.026001 ┆ 0.129137 │\n",
       "│ 0.0 ┆ 0.029713 ┆ 0.037496 ┆ 0.039382 ┆ 0.044721 ┆ 0.042446 │\n",
       "│ 0.0 ┆ 0.128005 ┆ 0.019537 ┆ 0.035085 ┆ 0.044519 ┆ 0.044468 │\n",
       "│ …   ┆ …        ┆ …        ┆ …        ┆ …        ┆ …        │\n",
       "│ 0.0 ┆ 0.037161 ┆ 0.035963 ┆ 0.051523 ┆ 0.027435 ┆ 0.053804 │\n",
       "│ 0.0 ┆ 0.042167 ┆ 0.030132 ┆ 0.14463  ┆ 0.03868  ┆ 0.045553 │\n",
       "│ 0.0 ┆ 0.0383   ┆ 0.034973 ┆ 0.130475 ┆ 0.03345  ┆ 0.033231 │\n",
       "│ 0.0 ┆ 0.049065 ┆ 0.029241 ┆ 0.133705 ┆ 0.036593 ┆ 0.040214 │\n",
       "│ 0.0 ┆ 0.041254 ┆ 0.040859 ┆ 0.131213 ┆ 0.053168 ┆ 0.055753 │\n",
       "└─────┴──────────┴──────────┴──────────┴──────────┴──────────┘"
      ]
     },
     "execution_count": 118,
     "metadata": {},
     "output_type": "execute_result"
    }
   ],
   "source": [
    "df_distances = pl.DataFrame(distances)\n",
    "df_distances"
   ]
  },
  {
   "cell_type": "code",
   "execution_count": 119,
   "id": "4972540c-1a7b-4415-a0f5-176605742927",
   "metadata": {},
   "outputs": [
    {
     "data": {
      "text/plain": [
       "<Axes: xlabel='variable', ylabel='value'>"
      ]
     },
     "execution_count": 119,
     "metadata": {},
     "output_type": "execute_result"
    },
    {
     "data": {
      "image/png": "[encoded data removed]",
      "text/plain": [
       "<Figure size 640x480 with 1 Axes>"
      ]
     },
     "metadata": {},
     "output_type": "display_data"
    }
   ],
   "source": [
    "sns.boxplot(df_distances.unpivot(), x=\"variable\", y=\"value\")"
   ]
  },
  {
   "cell_type": "code",
   "execution_count": null,
   "id": "20cbcb70-edb0-4142-a6a2-038dcf38dc38",
   "metadata": {},
   "outputs": [],
   "source": []
  }
 ],
 "metadata": {
  "kernelspec": {
   "display_name": "gpu",
   "language": "python",
   "name": "gpu"
  },
  "language_info": {
   "codemirror_mode": {
    "name": "ipython",
    "version": 3
   },
   "file_extension": ".py",
   "mimetype": "text/x-python",
   "name": "python",
   "nbconvert_exporter": "python",
   "pygments_lexer": "ipython3",
   "version": "3.9.21"
  }
 },
 "nbformat": 4,
 "nbformat_minor": 5
}
