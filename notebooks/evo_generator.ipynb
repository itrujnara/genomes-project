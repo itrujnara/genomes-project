{
 "cells": [
  {
   "cell_type": "code",
   "execution_count": 41,
   "id": "a78ba741-ae25-4787-8c2e-9d569b47e455",
   "metadata": {},
   "outputs": [],
   "source": [
    "from collections import defaultdict\n",
    "from dataclasses import dataclass\n",
    "from functools import cache\n",
    "import random\n",
    "\n",
    "import torch\n",
    "import torch.nn.functional as F\n",
    "\n",
    "from evo import Evo\n",
    "from evo.generation import Generator\n",
    "\n",
    "from Bio import SeqIO\n",
    "import matplotlib.pyplot as plt\n",
    "import pandas as pd\n",
    "import seaborn as sns\n",
    "from sklearn.metrics import roc_auc_score, average_precision_score"
   ]
  },
  {
   "cell_type": "markdown",
   "id": "bfa39f05-83c2-4f7a-8895-537039ddb1ed",
   "metadata": {},
   "source": [
    "# Setup"
   ]
  },
  {
   "cell_type": "code",
   "execution_count": 2,
   "id": "b56e070a-cb11-45a6-92e6-057487a37368",
   "metadata": {},
   "outputs": [],
   "source": [
    "# run models on GPU if GPU node is used\n",
    "device = torch.device(\"cuda\" if torch.cuda.is_available() else \"cpu\")"
   ]
  },
  {
   "cell_type": "code",
   "execution_count": 3,
   "id": "d86f808e-fe06-4d9e-b144-0df8ffe2d9f5",
   "metadata": {},
   "outputs": [
    {
     "data": {
      "application/vnd.jupyter.widget-view+json": {
       "model_id": "9ac82ee8f01b4a5c82ff5849a425192d",
       "version_major": 2,
       "version_minor": 0
      },
      "text/plain": [
       "Loading checkpoint shards:   0%|          | 0/3 [00:00<?, ?it/s]"
      ]
     },
     "metadata": {},
     "output_type": "display_data"
    }
   ],
   "source": [
    "# download the model\n",
    "evo_model = Evo(\"evo-1.5-8k-base\")"
   ]
  },
  {
   "cell_type": "code",
   "execution_count": 4,
   "id": "0bb3d210-fdc4-4d70-825f-fb61d8f74e2b",
   "metadata": {},
   "outputs": [],
   "source": [
    "# extract torch modules\n",
    "tokenizer = evo_model.tokenizer\n",
    "model = evo_model.model.to(device)"
   ]
  },
  {
   "cell_type": "code",
   "execution_count": 5,
   "id": "aadb88cb-b3d0-4b6d-8a5c-fddc805f4a77",
   "metadata": {},
   "outputs": [],
   "source": [
    "# create a generator object\n",
    "generator_hot = Generator(model, tokenizer, temperature=1.)\n",
    "generator_warm = Generator(model, tokenizer, temperature=0.5)\n",
    "generator_cold = Generator(model, tokenizer, temperature=0.001)"
   ]
  },
  {
   "cell_type": "markdown",
   "id": "c455c23d-b629-4f64-bcad-f89eee85ea4a",
   "metadata": {},
   "source": [
    "# Dummy example"
   ]
  },
  {
   "cell_type": "markdown",
   "id": "d1b9e974-fa92-4de2-a90d-3221166de057",
   "metadata": {},
   "source": [
    "We will test calling the generator function to ensure that everything is working correctly."
   ]
  },
  {
   "cell_type": "code",
   "execution_count": 77,
   "id": "d6f37e9d-9da5-4804-baae-94a9845fb0be",
   "metadata": {},
   "outputs": [],
   "source": [
    "# generate 10 characters after a context of \"ACGT\"\n",
    "torch.manual_seed(42)\n",
    "test_result = generator_hot.generate(device=\"cuda\", input_string=\"ACGT\", num_tokens=10)"
   ]
  },
  {
   "cell_type": "code",
   "execution_count": 7,
   "id": "fee19403-eebf-43aa-950e-392bfd1dd9a4",
   "metadata": {},
   "outputs": [
    {
     "name": "stdout",
     "output_type": "stream",
     "text": [
      "tensor([[67, 71, 65, 71, 71, 84, 71, 67, 71, 67]], device='cuda:0')\n",
      "torch.Size([1, 10])\n",
      "CGAGGTGCGC\n"
     ]
    }
   ],
   "source": [
    "# output tokens\n",
    "tokens = test_result[0]\n",
    "print(tokens)\n",
    "print(tokens.shape)\n",
    "print(tokenizer.detokenize(tokens.squeeze()))"
   ]
  },
  {
   "cell_type": "code",
   "execution_count": 8,
   "id": "081d7ff2-9f88-425a-a018-a30016b08218",
   "metadata": {},
   "outputs": [
    {
     "name": "stdout",
     "output_type": "stream",
     "text": [
      "tensor([[[ -7.7812, -22.2500, -22.2500,  ..., -22.2500, -22.2500, -22.1250],\n",
      "         [ -8.4375, -22.3750, -22.3750,  ..., -22.3750, -22.3750, -22.3750],\n",
      "         [ -9.1250, -22.6250, -22.5000,  ..., -22.5000, -22.5000, -22.5000],\n",
      "         ...,\n",
      "         [ -8.8125, -22.5000, -22.5000,  ..., -22.5000, -22.5000, -22.5000],\n",
      "         [ -9.1250, -22.6250, -22.5000,  ..., -22.5000, -22.6250, -22.5000],\n",
      "         [ -8.6250, -22.6250, -22.5000,  ..., -22.5000, -22.6250, -22.5000]]],\n",
      "       device='cuda:0')\n",
      "torch.Size([1, 10, 512])\n"
     ]
    }
   ],
   "source": [
    "# output scores\n",
    "scores = test_result[1]\n",
    "print(scores)\n",
    "print(scores.shape)"
   ]
  },
  {
   "cell_type": "code",
   "execution_count": 9,
   "id": "7989a8d7-efc3-43db-bb92-40f96b6b7612",
   "metadata": {},
   "outputs": [
    {
     "name": "stdout",
     "output_type": "stream",
     "text": [
      "tensor([[-0.7070,  0.0884, -0.2197, -0.3105],\n",
      "        [-0.4316, -0.2754,  0.2910, -0.7852],\n",
      "        [-0.1128, -0.2412, -0.3125, -0.4844],\n",
      "        [-0.6602, -0.0869, -0.0767, -0.3848],\n",
      "        [-0.5625,  0.2441,  0.1895, -1.1016],\n",
      "        [-0.1846, -0.1523, -0.5742, -0.2773],\n",
      "        [-1.1016,  0.4883,  0.0786, -0.7500],\n",
      "        [-0.4609,  0.1592,  0.0967, -1.0312],\n",
      "        [-0.5586, -0.4609, -0.2832,  0.0679],\n",
      "        [-1.2656,  0.7148,  0.0053, -0.7695]], device='cuda:0')\n"
     ]
    }
   ],
   "source": [
    "# get logits for ACGT tokens\n",
    "acgt_logits = scores[0,:,(65,67,71,84)]\n",
    "print(acgt_logits)"
   ]
  },
  {
   "cell_type": "code",
   "execution_count": 10,
   "id": "a1cf2d64-fe09-48ea-a006-37add5300742",
   "metadata": {},
   "outputs": [],
   "source": [
    "# calculate probabilities with softmax\n",
    "acgt_probs = torch.softmax(acgt_logits, dim=-1)"
   ]
  },
  {
   "cell_type": "code",
   "execution_count": 11,
   "id": "c5dd556a-f93f-4338-b43f-3013e088fb59",
   "metadata": {},
   "outputs": [],
   "source": [
    "# create a sample sequence for comparison\n",
    "sample_seq = \"CCTCGATGAG\" # \"GGAGCTACTC\"\n",
    "sample_tokens = torch.tensor(tokenizer.tokenize(sample_seq))"
   ]
  },
  {
   "cell_type": "code",
   "execution_count": 12,
   "id": "822d14e0-1c8d-435e-932c-fbfb56f90b88",
   "metadata": {},
   "outputs": [
    {
     "data": {
      "text/plain": [
       "tensor([[0, 1, 0, 0],\n",
       "        [0, 1, 0, 0],\n",
       "        [0, 0, 0, 1],\n",
       "        [0, 1, 0, 0],\n",
       "        [0, 0, 1, 0],\n",
       "        [1, 0, 0, 0],\n",
       "        [0, 0, 0, 1],\n",
       "        [0, 0, 1, 0],\n",
       "        [1, 0, 0, 0],\n",
       "        [0, 0, 1, 0]])"
      ]
     },
     "execution_count": 12,
     "metadata": {},
     "output_type": "execute_result"
    }
   ],
   "source": [
    "# get one-hot matrix for metric calculation\n",
    "sample_probs = F.one_hot(sample_tokens.to(torch.int64))[:,(65,67,71,84)]\n",
    "sample_probs"
   ]
  },
  {
   "cell_type": "code",
   "execution_count": 13,
   "id": "38353b2e-9515-4619-962d-4af5cdb7f825",
   "metadata": {},
   "outputs": [
    {
     "data": {
      "text/plain": [
       "0.5706845238095238"
      ]
     },
     "execution_count": 13,
     "metadata": {},
     "output_type": "execute_result"
    }
   ],
   "source": [
    "# calculate AUROC\n",
    "roc_auc_score(sample_probs, acgt_probs.to(\"cpu\"))"
   ]
  },
  {
   "cell_type": "code",
   "execution_count": 14,
   "id": "45395655-47c8-44ce-b240-c1ee26dc8f80",
   "metadata": {},
   "outputs": [
    {
     "data": {
      "text/plain": [
       "tensor([ True, False, False, False, False, False, False, False, False, False])"
      ]
     },
     "execution_count": 14,
     "metadata": {},
     "output_type": "execute_result"
    }
   ],
   "source": [
    "# calculate \"correct\" predictions\n",
    "acgt_probs.argmax(dim=1).to(\"cpu\") == sample_probs.argmax(dim=1)"
   ]
  },
  {
   "cell_type": "markdown",
   "id": "3b07113f-ffbd-44a0-b327-98927de0b6f8",
   "metadata": {},
   "source": [
    "The generator works. Its output is a sequence of predictions and logits for the next k characters. We will use that information to calculate metrics."
   ]
  },
  {
   "cell_type": "markdown",
   "id": "bec9a773-f2e7-4653-9308-249bf9201295",
   "metadata": {},
   "source": [
    "# Utils"
   ]
  },
  {
   "cell_type": "markdown",
   "id": "3b1c1d39-bfe0-4af1-ab68-79f2636a6aa7",
   "metadata": {},
   "source": [
    "We will define some functions that will be used in the analysis."
   ]
  },
  {
   "cell_type": "code",
   "execution_count": 15,
   "id": "55348ca9-b3b8-4fad-814e-d44efdbcf953",
   "metadata": {},
   "outputs": [],
   "source": [
    "@dataclass\n",
    "class SeqStats:\n",
    "    \"\"\"Dataclass for storing generation parameters and metrics.\"\"\"\n",
    "    biotype: str\n",
    "    index: int\n",
    "    mock: bool\n",
    "    k_fit: int\n",
    "    k_test: int\n",
    "    correctness: float\n",
    "    auroc: float\n",
    "    auprc: float"
   ]
  },
  {
   "cell_type": "code",
   "execution_count": 16,
   "id": "3eaf7cfc-42d8-498c-8a3c-bb95d659303f",
   "metadata": {},
   "outputs": [],
   "source": [
    "@cache\n",
    "def get_forward_stats(seq_fit, seq_test, generator, *, biotype=\"unknown\", index=0, mock=False, seed=None) -> SeqStats:\n",
    "    \"\"\"Generate a sequence and calculate metrics.\"\"\"\n",
    "    k_fit = len(seq_fit)\n",
    "    k_test = len(seq_test)\n",
    "\n",
    "    if seed is not None:\n",
    "        torch.manual_seed(seed)\n",
    "    test_tokens = torch.tensor(tokenizer.tokenize(seq_test))\n",
    "    gen_tokens, scores, _ = generator.generate(\"cuda\", input_string=seq_fit, num_tokens=k_test,\n",
    "                                               cached_generation=True)\n",
    "    \n",
    "    correct = gen_tokens.to(\"cpu\") == test_tokens\n",
    "    correctness = correct.to(torch.float).mean().item()\n",
    "\n",
    "    test_probs = F.one_hot(test_tokens.to(torch.int64))[:,(65,67,71,84)]\n",
    "    gen_acgt_logits = scores[0,:,(65,67,71,84)]\n",
    "    gen_acgt_probs = torch.softmax(gen_acgt_logits, dim=-1).to(\"cpu\")\n",
    "    auroc = roc_auc_score(test_probs, gen_acgt_probs, average=\"weighted\")\n",
    "\n",
    "    auprc = average_precision_score(test_probs, gen_acgt_probs, average=\"weighted\")\n",
    "\n",
    "    return SeqStats(biotype=biotype,\n",
    "                    index=index,\n",
    "                    mock=mock,\n",
    "                    k_fit=k_fit,\n",
    "                    k_test=k_test,\n",
    "                    correctness=correctness,\n",
    "                    auroc=auroc,\n",
    "                    auprc=auprc)"
   ]
  },
  {
   "cell_type": "code",
   "execution_count": 17,
   "id": "2ebbd01e-ad63-4182-a49d-5f664cc2bdaa",
   "metadata": {},
   "outputs": [],
   "source": [
    "def forward_from_fasta(path, /, k_fit, k_test, generator, *, biotype=\"unknown\", index=0, mock=False, seed=None) -> SeqStats:\n",
    "    \"\"\"Generate a sequence from a FASTA file and calculate metrics.\"\"\"\n",
    "    with open(path, \"rt\") as f:\n",
    "        seqs = SeqIO.parse(f, \"fasta\")\n",
    "        seq = next(seqs)\n",
    "\n",
    "    if len(seq) < k_fit + k_test:\n",
    "        raise ValueError(f\"Sequence of length {len(seq)} is too short to provide context length {k_fit} and generation length {k_test}!\")\n",
    "    \n",
    "    seq_fit = str(seq.seq)[:k_fit]\n",
    "    seq_test = str(seq.seq)[k_fit:k_fit+k_test]\n",
    "    return get_forward_stats(seq_fit, seq_test, generator=generator, biotype=biotype, index=index, mock=mock, seed=seed)"
   ]
  },
  {
   "cell_type": "code",
   "execution_count": 18,
   "id": "3efbee9f-f7e2-4b68-99bc-c38ec82353d0",
   "metadata": {},
   "outputs": [],
   "source": [
    "def generate_mock(original_seq, new_length, seed=None):\n",
    "    \"\"\"Generate a new DNA sequence with the same nucleotide frequencies as the original sequence.\"\"\"\n",
    "    # Convert to uppercase and count valid nucleotides\n",
    "    counts = defaultdict(int)\n",
    "    valid_nucleotides = {'A', 'T', 'C', 'G'}\n",
    "    total = 0\n",
    "    for char in original_seq.upper():\n",
    "        if char in valid_nucleotides:\n",
    "            counts[char] += 1\n",
    "            total += 1\n",
    "    \n",
    "    if total == 0:\n",
    "        raise ValueError(\"Original sequence contains no valid nucleotides (A, T, C, G).\")\n",
    "    \n",
    "    # Prepare nucleotides and their corresponding weights (counts)\n",
    "    nucleotides = []\n",
    "    weights = []\n",
    "    for nuc in ['A', 'T', 'C', 'G']:\n",
    "        if counts[nuc] > 0:\n",
    "            nucleotides.append(nuc)\n",
    "            weights.append(counts[nuc])\n",
    "    \n",
    "    # Generate the new sequence using the calculated weights\n",
    "    if seed is not None:\n",
    "        random.seed(seed)\n",
    "    new_sequence = ''.join(random.choices(nucleotides, weights=weights, k=new_length))\n",
    "    return new_sequence"
   ]
  },
  {
   "cell_type": "code",
   "execution_count": 37,
   "id": "64e88688-ded9-4adb-9605-96fc140d7a9b",
   "metadata": {},
   "outputs": [],
   "source": [
    "def mock_from_fasta(path, context_len, new_len, seed=None):\n",
    "    \"\"\"Generate a mock sequence with nucleotide probabilities from a FASTA file.\"\"\"\n",
    "    with open(path, \"rt\") as f:\n",
    "        seqs = SeqIO.parse(f, \"fasta\")\n",
    "        seq = next(seqs)\n",
    "    return generate_mock(seq[:context_len], new_len, seed=seed)"
   ]
  },
  {
   "cell_type": "markdown",
   "id": "f19129bc-56b6-4f06-b4e8-b3a9f61bbe21",
   "metadata": {},
   "source": [
    "# Real sequences"
   ]
  },
  {
   "cell_type": "code",
   "execution_count": 19,
   "id": "8e9df60e-53c7-48fc-8f21-d034e436706d",
   "metadata": {},
   "outputs": [
    {
     "name": "stdout",
     "output_type": "stream",
     "text": [
      "ATGTCGGCGCCGTCGGAGGAGGAGGAGTACGCGCGGCTGGTGATGGAGGCGCAGCCGGAGTGGCTGCGCGCCGAGGTGAAGCGGCTGTCCCACGAGCTGGCCGAGACCACGCGTGAGAAGATCCAGGCGGCCGAGTACGGGCTGGCGGTGCTCGAGGAGAAGCACCAGCTCAAGCTGCAGTTCGAGGAGCTCGAGGTGGACTATGAGGCTATCCGCAGCGAGATGGAGCAGCTCAAGGAGGCCTTTGGACAAGCACACACAAACCACAAGAAGGTGGCTGCTGACGGAGAGAGCCGGGAGGAGAGCCTGATCCAGGAGTCGGCCTCCAAGGAGCAGTACTACGTGCGGAAGGTGCTAGAGCTGCAGACGGAGCTGAAGCAGTTGCGCAATGTCCTCACCAACACGCAGTCGGAGAATGAGCGCCTGGCCTCTGTGGCCCAGGAGCTGAAGGAGATCAACCAGAATGTGGAGATCCAGCGTGGCCGCCTGCGGGATGACATCAAGGAGTACAAATTCCGGGAAGCTCGTCTGCTGCAGGACTACTCGGAACTGGAGGAGGAGAACATCAGCCTGCAGAAGCAAGTGTCTGTGCTCAGACAGAACCAGGTGGAGTTTGAGGGCCTCAAGCATGAGATCAAGCGTCTGGAGGAGGAGACCGAGTACCTCAACAGCCAGCTGGAGGATGCCATCCGCCTCAAGGAGATCTCAGAGCGGCAGCTGGAGGAGGCGCTGGAGACCCTGAAGACGGAGCGCGAACAGAAGAACAGCCTGCGCAAGGAGCTGTCACACTACATGAGCATCAATGACTCCTTCTACACCAGCCACCTGCATGTCTCGCTGGATGGCCTCAAGTTCAGTGACGATGCTGCCGAGCCCAACAACGATGCCGAGGCCCTGGTCAATGGCTTTGAGCACGGCGGCCTGGCCAAGCTGCCACTGGACAACAAGACCTCCACGCCCAAGAAGGAGGGCCTCGCACCGCCCTCCCCCAGCCTCGTCTCCGACCTACTCAGTGAGCTCAACATCTCTGAGATCCAGAAGCTGAAGCAGCAGCTGATGCAGATGGAGCGGGAAAAGGCGGGCCTGCTGGCAACGCTGCAGGACACACAGAAGCAGCTGGAGCACACGCGGGGCTCCCTGTCAGAACAGCAGGAGAAGGTGACCCGCCTCACAGAGAATCTGAGTGCCCTGCGGCGCCTGCAGGCCAGCAAGGAGCGGCAGACAGCCCTGGACAACGAGAAGGACCGTGACAGCCATGAGGATGGGGACTACTACGAGGTGGACATCAACGGGCCTGAGATCTTGGCCTGCAAGTACCATGTGGCTGTGGCTGAGGCTGGCGAGCTCCGCGAGCAGCTCAAGGCACTGCGCAGCACGCACGAGGCTCGTGAGGCCCAGCACGCCGAGGAGAAGGGCCGCTATGAGGCTGAGGGCCAGGCACTCACGGAGAAGGTCTCCCTGCTAGAGAAGGCCAGCCGCCAGGACCGCGAGCTGCTGGCCCGGCTGGAGAAGGAGCTAAAGAAGGTGAGCGACGTCGCCGGCGAGACACAGGGCAGCCTGAGTGTGGCCCAGGATGAGCTGGTGACCTTCAGTGAGGAGCTGGCCAATCTCTACCACCACGTGTGCATGTGCAACAATGAGACACCCAACCGTGTCATGCTGGACTACTACCGCGAGGGCCAGGGCGGGGCCGGCCGCACCAGTCCCGGGGGCCGCACCAGCCCCGAGGCGCGTGGCCGGCGCTCACCCATCCTCCTACCCAAGGGGCTGCTGGCTCCTGAGGCGGGCCGAGCAGATGGTGGGACGGGGGACAGCAGCCCCTCGCCTGGCTCCTCACTGCCATCACCCCTGAGTGACCCACGCCGGGAGCCCATGAACATCTACAACCTGATCGCTATCATCCGTGACCAGATCAAGCACCTGCAGGCAGCCGTGGACCGCACCACGGAGCTGTCACGCCAGCGCATTGCCTCTCAGGAGCTGGGCCCCGCCGTGGACAA\n",
      "\n",
      "GGACAAGGAAGCGCTTATGGAGGAGATCCTCAAGCTGAAGTCGCTGCTCAGCACCAAGCGGGAGCAGATCACCACGCTGCGCACTGTGCTCAAGGCCAAC\n"
     ]
    }
   ],
   "source": [
    "# extract context and target sequences from a FASTA file\n",
    "with open(\"seqs/cds_1.fa\", \"rt\") as f:\n",
    "    seqs = SeqIO.parse(f, \"fasta\")\n",
    "    seq = next(seqs)\n",
    "seq_fit = seq.seq[:2000]\n",
    "seq_test = seq.seq[2000:2100]\n",
    "print(seq_fit)\n",
    "print()\n",
    "print(seq_test)"
   ]
  },
  {
   "cell_type": "code",
   "execution_count": 20,
   "id": "e9d37dde-e62f-4944-a3e8-cb64a2277bb0",
   "metadata": {},
   "outputs": [
    {
     "data": {
      "text/plain": [
       "SeqStats(biotype='unknown', index=0, mock=False, k_fit=2000, k_test=100, correctness=0.3499999940395355, auroc=0.6482344381677129, auprc=0.3903479748502978)"
      ]
     },
     "execution_count": 20,
     "metadata": {},
     "output_type": "execute_result"
    }
   ],
   "source": [
    "# generate and calculate metrics\n",
    "get_forward_stats(str(seq_fit), str(seq_test), generator=generator_hot, seed=42)"
   ]
  },
  {
   "cell_type": "code",
   "execution_count": 21,
   "id": "07d4238d-acbc-45df-860a-f9ed597d4204",
   "metadata": {},
   "outputs": [],
   "source": [
    "stats = []"
   ]
  },
  {
   "cell_type": "code",
   "execution_count": 22,
   "id": "570cc526-09fb-4117-8fe7-a9fe4cc6eb4c",
   "metadata": {},
   "outputs": [
    {
     "data": {
      "text/plain": [
       "SeqStats(biotype='CDS', index=0, mock=False, k_fit=1000, k_test=100, correctness=0.25999999046325684, auroc=0.524695465321328, auprc=0.32883592479653073)"
      ]
     },
     "execution_count": 22,
     "metadata": {},
     "output_type": "execute_result"
    }
   ],
   "source": [
    "# same thing but with the high level function\n",
    "cds_stats = forward_from_fasta(\"seqs/cds_1.fa\", 1000, 100, generator=generator_hot, biotype=\"CDS\", index=0, seed=42)\n",
    "stats.append(cds_stats)\n",
    "cds_stats"
   ]
  },
  {
   "cell_type": "code",
   "execution_count": 23,
   "id": "34ce2648-b862-410b-9d0f-1b00afe24b48",
   "metadata": {},
   "outputs": [],
   "source": [
    "# same for intron sequence\n",
    "intron_stats = forward_from_fasta(\"seqs/intron_1.fa\", 1000, 100, generator=generator_hot, biotype=\"intron\", index=0, seed=42)\n",
    "stats.append(intron_stats)"
   ]
  },
  {
   "cell_type": "code",
   "execution_count": 24,
   "id": "ad190d77-c93b-48d0-9ada-429ef7b8f2e7",
   "metadata": {},
   "outputs": [],
   "source": [
    "# same for intergenic sequence\n",
    "intergenic_stats = forward_from_fasta(\"seqs/intergenic_1.fa\", 1000, 100, generator=generator_hot, biotype=\"intergenic\", index=0, seed=42)\n",
    "stats.append(intergenic_stats)"
   ]
  },
  {
   "cell_type": "code",
   "execution_count": 25,
   "id": "08a07573-4af5-46e4-a542-e79b74aec7dd",
   "metadata": {},
   "outputs": [],
   "source": [
    "# convert to Pandas for plotting\n",
    "stats_df = pd.DataFrame(stats)"
   ]
  },
  {
   "cell_type": "code",
   "execution_count": 26,
   "id": "ac8523b2-a2f2-44ae-8c45-94354ef49ddc",
   "metadata": {},
   "outputs": [
    {
     "data": {
      "text/html": [
       "<div>\n",
       "<style scoped>\n",
       "    .dataframe tbody tr th:only-of-type {\n",
       "        vertical-align: middle;\n",
       "    }\n",
       "\n",
       "    .dataframe tbody tr th {\n",
       "        vertical-align: top;\n",
       "    }\n",
       "\n",
       "    .dataframe thead th {\n",
       "        text-align: right;\n",
       "    }\n",
       "</style>\n",
       "<table border=\"1\" class=\"dataframe\">\n",
       "  <thead>\n",
       "    <tr style=\"text-align: right;\">\n",
       "      <th></th>\n",
       "      <th>biotype</th>\n",
       "      <th>index</th>\n",
       "      <th>mock</th>\n",
       "      <th>k_fit</th>\n",
       "      <th>k_test</th>\n",
       "      <th>correctness</th>\n",
       "      <th>auroc</th>\n",
       "      <th>auprc</th>\n",
       "    </tr>\n",
       "  </thead>\n",
       "  <tbody>\n",
       "    <tr>\n",
       "      <th>0</th>\n",
       "      <td>CDS</td>\n",
       "      <td>0</td>\n",
       "      <td>False</td>\n",
       "      <td>1000</td>\n",
       "      <td>100</td>\n",
       "      <td>0.26</td>\n",
       "      <td>0.524695</td>\n",
       "      <td>0.328836</td>\n",
       "    </tr>\n",
       "    <tr>\n",
       "      <th>1</th>\n",
       "      <td>intron</td>\n",
       "      <td>0</td>\n",
       "      <td>False</td>\n",
       "      <td>1000</td>\n",
       "      <td>100</td>\n",
       "      <td>0.28</td>\n",
       "      <td>0.495785</td>\n",
       "      <td>0.306268</td>\n",
       "    </tr>\n",
       "    <tr>\n",
       "      <th>2</th>\n",
       "      <td>intergenic</td>\n",
       "      <td>0</td>\n",
       "      <td>False</td>\n",
       "      <td>1000</td>\n",
       "      <td>100</td>\n",
       "      <td>0.23</td>\n",
       "      <td>0.504251</td>\n",
       "      <td>0.301594</td>\n",
       "    </tr>\n",
       "  </tbody>\n",
       "</table>\n",
       "</div>"
      ],
      "text/plain": [
       "      biotype  index   mock  k_fit  k_test  correctness     auroc     auprc\n",
       "0         CDS      0  False   1000     100         0.26  0.524695  0.328836\n",
       "1      intron      0  False   1000     100         0.28  0.495785  0.306268\n",
       "2  intergenic      0  False   1000     100         0.23  0.504251  0.301594"
      ]
     },
     "execution_count": 26,
     "metadata": {},
     "output_type": "execute_result"
    }
   ],
   "source": [
    "stats_df"
   ]
  },
  {
   "cell_type": "code",
   "execution_count": 27,
   "id": "f52733f3-9d20-42b0-8cd6-576b12c34de6",
   "metadata": {},
   "outputs": [
    {
     "data": {
      "image/png": "[encoded data removed]",
      "text/plain": [
       "<Figure size 640x480 with 1 Axes>"
      ]
     },
     "metadata": {},
     "output_type": "display_data"
    }
   ],
   "source": [
    "# plot correctness\n",
    "ax = sns.barplot(data=stats_df, x=\"biotype\", y=\"correctness\")"
   ]
  },
  {
   "cell_type": "markdown",
   "id": "f0c72f49-2e69-4e37-862b-f613064c3d87",
   "metadata": {},
   "source": [
    "This doesn't quite look right. The high-temperature generator might be sensitive to the seed. We need to investigate. "
   ]
  },
  {
   "cell_type": "markdown",
   "id": "c0ad3529-4c32-4354-bba4-eb1411b2fd1b",
   "metadata": {},
   "source": [
    "## Check what is going on with seeds"
   ]
  },
  {
   "cell_type": "markdown",
   "id": "457a09b0-fe34-42f9-aff1-8f4ad0028025",
   "metadata": {},
   "source": [
    "Temperature can have a strong influence on the generation, especially where the logits are close. The seed also has an influence on the outcome. We will evaluate how the metrics behave with 3 different temperature values (1, 0.5, 0.001) and 5 random seeds."
   ]
  },
  {
   "cell_type": "code",
   "execution_count": 28,
   "id": "12973b8e-c8a8-44eb-948c-27d5251d438c",
   "metadata": {},
   "outputs": [],
   "source": [
    "# these are 5 random numbers from 1-1000 generated with the Google RNG widget\n",
    "# you have to trust me on this\n",
    "seeds = [45, 908, 380, 870, 409]"
   ]
  },
  {
   "cell_type": "code",
   "execution_count": 29,
   "id": "88ae4e90-b75f-4c17-b3c6-433b819ee9b1",
   "metadata": {},
   "outputs": [],
   "source": [
    "seed_stats_hot = []"
   ]
  },
  {
   "cell_type": "code",
   "execution_count": 78,
   "id": "4d131fce-5616-40b9-a3bc-52f4efb102a7",
   "metadata": {},
   "outputs": [],
   "source": [
    "# calculate metrics for each seed\n",
    "for seed in seeds:\n",
    "    seed_stats_hot.append(forward_from_fasta(\"seqs/cds_1.fa\", 1000, 100, generator=generator_hot, biotype=\"CDS\", index=0, seed=seed))"
   ]
  },
  {
   "cell_type": "code",
   "execution_count": 79,
   "id": "cbe9b583-dc46-432e-a514-c3fd2900ed39",
   "metadata": {},
   "outputs": [
    {
     "ename": "ValueError",
     "evalue": "Length of values (5) does not match length of index (10)",
     "output_type": "error",
     "traceback": [
      "\u001b[0;31m---------------------------------------------------------------------------\u001b[0m",
      "\u001b[0;31mValueError\u001b[0m                                Traceback (most recent call last)",
      "Cell \u001b[0;32mIn[79], line 3\u001b[0m\n\u001b[1;32m      1\u001b[0m \u001b[38;5;66;03m# make a data frame for easier inspection\u001b[39;00m\n\u001b[1;32m      2\u001b[0m seed_df_hot \u001b[38;5;241m=\u001b[39m pd\u001b[38;5;241m.\u001b[39mDataFrame(seed_stats_hot)\n\u001b[0;32m----> 3\u001b[0m \u001b[43mseed_df_hot\u001b[49m\u001b[43m[\u001b[49m\u001b[38;5;124;43m\"\u001b[39;49m\u001b[38;5;124;43mseed\u001b[39;49m\u001b[38;5;124;43m\"\u001b[39;49m\u001b[43m]\u001b[49m \u001b[38;5;241m=\u001b[39m seeds\n",
      "File \u001b[0;32m~/venv_gpu/lib/python3.12/site-packages/pandas/core/frame.py:4311\u001b[0m, in \u001b[0;36mDataFrame.__setitem__\u001b[0;34m(self, key, value)\u001b[0m\n\u001b[1;32m   4308\u001b[0m     \u001b[38;5;28mself\u001b[39m\u001b[38;5;241m.\u001b[39m_setitem_array([key], value)\n\u001b[1;32m   4309\u001b[0m \u001b[38;5;28;01melse\u001b[39;00m:\n\u001b[1;32m   4310\u001b[0m     \u001b[38;5;66;03m# set column\u001b[39;00m\n\u001b[0;32m-> 4311\u001b[0m     \u001b[38;5;28;43mself\u001b[39;49m\u001b[38;5;241;43m.\u001b[39;49m\u001b[43m_set_item\u001b[49m\u001b[43m(\u001b[49m\u001b[43mkey\u001b[49m\u001b[43m,\u001b[49m\u001b[43m \u001b[49m\u001b[43mvalue\u001b[49m\u001b[43m)\u001b[49m\n",
      "File \u001b[0;32m~/venv_gpu/lib/python3.12/site-packages/pandas/core/frame.py:4524\u001b[0m, in \u001b[0;36mDataFrame._set_item\u001b[0;34m(self, key, value)\u001b[0m\n\u001b[1;32m   4514\u001b[0m \u001b[38;5;28;01mdef\u001b[39;00m\u001b[38;5;250m \u001b[39m\u001b[38;5;21m_set_item\u001b[39m(\u001b[38;5;28mself\u001b[39m, key, value) \u001b[38;5;241m-\u001b[39m\u001b[38;5;241m>\u001b[39m \u001b[38;5;28;01mNone\u001b[39;00m:\n\u001b[1;32m   4515\u001b[0m \u001b[38;5;250m    \u001b[39m\u001b[38;5;124;03m\"\"\"\u001b[39;00m\n\u001b[1;32m   4516\u001b[0m \u001b[38;5;124;03m    Add series to DataFrame in specified column.\u001b[39;00m\n\u001b[1;32m   4517\u001b[0m \n\u001b[0;32m   (...)\u001b[0m\n\u001b[1;32m   4522\u001b[0m \u001b[38;5;124;03m    ensure homogeneity.\u001b[39;00m\n\u001b[1;32m   4523\u001b[0m \u001b[38;5;124;03m    \"\"\"\u001b[39;00m\n\u001b[0;32m-> 4524\u001b[0m     value, refs \u001b[38;5;241m=\u001b[39m \u001b[38;5;28;43mself\u001b[39;49m\u001b[38;5;241;43m.\u001b[39;49m\u001b[43m_sanitize_column\u001b[49m\u001b[43m(\u001b[49m\u001b[43mvalue\u001b[49m\u001b[43m)\u001b[49m\n\u001b[1;32m   4526\u001b[0m     \u001b[38;5;28;01mif\u001b[39;00m (\n\u001b[1;32m   4527\u001b[0m         key \u001b[38;5;129;01min\u001b[39;00m \u001b[38;5;28mself\u001b[39m\u001b[38;5;241m.\u001b[39mcolumns\n\u001b[1;32m   4528\u001b[0m         \u001b[38;5;129;01mand\u001b[39;00m value\u001b[38;5;241m.\u001b[39mndim \u001b[38;5;241m==\u001b[39m \u001b[38;5;241m1\u001b[39m\n\u001b[1;32m   4529\u001b[0m         \u001b[38;5;129;01mand\u001b[39;00m \u001b[38;5;129;01mnot\u001b[39;00m \u001b[38;5;28misinstance\u001b[39m(value\u001b[38;5;241m.\u001b[39mdtype, ExtensionDtype)\n\u001b[1;32m   4530\u001b[0m     ):\n\u001b[1;32m   4531\u001b[0m         \u001b[38;5;66;03m# broadcast across multiple columns if necessary\u001b[39;00m\n\u001b[1;32m   4532\u001b[0m         \u001b[38;5;28;01mif\u001b[39;00m \u001b[38;5;129;01mnot\u001b[39;00m \u001b[38;5;28mself\u001b[39m\u001b[38;5;241m.\u001b[39mcolumns\u001b[38;5;241m.\u001b[39mis_unique \u001b[38;5;129;01mor\u001b[39;00m \u001b[38;5;28misinstance\u001b[39m(\u001b[38;5;28mself\u001b[39m\u001b[38;5;241m.\u001b[39mcolumns, MultiIndex):\n",
      "File \u001b[0;32m~/venv_gpu/lib/python3.12/site-packages/pandas/core/frame.py:5266\u001b[0m, in \u001b[0;36mDataFrame._sanitize_column\u001b[0;34m(self, value)\u001b[0m\n\u001b[1;32m   5263\u001b[0m     \u001b[38;5;28;01mreturn\u001b[39;00m _reindex_for_setitem(value, \u001b[38;5;28mself\u001b[39m\u001b[38;5;241m.\u001b[39mindex)\n\u001b[1;32m   5265\u001b[0m \u001b[38;5;28;01mif\u001b[39;00m is_list_like(value):\n\u001b[0;32m-> 5266\u001b[0m     \u001b[43mcom\u001b[49m\u001b[38;5;241;43m.\u001b[39;49m\u001b[43mrequire_length_match\u001b[49m\u001b[43m(\u001b[49m\u001b[43mvalue\u001b[49m\u001b[43m,\u001b[49m\u001b[43m \u001b[49m\u001b[38;5;28;43mself\u001b[39;49m\u001b[38;5;241;43m.\u001b[39;49m\u001b[43mindex\u001b[49m\u001b[43m)\u001b[49m\n\u001b[1;32m   5267\u001b[0m arr \u001b[38;5;241m=\u001b[39m sanitize_array(value, \u001b[38;5;28mself\u001b[39m\u001b[38;5;241m.\u001b[39mindex, copy\u001b[38;5;241m=\u001b[39m\u001b[38;5;28;01mTrue\u001b[39;00m, allow_2d\u001b[38;5;241m=\u001b[39m\u001b[38;5;28;01mTrue\u001b[39;00m)\n\u001b[1;32m   5268\u001b[0m \u001b[38;5;28;01mif\u001b[39;00m (\n\u001b[1;32m   5269\u001b[0m     \u001b[38;5;28misinstance\u001b[39m(value, Index)\n\u001b[1;32m   5270\u001b[0m     \u001b[38;5;129;01mand\u001b[39;00m value\u001b[38;5;241m.\u001b[39mdtype \u001b[38;5;241m==\u001b[39m \u001b[38;5;124m\"\u001b[39m\u001b[38;5;124mobject\u001b[39m\u001b[38;5;124m\"\u001b[39m\n\u001b[0;32m   (...)\u001b[0m\n\u001b[1;32m   5273\u001b[0m     \u001b[38;5;66;03m# TODO: Remove kludge in sanitize_array for string mode when enforcing\u001b[39;00m\n\u001b[1;32m   5274\u001b[0m     \u001b[38;5;66;03m# this deprecation\u001b[39;00m\n",
      "File \u001b[0;32m~/venv_gpu/lib/python3.12/site-packages/pandas/core/common.py:573\u001b[0m, in \u001b[0;36mrequire_length_match\u001b[0;34m(data, index)\u001b[0m\n\u001b[1;32m    569\u001b[0m \u001b[38;5;250m\u001b[39m\u001b[38;5;124;03m\"\"\"\u001b[39;00m\n\u001b[1;32m    570\u001b[0m \u001b[38;5;124;03mCheck the length of data matches the length of the index.\u001b[39;00m\n\u001b[1;32m    571\u001b[0m \u001b[38;5;124;03m\"\"\"\u001b[39;00m\n\u001b[1;32m    572\u001b[0m \u001b[38;5;28;01mif\u001b[39;00m \u001b[38;5;28mlen\u001b[39m(data) \u001b[38;5;241m!=\u001b[39m \u001b[38;5;28mlen\u001b[39m(index):\n\u001b[0;32m--> 573\u001b[0m     \u001b[38;5;28;01mraise\u001b[39;00m \u001b[38;5;167;01mValueError\u001b[39;00m(\n\u001b[1;32m    574\u001b[0m         \u001b[38;5;124m\"\u001b[39m\u001b[38;5;124mLength of values \u001b[39m\u001b[38;5;124m\"\u001b[39m\n\u001b[1;32m    575\u001b[0m         \u001b[38;5;124mf\u001b[39m\u001b[38;5;124m\"\u001b[39m\u001b[38;5;124m(\u001b[39m\u001b[38;5;132;01m{\u001b[39;00m\u001b[38;5;28mlen\u001b[39m(data)\u001b[38;5;132;01m}\u001b[39;00m\u001b[38;5;124m) \u001b[39m\u001b[38;5;124m\"\u001b[39m\n\u001b[1;32m    576\u001b[0m         \u001b[38;5;124m\"\u001b[39m\u001b[38;5;124mdoes not match length of index \u001b[39m\u001b[38;5;124m\"\u001b[39m\n\u001b[1;32m    577\u001b[0m         \u001b[38;5;124mf\u001b[39m\u001b[38;5;124m\"\u001b[39m\u001b[38;5;124m(\u001b[39m\u001b[38;5;132;01m{\u001b[39;00m\u001b[38;5;28mlen\u001b[39m(index)\u001b[38;5;132;01m}\u001b[39;00m\u001b[38;5;124m)\u001b[39m\u001b[38;5;124m\"\u001b[39m\n\u001b[1;32m    578\u001b[0m     )\n",
      "\u001b[0;31mValueError\u001b[0m: Length of values (5) does not match length of index (10)"
     ]
    }
   ],
   "source": [
    "# make a data frame for easier inspection\n",
    "seed_df_hot = pd.DataFrame(seed_stats_hot)\n",
    "seed_df_hot[\"seed\"] = seeds"
   ]
  },
  {
   "cell_type": "code",
   "execution_count": 32,
   "id": "0914560f-97f7-469d-b41f-d63469d41a2d",
   "metadata": {},
   "outputs": [
    {
     "data": {
      "text/html": [
       "<div>\n",
       "<style scoped>\n",
       "    .dataframe tbody tr th:only-of-type {\n",
       "        vertical-align: middle;\n",
       "    }\n",
       "\n",
       "    .dataframe tbody tr th {\n",
       "        vertical-align: top;\n",
       "    }\n",
       "\n",
       "    .dataframe thead th {\n",
       "        text-align: right;\n",
       "    }\n",
       "</style>\n",
       "<table border=\"1\" class=\"dataframe\">\n",
       "  <thead>\n",
       "    <tr style=\"text-align: right;\">\n",
       "      <th></th>\n",
       "      <th>biotype</th>\n",
       "      <th>index</th>\n",
       "      <th>mock</th>\n",
       "      <th>k_fit</th>\n",
       "      <th>k_test</th>\n",
       "      <th>correctness</th>\n",
       "      <th>auroc</th>\n",
       "      <th>auprc</th>\n",
       "      <th>seed</th>\n",
       "    </tr>\n",
       "  </thead>\n",
       "  <tbody>\n",
       "    <tr>\n",
       "      <th>0</th>\n",
       "      <td>CDS</td>\n",
       "      <td>0</td>\n",
       "      <td>False</td>\n",
       "      <td>1000</td>\n",
       "      <td>100</td>\n",
       "      <td>0.35</td>\n",
       "      <td>0.666847</td>\n",
       "      <td>0.425155</td>\n",
       "      <td>45</td>\n",
       "    </tr>\n",
       "    <tr>\n",
       "      <th>1</th>\n",
       "      <td>CDS</td>\n",
       "      <td>0</td>\n",
       "      <td>False</td>\n",
       "      <td>1000</td>\n",
       "      <td>100</td>\n",
       "      <td>0.33</td>\n",
       "      <td>0.538889</td>\n",
       "      <td>0.319273</td>\n",
       "      <td>908</td>\n",
       "    </tr>\n",
       "    <tr>\n",
       "      <th>2</th>\n",
       "      <td>CDS</td>\n",
       "      <td>0</td>\n",
       "      <td>False</td>\n",
       "      <td>1000</td>\n",
       "      <td>100</td>\n",
       "      <td>0.26</td>\n",
       "      <td>0.542278</td>\n",
       "      <td>0.297104</td>\n",
       "      <td>380</td>\n",
       "    </tr>\n",
       "    <tr>\n",
       "      <th>3</th>\n",
       "      <td>CDS</td>\n",
       "      <td>0</td>\n",
       "      <td>False</td>\n",
       "      <td>1000</td>\n",
       "      <td>100</td>\n",
       "      <td>0.38</td>\n",
       "      <td>0.671378</td>\n",
       "      <td>0.437344</td>\n",
       "      <td>870</td>\n",
       "    </tr>\n",
       "    <tr>\n",
       "      <th>4</th>\n",
       "      <td>CDS</td>\n",
       "      <td>0</td>\n",
       "      <td>False</td>\n",
       "      <td>1000</td>\n",
       "      <td>100</td>\n",
       "      <td>0.36</td>\n",
       "      <td>0.665898</td>\n",
       "      <td>0.425186</td>\n",
       "      <td>409</td>\n",
       "    </tr>\n",
       "  </tbody>\n",
       "</table>\n",
       "</div>"
      ],
      "text/plain": [
       "  biotype  index   mock  k_fit  k_test  correctness     auroc     auprc  seed\n",
       "0     CDS      0  False   1000     100         0.35  0.666847  0.425155    45\n",
       "1     CDS      0  False   1000     100         0.33  0.538889  0.319273   908\n",
       "2     CDS      0  False   1000     100         0.26  0.542278  0.297104   380\n",
       "3     CDS      0  False   1000     100         0.38  0.671378  0.437344   870\n",
       "4     CDS      0  False   1000     100         0.36  0.665898  0.425186   409"
      ]
     },
     "execution_count": 32,
     "metadata": {},
     "output_type": "execute_result"
    }
   ],
   "source": [
    "seed_df_hot"
   ]
  },
  {
   "cell_type": "code",
   "execution_count": 33,
   "id": "38f3c218-2b2d-4899-b8ae-bbfed5ebd4e1",
   "metadata": {},
   "outputs": [],
   "source": [
    "# same for temperature 0.5\n",
    "seed_stats_warm = []\n",
    "for seed in seeds:\n",
    "    seed_stats_warm.append(forward_from_fasta(\"seqs/cds_1.fa\", 1000, 100, generator=generator_warm, biotype=\"CDS\", index=0, seed=seed))\n",
    "seed_df_warm = pd.DataFrame(seed_stats_warm)\n",
    "seed_df_warm[\"seed\"] = seeds"
   ]
  },
  {
   "cell_type": "code",
   "execution_count": 34,
   "id": "05dc7330-520b-41a5-9b99-3532f34cc882",
   "metadata": {},
   "outputs": [
    {
     "data": {
      "text/html": [
       "<div>\n",
       "<style scoped>\n",
       "    .dataframe tbody tr th:only-of-type {\n",
       "        vertical-align: middle;\n",
       "    }\n",
       "\n",
       "    .dataframe tbody tr th {\n",
       "        vertical-align: top;\n",
       "    }\n",
       "\n",
       "    .dataframe thead th {\n",
       "        text-align: right;\n",
       "    }\n",
       "</style>\n",
       "<table border=\"1\" class=\"dataframe\">\n",
       "  <thead>\n",
       "    <tr style=\"text-align: right;\">\n",
       "      <th></th>\n",
       "      <th>biotype</th>\n",
       "      <th>index</th>\n",
       "      <th>mock</th>\n",
       "      <th>k_fit</th>\n",
       "      <th>k_test</th>\n",
       "      <th>correctness</th>\n",
       "      <th>auroc</th>\n",
       "      <th>auprc</th>\n",
       "      <th>seed</th>\n",
       "    </tr>\n",
       "  </thead>\n",
       "  <tbody>\n",
       "    <tr>\n",
       "      <th>0</th>\n",
       "      <td>CDS</td>\n",
       "      <td>0</td>\n",
       "      <td>False</td>\n",
       "      <td>1000</td>\n",
       "      <td>100</td>\n",
       "      <td>0.41</td>\n",
       "      <td>0.677989</td>\n",
       "      <td>0.450008</td>\n",
       "      <td>45</td>\n",
       "    </tr>\n",
       "    <tr>\n",
       "      <th>1</th>\n",
       "      <td>CDS</td>\n",
       "      <td>0</td>\n",
       "      <td>False</td>\n",
       "      <td>1000</td>\n",
       "      <td>100</td>\n",
       "      <td>0.40</td>\n",
       "      <td>0.635901</td>\n",
       "      <td>0.384472</td>\n",
       "      <td>908</td>\n",
       "    </tr>\n",
       "    <tr>\n",
       "      <th>2</th>\n",
       "      <td>CDS</td>\n",
       "      <td>0</td>\n",
       "      <td>False</td>\n",
       "      <td>1000</td>\n",
       "      <td>100</td>\n",
       "      <td>0.37</td>\n",
       "      <td>0.636199</td>\n",
       "      <td>0.377714</td>\n",
       "      <td>380</td>\n",
       "    </tr>\n",
       "    <tr>\n",
       "      <th>3</th>\n",
       "      <td>CDS</td>\n",
       "      <td>0</td>\n",
       "      <td>False</td>\n",
       "      <td>1000</td>\n",
       "      <td>100</td>\n",
       "      <td>0.30</td>\n",
       "      <td>0.502210</td>\n",
       "      <td>0.299947</td>\n",
       "      <td>870</td>\n",
       "    </tr>\n",
       "    <tr>\n",
       "      <th>4</th>\n",
       "      <td>CDS</td>\n",
       "      <td>0</td>\n",
       "      <td>False</td>\n",
       "      <td>1000</td>\n",
       "      <td>100</td>\n",
       "      <td>0.37</td>\n",
       "      <td>0.614044</td>\n",
       "      <td>0.356756</td>\n",
       "      <td>409</td>\n",
       "    </tr>\n",
       "  </tbody>\n",
       "</table>\n",
       "</div>"
      ],
      "text/plain": [
       "  biotype  index   mock  k_fit  k_test  correctness     auroc     auprc  seed\n",
       "0     CDS      0  False   1000     100         0.41  0.677989  0.450008    45\n",
       "1     CDS      0  False   1000     100         0.40  0.635901  0.384472   908\n",
       "2     CDS      0  False   1000     100         0.37  0.636199  0.377714   380\n",
       "3     CDS      0  False   1000     100         0.30  0.502210  0.299947   870\n",
       "4     CDS      0  False   1000     100         0.37  0.614044  0.356756   409"
      ]
     },
     "execution_count": 34,
     "metadata": {},
     "output_type": "execute_result"
    }
   ],
   "source": [
    "seed_df_warm"
   ]
  },
  {
   "cell_type": "code",
   "execution_count": 35,
   "id": "ee2cad42-9025-4670-999e-e8c721411581",
   "metadata": {},
   "outputs": [],
   "source": [
    "# same for temperature 0.001\n",
    "seed_stats_cold = []\n",
    "for seed in seeds:\n",
    "    seed_stats_cold.append(forward_from_fasta(\"seqs/cds_1.fa\", 1000, 100, generator=generator_cold, biotype=\"CDS\", index=0, seed=seed))\n",
    "seed_df_cold = pd.DataFrame(seed_stats_cold)\n",
    "seed_df_cold[\"seed\"] = seeds"
   ]
  },
  {
   "cell_type": "code",
   "execution_count": 36,
   "id": "cf90bc47-fa7a-4323-9947-41a6a7645bec",
   "metadata": {},
   "outputs": [
    {
     "data": {
      "text/html": [
       "<div>\n",
       "<style scoped>\n",
       "    .dataframe tbody tr th:only-of-type {\n",
       "        vertical-align: middle;\n",
       "    }\n",
       "\n",
       "    .dataframe tbody tr th {\n",
       "        vertical-align: top;\n",
       "    }\n",
       "\n",
       "    .dataframe thead th {\n",
       "        text-align: right;\n",
       "    }\n",
       "</style>\n",
       "<table border=\"1\" class=\"dataframe\">\n",
       "  <thead>\n",
       "    <tr style=\"text-align: right;\">\n",
       "      <th></th>\n",
       "      <th>biotype</th>\n",
       "      <th>index</th>\n",
       "      <th>mock</th>\n",
       "      <th>k_fit</th>\n",
       "      <th>k_test</th>\n",
       "      <th>correctness</th>\n",
       "      <th>auroc</th>\n",
       "      <th>auprc</th>\n",
       "      <th>seed</th>\n",
       "    </tr>\n",
       "  </thead>\n",
       "  <tbody>\n",
       "    <tr>\n",
       "      <th>0</th>\n",
       "      <td>CDS</td>\n",
       "      <td>0</td>\n",
       "      <td>False</td>\n",
       "      <td>1000</td>\n",
       "      <td>100</td>\n",
       "      <td>0.4</td>\n",
       "      <td>0.671706</td>\n",
       "      <td>0.442679</td>\n",
       "      <td>45</td>\n",
       "    </tr>\n",
       "    <tr>\n",
       "      <th>1</th>\n",
       "      <td>CDS</td>\n",
       "      <td>0</td>\n",
       "      <td>False</td>\n",
       "      <td>1000</td>\n",
       "      <td>100</td>\n",
       "      <td>0.4</td>\n",
       "      <td>0.671706</td>\n",
       "      <td>0.442679</td>\n",
       "      <td>908</td>\n",
       "    </tr>\n",
       "    <tr>\n",
       "      <th>2</th>\n",
       "      <td>CDS</td>\n",
       "      <td>0</td>\n",
       "      <td>False</td>\n",
       "      <td>1000</td>\n",
       "      <td>100</td>\n",
       "      <td>0.4</td>\n",
       "      <td>0.671706</td>\n",
       "      <td>0.442679</td>\n",
       "      <td>380</td>\n",
       "    </tr>\n",
       "    <tr>\n",
       "      <th>3</th>\n",
       "      <td>CDS</td>\n",
       "      <td>0</td>\n",
       "      <td>False</td>\n",
       "      <td>1000</td>\n",
       "      <td>100</td>\n",
       "      <td>0.4</td>\n",
       "      <td>0.671706</td>\n",
       "      <td>0.442679</td>\n",
       "      <td>870</td>\n",
       "    </tr>\n",
       "    <tr>\n",
       "      <th>4</th>\n",
       "      <td>CDS</td>\n",
       "      <td>0</td>\n",
       "      <td>False</td>\n",
       "      <td>1000</td>\n",
       "      <td>100</td>\n",
       "      <td>0.4</td>\n",
       "      <td>0.671706</td>\n",
       "      <td>0.442679</td>\n",
       "      <td>409</td>\n",
       "    </tr>\n",
       "  </tbody>\n",
       "</table>\n",
       "</div>"
      ],
      "text/plain": [
       "  biotype  index   mock  k_fit  k_test  correctness     auroc     auprc  seed\n",
       "0     CDS      0  False   1000     100          0.4  0.671706  0.442679    45\n",
       "1     CDS      0  False   1000     100          0.4  0.671706  0.442679   908\n",
       "2     CDS      0  False   1000     100          0.4  0.671706  0.442679   380\n",
       "3     CDS      0  False   1000     100          0.4  0.671706  0.442679   870\n",
       "4     CDS      0  False   1000     100          0.4  0.671706  0.442679   409"
      ]
     },
     "execution_count": 36,
     "metadata": {},
     "output_type": "execute_result"
    }
   ],
   "source": [
    "seed_df_cold"
   ]
  },
  {
   "cell_type": "markdown",
   "id": "cec3496f-5aaa-4807-b234-cb718eb82729",
   "metadata": {},
   "source": [
    "The results are what could be expected: the lower the temperature, the more the metrics converge, with identical metrics with the near-zero temperature generator. Moving on, we will use temperature 0.5 and seed 42."
   ]
  },
  {
   "cell_type": "markdown",
   "id": "e0f8cbc1-1ab3-478b-8909-203f24a406c5",
   "metadata": {},
   "source": [
    "# Mock sequences"
   ]
  },
  {
   "cell_type": "markdown",
   "id": "233a1ac0-f23e-49d9-8b3e-bfdba590069a",
   "metadata": {},
   "source": [
    "To identify whether the generator is using context information, we will compare generation on real sequences to generation with mock data. The mock sequences have the same nucleotide frequencies as the real ones, but are otherwise random."
   ]
  },
  {
   "cell_type": "code",
   "execution_count": 42,
   "id": "034f4bfe-55b9-4ba6-a5ec-cfdc04fac349",
   "metadata": {},
   "outputs": [
    {
     "data": {
      "text/plain": [
       "'CATAGGGACAACAACCACGAGGTAGTAAGCGGCGCCGCGCGAATAAATCTCATGCCAGACGCCGGGAATTAGGTCCGCTTCTCGCAGCAAACGCACGCGGAGGCTCACCGGTCAGGTCCAGCGCATAGGGTAGGACAGGACCTGCACGATGCCCAATCAAACAGGATGAAGCCGGAACCCGGGACTGTACCTTGCGCAGGGGGACACACGTGCCGGCGATGCCGACCGAGAACGTAGTCCCCCGAGTCGTTGACGGAATGGGCAGGCGCAGTCGAAACTCGACTCGGACTAGCTGCCAAGGCGCAATGGGGATAGGCCAGGGGGAGTGGGGTGAGGAGCTGAAATGGTCCGCGAGAGTACGTCCCCTGAGCGGGTACTTGGTTCCTACGGGCTCATCCCCCACGGAACCTGGGAAATCGACCAGCTCAGGACAGCATGCGGGCGGCGCGCGGCTTCGCCTATTTCAAGGACCCACGCGGGCATGGGCGCCAACATGCACACACCACACACATGCGGTAACGTCGCGGAAAAGCAGGACGAGGAATGGCGAGCAGGCAGGTCCCTGGAGCGGCGGTGCCCGTGGAGTCCCAGAAGTGGTAGAGCGGCCGAAGTCCCCGTGTTAAACGAACGGCTAAAAACTGCGAGCGCCCAAGCGCACAACTGAGCGACCCGGTCCGGAACAAAACCTAGGCGGGCCGCCCGGAATGCTAGGGCCAACTTAGGCGGGTAGCCGACCCATTGGTGTGGCCTTGCCGCCCATGCGACGCGAGCTACCAGGCAGCGCTGGTCCGCGGTGCGCGTTCGCACTCCCTAGCTGAGGGCCGGCACCGGCCCGCCACGTGCGGGCTGGGAACGGGCACGCGGAGTCACCGAAGCTGACTTAGGGACTCCCTGACCTCCGTGCTCGGACCGTGCTCCGGCGCGCTCCGATGAACGCGGTGCGGTAGAGGGGGGTGACCGGCGGATAGCGAAGGTCAGTCAGACGGGCGACACCGACCGG'"
      ]
     },
     "execution_count": 42,
     "metadata": {},
     "output_type": "execute_result"
    }
   ],
   "source": [
    "# generate mock CDS context\n",
    "mock_cds_fit = mock_from_fasta(\"seqs/cds_1.fa\", 2000, 1000, seed=42)\n",
    "mock_cds_fit"
   ]
  },
  {
   "cell_type": "code",
   "execution_count": 52,
   "id": "507416ca-d85d-4274-b0f7-289afb490cf9",
   "metadata": {},
   "outputs": [
    {
     "data": {
      "text/plain": [
       "'CATAGGGACAACAACCACGAGGTAGTAAGCGGCGCCGCGCGAATAAATCTCATGCCAGACGCCGGGAATTAGGTCCGCTTCTCGCAGCAAACGCACGCGG'"
      ]
     },
     "execution_count": 52,
     "metadata": {},
     "output_type": "execute_result"
    }
   ],
   "source": [
    "# generate mock CDS target\n",
    "mock_cds_test = mock_from_fasta(\"seqs/cds_1.fa\", 2000, 100, seed=42)\n",
    "mock_cds_test"
   ]
  },
  {
   "cell_type": "code",
   "execution_count": 53,
   "id": "83705ba7-8b8b-41c9-b23a-747c9ffcc31b",
   "metadata": {},
   "outputs": [],
   "source": [
    "# generate and calculate metrics\n",
    "mock_cds_stats = get_forward_stats(mock_cds_fit, mock_cds_test, generator_warm, biotype=\"CDS\", index=0, mock=True, seed=42)"
   ]
  },
  {
   "cell_type": "code",
   "execution_count": 47,
   "id": "843ef61f-f231-437e-a42b-20a785f7dbf8",
   "metadata": {},
   "outputs": [
    {
     "data": {
      "text/plain": [
       "SeqStats(biotype='CDS', index=0, mock=True, k_fit=1000, k_test=100, correctness=0.28999999165534973, auroc=0.5010198759607454, auprc=0.3106080204544163)"
      ]
     },
     "execution_count": 47,
     "metadata": {},
     "output_type": "execute_result"
    }
   ],
   "source": [
    "mock_cds_stats"
   ]
  },
  {
   "cell_type": "code",
   "execution_count": 48,
   "id": "ed258990-640d-4648-afee-efd2e8d1b645",
   "metadata": {},
   "outputs": [],
   "source": [
    "# get statistics for the real sequence with the same parameters\n",
    "real_cds_stats = forward_from_fasta(\"seqs/cds_1.fa\", 1000, 100, generator_warm, biotype=\"CDS\", index=0, mock=False, seed=42)"
   ]
  },
  {
   "cell_type": "code",
   "execution_count": 54,
   "id": "cf2c8b5b-dcd3-414d-b3ec-74136595e881",
   "metadata": {},
   "outputs": [],
   "source": [
    "# same analysis for mock intron\n",
    "mock_intron_fit = mock_from_fasta(\"seqs/intron_1.fa\", 2000, 1000, seed=42)\n",
    "mock_intron_test = mock_from_fasta(\"seqs/intron_1.fa\", 2000, 100, seed=42)\n",
    "mock_intron_stats = get_forward_stats(mock_intron_fit, mock_intron_test, generator_warm, biotype=\"intron\", index=0, mock=True, seed=42)"
   ]
  },
  {
   "cell_type": "code",
   "execution_count": 51,
   "id": "11b1c27e-f788-4bbb-880c-2acca8986f6b",
   "metadata": {},
   "outputs": [],
   "source": [
    "# same for real intron\n",
    "real_intron_stats = forward_from_fasta(\"seqs/intron_1.fa\", 1000, 100, generator_warm, biotype=\"intron\", index=0, mock=False, seed=42)"
   ]
  },
  {
   "cell_type": "code",
   "execution_count": 55,
   "id": "84117411-4f8f-4153-9146-f837cff0d190",
   "metadata": {},
   "outputs": [],
   "source": [
    "# same for mock intergenic\n",
    "mock_intergenic_fit = mock_from_fasta(\"seqs/intergenic_1.fa\", 2000, 1000, seed=42)\n",
    "mock_intergenic_test = mock_from_fasta(\"seqs/intergenic_1.fa\", 2000, 100, seed=42)\n",
    "mock_intergenic_stats = get_forward_stats(mock_intergenic_fit, mock_intergenic_test, generator_warm, biotype=\"intergenic\", index=0, mock=True, seed=42)"
   ]
  },
  {
   "cell_type": "code",
   "execution_count": 56,
   "id": "617a02e9-df49-461f-9fa7-0a2f454ed8e0",
   "metadata": {},
   "outputs": [],
   "source": [
    "# same for real intergenic\n",
    "real_intergenic_stats = forward_from_fasta(\"seqs/intergenic_1.fa\", 1000, 100, generator_warm, biotype=\"intergenic\", index=0, mock=False, seed=42)"
   ]
  },
  {
   "cell_type": "code",
   "execution_count": 59,
   "id": "36610687-3e9b-4a1e-8b4e-8f04733275df",
   "metadata": {},
   "outputs": [
    {
     "data": {
      "text/plain": [
       "SeqStats(biotype='intergenic', index=0, mock=False, k_fit=1000, k_test=100, correctness=0.1899999976158142, auroc=0.5030595132987529, auprc=0.3213498392510208)"
      ]
     },
     "execution_count": 59,
     "metadata": {},
     "output_type": "execute_result"
    }
   ],
   "source": [
    "real_intergenic_stats"
   ]
  },
  {
   "cell_type": "code",
   "execution_count": 57,
   "id": "10521916-6b40-4d02-aa95-780cd34a4d20",
   "metadata": {},
   "outputs": [],
   "source": [
    "# make data frame for plotting\n",
    "df_mock = pd.DataFrame([\n",
    "    mock_cds_stats,\n",
    "    real_cds_stats,\n",
    "    mock_intron_stats,\n",
    "    real_intron_stats,\n",
    "    mock_intergenic_stats,\n",
    "    real_intergenic_stats\n",
    "])"
   ]
  },
  {
   "cell_type": "code",
   "execution_count": 61,
   "id": "541a2235-a680-4ae1-a822-4abe2829bc41",
   "metadata": {},
   "outputs": [
    {
     "data": {
      "text/plain": [
       "<matplotlib.lines.Line2D at 0x7f967e182270>"
      ]
     },
     "execution_count": 61,
     "metadata": {},
     "output_type": "execute_result"
    },
    {
     "data": {
      "image/png": "[encoded data removed]",
      "text/plain": [
       "<Figure size 640x480 with 1 Axes>"
      ]
     },
     "metadata": {},
     "output_type": "display_data"
    }
   ],
   "source": [
    "# plot correctness\n",
    "ax = sns.barplot(data=df_mock, x=\"biotype\", y=\"correctness\", hue=\"mock\")\n",
    "ax.axhline(y=0.25, color=\"firebrick\")"
   ]
  },
  {
   "cell_type": "markdown",
   "id": "ac338469-9586-4d70-9b2c-b0b1a3874892",
   "metadata": {},
   "source": [
    "The generator exhibits verying level of performance on the real sequences. On the mocks, its performance is marginally better than random. There is a strong performance difference in favor of the real sequence in CDS. In introns, both real and mock sequence are approximately random. In the intergenic region, the generator performs very poorly on the real sequence, and hence is worse than the mock. "
   ]
  },
  {
   "cell_type": "code",
   "execution_count": 101,
   "id": "8bca6267-87e7-4561-b159-59d04b34106f",
   "metadata": {},
   "outputs": [
    {
     "data": {
      "image/png": "[encoded data removed]",
      "text/plain": [
       "<Figure size 640x480 with 1 Axes>"
      ]
     },
     "metadata": {},
     "output_type": "display_data"
    }
   ],
   "source": [
    "ax = sns.barplot(data=df_mock, x=\"biotype\", y=\"auroc\", hue=\"mock\")\n",
    "ax.axhline(y=0.5, color=\"firebrick\", label=\"Random model\")\n",
    "ax.set(xlabel=\"Biotype\", ylabel=\"AUROC\", title=\"AUROC by Sequence Type\")\n",
    "legend = ax.legend()\n",
    "legend.set_title(\"Sequence Type\")\n",
    "legend.get_texts()[0].set_text(\"Real\")\n",
    "legend.get_texts()[1].set_text(\"Mock\")"
   ]
  },
  {
   "cell_type": "markdown",
   "id": "ad7554d2-fdc5-4c81-a7d8-0f0e8ea7204a",
   "metadata": {},
   "source": [
    "The AUROC is only significantly above random in real CDS. In all other cases, it is approximately as good as random."
   ]
  },
  {
   "cell_type": "code",
   "execution_count": 63,
   "id": "14294db9-38bb-44af-ba9c-c5b19eac4c02",
   "metadata": {},
   "outputs": [
    {
     "data": {
      "text/plain": [
       "<matplotlib.lines.Line2D at 0x7f9658536450>"
      ]
     },
     "execution_count": 63,
     "metadata": {},
     "output_type": "execute_result"
    },
    {
     "data": {
      "image/png": "[encoded data removed]",
      "text/plain": [
       "<Figure size 640x480 with 1 Axes>"
      ]
     },
     "metadata": {},
     "output_type": "display_data"
    }
   ],
   "source": [
    "ax = sns.barplot(data=df_mock, x=\"biotype\", y=\"auprc\", hue=\"mock\")\n",
    "ax.axhline(y=0.25, color=\"firebrick\")"
   ]
  },
  {
   "cell_type": "markdown",
   "id": "400013e0-8736-44c6-9819-1f3e9c0a2208",
   "metadata": {},
   "source": [
    "The results are similar to AUROC. However, in this case the intron and intergenic regions are slightly better than random."
   ]
  },
  {
   "cell_type": "markdown",
   "id": "319c717d-0eda-4ad4-90a6-c7aa82f08a2a",
   "metadata": {},
   "source": [
    "In the coding sequence, the model performs significantly better with a real sequence than with a randomly generated one. Importantly, its performance is close to random guesses when given random sequences. With intron and intergenic DNA, the model performs close to random. This is in line with the expectations, as the training data included protein-coding and some regulatory sequences, but no intronic sequences, and no eukaryotic intergenic DNA. Additionally, non-regulatory intergenic DNA can be close to a random sequence."
   ]
  },
  {
   "cell_type": "markdown",
   "id": "90e99283-5746-45c7-b66b-4d1cd9f0e437",
   "metadata": {},
   "source": [
    "# Context and generation size"
   ]
  },
  {
   "cell_type": "markdown",
   "id": "f78521d7-4854-46b0-a259-8402f5b597d9",
   "metadata": {},
   "source": [
    "One of the parameters relevant to the generation is the lenght of the context and generated sequence. We will analyze how the model performs with different values for these."
   ]
  },
  {
   "cell_type": "code",
   "execution_count": 80,
   "id": "0c5bf3fe-d851-487e-b5c9-efef9b281999",
   "metadata": {},
   "outputs": [],
   "source": [
    "# manually selected parameter values\n",
    "fit_sizes = [500, 1000, 1500, 2000]\n",
    "test_sizes = [50, 100, 200]"
   ]
  },
  {
   "cell_type": "code",
   "execution_count": 65,
   "id": "e0850aeb-898a-4477-8f59-b5f369ed8966",
   "metadata": {},
   "outputs": [],
   "source": [
    "stats_size = []"
   ]
  },
  {
   "cell_type": "code",
   "execution_count": 67,
   "id": "8ee68dc9-94cd-4455-8117-b239d1827258",
   "metadata": {
    "scrolled": true
   },
   "outputs": [
    {
     "name": "stdout",
     "output_type": "stream",
     "text": [
      "Stopping generation at EOS\n",
      "Stopping generation at EOS\n",
      "Stopping generation at EOS\n",
      "Stopping generation at EOS\n",
      "Stopping generation at EOS\n",
      "Stopping generation at EOS\n",
      "Stopping generation at EOS\n",
      "Stopping generation at EOS\n",
      "Stopping generation at EOS\n",
      "Stopping generation at EOS\n",
      "Stopping generation at EOS\n",
      "Stopping generation at EOS\n",
      "Stopping generation at EOS\n",
      "Stopping generation at EOS\n",
      "Stopping generation at EOS\n",
      "Stopping generation at EOS\n",
      "Stopping generation at EOS\n",
      "Stopping generation at EOS\n",
      "Stopping generation at EOS\n",
      "Stopping generation at EOS\n",
      "Stopping generation at EOS\n",
      "Stopping generation at EOS\n",
      "Stopping generation at EOS\n",
      "Stopping generation at EOS\n",
      "Stopping generation at EOS\n",
      "Stopping generation at EOS\n",
      "Stopping generation at EOS\n",
      "Stopping generation at EOS\n",
      "Stopping generation at EOS\n",
      "Stopping generation at EOS\n",
      "Stopping generation at EOS\n",
      "Stopping generation at EOS\n",
      "Stopping generation at EOS\n",
      "Stopping generation at EOS\n",
      "Stopping generation at EOS\n",
      "Stopping generation at EOS\n",
      "Stopping generation at EOS\n",
      "Stopping generation at EOS\n",
      "Stopping generation at EOS\n",
      "Stopping generation at EOS\n",
      "Stopping generation at EOS\n",
      "Stopping generation at EOS\n",
      "Stopping generation at EOS\n",
      "Stopping generation at EOS\n",
      "Stopping generation at EOS\n",
      "Stopping generation at EOS\n",
      "Stopping generation at EOS\n",
      "Stopping generation at EOS\n",
      "Stopping generation at EOS\n",
      "Stopping generation at EOS\n",
      "Stopping generation at EOS\n",
      "Stopping generation at EOS\n",
      "Stopping generation at EOS\n",
      "Stopping generation at EOS\n",
      "Stopping generation at EOS\n",
      "Stopping generation at EOS\n",
      "Stopping generation at EOS\n",
      "Stopping generation at EOS\n",
      "Stopping generation at EOS\n",
      "Stopping generation at EOS\n",
      "Stopping generation at EOS\n",
      "Stopping generation at EOS\n",
      "Stopping generation at EOS\n",
      "Stopping generation at EOS\n",
      "Stopping generation at EOS\n",
      "Stopping generation at EOS\n",
      "Stopping generation at EOS\n",
      "Stopping generation at EOS\n",
      "Stopping generation at EOS\n",
      "Stopping generation at EOS\n",
      "Stopping generation at EOS\n",
      "Stopping generation at EOS\n",
      "Stopping generation at EOS\n",
      "Stopping generation at EOS\n",
      "Stopping generation at EOS\n",
      "Stopping generation at EOS\n",
      "Stopping generation at EOS\n",
      "Stopping generation at EOS\n",
      "Stopping generation at EOS\n",
      "Stopping generation at EOS\n",
      "Stopping generation at EOS\n",
      "Stopping generation at EOS\n",
      "Stopping generation at EOS\n",
      "Stopping generation at EOS\n",
      "Stopping generation at EOS\n",
      "Stopping generation at EOS\n",
      "Stopping generation at EOS\n",
      "Stopping generation at EOS\n",
      "Stopping generation at EOS\n",
      "Stopping generation at EOS\n",
      "Stopping generation at EOS\n",
      "Stopping generation at EOS\n",
      "Stopping generation at EOS\n",
      "Stopping generation at EOS\n",
      "Stopping generation at EOS\n",
      "Stopping generation at EOS\n",
      "Stopping generation at EOS\n",
      "Stopping generation at EOS\n",
      "Stopping generation at EOS\n",
      "Stopping generation at EOS\n",
      "Stopping generation at EOS\n",
      "Stopping generation at EOS\n",
      "Stopping generation at EOS\n",
      "Stopping generation at EOS\n",
      "Stopping generation at EOS\n",
      "Stopping generation at EOS\n",
      "Stopping generation at EOS\n",
      "Stopping generation at EOS\n",
      "Stopping generation at EOS\n",
      "Stopping generation at EOS\n",
      "Stopping generation at EOS\n",
      "Stopping generation at EOS\n",
      "Stopping generation at EOS\n",
      "Stopping generation at EOS\n",
      "Stopping generation at EOS\n",
      "Stopping generation at EOS\n",
      "Stopping generation at EOS\n",
      "Stopping generation at EOS\n",
      "Stopping generation at EOS\n",
      "Stopping generation at EOS\n",
      "Stopping generation at EOS\n",
      "Stopping generation at EOS\n",
      "Stopping generation at EOS\n",
      "Stopping generation at EOS\n",
      "Stopping generation at EOS\n",
      "Stopping generation at EOS\n",
      "Stopping generation at EOS\n",
      "Stopping generation at EOS\n",
      "Stopping generation at EOS\n",
      "Stopping generation at EOS\n",
      "Stopping generation at EOS\n",
      "Stopping generation at EOS\n",
      "Stopping generation at EOS\n",
      "Stopping generation at EOS\n",
      "Stopping generation at EOS\n",
      "Stopping generation at EOS\n",
      "Stopping generation at EOS\n",
      "Stopping generation at EOS\n",
      "Stopping generation at EOS\n",
      "Stopping generation at EOS\n",
      "Stopping generation at EOS\n",
      "Stopping generation at EOS\n",
      "Stopping generation at EOS\n",
      "Stopping generation at EOS\n",
      "Stopping generation at EOS\n",
      "Stopping generation at EOS\n",
      "Stopping generation at EOS\n",
      "Stopping generation at EOS\n",
      "Stopping generation at EOS\n",
      "Stopping generation at EOS\n",
      "Stopping generation at EOS\n",
      "Stopping generation at EOS\n",
      "Stopping generation at EOS\n",
      "Stopping generation at EOS\n",
      "Stopping generation at EOS\n",
      "Stopping generation at EOS\n",
      "Stopping generation at EOS\n",
      "Stopping generation at EOS\n",
      "Stopping generation at EOS\n",
      "Stopping generation at EOS\n",
      "Stopping generation at EOS\n",
      "Stopping generation at EOS\n",
      "Stopping generation at EOS\n",
      "Stopping generation at EOS\n",
      "Stopping generation at EOS\n",
      "Stopping generation at EOS\n",
      "Stopping generation at EOS\n",
      "Stopping generation at EOS\n",
      "Stopping generation at EOS\n",
      "Stopping generation at EOS\n",
      "Stopping generation at EOS\n",
      "Stopping generation at EOS\n",
      "Stopping generation at EOS\n",
      "Stopping generation at EOS\n",
      "Stopping generation at EOS\n",
      "Stopping generation at EOS\n",
      "Stopping generation at EOS\n",
      "Stopping generation at EOS\n",
      "Stopping generation at EOS\n",
      "Stopping generation at EOS\n",
      "Stopping generation at EOS\n",
      "Stopping generation at EOS\n",
      "Stopping generation at EOS\n",
      "Stopping generation at EOS\n",
      "Stopping generation at EOS\n",
      "Stopping generation at EOS\n",
      "Stopping generation at EOS\n",
      "Stopping generation at EOS\n",
      "Stopping generation at EOS\n",
      "Stopping generation at EOS\n",
      "Stopping generation at EOS\n",
      "Stopping generation at EOS\n",
      "Stopping generation at EOS\n",
      "Stopping generation at EOS\n",
      "Stopping generation at EOS\n",
      "Stopping generation at EOS\n",
      "Stopping generation at EOS\n",
      "Stopping generation at EOS\n",
      "Stopping generation at EOS\n",
      "Stopping generation at EOS\n",
      "Stopping generation at EOS\n",
      "Stopping generation at EOS\n",
      "Stopping generation at EOS\n",
      "Stopping generation at EOS\n",
      "Stopping generation at EOS\n",
      "Stopping generation at EOS\n",
      "Stopping generation at EOS\n",
      "Stopping generation at EOS\n",
      "Stopping generation at EOS\n",
      "Stopping generation at EOS\n",
      "Stopping generation at EOS\n",
      "Stopping generation at EOS\n",
      "Stopping generation at EOS\n",
      "Stopping generation at EOS\n",
      "Stopping generation at EOS\n",
      "Stopping generation at EOS\n",
      "Stopping generation at EOS\n",
      "Stopping generation at EOS\n",
      "Stopping generation at EOS\n",
      "Stopping generation at EOS\n",
      "Stopping generation at EOS\n",
      "Stopping generation at EOS\n",
      "Stopping generation at EOS\n",
      "Stopping generation at EOS\n",
      "Stopping generation at EOS\n",
      "Stopping generation at EOS\n",
      "Stopping generation at EOS\n",
      "Stopping generation at EOS\n",
      "Stopping generation at EOS\n",
      "Stopping generation at EOS\n",
      "Stopping generation at EOS\n",
      "Stopping generation at EOS\n",
      "Stopping generation at EOS\n",
      "Stopping generation at EOS\n",
      "Stopping generation at EOS\n",
      "Stopping generation at EOS\n",
      "Stopping generation at EOS\n",
      "Stopping generation at EOS\n",
      "Stopping generation at EOS\n",
      "Stopping generation at EOS\n",
      "Stopping generation at EOS\n",
      "Stopping generation at EOS\n",
      "Stopping generation at EOS\n",
      "Stopping generation at EOS\n",
      "Stopping generation at EOS\n",
      "Stopping generation at EOS\n",
      "Stopping generation at EOS\n",
      "Stopping generation at EOS\n",
      "Stopping generation at EOS\n",
      "Stopping generation at EOS\n",
      "Stopping generation at EOS\n",
      "Stopping generation at EOS\n",
      "Stopping generation at EOS\n",
      "Stopping generation at EOS\n",
      "Stopping generation at EOS\n",
      "Stopping generation at EOS\n",
      "Stopping generation at EOS\n",
      "Stopping generation at EOS\n",
      "Stopping generation at EOS\n",
      "Stopping generation at EOS\n",
      "Stopping generation at EOS\n",
      "Stopping generation at EOS\n",
      "Stopping generation at EOS\n",
      "Stopping generation at EOS\n",
      "Stopping generation at EOS\n",
      "Stopping generation at EOS\n",
      "Stopping generation at EOS\n",
      "Stopping generation at EOS\n",
      "Stopping generation at EOS\n",
      "Stopping generation at EOS\n",
      "Stopping generation at EOS\n",
      "Stopping generation at EOS\n",
      "Stopping generation at EOS\n",
      "Stopping generation at EOS\n",
      "Stopping generation at EOS\n",
      "Stopping generation at EOS\n",
      "Stopping generation at EOS\n",
      "Stopping generation at EOS\n",
      "Stopping generation at EOS\n",
      "Stopping generation at EOS\n",
      "Stopping generation at EOS\n",
      "Stopping generation at EOS\n",
      "Stopping generation at EOS\n",
      "Stopping generation at EOS\n",
      "Stopping generation at EOS\n",
      "Stopping generation at EOS\n",
      "Stopping generation at EOS\n",
      "Stopping generation at EOS\n",
      "Stopping generation at EOS\n",
      "Stopping generation at EOS\n",
      "Stopping generation at EOS\n",
      "Stopping generation at EOS\n",
      "Stopping generation at EOS\n",
      "Stopping generation at EOS\n",
      "Stopping generation at EOS\n",
      "Stopping generation at EOS\n",
      "Stopping generation at EOS\n",
      "Stopping generation at EOS\n",
      "Stopping generation at EOS\n",
      "Stopping generation at EOS\n",
      "Stopping generation at EOS\n",
      "Stopping generation at EOS\n",
      "Stopping generation at EOS\n",
      "Stopping generation at EOS\n",
      "Stopping generation at EOS\n",
      "Stopping generation at EOS\n",
      "Stopping generation at EOS\n",
      "Stopping generation at EOS\n",
      "Stopping generation at EOS\n",
      "Stopping generation at EOS\n",
      "Stopping generation at EOS\n",
      "Stopping generation at EOS\n",
      "Stopping generation at EOS\n",
      "Stopping generation at EOS\n",
      "Stopping generation at EOS\n",
      "Stopping generation at EOS\n",
      "Stopping generation at EOS\n",
      "Stopping generation at EOS\n",
      "Stopping generation at EOS\n",
      "Stopping generation at EOS\n",
      "Stopping generation at EOS\n",
      "Stopping generation at EOS\n",
      "Stopping generation at EOS\n",
      "Stopping generation at EOS\n",
      "Stopping generation at EOS\n",
      "Stopping generation at EOS\n",
      "Stopping generation at EOS\n",
      "Stopping generation at EOS\n",
      "Stopping generation at EOS\n",
      "Stopping generation at EOS\n",
      "Stopping generation at EOS\n",
      "Stopping generation at EOS\n",
      "Stopping generation at EOS\n",
      "Stopping generation at EOS\n",
      "Stopping generation at EOS\n",
      "Stopping generation at EOS\n",
      "Stopping generation at EOS\n",
      "Stopping generation at EOS\n",
      "Stopping generation at EOS\n",
      "Stopping generation at EOS\n",
      "Stopping generation at EOS\n",
      "Stopping generation at EOS\n",
      "Stopping generation at EOS\n",
      "Stopping generation at EOS\n",
      "Stopping generation at EOS\n",
      "Stopping generation at EOS\n",
      "Stopping generation at EOS\n",
      "Stopping generation at EOS\n",
      "Stopping generation at EOS\n",
      "Stopping generation at EOS\n",
      "Stopping generation at EOS\n",
      "Stopping generation at EOS\n",
      "Stopping generation at EOS\n",
      "Stopping generation at EOS\n",
      "Stopping generation at EOS\n",
      "Stopping generation at EOS\n",
      "Stopping generation at EOS\n",
      "Stopping generation at EOS\n",
      "Stopping generation at EOS\n",
      "Stopping generation at EOS\n",
      "Stopping generation at EOS\n",
      "Stopping generation at EOS\n",
      "Stopping generation at EOS\n",
      "Stopping generation at EOS\n",
      "Stopping generation at EOS\n",
      "Stopping generation at EOS\n",
      "Stopping generation at EOS\n",
      "Stopping generation at EOS\n",
      "Stopping generation at EOS\n",
      "Stopping generation at EOS\n",
      "Stopping generation at EOS\n",
      "Stopping generation at EOS\n",
      "Stopping generation at EOS\n",
      "Stopping generation at EOS\n",
      "Stopping generation at EOS\n",
      "Stopping generation at EOS\n",
      "Stopping generation at EOS\n",
      "Stopping generation at EOS\n",
      "Stopping generation at EOS\n",
      "Stopping generation at EOS\n",
      "Stopping generation at EOS\n",
      "Stopping generation at EOS\n",
      "Stopping generation at EOS\n",
      "Stopping generation at EOS\n",
      "Stopping generation at EOS\n",
      "Stopping generation at EOS\n",
      "Stopping generation at EOS\n",
      "Stopping generation at EOS\n",
      "Stopping generation at EOS\n",
      "Stopping generation at EOS\n",
      "Stopping generation at EOS\n",
      "Stopping generation at EOS\n",
      "Stopping generation at EOS\n",
      "Stopping generation at EOS\n",
      "Stopping generation at EOS\n",
      "Stopping generation at EOS\n",
      "Stopping generation at EOS\n",
      "Stopping generation at EOS\n",
      "Stopping generation at EOS\n",
      "Stopping generation at EOS\n",
      "Stopping generation at EOS\n",
      "Stopping generation at EOS\n",
      "Stopping generation at EOS\n",
      "Stopping generation at EOS\n",
      "Stopping generation at EOS\n",
      "Stopping generation at EOS\n",
      "Stopping generation at EOS\n",
      "Stopping generation at EOS\n",
      "Stopping generation at EOS\n",
      "Stopping generation at EOS\n",
      "Stopping generation at EOS\n",
      "Stopping generation at EOS\n",
      "Stopping generation at EOS\n",
      "Stopping generation at EOS\n",
      "Stopping generation at EOS\n",
      "Stopping generation at EOS\n",
      "Stopping generation at EOS\n",
      "Stopping generation at EOS\n",
      "Stopping generation at EOS\n",
      "Stopping generation at EOS\n",
      "Stopping generation at EOS\n",
      "Stopping generation at EOS\n",
      "Stopping generation at EOS\n",
      "Stopping generation at EOS\n",
      "Stopping generation at EOS\n",
      "Stopping generation at EOS\n",
      "Stopping generation at EOS\n",
      "Stopping generation at EOS\n",
      "Stopping generation at EOS\n",
      "Stopping generation at EOS\n",
      "Stopping generation at EOS\n",
      "Stopping generation at EOS\n",
      "Stopping generation at EOS\n",
      "Stopping generation at EOS\n",
      "Stopping generation at EOS\n",
      "Stopping generation at EOS\n",
      "Stopping generation at EOS\n",
      "Stopping generation at EOS\n",
      "Stopping generation at EOS\n",
      "Stopping generation at EOS\n",
      "Stopping generation at EOS\n",
      "Stopping generation at EOS\n",
      "Stopping generation at EOS\n",
      "Stopping generation at EOS\n",
      "Stopping generation at EOS\n",
      "Stopping generation at EOS\n",
      "Stopping generation at EOS\n",
      "Stopping generation at EOS\n",
      "Stopping generation at EOS\n",
      "Stopping generation at EOS\n",
      "Stopping generation at EOS\n",
      "Stopping generation at EOS\n",
      "Stopping generation at EOS\n",
      "Stopping generation at EOS\n",
      "Stopping generation at EOS\n",
      "Stopping generation at EOS\n",
      "Stopping generation at EOS\n",
      "Stopping generation at EOS\n",
      "Stopping generation at EOS\n",
      "Stopping generation at EOS\n",
      "Stopping generation at EOS\n",
      "Stopping generation at EOS\n",
      "Stopping generation at EOS\n",
      "Stopping generation at EOS\n",
      "Stopping generation at EOS\n",
      "Stopping generation at EOS\n",
      "Stopping generation at EOS\n",
      "Stopping generation at EOS\n",
      "Stopping generation at EOS\n",
      "Stopping generation at EOS\n",
      "Stopping generation at EOS\n",
      "Stopping generation at EOS\n",
      "Stopping generation at EOS\n",
      "Stopping generation at EOS\n",
      "Stopping generation at EOS\n",
      "Stopping generation at EOS\n",
      "Stopping generation at EOS\n",
      "Stopping generation at EOS\n",
      "Stopping generation at EOS\n",
      "Stopping generation at EOS\n",
      "Stopping generation at EOS\n",
      "Stopping generation at EOS\n",
      "Stopping generation at EOS\n",
      "Stopping generation at EOS\n",
      "Stopping generation at EOS\n",
      "Stopping generation at EOS\n",
      "Stopping generation at EOS\n",
      "Stopping generation at EOS\n",
      "Stopping generation at EOS\n",
      "Stopping generation at EOS\n",
      "Stopping generation at EOS\n",
      "Stopping generation at EOS\n",
      "Stopping generation at EOS\n",
      "Stopping generation at EOS\n",
      "Stopping generation at EOS\n",
      "Stopping generation at EOS\n",
      "Stopping generation at EOS\n",
      "Stopping generation at EOS\n",
      "Stopping generation at EOS\n",
      "Stopping generation at EOS\n",
      "Stopping generation at EOS\n",
      "Stopping generation at EOS\n",
      "Stopping generation at EOS\n",
      "Stopping generation at EOS\n",
      "Stopping generation at EOS\n",
      "Stopping generation at EOS\n",
      "Stopping generation at EOS\n",
      "Stopping generation at EOS\n",
      "Stopping generation at EOS\n",
      "Stopping generation at EOS\n",
      "Stopping generation at EOS\n",
      "Stopping generation at EOS\n",
      "Stopping generation at EOS\n",
      "Stopping generation at EOS\n",
      "Stopping generation at EOS\n",
      "Stopping generation at EOS\n",
      "Stopping generation at EOS\n",
      "Stopping generation at EOS\n",
      "Stopping generation at EOS\n",
      "Stopping generation at EOS\n",
      "Stopping generation at EOS\n",
      "Stopping generation at EOS\n",
      "Stopping generation at EOS\n",
      "Stopping generation at EOS\n",
      "Stopping generation at EOS\n",
      "Stopping generation at EOS\n",
      "Stopping generation at EOS\n",
      "Stopping generation at EOS\n",
      "Stopping generation at EOS\n",
      "Stopping generation at EOS\n",
      "Stopping generation at EOS\n",
      "Stopping generation at EOS\n",
      "Stopping generation at EOS\n",
      "Stopping generation at EOS\n",
      "Stopping generation at EOS\n",
      "Stopping generation at EOS\n",
      "Stopping generation at EOS\n",
      "Stopping generation at EOS\n",
      "Stopping generation at EOS\n",
      "Stopping generation at EOS\n",
      "Stopping generation at EOS\n",
      "Stopping generation at EOS\n",
      "Stopping generation at EOS\n",
      "Stopping generation at EOS\n",
      "Stopping generation at EOS\n",
      "Stopping generation at EOS\n",
      "Stopping generation at EOS\n",
      "Stopping generation at EOS\n",
      "Stopping generation at EOS\n",
      "Stopping generation at EOS\n",
      "Stopping generation at EOS\n",
      "Stopping generation at EOS\n",
      "Stopping generation at EOS\n",
      "Stopping generation at EOS\n",
      "Stopping generation at EOS\n",
      "Stopping generation at EOS\n",
      "Stopping generation at EOS\n",
      "Stopping generation at EOS\n",
      "Stopping generation at EOS\n",
      "Stopping generation at EOS\n",
      "Stopping generation at EOS\n",
      "Stopping generation at EOS\n",
      "Stopping generation at EOS\n",
      "Stopping generation at EOS\n",
      "Stopping generation at EOS\n",
      "Stopping generation at EOS\n",
      "Stopping generation at EOS\n",
      "Stopping generation at EOS\n",
      "Stopping generation at EOS\n",
      "Stopping generation at EOS\n",
      "Stopping generation at EOS\n",
      "Stopping generation at EOS\n",
      "Stopping generation at EOS\n",
      "Stopping generation at EOS\n",
      "Stopping generation at EOS\n",
      "Stopping generation at EOS\n",
      "Stopping generation at EOS\n",
      "Stopping generation at EOS\n",
      "Stopping generation at EOS\n",
      "Stopping generation at EOS\n",
      "Stopping generation at EOS\n",
      "Stopping generation at EOS\n",
      "Stopping generation at EOS\n",
      "Stopping generation at EOS\n",
      "Stopping generation at EOS\n",
      "Stopping generation at EOS\n",
      "Stopping generation at EOS\n",
      "Stopping generation at EOS\n",
      "Stopping generation at EOS\n",
      "Stopping generation at EOS\n",
      "Stopping generation at EOS\n",
      "Stopping generation at EOS\n",
      "Stopping generation at EOS\n",
      "Stopping generation at EOS\n",
      "Stopping generation at EOS\n",
      "Stopping generation at EOS\n",
      "Stopping generation at EOS\n",
      "Stopping generation at EOS\n",
      "Stopping generation at EOS\n",
      "Stopping generation at EOS\n",
      "Stopping generation at EOS\n",
      "Stopping generation at EOS\n",
      "Stopping generation at EOS\n",
      "Stopping generation at EOS\n",
      "Stopping generation at EOS\n",
      "Stopping generation at EOS\n",
      "Stopping generation at EOS\n",
      "Stopping generation at EOS\n",
      "Stopping generation at EOS\n",
      "Stopping generation at EOS\n",
      "Stopping generation at EOS\n",
      "Stopping generation at EOS\n",
      "Stopping generation at EOS\n",
      "Stopping generation at EOS\n",
      "Stopping generation at EOS\n",
      "Stopping generation at EOS\n",
      "Stopping generation at EOS\n",
      "Stopping generation at EOS\n",
      "Stopping generation at EOS\n",
      "Stopping generation at EOS\n",
      "Stopping generation at EOS\n",
      "Stopping generation at EOS\n",
      "Stopping generation at EOS\n",
      "Stopping generation at EOS\n",
      "Stopping generation at EOS\n",
      "Stopping generation at EOS\n",
      "Stopping generation at EOS\n",
      "Stopping generation at EOS\n",
      "Stopping generation at EOS\n",
      "Stopping generation at EOS\n",
      "Stopping generation at EOS\n",
      "Stopping generation at EOS\n",
      "Stopping generation at EOS\n",
      "Stopping generation at EOS\n",
      "Stopping generation at EOS\n",
      "Stopping generation at EOS\n",
      "Stopping generation at EOS\n",
      "Stopping generation at EOS\n",
      "Stopping generation at EOS\n",
      "Stopping generation at EOS\n",
      "Stopping generation at EOS\n",
      "Stopping generation at EOS\n",
      "Stopping generation at EOS\n",
      "Stopping generation at EOS\n",
      "Stopping generation at EOS\n",
      "Stopping generation at EOS\n",
      "Stopping generation at EOS\n",
      "Stopping generation at EOS\n",
      "Stopping generation at EOS\n",
      "Stopping generation at EOS\n",
      "Stopping generation at EOS\n",
      "Stopping generation at EOS\n",
      "Stopping generation at EOS\n",
      "Stopping generation at EOS\n",
      "Stopping generation at EOS\n",
      "Stopping generation at EOS\n",
      "Stopping generation at EOS\n",
      "Stopping generation at EOS\n",
      "Stopping generation at EOS\n",
      "Stopping generation at EOS\n",
      "Stopping generation at EOS\n",
      "Stopping generation at EOS\n",
      "Stopping generation at EOS\n",
      "Stopping generation at EOS\n",
      "Stopping generation at EOS\n",
      "Stopping generation at EOS\n",
      "Stopping generation at EOS\n",
      "Stopping generation at EOS\n",
      "Stopping generation at EOS\n",
      "Stopping generation at EOS\n",
      "Stopping generation at EOS\n",
      "Stopping generation at EOS\n",
      "Stopping generation at EOS\n",
      "Stopping generation at EOS\n",
      "Stopping generation at EOS\n",
      "Stopping generation at EOS\n",
      "Stopping generation at EOS\n",
      "Stopping generation at EOS\n",
      "Stopping generation at EOS\n",
      "Stopping generation at EOS\n",
      "Stopping generation at EOS\n",
      "Stopping generation at EOS\n",
      "Stopping generation at EOS\n",
      "Stopping generation at EOS\n",
      "Stopping generation at EOS\n",
      "Stopping generation at EOS\n",
      "Stopping generation at EOS\n",
      "Stopping generation at EOS\n",
      "Stopping generation at EOS\n",
      "Stopping generation at EOS\n",
      "Stopping generation at EOS\n",
      "Stopping generation at EOS\n",
      "Stopping generation at EOS\n",
      "Stopping generation at EOS\n",
      "Stopping generation at EOS\n",
      "Stopping generation at EOS\n",
      "Stopping generation at EOS\n",
      "Stopping generation at EOS\n",
      "Stopping generation at EOS\n",
      "Stopping generation at EOS\n",
      "Stopping generation at EOS\n",
      "Stopping generation at EOS\n",
      "Stopping generation at EOS\n",
      "Stopping generation at EOS\n",
      "Stopping generation at EOS\n",
      "Stopping generation at EOS\n",
      "Stopping generation at EOS\n",
      "Stopping generation at EOS\n",
      "Stopping generation at EOS\n",
      "Stopping generation at EOS\n",
      "Stopping generation at EOS\n",
      "Stopping generation at EOS\n",
      "Stopping generation at EOS\n",
      "Stopping generation at EOS\n",
      "Stopping generation at EOS\n",
      "Stopping generation at EOS\n",
      "Stopping generation at EOS\n",
      "Stopping generation at EOS\n",
      "Stopping generation at EOS\n",
      "Stopping generation at EOS\n",
      "Stopping generation at EOS\n",
      "Stopping generation at EOS\n",
      "Stopping generation at EOS\n",
      "Stopping generation at EOS\n",
      "Stopping generation at EOS\n",
      "Stopping generation at EOS\n",
      "Stopping generation at EOS\n",
      "Stopping generation at EOS\n",
      "Stopping generation at EOS\n",
      "Stopping generation at EOS\n",
      "Stopping generation at EOS\n",
      "Stopping generation at EOS\n",
      "Stopping generation at EOS\n",
      "Stopping generation at EOS\n",
      "Stopping generation at EOS\n",
      "Stopping generation at EOS\n",
      "Stopping generation at EOS\n",
      "Stopping generation at EOS\n",
      "Stopping generation at EOS\n",
      "Stopping generation at EOS\n",
      "Stopping generation at EOS\n",
      "Stopping generation at EOS\n",
      "Stopping generation at EOS\n",
      "Stopping generation at EOS\n",
      "Stopping generation at EOS\n",
      "Stopping generation at EOS\n",
      "Stopping generation at EOS\n",
      "Stopping generation at EOS\n",
      "Stopping generation at EOS\n",
      "Stopping generation at EOS\n",
      "Stopping generation at EOS\n",
      "Stopping generation at EOS\n",
      "Stopping generation at EOS\n",
      "Stopping generation at EOS\n",
      "Stopping generation at EOS\n",
      "Stopping generation at EOS\n",
      "Stopping generation at EOS\n",
      "Stopping generation at EOS\n",
      "Stopping generation at EOS\n",
      "Stopping generation at EOS\n",
      "Stopping generation at EOS\n",
      "Stopping generation at EOS\n",
      "Stopping generation at EOS\n",
      "Stopping generation at EOS\n",
      "Stopping generation at EOS\n",
      "Stopping generation at EOS\n",
      "Stopping generation at EOS\n",
      "Stopping generation at EOS\n",
      "Stopping generation at EOS\n",
      "Stopping generation at EOS\n",
      "Stopping generation at EOS\n",
      "Stopping generation at EOS\n",
      "Stopping generation at EOS\n",
      "Stopping generation at EOS\n",
      "Stopping generation at EOS\n",
      "Stopping generation at EOS\n",
      "Stopping generation at EOS\n",
      "Stopping generation at EOS\n",
      "Stopping generation at EOS\n",
      "Stopping generation at EOS\n",
      "Stopping generation at EOS\n",
      "Stopping generation at EOS\n",
      "Stopping generation at EOS\n",
      "Stopping generation at EOS\n",
      "Stopping generation at EOS\n",
      "Stopping generation at EOS\n",
      "Stopping generation at EOS\n",
      "Stopping generation at EOS\n",
      "Stopping generation at EOS\n",
      "Stopping generation at EOS\n",
      "Stopping generation at EOS\n",
      "Stopping generation at EOS\n",
      "Stopping generation at EOS\n",
      "Stopping generation at EOS\n",
      "Stopping generation at EOS\n",
      "Stopping generation at EOS\n",
      "Stopping generation at EOS\n",
      "Stopping generation at EOS\n",
      "Stopping generation at EOS\n",
      "Stopping generation at EOS\n",
      "Stopping generation at EOS\n",
      "Stopping generation at EOS\n",
      "Stopping generation at EOS\n",
      "Stopping generation at EOS\n",
      "Stopping generation at EOS\n",
      "Stopping generation at EOS\n",
      "Stopping generation at EOS\n",
      "Stopping generation at EOS\n",
      "Stopping generation at EOS\n",
      "Stopping generation at EOS\n",
      "Stopping generation at EOS\n",
      "Stopping generation at EOS\n",
      "Stopping generation at EOS\n",
      "Stopping generation at EOS\n",
      "Stopping generation at EOS\n",
      "Stopping generation at EOS\n",
      "Stopping generation at EOS\n",
      "Stopping generation at EOS\n",
      "Stopping generation at EOS\n",
      "Stopping generation at EOS\n",
      "Stopping generation at EOS\n",
      "Stopping generation at EOS\n",
      "Stopping generation at EOS\n",
      "Stopping generation at EOS\n",
      "Stopping generation at EOS\n",
      "Stopping generation at EOS\n",
      "Stopping generation at EOS\n",
      "Stopping generation at EOS\n",
      "Stopping generation at EOS\n",
      "Stopping generation at EOS\n",
      "Stopping generation at EOS\n",
      "Stopping generation at EOS\n",
      "Stopping generation at EOS\n",
      "Stopping generation at EOS\n",
      "Stopping generation at EOS\n",
      "Stopping generation at EOS\n",
      "Stopping generation at EOS\n",
      "Stopping generation at EOS\n",
      "Stopping generation at EOS\n",
      "Stopping generation at EOS\n",
      "Stopping generation at EOS\n",
      "Stopping generation at EOS\n",
      "Stopping generation at EOS\n",
      "Stopping generation at EOS\n",
      "Stopping generation at EOS\n",
      "Stopping generation at EOS\n",
      "Stopping generation at EOS\n",
      "Stopping generation at EOS\n",
      "Stopping generation at EOS\n",
      "Stopping generation at EOS\n",
      "Stopping generation at EOS\n",
      "Stopping generation at EOS\n",
      "Stopping generation at EOS\n",
      "Stopping generation at EOS\n",
      "Stopping generation at EOS\n",
      "Stopping generation at EOS\n",
      "Stopping generation at EOS\n",
      "Stopping generation at EOS\n",
      "Stopping generation at EOS\n",
      "Stopping generation at EOS\n",
      "Stopping generation at EOS\n",
      "Stopping generation at EOS\n",
      "Stopping generation at EOS\n",
      "Stopping generation at EOS\n",
      "Stopping generation at EOS\n",
      "Stopping generation at EOS\n",
      "Stopping generation at EOS\n",
      "Stopping generation at EOS\n",
      "Stopping generation at EOS\n",
      "Stopping generation at EOS\n",
      "Stopping generation at EOS\n",
      "Stopping generation at EOS\n",
      "Stopping generation at EOS\n",
      "Stopping generation at EOS\n",
      "Stopping generation at EOS\n",
      "Stopping generation at EOS\n",
      "Stopping generation at EOS\n",
      "Stopping generation at EOS\n",
      "Stopping generation at EOS\n",
      "Stopping generation at EOS\n",
      "Stopping generation at EOS\n",
      "Stopping generation at EOS\n",
      "Stopping generation at EOS\n",
      "Stopping generation at EOS\n",
      "Stopping generation at EOS\n",
      "Stopping generation at EOS\n",
      "Stopping generation at EOS\n",
      "Stopping generation at EOS\n",
      "Stopping generation at EOS\n",
      "Stopping generation at EOS\n",
      "Stopping generation at EOS\n",
      "Stopping generation at EOS\n",
      "Stopping generation at EOS\n",
      "Stopping generation at EOS\n",
      "Stopping generation at EOS\n",
      "Stopping generation at EOS\n",
      "Stopping generation at EOS\n",
      "Stopping generation at EOS\n",
      "Stopping generation at EOS\n",
      "Stopping generation at EOS\n",
      "Stopping generation at EOS\n",
      "Stopping generation at EOS\n",
      "Stopping generation at EOS\n",
      "Stopping generation at EOS\n",
      "Stopping generation at EOS\n",
      "Stopping generation at EOS\n",
      "Stopping generation at EOS\n",
      "Stopping generation at EOS\n",
      "Stopping generation at EOS\n",
      "Stopping generation at EOS\n",
      "Stopping generation at EOS\n",
      "Stopping generation at EOS\n",
      "Stopping generation at EOS\n",
      "Stopping generation at EOS\n",
      "Stopping generation at EOS\n",
      "Stopping generation at EOS\n",
      "Stopping generation at EOS\n",
      "Stopping generation at EOS\n",
      "Stopping generation at EOS\n",
      "Stopping generation at EOS\n",
      "Stopping generation at EOS\n"
     ]
    }
   ],
   "source": [
    "# run analysis with each combination\n",
    "for k_fit in fit_sizes:\n",
    "    for k_test in test_sizes:\n",
    "        stats_ij = forward_from_fasta(\"seqs/cds_1.fa\", k_fit, k_test, generator_warm, biotype=\"CDS\", index=0, mock=False, seed=42)\n",
    "        stats_size.append(stats_ij)"
   ]
  },
  {
   "cell_type": "code",
   "execution_count": 68,
   "id": "55a28119-06ca-48ca-b9fe-e1f0aebd4902",
   "metadata": {},
   "outputs": [
    {
     "data": {
      "text/plain": [
       "12"
      ]
     },
     "execution_count": 68,
     "metadata": {},
     "output_type": "execute_result"
    }
   ],
   "source": [
    "# check everything was calculated\n",
    "len(stats_size)"
   ]
  },
  {
   "cell_type": "code",
   "execution_count": 70,
   "id": "ac487d1a-f35d-4a6a-a352-1a68c5e90ca6",
   "metadata": {},
   "outputs": [],
   "source": [
    "# restructure data for plotting\n",
    "stats_size_corr = pd.DataFrame(stats_size).pivot(index=\"k_fit\", columns=\"k_test\", values=\"correctness\")"
   ]
  },
  {
   "cell_type": "code",
   "execution_count": 72,
   "id": "6da68c24-db33-4c83-a3f8-eec2207e3b8c",
   "metadata": {},
   "outputs": [
    {
     "data": {
      "image/png": "[encoded data removed]",
      "text/plain": [
       "<Figure size 640x480 with 2 Axes>"
      ]
     },
     "metadata": {},
     "output_type": "display_data"
    }
   ],
   "source": [
    "# plot correctness\n",
    "ax = sns.heatmap(stats_size_corr, annot=True)"
   ]
  },
  {
   "cell_type": "code",
   "execution_count": 73,
   "id": "1319a392-48ff-493a-883f-7157f6e1e033",
   "metadata": {},
   "outputs": [],
   "source": [
    "# transform with AUROC\n",
    "stats_size_auroc = pd.DataFrame(stats_size).pivot(index=\"k_fit\", columns=\"k_test\", values=\"auroc\")"
   ]
  },
  {
   "cell_type": "code",
   "execution_count": 102,
   "id": "c37b3b11-44a4-4d9d-9d68-0f5b5dd26473",
   "metadata": {},
   "outputs": [
    {
     "data": {
      "text/plain": [
       "Text(50.722222222222214, 0.5, 'Context size')"
      ]
     },
     "execution_count": 102,
     "metadata": {},
     "output_type": "execute_result"
    },
    {
     "data": {
      "image/png": "[encoded data removed]",
      "text/plain": [
       "<Figure size 640x480 with 2 Axes>"
      ]
     },
     "metadata": {},
     "output_type": "display_data"
    }
   ],
   "source": [
    "# plot AUROC\n",
    "ax = sns.heatmap(stats_size_auroc, annot=True, cbar_kws={'label': 'AUROC'})\n",
    "ax.set_title(\"AUROC by Sequence Lengths\")\n",
    "ax.set_xlabel(\"Generation size\")\n",
    "ax.set_ylabel(\"Context size\")"
   ]
  },
  {
   "cell_type": "code",
   "execution_count": 75,
   "id": "35b950e3-6f41-4b2f-9664-64970849da0f",
   "metadata": {},
   "outputs": [],
   "source": [
    "# transform with AUPRC\n",
    "stats_size_auprc = pd.DataFrame(stats_size).pivot(index=\"k_fit\", columns=\"k_test\", values=\"auprc\")"
   ]
  },
  {
   "cell_type": "code",
   "execution_count": 76,
   "id": "f3f02891-671f-4bc9-861a-925259caa503",
   "metadata": {},
   "outputs": [
    {
     "data": {
      "image/png": "[encoded data removed]",
      "text/plain": [
       "<Figure size 640x480 with 2 Axes>"
      ]
     },
     "metadata": {},
     "output_type": "display_data"
    }
   ],
   "source": [
    "# plot AUPRC\n",
    "ax = sns.heatmap(stats_size_auprc, annot=True)"
   ]
  },
  {
   "cell_type": "markdown",
   "id": "f37b9208-b5e7-4d2c-9efe-1091bd9b73c0",
   "metadata": {},
   "source": [
    "We can observe the following:\n",
    "- With CDS data, the model performs better than random with all context and generation sizes.\n",
    "- Context size needs to be sufficient to obtain good results. In this scenario, a context of 500 nucleotides is insufficient, but contexts of 1000 and above are good. Beyond 1000, increasing the context further yields little to no improvement.\n",
    "- The model can provide reasonable results while predicting 50 or 100 nucleotides. However, it becomes quite confused when generating 200 nucleotides, presumably due to error propagation.\n",
    "- In some cases, the model performs notably better or worse than expected. This is due to the non-zero temperature and the choice of seed (as discussed above). "
   ]
  }
 ],
 "metadata": {
  "kernelspec": {
   "display_name": "gpu",
   "language": "python",
   "name": "gpu"
  },
  "language_info": {
   "codemirror_mode": {
    "name": "ipython",
    "version": 3
   },
   "file_extension": ".py",
   "mimetype": "text/x-python",
   "name": "python",
   "nbconvert_exporter": "python",
   "pygments_lexer": "ipython3",
   "version": "3.12.4"
  }
 },
 "nbformat": 4,
 "nbformat_minor": 5
}
