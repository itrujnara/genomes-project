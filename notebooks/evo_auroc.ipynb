{
 "cells": [
  {
   "cell_type": "code",
   "execution_count": 1,
   "id": "47386c3a-5782-4774-919c-23ac019e3a20",
   "metadata": {},
   "outputs": [],
   "source": [
    "from collections import defaultdict\n",
    "from dataclasses import dataclass\n",
    "from functools import wraps\n",
    "import random\n",
    "from time import perf_counter_ns\n",
    "\n",
    "import torch\n",
    "from evo import Evo, generate\n",
    "from stripedhyena.sample import sample\n",
    "\n",
    "from Bio import SeqIO\n",
    "import numpy as np\n",
    "import matplotlib.pyplot as plt\n",
    "%matplotlib inline\n",
    "import pandas as pd\n",
    "import seaborn as sns\n",
    "from sklearn.metrics import roc_auc_score, average_precision_score\n",
    "from sklearn.preprocessing import OneHotEncoder"
   ]
  },
  {
   "cell_type": "code",
   "execution_count": 2,
   "id": "c2a26ac1-e0dd-4995-9b6a-beabc2cb42a4",
   "metadata": {},
   "outputs": [],
   "source": [
    "# run on GPU if available, otherwise panic\n",
    "if not torch.cuda.is_available():\n",
    "    raise RuntimeError(\"CUDA not available, just don't do it\")\n",
    "\n",
    "device = torch.device(\"cuda:0\")"
   ]
  },
  {
   "cell_type": "code",
   "execution_count": 3,
   "id": "afa73f69-f3a5-4d3d-8af2-25151fbfdfb5",
   "metadata": {},
   "outputs": [
    {
     "data": {
      "application/vnd.jupyter.widget-view+json": {
       "model_id": "e1db5a18217b499da31c0182d1489dbb",
       "version_major": 2,
       "version_minor": 0
      },
      "text/plain": [
       "Loading checkpoint shards:   0%|          | 0/3 [00:00<?, ?it/s]"
      ]
     },
     "metadata": {},
     "output_type": "display_data"
    }
   ],
   "source": [
    "# download the model\n",
    "evo_model = Evo(\"evo-1.5-8k-base\")"
   ]
  },
  {
   "cell_type": "code",
   "execution_count": 4,
   "id": "f995a169-f88e-43e5-8c23-2254013c9276",
   "metadata": {},
   "outputs": [],
   "source": [
    "# extract tokenizer and model\n",
    "tokenizer = evo_model.tokenizer\n",
    "model = evo_model.model.to(device)"
   ]
  },
  {
   "cell_type": "markdown",
   "id": "a75f26f3-1186-4242-b536-cf0a7decb952",
   "metadata": {},
   "source": [
    "# Functions – internal logits"
   ]
  },
  {
   "cell_type": "code",
   "execution_count": 5,
   "id": "d4ce2cc8-d775-403d-ad39-20646b8d280e",
   "metadata": {},
   "outputs": [],
   "source": [
    "def get_internal_acgt_probs(seq):\n",
    "    \"\"\"Get per-position nucleotide probabilities within a sequence. They go from position 1 to k+1.\"\"\"\n",
    "    tokens = torch.tensor(tokenizer.tokenize(seq), dtype=torch.int).unsqueeze(0).to(device)\n",
    "    with torch.inference_mode():\n",
    "        logits, _ = model(tokens)\n",
    "    acgt_logits = logits[0,:,(65,67,71,84)]\n",
    "    acgt_probs = torch.softmax(acgt_logits, dim=-1)\n",
    "    return acgt_probs"
   ]
  },
  {
   "cell_type": "code",
   "execution_count": 6,
   "id": "7956ca69-f8c5-43ec-9727-53d454a7bd3a",
   "metadata": {},
   "outputs": [],
   "source": [
    "def calc_simple_correctness(true_seq, y_scores):\n",
    "    \"\"\"Calculate prediction correctness assuming ungapped alignment.\"\"\"\n",
    "    arr = np.array(list(true_seq)).reshape(-1,1)\n",
    "    real_arr = OneHotEncoder().fit_transform(arr).toarray()\n",
    "    preds_moved = torch.cat((torch.tensor([[0.25, 0.25, 0.25, 0.25]], dtype=torch.float32), y_scores.to(\"cpu\")[:-1]))\n",
    "    pred_arr = preds_moved.to(\"cpu\").to(torch.float32).numpy()\n",
    "    correct = real_arr.argmax(axis=1) == pred_arr.argmax(axis=1)\n",
    "    return sum(correct) / len(correct)"
   ]
  },
  {
   "cell_type": "code",
   "execution_count": 7,
   "id": "56d7fe16-fab1-4648-9dbb-3aec2dad56d6",
   "metadata": {},
   "outputs": [],
   "source": [
    "def calc_auroc(true_seq, y_scores):\n",
    "    \"\"\"Calculate AUROC from probabilities.\"\"\"\n",
    "    arr = np.array(list(true_seq)).reshape(-1,1)\n",
    "    real_arr = OneHotEncoder().fit_transform(arr).toarray()\n",
    "    preds_moved = torch.cat((torch.tensor([[0.25, 0.25, 0.25, 0.25]], dtype=torch.float32), y_scores.to(\"cpu\")[:-1]))\n",
    "    pred_arr = preds_moved.to(\"cpu\").to(torch.float32).numpy()\n",
    "    auroc = roc_auc_score(real_arr, pred_arr)\n",
    "    return auroc"
   ]
  },
  {
   "cell_type": "code",
   "execution_count": 8,
   "id": "c23a4ea6-bfeb-49eb-bd37-7f4a0e065698",
   "metadata": {},
   "outputs": [],
   "source": [
    "def calc_auprc(true_seq, y_scores):\n",
    "    \"\"\"Calculate AUPRC from probabilities.\"\"\"\n",
    "    arr = np.array(list(true_seq)).reshape(-1,1)\n",
    "    real_arr = OneHotEncoder().fit_transform(arr).toarray()\n",
    "    preds_moved = torch.cat((torch.tensor([[0.25, 0.25, 0.25, 0.25]], dtype=torch.float32), y_scores.to(\"cpu\")[:-1]))\n",
    "    pred_arr = preds_moved.to(\"cpu\").to(torch.float32).numpy()\n",
    "    auroc = average_precision_score(real_arr, pred_arr, average=\"weighted\")\n",
    "    return auroc"
   ]
  },
  {
   "cell_type": "code",
   "execution_count": 9,
   "id": "5905e451-b6df-4768-a907-87958a1a66cf",
   "metadata": {},
   "outputs": [],
   "source": [
    "@dataclass\n",
    "class SeqStats:\n",
    "    biotype: str\n",
    "    index: int\n",
    "    mock: bool\n",
    "    k: int\n",
    "    correctness: float\n",
    "    auroc: float\n",
    "    auprc: float"
   ]
  },
  {
   "cell_type": "code",
   "execution_count": 10,
   "id": "f900d7c2-fbf0-4fd6-b263-2856d9e3bb8e",
   "metadata": {},
   "outputs": [],
   "source": [
    "def internal_stats_from_seq(seq):\n",
    "    \"\"\"Calculate AUROC and AUPRC from a sequence.\"\"\"\n",
    "    probs = get_internal_acgt_probs(seq)\n",
    "    corr = calc_simple_correctness(seq, probs)\n",
    "    auroc = calc_auroc(seq, probs)\n",
    "    auprc = calc_auprc(seq, probs)\n",
    "    return corr, auroc, auprc"
   ]
  },
  {
   "cell_type": "code",
   "execution_count": 11,
   "id": "43a04991-5ba5-48b6-ad29-8cae80c8d417",
   "metadata": {},
   "outputs": [],
   "source": [
    "def process_fasta_internal(path, *, biotype=\"unknown\", index=0, k=1000):\n",
    "    \"\"\"Read the first sequence from a FASTA file, take k bp and calculate internal stats.\"\"\"\n",
    "    with open(path, \"rt\") as f:\n",
    "        seqs = SeqIO.parse(f, \"fasta\")\n",
    "        seq = next(seqs)\n",
    "    corr, auroc, auprc = internal_stats_from_seq(str(seq.seq)[:k])\n",
    "    return SeqStats(biotype=biotype, index=index, mock=False, k=k, correctness=corr, auroc=auroc, auprc=auprc)"
   ]
  },
  {
   "cell_type": "code",
   "execution_count": 12,
   "id": "1af23fb5-d75d-47e0-9741-9ac9c7f70faf",
   "metadata": {},
   "outputs": [],
   "source": [
    "def process_mock_internal(seq, *, biotype=\"unknown\", index=0, k=1000):\n",
    "    corr, auroc, auprc = internal_stats_from_seq(seq[:k])\n",
    "    return SeqStats(biotype=biotype, index=index, mock=True, k=k, correctness=corr, auroc=auroc, auprc=auprc)"
   ]
  },
  {
   "cell_type": "code",
   "execution_count": 13,
   "id": "cfc43280-6e7f-4e5e-bd78-6a6be5d9915b",
   "metadata": {},
   "outputs": [],
   "source": [
    "def generate_mock(original_seq, new_length, seed=None):\n",
    "    \"\"\"Generates a new DNA sequence with the same nucleotide frequencies as the original sequence.\"\"\"\n",
    "    # Convert to uppercase and count valid nucleotides\n",
    "    counts = defaultdict(int)\n",
    "    valid_nucleotides = {'A', 'T', 'C', 'G'}\n",
    "    total = 0\n",
    "    for char in original_seq.upper():\n",
    "        if char in valid_nucleotides:\n",
    "            counts[char] += 1\n",
    "            total += 1\n",
    "    \n",
    "    if total == 0:\n",
    "        raise ValueError(\"Original sequence contains no valid nucleotides (A, T, C, G).\")\n",
    "    \n",
    "    # Prepare nucleotides and their corresponding weights (counts)\n",
    "    nucleotides = []\n",
    "    weights = []\n",
    "    for nuc in ['A', 'T', 'C', 'G']:\n",
    "        if counts[nuc] > 0:\n",
    "            nucleotides.append(nuc)\n",
    "            weights.append(counts[nuc])\n",
    "    \n",
    "    # Generate the new sequence using the calculated weights\n",
    "    if seed is not None:\n",
    "        random.seed(seed)\n",
    "    new_sequence = ''.join(random.choices(nucleotides, weights=weights, k=new_length))\n",
    "    return new_sequence"
   ]
  },
  {
   "cell_type": "code",
   "execution_count": 14,
   "id": "769372e6-8f92-495c-a113-120c3bf0e501",
   "metadata": {},
   "outputs": [],
   "source": [
    "def mock_from_fasta(path, context_len, new_len, seed=None):\n",
    "    with open(path, \"rt\") as f:\n",
    "        seqs = SeqIO.parse(f, \"fasta\")\n",
    "        seq = next(seqs)\n",
    "    return generate_mock(seq[:context_len], new_len, seed=seed)"
   ]
  },
  {
   "cell_type": "markdown",
   "id": "66834f5a-0e12-4945-a8df-0628aec97e2d",
   "metadata": {},
   "source": [
    "# Test some functions"
   ]
  },
  {
   "cell_type": "code",
   "execution_count": 15,
   "id": "ef5f7e93-1f75-4cab-9d63-f1a8ca2e59fb",
   "metadata": {},
   "outputs": [],
   "source": [
    "with open(\"seqs/cds_1.fa\", \"rt\") as f:\n",
    "    seqs_cds = SeqIO.parse(f, \"fasta\")\n",
    "    seq_cds = next(seqs_cds).seq"
   ]
  },
  {
   "cell_type": "code",
   "execution_count": 16,
   "id": "70e659e6-e4b9-4be0-b7aa-41825cbe5b10",
   "metadata": {},
   "outputs": [
    {
     "data": {
      "text/plain": [
       "'CATAGGGACAACAACCACGAGGTAGTAAGCGGCGCCGCGCGAATAAATCTTATGCCAGACGCCGGGAATTAGGTCCGCTTCTCGCAGCAAACGCACGCGG'"
      ]
     },
     "execution_count": 16,
     "metadata": {},
     "output_type": "execute_result"
    }
   ],
   "source": [
    "generate_mock(seq_cds, 100, seed=42)"
   ]
  },
  {
   "cell_type": "markdown",
   "id": "7d9f0551-fede-4558-a64e-efbe2166b764",
   "metadata": {},
   "source": [
    "# Test on previous CDS sequence"
   ]
  },
  {
   "cell_type": "code",
   "execution_count": 17,
   "id": "989e7545-6955-4ec5-a279-2d1c0b0ffadb",
   "metadata": {},
   "outputs": [],
   "source": [
    "# with open(\"seqs/cds_1.fa\", 'r') as f:\n",
    "#    seq_cds = ''.join(line.strip() for line in f)"
   ]
  },
  {
   "cell_type": "code",
   "execution_count": 18,
   "id": "47265b5d-dc0c-47db-9c39-fd6bbd9d0acc",
   "metadata": {},
   "outputs": [],
   "source": [
    "# len(seq_cds)"
   ]
  },
  {
   "cell_type": "code",
   "execution_count": 19,
   "id": "440c6d9a-a2a3-4727-b76e-1f1f06f40e07",
   "metadata": {},
   "outputs": [],
   "source": [
    "# internal_stats_from_seq(seq_cds[:1000])"
   ]
  },
  {
   "cell_type": "code",
   "execution_count": 20,
   "id": "1a25c183-2d23-4f0b-978e-5b7b6b9046c9",
   "metadata": {},
   "outputs": [],
   "source": [
    "stats = []"
   ]
  },
  {
   "cell_type": "code",
   "execution_count": 21,
   "id": "edbff722-27a6-452b-8e9b-ec20bb791837",
   "metadata": {},
   "outputs": [
    {
     "name": "stdout",
     "output_type": "stream",
     "text": [
      "SeqStats(biotype='CDS', index=0, mock=False, k=1000, correctness=0.521, auroc=0.7387516561308416, auprc=0.5160719774325769)\n"
     ]
    }
   ],
   "source": [
    "stats_cds = process_fasta_internal(\"seqs/cds_1.fa\", biotype=\"CDS\", index=0)\n",
    "stats.append(stats_cds)\n",
    "print(stats_cds)"
   ]
  },
  {
   "cell_type": "markdown",
   "id": "4bd14ee4-d2f4-4d2e-96c8-6d1b0225953a",
   "metadata": {},
   "source": [
    "# Test on intron and intergenic DNA"
   ]
  },
  {
   "cell_type": "code",
   "execution_count": 22,
   "id": "fd348028-53da-4b24-b7e3-8dc552c33469",
   "metadata": {},
   "outputs": [
    {
     "name": "stdout",
     "output_type": "stream",
     "text": [
      "SeqStats(biotype='intron', index=0, mock=False, k=1000, correctness=0.414, auroc=0.6102379402731383, auprc=0.35071528501143623)\n"
     ]
    }
   ],
   "source": [
    "stats_intron = process_fasta_internal(\"seqs/intron_1.fa\", biotype=\"intron\", index=0)\n",
    "stats.append(stats_intron)\n",
    "print(stats_intron)"
   ]
  },
  {
   "cell_type": "code",
   "execution_count": 23,
   "id": "a6529236-0a9d-4498-9852-5c7377f5c5bf",
   "metadata": {},
   "outputs": [
    {
     "name": "stdout",
     "output_type": "stream",
     "text": [
      "SeqStats(biotype='intergenic', index=0, mock=False, k=1000, correctness=0.607, auroc=0.8280435742284944, auprc=0.6878084556224981)\n"
     ]
    }
   ],
   "source": [
    "stats_intergenic = process_fasta_internal(\"seqs/intergenic_1.fa\", biotype=\"intergenic\", index=0)\n",
    "stats.append(stats_intergenic)\n",
    "print(stats_intergenic)"
   ]
  },
  {
   "cell_type": "code",
   "execution_count": 24,
   "id": "c9289bdd-46f6-4911-b4ac-d7e4dc7ec7c8",
   "metadata": {},
   "outputs": [
    {
     "name": "stdout",
     "output_type": "stream",
     "text": [
      "SeqStats(biotype='CDS', index=0, mock=False, k=2000, correctness=0.511, auroc=0.7366895631570601, auprc=0.5119460362567128)\n"
     ]
    }
   ],
   "source": [
    "stats_cds_longer = process_fasta_internal(\"seqs/cds_1.fa\", biotype=\"CDS\", index=0, k=2000)\n",
    "stats.append(stats_cds_longer)\n",
    "print(stats_cds_longer)"
   ]
  },
  {
   "cell_type": "code",
   "execution_count": 25,
   "id": "915c625c-791f-4dd7-88ff-4f9aaff76a34",
   "metadata": {},
   "outputs": [
    {
     "name": "stdout",
     "output_type": "stream",
     "text": [
      "SeqStats(biotype='intron', index=0, mock=False, k=2000, correctness=0.4125, auroc=0.6326265903618302, auprc=0.38042887306327156)\n"
     ]
    }
   ],
   "source": [
    "stats_intron_longer = process_fasta_internal(\"seqs/intron_1.fa\", biotype=\"intron\", index=0, k=2000)\n",
    "stats.append(stats_intron_longer)\n",
    "print(stats_intron_longer)"
   ]
  },
  {
   "cell_type": "code",
   "execution_count": 26,
   "id": "fb5f175c-7ea5-4313-900e-8d51e55d9698",
   "metadata": {},
   "outputs": [
    {
     "name": "stdout",
     "output_type": "stream",
     "text": [
      "SeqStats(biotype='intergenic', index=0, mock=False, k=2000, correctness=0.4715, auroc=0.7506465543266938, auprc=0.5411512545040694)\n"
     ]
    }
   ],
   "source": [
    "stats_intergenic_longer = process_fasta_internal(\"seqs/intergenic_1.fa\", biotype=\"intergenic\", index=0, k=2000)\n",
    "stats.append(stats_intergenic_longer)\n",
    "print(stats_intergenic_longer)"
   ]
  },
  {
   "cell_type": "code",
   "execution_count": 27,
   "id": "121dacde-3243-45af-87fb-aed95a2529bf",
   "metadata": {},
   "outputs": [
    {
     "name": "stdout",
     "output_type": "stream",
     "text": [
      "SeqStats(biotype='intergenic', index=0, mock=False, k=5000, correctness=0.4304, auroc=0.7136169287300393, auprc=0.4905002083431107)\n"
     ]
    }
   ],
   "source": [
    "stats_intergenic_superlong = process_fasta_internal(\"seqs/intergenic_1.fa\", biotype=\"intergenic\", index=0, k=5000)\n",
    "stats.append(stats_intergenic_superlong)\n",
    "print(stats_intergenic_superlong)"
   ]
  },
  {
   "cell_type": "markdown",
   "id": "a584ca2f-e302-4f5d-b4f8-c5e007d19fe9",
   "metadata": {},
   "source": [
    "# Plots for internal stats"
   ]
  },
  {
   "cell_type": "code",
   "execution_count": 28,
   "id": "50194338-df98-4ee2-8126-e673bcb7641f",
   "metadata": {},
   "outputs": [
    {
     "data": {
      "text/plain": [
       "[SeqStats(biotype='CDS', index=0, mock=False, k=1000, correctness=0.521, auroc=0.7387516561308416, auprc=0.5160719774325769),\n",
       " SeqStats(biotype='intron', index=0, mock=False, k=1000, correctness=0.414, auroc=0.6102379402731383, auprc=0.35071528501143623),\n",
       " SeqStats(biotype='intergenic', index=0, mock=False, k=1000, correctness=0.607, auroc=0.8280435742284944, auprc=0.6878084556224981),\n",
       " SeqStats(biotype='CDS', index=0, mock=False, k=2000, correctness=0.511, auroc=0.7366895631570601, auprc=0.5119460362567128),\n",
       " SeqStats(biotype='intron', index=0, mock=False, k=2000, correctness=0.4125, auroc=0.6326265903618302, auprc=0.38042887306327156),\n",
       " SeqStats(biotype='intergenic', index=0, mock=False, k=2000, correctness=0.4715, auroc=0.7506465543266938, auprc=0.5411512545040694),\n",
       " SeqStats(biotype='intergenic', index=0, mock=False, k=5000, correctness=0.4304, auroc=0.7136169287300393, auprc=0.4905002083431107)]"
      ]
     },
     "execution_count": 28,
     "metadata": {},
     "output_type": "execute_result"
    }
   ],
   "source": [
    "stats"
   ]
  },
  {
   "cell_type": "code",
   "execution_count": 29,
   "id": "283cc7c3-8af4-4351-b3ac-2c3202bfc3e6",
   "metadata": {},
   "outputs": [],
   "source": [
    "stats_df = pd.DataFrame(stats)"
   ]
  },
  {
   "cell_type": "code",
   "execution_count": 30,
   "id": "44fb5da1-bd72-42bd-a8db-2bffd346e625",
   "metadata": {},
   "outputs": [
    {
     "data": {
      "text/html": [
       "<div>\n",
       "<style scoped>\n",
       "    .dataframe tbody tr th:only-of-type {\n",
       "        vertical-align: middle;\n",
       "    }\n",
       "\n",
       "    .dataframe tbody tr th {\n",
       "        vertical-align: top;\n",
       "    }\n",
       "\n",
       "    .dataframe thead th {\n",
       "        text-align: right;\n",
       "    }\n",
       "</style>\n",
       "<table border=\"1\" class=\"dataframe\">\n",
       "  <thead>\n",
       "    <tr style=\"text-align: right;\">\n",
       "      <th></th>\n",
       "      <th>biotype</th>\n",
       "      <th>index</th>\n",
       "      <th>mock</th>\n",
       "      <th>k</th>\n",
       "      <th>correctness</th>\n",
       "      <th>auroc</th>\n",
       "      <th>auprc</th>\n",
       "    </tr>\n",
       "  </thead>\n",
       "  <tbody>\n",
       "    <tr>\n",
       "      <th>0</th>\n",
       "      <td>CDS</td>\n",
       "      <td>0</td>\n",
       "      <td>False</td>\n",
       "      <td>1000</td>\n",
       "      <td>0.5210</td>\n",
       "      <td>0.738752</td>\n",
       "      <td>0.516072</td>\n",
       "    </tr>\n",
       "    <tr>\n",
       "      <th>1</th>\n",
       "      <td>intron</td>\n",
       "      <td>0</td>\n",
       "      <td>False</td>\n",
       "      <td>1000</td>\n",
       "      <td>0.4140</td>\n",
       "      <td>0.610238</td>\n",
       "      <td>0.350715</td>\n",
       "    </tr>\n",
       "    <tr>\n",
       "      <th>2</th>\n",
       "      <td>intergenic</td>\n",
       "      <td>0</td>\n",
       "      <td>False</td>\n",
       "      <td>1000</td>\n",
       "      <td>0.6070</td>\n",
       "      <td>0.828044</td>\n",
       "      <td>0.687808</td>\n",
       "    </tr>\n",
       "    <tr>\n",
       "      <th>3</th>\n",
       "      <td>CDS</td>\n",
       "      <td>0</td>\n",
       "      <td>False</td>\n",
       "      <td>2000</td>\n",
       "      <td>0.5110</td>\n",
       "      <td>0.736690</td>\n",
       "      <td>0.511946</td>\n",
       "    </tr>\n",
       "    <tr>\n",
       "      <th>4</th>\n",
       "      <td>intron</td>\n",
       "      <td>0</td>\n",
       "      <td>False</td>\n",
       "      <td>2000</td>\n",
       "      <td>0.4125</td>\n",
       "      <td>0.632627</td>\n",
       "      <td>0.380429</td>\n",
       "    </tr>\n",
       "    <tr>\n",
       "      <th>5</th>\n",
       "      <td>intergenic</td>\n",
       "      <td>0</td>\n",
       "      <td>False</td>\n",
       "      <td>2000</td>\n",
       "      <td>0.4715</td>\n",
       "      <td>0.750647</td>\n",
       "      <td>0.541151</td>\n",
       "    </tr>\n",
       "    <tr>\n",
       "      <th>6</th>\n",
       "      <td>intergenic</td>\n",
       "      <td>0</td>\n",
       "      <td>False</td>\n",
       "      <td>5000</td>\n",
       "      <td>0.4304</td>\n",
       "      <td>0.713617</td>\n",
       "      <td>0.490500</td>\n",
       "    </tr>\n",
       "  </tbody>\n",
       "</table>\n",
       "</div>"
      ],
      "text/plain": [
       "      biotype  index   mock     k  correctness     auroc     auprc\n",
       "0         CDS      0  False  1000       0.5210  0.738752  0.516072\n",
       "1      intron      0  False  1000       0.4140  0.610238  0.350715\n",
       "2  intergenic      0  False  1000       0.6070  0.828044  0.687808\n",
       "3         CDS      0  False  2000       0.5110  0.736690  0.511946\n",
       "4      intron      0  False  2000       0.4125  0.632627  0.380429\n",
       "5  intergenic      0  False  2000       0.4715  0.750647  0.541151\n",
       "6  intergenic      0  False  5000       0.4304  0.713617  0.490500"
      ]
     },
     "execution_count": 30,
     "metadata": {},
     "output_type": "execute_result"
    }
   ],
   "source": [
    "stats_df"
   ]
  },
  {
   "cell_type": "code",
   "execution_count": 31,
   "id": "d49b2845-9612-4d0a-8302-4b0a4e8e87b2",
   "metadata": {},
   "outputs": [
    {
     "data": {
      "image/png": "[encoded data removed]",
      "text/plain": [
       "<Figure size 640x480 with 1 Axes>"
      ]
     },
     "metadata": {},
     "output_type": "display_data"
    }
   ],
   "source": [
    "ax = sns.barplot(data=stats_df, x=\"biotype\", y=\"correctness\", hue=\"k\")\n",
    "ax.set_ylim(0,1)\n",
    "ax.axhline(y=0.25, label=\"Random model\")\n",
    "ax.set(xlabel=\"Sequence type\", ylabel=\"Simple correctness\", title=\"Correctness by Sequence Type\")\n",
    "ax.legend().set_title(\"Sequence length\")"
   ]
  },
  {
   "cell_type": "code",
   "execution_count": 32,
   "id": "26c701ab-be65-42fa-90e5-0b720db18d53",
   "metadata": {},
   "outputs": [
    {
     "data": {
      "image/png": "[encoded data removed]",
      "text/plain": [
       "<Figure size 640x480 with 1 Axes>"
      ]
     },
     "metadata": {},
     "output_type": "display_data"
    }
   ],
   "source": [
    "ax = sns.barplot(data=stats_df, x=\"biotype\", y=\"auroc\", hue=\"k\")\n",
    "ax.axhline(y=0.5, label=\"Random model\")\n",
    "ax.set_ylim(0,1)\n",
    "ax.set(xlabel=\"Sequence type\", ylabel=\"AUROC\", title=\"AUROC by Sequence Type\")\n",
    "ax.legend().set_title(\"Sequence length\")"
   ]
  },
  {
   "cell_type": "code",
   "execution_count": 33,
   "id": "125790c2-c3ab-4818-b959-471a365b2890",
   "metadata": {},
   "outputs": [
    {
     "data": {
      "image/png": "[encoded data removed]",
      "text/plain": [
       "<Figure size 640x480 with 1 Axes>"
      ]
     },
     "metadata": {},
     "output_type": "display_data"
    }
   ],
   "source": [
    "ax = sns.barplot(data=stats_df, x=\"biotype\", y=\"auprc\", hue=\"k\")\n",
    "ax.set_ylim(0,1)\n",
    "ax.axhline(y=0.25, label=\"Random model\")\n",
    "ax.set(xlabel=\"Sequence type\", ylabel=\"AUPRC\", title=\"AUPRC by Sequence Type\")\n",
    "ax.legend().set_title(\"Sequence length\")"
   ]
  },
  {
   "cell_type": "markdown",
   "id": "91f71497-39be-45a9-a532-5a130053d2ae",
   "metadata": {},
   "source": [
    "# Mock sequences"
   ]
  },
  {
   "cell_type": "code",
   "execution_count": 34,
   "id": "df96c9d2-b167-4191-8659-19931e579839",
   "metadata": {},
   "outputs": [
    {
     "data": {
      "text/plain": [
       "'CATAGGGACAACAACCACGAGGTAGTAAGCGGCGTCGCGCGAATAAATCTTATGCCAGATGCCGGGAATTAGGTCCGCTTCTCGCAGCAAACGCATGCGGAGGCTCACCGGTCAGGTCCAGCGCATAGGGTAGGACAGGACCTGCACGATGCCCAATCAAACAGGAAGAAGCCGGAACCCGGGACTGTACCTTGCGCAGGGGGACACATGTGCCGGCGATGCCGACCGAGAACGAAGTCCCCCGAGACGTTGACGGAATGGGTAGGCGCAGTCGAAACTCGACTCGGACTAGCTGCCAAGGCGCAATGGGGATAGGCCAGGGGGAGTGGGGTGAGGAGCTGAAATGGTCCGCGAGAGTACGTCCTCTGAGCGGGTAGTTGGTTCCTACGGGCTCATCCCCCACGGAACCTGGGAAAACGACCAGCACAGGACAGCATGCGGGCGGCGCGCGGCTTCGCCTATTTCAAGGACCCACGCGGGTATGGGCGCCAACATGCACACACCACACATATGTGGTAACGTCGCGGAAAAGCAGGACGAGGAATGGCGAGCAGGCAGGTCTCTGGAGCGGCGGTGCCCGTGGAGACCTAGAAGTGGTAGAGCGGCCGAAGTCCCCGTGTTAAACGAACGGCTAAAAACTGCGAGCGCCCAAGCGCACAACTGAGCGACCCGGTCCGGAACAAAACCTAGGCGGGCCGCCCGGAATGCTAGGGCCAACTTAGGCGGGTAGCCGACCCATTGGTGTGGCCTTGCCGCCCATGCGACGCGAGCAACCAGGCAGCGCTGGACTGCGGTGCGCGTTCGCACTCCCTAGCAGAGGGTCGGCACCGGCCCGCCACGTGCGGGTTGGGAACGGGCACGCGGAGTTACCGAAGCAGACTTAGGGACTCCCTGATCACCGTGCTCGGACCGTGCTCCGGCGCGCTCCGATGAACGCGGTGCGGTAGAGGGGGGTGACCGGCGGAAAGCGAAGGTCAGTCAGACGGGCGACACCGATCGG'"
      ]
     },
     "execution_count": 34,
     "metadata": {},
     "output_type": "execute_result"
    }
   ],
   "source": [
    "mock_cds = mock_from_fasta(\"seqs/cds_1.fa\", 1000, 1000, seed=42)\n",
    "mock_cds"
   ]
  },
  {
   "cell_type": "code",
   "execution_count": 35,
   "id": "aaf39cbe-abfb-4227-8a44-32064c26f51c",
   "metadata": {},
   "outputs": [],
   "source": [
    "mock_stats = []"
   ]
  },
  {
   "cell_type": "code",
   "execution_count": 36,
   "id": "6ae914b3-115e-43d5-b5b8-054254ccb17d",
   "metadata": {},
   "outputs": [
    {
     "data": {
      "text/plain": [
       "SeqStats(biotype='CDS', index=0, mock=True, k=1000, correctness=0.313, auroc=0.497298246678084, auprc=0.2730725255561484)"
      ]
     },
     "execution_count": 36,
     "metadata": {},
     "output_type": "execute_result"
    }
   ],
   "source": [
    "mock_cds_stats = process_mock_internal(mock_cds, biotype=\"CDS\", index=0)\n",
    "mock_stats.append(mock_cds_stats)\n",
    "mock_cds_stats"
   ]
  },
  {
   "cell_type": "code",
   "execution_count": 37,
   "id": "c74fbde3-1edc-4fe9-a8e8-5d0e52dfe092",
   "metadata": {},
   "outputs": [],
   "source": [
    "mock_intron = mock_from_fasta(\"seqs/intron_1.fa\", 1000, 1000, seed=42)\n",
    "mock_intron_stats = process_mock_internal(mock_intron, biotype=\"intron\")\n",
    "mock_stats.append(mock_intron_stats)"
   ]
  },
  {
   "cell_type": "code",
   "execution_count": 38,
   "id": "0c31905c-32b4-4f99-ba14-47f2a15bc9a6",
   "metadata": {},
   "outputs": [],
   "source": [
    "mock_intergenic = mock_from_fasta(\"seqs/intergenic_1.fa\", 1000, 1000, seed=42)\n",
    "mock_intergenic_stats = process_mock_internal(mock_intergenic, biotype=\"intergenic\")\n",
    "mock_stats.append(mock_intergenic_stats)"
   ]
  },
  {
   "cell_type": "code",
   "execution_count": 39,
   "id": "5f8826f8-e17e-400b-9351-d5f312bf1936",
   "metadata": {},
   "outputs": [],
   "source": [
    "mock_stats.append(stats_cds)\n",
    "mock_stats.append(stats_intron)\n",
    "mock_stats.append(stats_intergenic)"
   ]
  },
  {
   "cell_type": "code",
   "execution_count": 40,
   "id": "2f27bf93-6246-42a1-93c2-dd8055b5c071",
   "metadata": {},
   "outputs": [],
   "source": [
    "mock_df = pd.DataFrame(mock_stats)"
   ]
  },
  {
   "cell_type": "code",
   "execution_count": 41,
   "id": "45a1ee68-7788-4540-a1f7-ca9bd081f72c",
   "metadata": {},
   "outputs": [
    {
     "data": {
      "text/html": [
       "<div>\n",
       "<style scoped>\n",
       "    .dataframe tbody tr th:only-of-type {\n",
       "        vertical-align: middle;\n",
       "    }\n",
       "\n",
       "    .dataframe tbody tr th {\n",
       "        vertical-align: top;\n",
       "    }\n",
       "\n",
       "    .dataframe thead th {\n",
       "        text-align: right;\n",
       "    }\n",
       "</style>\n",
       "<table border=\"1\" class=\"dataframe\">\n",
       "  <thead>\n",
       "    <tr style=\"text-align: right;\">\n",
       "      <th></th>\n",
       "      <th>biotype</th>\n",
       "      <th>index</th>\n",
       "      <th>mock</th>\n",
       "      <th>k</th>\n",
       "      <th>correctness</th>\n",
       "      <th>auroc</th>\n",
       "      <th>auprc</th>\n",
       "    </tr>\n",
       "  </thead>\n",
       "  <tbody>\n",
       "    <tr>\n",
       "      <th>0</th>\n",
       "      <td>CDS</td>\n",
       "      <td>0</td>\n",
       "      <td>True</td>\n",
       "      <td>1000</td>\n",
       "      <td>0.313</td>\n",
       "      <td>0.497298</td>\n",
       "      <td>0.273073</td>\n",
       "    </tr>\n",
       "    <tr>\n",
       "      <th>1</th>\n",
       "      <td>intron</td>\n",
       "      <td>0</td>\n",
       "      <td>True</td>\n",
       "      <td>1000</td>\n",
       "      <td>0.314</td>\n",
       "      <td>0.494934</td>\n",
       "      <td>0.270048</td>\n",
       "    </tr>\n",
       "    <tr>\n",
       "      <th>2</th>\n",
       "      <td>intergenic</td>\n",
       "      <td>0</td>\n",
       "      <td>True</td>\n",
       "      <td>1000</td>\n",
       "      <td>0.420</td>\n",
       "      <td>0.488142</td>\n",
       "      <td>0.348797</td>\n",
       "    </tr>\n",
       "    <tr>\n",
       "      <th>3</th>\n",
       "      <td>CDS</td>\n",
       "      <td>0</td>\n",
       "      <td>False</td>\n",
       "      <td>1000</td>\n",
       "      <td>0.521</td>\n",
       "      <td>0.738752</td>\n",
       "      <td>0.516072</td>\n",
       "    </tr>\n",
       "    <tr>\n",
       "      <th>4</th>\n",
       "      <td>intron</td>\n",
       "      <td>0</td>\n",
       "      <td>False</td>\n",
       "      <td>1000</td>\n",
       "      <td>0.414</td>\n",
       "      <td>0.610238</td>\n",
       "      <td>0.350715</td>\n",
       "    </tr>\n",
       "    <tr>\n",
       "      <th>5</th>\n",
       "      <td>intergenic</td>\n",
       "      <td>0</td>\n",
       "      <td>False</td>\n",
       "      <td>1000</td>\n",
       "      <td>0.607</td>\n",
       "      <td>0.828044</td>\n",
       "      <td>0.687808</td>\n",
       "    </tr>\n",
       "  </tbody>\n",
       "</table>\n",
       "</div>"
      ],
      "text/plain": [
       "      biotype  index   mock     k  correctness     auroc     auprc\n",
       "0         CDS      0   True  1000        0.313  0.497298  0.273073\n",
       "1      intron      0   True  1000        0.314  0.494934  0.270048\n",
       "2  intergenic      0   True  1000        0.420  0.488142  0.348797\n",
       "3         CDS      0  False  1000        0.521  0.738752  0.516072\n",
       "4      intron      0  False  1000        0.414  0.610238  0.350715\n",
       "5  intergenic      0  False  1000        0.607  0.828044  0.687808"
      ]
     },
     "execution_count": 41,
     "metadata": {},
     "output_type": "execute_result"
    }
   ],
   "source": [
    "mock_df"
   ]
  },
  {
   "cell_type": "markdown",
   "id": "db198c56-c3d9-432b-93c1-efbff94bf1a9",
   "metadata": {},
   "source": [
    "## Plots"
   ]
  },
  {
   "cell_type": "code",
   "execution_count": 42,
   "id": "bd3cce14-4e6e-483c-91d9-fc78da45a22d",
   "metadata": {},
   "outputs": [
    {
     "data": {
      "image/png": "[encoded data removed]",
      "text/plain": [
       "<Figure size 640x480 with 1 Axes>"
      ]
     },
     "metadata": {},
     "output_type": "display_data"
    }
   ],
   "source": [
    "ax = sns.barplot(data=mock_df, x=\"biotype\", y=\"correctness\", hue=\"mock\")\n",
    "ax.set_ylim(0,1)\n",
    "ax.axhline(y=0.25, color=\"firebrick\", label=\"Random model\")\n",
    "ax.set(xlabel=\"Sequence type\", ylabel=\"Simple correctness\", title=\"Correctness by Sequence Type\")\n",
    "ax.legend().set_title(\"Mock\")"
   ]
  },
  {
   "cell_type": "code",
   "execution_count": 43,
   "id": "46f8f3d1-6c58-4f9d-a91b-22b2460dffba",
   "metadata": {},
   "outputs": [
    {
     "data": {
      "image/png": "[encoded data removed]",
      "text/plain": [
       "<Figure size 640x480 with 1 Axes>"
      ]
     },
     "metadata": {},
     "output_type": "display_data"
    }
   ],
   "source": [
    "ax = sns.barplot(data=mock_df, x=\"biotype\", y=\"auroc\", hue=\"mock\")\n",
    "ax.set_ylim(0,1)\n",
    "ax.axhline(y=0.5, color=\"firebrick\", label=\"Random model\")\n",
    "ax.set(xlabel=\"Sequence type\", ylabel=\"AUROC\", title=\"AUROC by Sequence Type\")\n",
    "legend = ax.legend()\n",
    "legend.set_title(\"Sequence Type\")\n",
    "legend.get_texts()[0].set_text(\"Real\")\n",
    "legend.get_texts()[1].set_text(\"Mock\")"
   ]
  },
  {
   "cell_type": "code",
   "execution_count": 44,
   "id": "3cb60517-adcd-4d2a-98a9-aeac4203ade3",
   "metadata": {},
   "outputs": [
    {
     "data": {
      "image/png": "[encoded data removed]",
      "text/plain": [
       "<Figure size 640x480 with 1 Axes>"
      ]
     },
     "metadata": {},
     "output_type": "display_data"
    }
   ],
   "source": [
    "ax = sns.barplot(data=mock_df, x=\"biotype\", y=\"auprc\", hue=\"mock\")\n",
    "ax.set_ylim(0,1)\n",
    "ax.axhline(y=0.25, color=\"firebrick\", label=\"Random model\")\n",
    "ax.set(xlabel=\"Sequence type\", ylabel=\"AUPRC\", title=\"AUPRC by Sequence Type\")\n",
    "ax.legend().set_title(\"Mock\")"
   ]
  },
  {
   "cell_type": "markdown",
   "id": "7c87621b-5f73-4ee6-9a4e-d16fb5050f6d",
   "metadata": {},
   "source": [
    "# With lncRNA"
   ]
  },
  {
   "cell_type": "code",
   "execution_count": 45,
   "id": "a789e505-2ae9-4f95-bbd1-f581c279c274",
   "metadata": {},
   "outputs": [],
   "source": [
    "stats_lnc = process_fasta_internal(\"seqs/lnc_1.fa\", biotype=\"lncRNA\", index=0)"
   ]
  },
  {
   "cell_type": "code",
   "execution_count": 46,
   "id": "25f8f5e4-aff3-4948-a9bd-180fdc6e03c3",
   "metadata": {},
   "outputs": [],
   "source": [
    "mock_lnc = mock_from_fasta(\"seqs/lnc_1.fa\", 1000, 1000, seed=42)\n",
    "mock_lnc_stats = process_mock_internal(mock_lnc, biotype=\"lncRNA\")"
   ]
  },
  {
   "cell_type": "code",
   "execution_count": 47,
   "id": "94b2a41d-fbe0-4473-91f2-f90b75de8a1a",
   "metadata": {},
   "outputs": [],
   "source": [
    "mock_stats_lnc = mock_stats + [stats_lnc, mock_lnc_stats]"
   ]
  },
  {
   "cell_type": "code",
   "execution_count": 48,
   "id": "138bb272-dada-4e1c-b5a3-af9276bc2979",
   "metadata": {},
   "outputs": [
    {
     "data": {
      "text/plain": [
       "8"
      ]
     },
     "execution_count": 48,
     "metadata": {},
     "output_type": "execute_result"
    }
   ],
   "source": [
    "len(mock_stats_lnc)"
   ]
  },
  {
   "cell_type": "code",
   "execution_count": 49,
   "id": "31c3aded-bfff-4f40-b504-9b01513875af",
   "metadata": {},
   "outputs": [],
   "source": [
    "lnc_df = pd.DataFrame(mock_stats_lnc)"
   ]
  },
  {
   "cell_type": "code",
   "execution_count": 50,
   "id": "dbe85e58-b720-4468-983b-402211de54fc",
   "metadata": {},
   "outputs": [
    {
     "data": {
      "image/png": "[encoded data removed]",
      "text/plain": [
       "<Figure size 640x480 with 1 Axes>"
      ]
     },
     "metadata": {},
     "output_type": "display_data"
    }
   ],
   "source": [
    "ax = sns.barplot(data=lnc_df, x=\"biotype\", y=\"auroc\", hue=\"mock\")\n",
    "ax.set_ylim(0,1)\n",
    "ax.axhline(y=0.5, color=\"firebrick\", label=\"Random model\")\n",
    "ax.set(xlabel=\"Sequence Biotype\", ylabel=\"AUROC\", title=\"AUROC by Sequence Type\")\n",
    "legend = ax.legend()\n",
    "legend.set_title(\"Sequence Origin\")\n",
    "legend.get_texts()[0].set_text(\"Real\")\n",
    "legend.get_texts()[1].set_text(\"Mock\")\n",
    "plt.show()"
   ]
  },
  {
   "cell_type": "code",
   "execution_count": 51,
   "id": "a5a90271-cfe1-4afb-94d3-8e2ce23b3148",
   "metadata": {},
   "outputs": [],
   "source": [
    "with open(\"seqs/lnc_1.fa\") as f:\n",
    "    seqs = SeqIO.parse(f, \"fasta\")\n",
    "    seq = next(seqs)"
   ]
  },
  {
   "cell_type": "code",
   "execution_count": 52,
   "id": "21f83bda-4b14-4715-b87f-d162ad90cded",
   "metadata": {
    "scrolled": true
   },
   "outputs": [
    {
     "data": {
      "text/plain": [
       "torch.Size([1000, 4])"
      ]
     },
     "execution_count": 52,
     "metadata": {},
     "output_type": "execute_result"
    }
   ],
   "source": [
    "lnc_probs = get_internal_acgt_probs(str(seq.seq)[:1000])\n",
    "lnc_probs.shape"
   ]
  },
  {
   "cell_type": "code",
   "execution_count": 53,
   "id": "91b51960-5a8a-4737-8485-094e4b93c77c",
   "metadata": {
    "scrolled": true
   },
   "outputs": [
    {
     "data": {
      "text/plain": [
       "tensor([0.2812, 0.3125, 0.2793, 0.3086, 0.3066, 0.3301, 0.2930, 0.3438, 0.3145,\n",
       "        0.3203, 0.3262, 0.3242, 0.2871, 0.4043, 0.3066, 0.3301, 0.3125, 0.2949,\n",
       "        0.2871, 0.3047, 0.2969, 0.3711, 0.3477, 0.4043, 0.3262, 0.3105, 0.3320,\n",
       "        0.3867, 0.3770, 0.2969, 0.3730, 0.3809, 0.3477, 0.3145, 0.4570, 0.3105,\n",
       "        0.3203, 0.3574, 0.2949, 0.2598, 0.2832, 0.3398, 0.3320, 0.4004, 0.3945,\n",
       "        0.3066, 0.3398, 0.3105, 0.3398, 0.3926, 0.3359, 0.3027, 0.3711, 0.2949,\n",
       "        0.4082, 0.4570, 0.4121, 0.4180, 0.3027, 0.3477, 0.4082, 0.3125, 0.2676,\n",
       "        0.3262, 0.3086, 0.2812, 0.3535, 0.3047, 0.4648, 0.3535, 0.3008, 0.3848,\n",
       "        0.3672, 0.4062, 0.3750, 0.4746, 0.3965, 0.3867, 0.3145, 0.3496, 0.4004,\n",
       "        0.3301, 0.3262, 0.3359, 0.4023, 0.4082, 0.4512, 0.3340, 0.4043, 0.3320,\n",
       "        0.2656, 0.3691, 0.3398, 0.3398, 0.4160, 0.5078, 0.2734, 0.4785, 0.4551,\n",
       "        0.3438, 0.3223, 0.3027, 0.3418, 0.4746, 0.3730, 0.4277, 0.3262, 0.4707,\n",
       "        0.3164, 0.2910, 0.3223, 0.3555, 0.4160, 0.4512, 0.3320, 0.4336, 0.4727,\n",
       "        0.3066, 0.3281, 0.3867, 0.3809, 0.5234, 0.5352, 0.3203, 0.4883, 0.5195,\n",
       "        0.4453, 0.3125, 0.3555, 0.3613, 0.3652, 0.4043, 0.3965, 0.3691, 0.4141,\n",
       "        0.3633, 0.4043, 0.5586, 0.3848, 0.3223, 0.3887, 0.3203, 0.3086, 0.4805,\n",
       "        0.5078, 0.4316, 0.3770, 0.3418, 0.3887, 0.4688, 0.3926, 0.3613, 0.3359,\n",
       "        0.3574, 0.3477, 0.4629, 0.4629, 0.4023, 0.4883, 0.3613, 0.4004, 0.4473,\n",
       "        0.4121, 0.4297, 0.3652, 0.3965, 0.2988, 0.3613, 0.2969, 0.3242, 0.3652,\n",
       "        0.3477, 0.3320, 0.4570, 0.2988, 0.3652, 0.3672, 0.3555, 0.3281, 0.4023,\n",
       "        0.2930, 0.3242, 0.3711, 0.3438, 0.3828, 0.3457, 0.3516, 0.3555, 0.3984,\n",
       "        0.3535, 0.4082, 0.3086, 0.3281, 0.3281, 0.3477, 0.3359, 0.3281, 0.3457,\n",
       "        0.3477, 0.3887, 0.3418, 0.3047, 0.2988, 0.3457, 0.4062, 0.4141, 0.3418,\n",
       "        0.2988, 0.4219, 0.3164, 0.3281, 0.3691, 0.2852, 0.3242, 0.2656, 0.3418,\n",
       "        0.3145, 0.3242, 0.3027, 0.3203, 0.3379, 0.3867, 0.3379, 0.4707, 0.4023,\n",
       "        0.3203, 0.3750, 0.3555, 0.3438, 0.3809, 0.3848, 0.3145, 0.3086, 0.2988,\n",
       "        0.3223, 0.2754, 0.3027, 0.2793, 0.2598, 0.3125, 0.3086, 0.3164, 0.3223,\n",
       "        0.3047, 0.2871, 0.2969, 0.2793, 0.2715, 0.2852, 0.2910, 0.3359, 0.2734,\n",
       "        0.3379, 0.3477, 0.3066, 0.3145, 0.3691, 0.3574, 0.3242, 0.3750, 0.3945,\n",
       "        0.3047, 0.2930, 0.3555, 0.4219, 0.3516, 0.3789, 0.3262, 0.3457, 0.3555,\n",
       "        0.3281, 0.3281, 0.3594, 0.3008, 0.3027, 0.3477, 0.2715, 0.2988, 0.4004,\n",
       "        0.3633, 0.2949, 0.3066, 0.3438, 0.3223, 0.3398, 0.2891, 0.3105, 0.3652,\n",
       "        0.2949, 0.3164, 0.3203, 0.3828, 0.3672, 0.2910, 0.2910, 0.3516, 0.3906,\n",
       "        0.4453, 0.3301, 0.3711, 0.3320, 0.3770, 0.4355, 0.4141, 0.4473, 0.4746,\n",
       "        0.4062, 0.4297, 0.3867, 0.5430, 0.6680, 0.5352, 0.8086, 0.8398, 0.4453,\n",
       "        0.6836, 0.5508, 0.6211, 0.8320, 0.6406, 0.7227, 0.5039, 0.3516, 0.4004,\n",
       "        0.4219, 0.3652, 0.3320, 0.4023, 0.3887, 0.3438, 0.4844, 0.3984, 0.4160,\n",
       "        0.3613, 0.4434, 0.3223, 0.5820, 0.3457, 0.3477, 0.4102, 0.5078, 0.3828,\n",
       "        0.4473, 0.2852, 0.3320, 0.4453, 0.3848, 0.4082, 0.7188, 0.3574, 0.3203,\n",
       "        0.3457, 0.3750, 0.3262, 0.5625, 0.3281, 0.3359, 0.3418, 0.3047, 0.3281,\n",
       "        0.3613, 0.3711, 0.3398, 0.3008, 0.2754, 0.3027, 0.3184, 0.3516, 0.3027,\n",
       "        0.3828, 0.3906, 0.3867, 0.3398, 0.3164, 0.3281, 0.3359, 0.3105, 0.3105,\n",
       "        0.4199, 0.3770, 0.3301, 0.3418, 0.3613, 0.2949, 0.5273, 0.3867, 0.3828,\n",
       "        0.3789, 0.3203, 0.3457, 0.3066, 0.3320, 0.2988, 0.2910, 0.2891, 0.3223,\n",
       "        0.3340, 0.3691, 0.2988, 0.3594, 0.3027, 0.3320, 0.3301, 0.3320, 0.3320,\n",
       "        0.3223, 0.2910, 0.3633, 0.3594, 0.3320, 0.3164, 0.3574, 0.4395, 0.3398,\n",
       "        0.3418, 0.3301, 0.3223, 0.4961, 0.7344, 0.5430, 0.3301, 0.3398, 0.3164,\n",
       "        0.3418, 0.3145, 0.3047, 0.3320, 0.2852, 0.3203, 0.3145, 0.2891, 0.3086,\n",
       "        0.3145, 0.3555, 0.3594, 0.2715, 0.3008, 0.2871, 0.2930, 0.3008, 0.2910,\n",
       "        0.3242, 0.3496, 0.3555, 0.2891, 0.3027, 0.3203, 0.2832, 0.3477, 0.2930,\n",
       "        0.2988, 0.3125, 0.3555, 0.3477, 0.2988, 0.2891, 0.3086, 0.3184, 0.3047,\n",
       "        0.2871, 0.3184, 0.3027, 0.3105, 0.2852, 0.3066, 0.3281, 0.3145, 0.2969,\n",
       "        0.3320, 0.3066, 0.3281, 0.3164, 0.3301, 0.3066, 0.3301, 0.3418, 0.3340,\n",
       "        0.3457, 0.2930, 0.3027, 0.3145, 0.3535, 0.3477, 0.2891, 0.3145, 0.3301,\n",
       "        0.3008, 0.3027, 0.2910, 0.3223, 0.3223, 0.3418, 0.2754, 0.3105, 0.3223,\n",
       "        0.2910, 0.3066, 0.3066, 0.2930, 0.3711, 0.3027, 0.3145, 0.3438, 0.3359,\n",
       "        0.3418, 0.2773, 0.3535, 0.3730, 0.3359, 0.2871, 0.3223, 0.2852, 0.3691,\n",
       "        0.2754, 0.2949, 0.3867, 0.4102, 0.2949, 0.3711, 0.4082, 0.3672, 0.5117,\n",
       "        0.3848, 0.3418, 0.4824, 0.3262, 0.3555, 0.3301, 0.3145, 0.3008, 0.2793,\n",
       "        0.4219, 0.3184, 0.3281, 0.3086, 0.3066, 0.3125, 0.2969, 0.2910, 0.2910,\n",
       "        0.3555, 0.3203, 0.3027, 0.3457, 0.2695, 0.3535, 0.3672, 0.3184, 0.2695,\n",
       "        0.3379, 0.2812, 0.3340, 0.3223, 0.2930, 0.3418, 0.2988, 0.2852, 0.3242,\n",
       "        0.2871, 0.3105, 0.3340, 0.3320, 0.3359, 0.3672, 0.3066, 0.2930, 0.3594,\n",
       "        0.3086, 0.3438, 0.3691, 0.3047, 0.2988, 0.3477, 0.3496, 0.2656, 0.3711,\n",
       "        0.2871, 0.2969, 0.3223, 0.2930, 0.2695, 0.3848, 0.2930, 0.3027, 0.3340,\n",
       "        0.3184, 0.3086, 0.2812, 0.2988, 0.3184, 0.2695, 0.2871, 0.2949, 0.3223,\n",
       "        0.3281, 0.3145, 0.3926, 0.3359, 0.3008, 0.3320, 0.3145, 0.3145, 0.3281,\n",
       "        0.3223, 0.3457, 0.3574, 0.3242, 0.2773, 0.2812, 0.3223, 0.4199, 0.3438,\n",
       "        0.3574, 0.4395, 0.4922, 0.5312, 0.3359, 0.3223, 0.2891, 0.3457, 0.4199,\n",
       "        0.3184, 0.3164, 0.3438, 0.4766, 0.5234, 0.4023, 0.3281, 0.3125, 0.2891,\n",
       "        0.2969, 0.2891, 0.3184, 0.3027, 0.3242, 0.3926, 0.4375, 0.3184, 0.3105,\n",
       "        0.3887, 0.3867, 0.3105, 0.3359, 0.3242, 0.3086, 0.2812, 0.2969, 0.2891,\n",
       "        0.3379, 0.2871, 0.3340, 0.3574, 0.3301, 0.2871, 0.3750, 0.3691, 0.4180,\n",
       "        0.3086, 0.2930, 0.3496, 0.3027, 0.3633, 0.3926, 0.3984, 0.4004, 0.2949,\n",
       "        0.3164, 0.4004, 0.3281, 0.3906, 0.3086, 0.2930, 0.2793, 0.2871, 0.3711,\n",
       "        0.3398, 0.2891, 0.3164, 0.3203, 0.3223, 0.2910, 0.3633, 0.3184, 0.3613,\n",
       "        0.2715, 0.3242, 0.3379, 0.3008, 0.3496, 0.3164, 0.3652, 0.2852, 0.3223,\n",
       "        0.3359, 0.3281, 0.2988, 0.3320, 0.2871, 0.4023, 0.3262, 0.3262, 0.3281,\n",
       "        0.3770, 0.4004, 0.4648, 0.4629, 0.5078, 0.5625, 0.5352, 0.6445, 0.6172,\n",
       "        0.4590, 0.3105, 0.3594, 0.3750, 0.3926, 0.3789, 0.4375, 0.4082, 0.4219,\n",
       "        0.3086, 0.3613, 0.4219, 0.4121, 0.3965, 0.3164, 0.3086, 0.4121, 0.4062,\n",
       "        0.4668, 0.4355, 0.4160, 0.4043, 0.3867, 0.3496, 0.4141, 0.5000, 0.4043,\n",
       "        0.3848, 0.3828, 0.4238, 0.4473, 0.3809, 0.2910, 0.3574, 0.4062, 0.3105,\n",
       "        0.3105, 0.4004, 0.4121, 0.2969, 0.3652, 0.4414, 0.3574, 0.3828, 0.3750,\n",
       "        0.2949, 0.3652, 0.3867, 0.3496, 0.3652, 0.4121, 0.3359, 0.4043, 0.2734,\n",
       "        0.3379, 0.3887, 0.3633, 0.3848, 0.4062, 0.3945, 0.3613, 0.3223, 0.3984,\n",
       "        0.3672, 0.3652, 0.3027, 0.2812, 0.3301, 0.3711, 0.3828, 0.4824, 0.4727,\n",
       "        0.3691, 0.3438, 0.3555, 0.3965, 0.4355, 0.4727, 0.3164, 0.3242, 0.3633,\n",
       "        0.3711, 0.2695, 0.3379, 0.4551, 0.4727, 0.4082, 0.3633, 0.3672, 0.3750,\n",
       "        0.3379, 0.3555, 0.4570, 0.4297, 0.3770, 0.2969, 0.3633, 0.3457, 0.3574,\n",
       "        0.4219, 0.4121, 0.3613, 0.3145, 0.2734, 0.2715, 0.3066, 0.5430, 0.6875,\n",
       "        0.4082, 0.5508, 0.3828, 0.3730, 0.4453, 0.3633, 0.4141, 0.4395, 0.4844,\n",
       "        0.3809, 0.4863, 0.3926, 0.3770, 0.4453, 0.4863, 0.4102, 0.3789, 0.4551,\n",
       "        0.3320, 0.4199, 0.4629, 0.3457, 0.4512, 0.4590, 0.5234, 0.5117, 0.4531,\n",
       "        0.4336, 0.4609, 0.4570, 0.3750, 0.3750, 0.4688, 0.5039, 0.4824, 0.4824,\n",
       "        0.4297, 0.4434, 0.4785, 0.4902, 0.3809, 0.4785, 0.5156, 0.5234, 0.5430,\n",
       "        0.5039, 0.4785, 0.4805, 0.5547, 0.5820, 0.5547, 0.5820, 0.5234, 0.5156,\n",
       "        0.3359, 0.3848, 0.4199, 0.3164, 0.4785, 0.3770, 0.4258, 0.4297, 0.4180,\n",
       "        0.4844, 0.5469, 0.4688, 0.3438, 0.4238, 0.4883, 0.4766, 0.4316, 0.5039,\n",
       "        0.3652, 0.4453, 0.5000, 0.5352, 0.4199, 0.3457, 0.4453, 0.5352, 0.5547,\n",
       "        0.5391, 0.4902, 0.3906, 0.5391, 0.6719, 0.3984, 0.4473, 0.3848, 0.4922,\n",
       "        0.5469, 0.4746, 0.4492, 0.4609, 0.4141, 0.4746, 0.5000, 0.5000, 0.5195,\n",
       "        0.4922, 0.5117, 0.3418, 0.5156, 0.3086, 0.3828, 0.4844, 0.5117, 0.4121,\n",
       "        0.5039, 0.3730, 0.4590, 0.4746, 0.5117, 0.5117, 0.3633, 0.4043, 0.4082,\n",
       "        0.5195, 0.4355, 0.4785, 0.4961, 0.4824, 0.4590, 0.4531, 0.4473, 0.4277,\n",
       "        0.3867, 0.4805, 0.3555, 0.3145, 0.3691, 0.3848, 0.4141, 0.4570, 0.4531,\n",
       "        0.4668, 0.4805, 0.5586, 0.6211, 0.6953, 0.6953, 0.6953, 0.7031, 0.7148,\n",
       "        0.7344, 0.7695, 0.7930, 0.8242, 0.8359, 0.8477, 0.8594, 0.8711, 0.3223,\n",
       "        0.4375, 0.3750, 0.3926, 0.3438, 0.3379, 0.3066, 0.3574, 0.3887, 0.3887,\n",
       "        0.2930, 0.3164, 0.3320, 0.3887, 0.3203, 0.3359, 0.3262, 0.3398, 0.3066,\n",
       "        0.3477, 0.3105, 0.2969, 0.3066, 0.2695, 0.3027, 0.3496, 0.3477, 0.3555,\n",
       "        0.3105])"
      ]
     },
     "execution_count": 53,
     "metadata": {},
     "output_type": "execute_result"
    }
   ],
   "source": [
    "lnc_max_probs = lnc_probs.max(dim=1).values.to(torch.float32).to(\"cpu\")\n",
    "lnc_max_probs"
   ]
  },
  {
   "cell_type": "code",
   "execution_count": 54,
   "id": "8f75e30a-6606-4be9-863e-e162606a6b21",
   "metadata": {},
   "outputs": [
    {
     "data": {
      "text/plain": [
       "[<matplotlib.lines.Line2D at 0x7f43e8aa2720>]"
      ]
     },
     "execution_count": 54,
     "metadata": {},
     "output_type": "execute_result"
    },
    {
     "data": {
      "image/png": "[encoded data removed]",
      "text/plain": [
       "<Figure size 640x480 with 1 Axes>"
      ]
     },
     "metadata": {},
     "output_type": "display_data"
    }
   ],
   "source": [
    "plt.plot(np.linspace(0,1000,1000), lnc_max_probs)"
   ]
  },
  {
   "cell_type": "code",
   "execution_count": 55,
   "id": "757fbcd1-1c7c-4abc-b91f-5c5a4933e67f",
   "metadata": {},
   "outputs": [
    {
     "data": {
      "text/plain": [
       "(1000,)"
      ]
     },
     "execution_count": 55,
     "metadata": {},
     "output_type": "execute_result"
    }
   ],
   "source": [
    "pos_idx = np.concatenate([np.tile([1,2,3], 333), np.array([1])])\n",
    "pos_idx.shape"
   ]
  },
  {
   "cell_type": "code",
   "execution_count": 56,
   "id": "c6104f8b-5416-4111-867b-60d962af8954",
   "metadata": {},
   "outputs": [
    {
     "data": {
      "text/html": [
       "<div>\n",
       "<style scoped>\n",
       "    .dataframe tbody tr th:only-of-type {\n",
       "        vertical-align: middle;\n",
       "    }\n",
       "\n",
       "    .dataframe tbody tr th {\n",
       "        vertical-align: top;\n",
       "    }\n",
       "\n",
       "    .dataframe thead th {\n",
       "        text-align: right;\n",
       "    }\n",
       "</style>\n",
       "<table border=\"1\" class=\"dataframe\">\n",
       "  <thead>\n",
       "    <tr style=\"text-align: right;\">\n",
       "      <th></th>\n",
       "      <th>conf</th>\n",
       "      <th>pos</th>\n",
       "    </tr>\n",
       "  </thead>\n",
       "  <tbody>\n",
       "    <tr>\n",
       "      <th>0</th>\n",
       "      <td>0.281250</td>\n",
       "      <td>1</td>\n",
       "    </tr>\n",
       "    <tr>\n",
       "      <th>1</th>\n",
       "      <td>0.312500</td>\n",
       "      <td>2</td>\n",
       "    </tr>\n",
       "    <tr>\n",
       "      <th>2</th>\n",
       "      <td>0.279297</td>\n",
       "      <td>3</td>\n",
       "    </tr>\n",
       "    <tr>\n",
       "      <th>3</th>\n",
       "      <td>0.308594</td>\n",
       "      <td>1</td>\n",
       "    </tr>\n",
       "    <tr>\n",
       "      <th>4</th>\n",
       "      <td>0.306641</td>\n",
       "      <td>2</td>\n",
       "    </tr>\n",
       "    <tr>\n",
       "      <th>...</th>\n",
       "      <td>...</td>\n",
       "      <td>...</td>\n",
       "    </tr>\n",
       "    <tr>\n",
       "      <th>995</th>\n",
       "      <td>0.302734</td>\n",
       "      <td>3</td>\n",
       "    </tr>\n",
       "    <tr>\n",
       "      <th>996</th>\n",
       "      <td>0.349609</td>\n",
       "      <td>1</td>\n",
       "    </tr>\n",
       "    <tr>\n",
       "      <th>997</th>\n",
       "      <td>0.347656</td>\n",
       "      <td>2</td>\n",
       "    </tr>\n",
       "    <tr>\n",
       "      <th>998</th>\n",
       "      <td>0.355469</td>\n",
       "      <td>3</td>\n",
       "    </tr>\n",
       "    <tr>\n",
       "      <th>999</th>\n",
       "      <td>0.310547</td>\n",
       "      <td>1</td>\n",
       "    </tr>\n",
       "  </tbody>\n",
       "</table>\n",
       "<p>1000 rows × 2 columns</p>\n",
       "</div>"
      ],
      "text/plain": [
       "         conf  pos\n",
       "0    0.281250    1\n",
       "1    0.312500    2\n",
       "2    0.279297    3\n",
       "3    0.308594    1\n",
       "4    0.306641    2\n",
       "..        ...  ...\n",
       "995  0.302734    3\n",
       "996  0.349609    1\n",
       "997  0.347656    2\n",
       "998  0.355469    3\n",
       "999  0.310547    1\n",
       "\n",
       "[1000 rows x 2 columns]"
      ]
     },
     "execution_count": 56,
     "metadata": {},
     "output_type": "execute_result"
    }
   ],
   "source": [
    "pos_df = pd.DataFrame({\"conf\": lnc_max_probs.numpy(), \"pos\": pos_idx})\n",
    "pos_df"
   ]
  },
  {
   "cell_type": "code",
   "execution_count": 57,
   "id": "d0343fbb-a74d-4e94-af19-786a6d367f71",
   "metadata": {},
   "outputs": [
    {
     "data": {
      "text/html": [
       "<div>\n",
       "<style scoped>\n",
       "    .dataframe tbody tr th:only-of-type {\n",
       "        vertical-align: middle;\n",
       "    }\n",
       "\n",
       "    .dataframe tbody tr th {\n",
       "        vertical-align: top;\n",
       "    }\n",
       "\n",
       "    .dataframe thead th {\n",
       "        text-align: right;\n",
       "    }\n",
       "</style>\n",
       "<table border=\"1\" class=\"dataframe\">\n",
       "  <thead>\n",
       "    <tr style=\"text-align: right;\">\n",
       "      <th></th>\n",
       "      <th>conf</th>\n",
       "    </tr>\n",
       "    <tr>\n",
       "      <th>pos</th>\n",
       "      <th></th>\n",
       "    </tr>\n",
       "  </thead>\n",
       "  <tbody>\n",
       "    <tr>\n",
       "      <th>1</th>\n",
       "      <td>0.373415</td>\n",
       "    </tr>\n",
       "    <tr>\n",
       "      <th>2</th>\n",
       "      <td>0.375821</td>\n",
       "    </tr>\n",
       "    <tr>\n",
       "      <th>3</th>\n",
       "      <td>0.377458</td>\n",
       "    </tr>\n",
       "  </tbody>\n",
       "</table>\n",
       "</div>"
      ],
      "text/plain": [
       "         conf\n",
       "pos          \n",
       "1    0.373415\n",
       "2    0.375821\n",
       "3    0.377458"
      ]
     },
     "execution_count": 57,
     "metadata": {},
     "output_type": "execute_result"
    }
   ],
   "source": [
    "pos_conf = pos_df.groupby(\"pos\").mean()\n",
    "pos_conf"
   ]
  },
  {
   "cell_type": "code",
   "execution_count": 58,
   "id": "a2ff8325-103c-47e7-b868-156db91fe6f4",
   "metadata": {},
   "outputs": [
    {
     "data": {
      "text/plain": [
       "0.3755625"
      ]
     },
     "execution_count": 58,
     "metadata": {},
     "output_type": "execute_result"
    }
   ],
   "source": [
    "pos_df[\"conf\"].mean()"
   ]
  },
  {
   "cell_type": "code",
   "execution_count": 59,
   "id": "8f707000-8e1f-4c86-9f99-fe2f51e686ea",
   "metadata": {},
   "outputs": [
    {
     "data": {
      "text/plain": [
       "<matplotlib.lines.Line2D at 0x7f4490117e30>"
      ]
     },
     "execution_count": 59,
     "metadata": {},
     "output_type": "execute_result"
    },
    {
     "data": {
      "image/png": "[encoded data removed]",
      "text/plain": [
       "<Figure size 640x480 with 1 Axes>"
      ]
     },
     "metadata": {},
     "output_type": "display_data"
    }
   ],
   "source": [
    "ax = sns.barplot(data = pos_conf, x = \"pos\", y = \"conf\")\n",
    "ax.axhline(y=pos_df[\"conf\"].mean(), color=\"firebrick\")"
   ]
  }
 ],
 "metadata": {
  "kernelspec": {
   "display_name": "gpu",
   "language": "python",
   "name": "gpu"
  },
  "language_info": {
   "codemirror_mode": {
    "name": "ipython",
    "version": 3
   },
   "file_extension": ".py",
   "mimetype": "text/x-python",
   "name": "python",
   "nbconvert_exporter": "python",
   "pygments_lexer": "ipython3",
   "version": "3.9.21"
  }
 },
 "nbformat": 4,
 "nbformat_minor": 5
}
