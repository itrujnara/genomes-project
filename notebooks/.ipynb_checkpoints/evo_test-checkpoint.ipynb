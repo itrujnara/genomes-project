{
 "cells": [
  {
   "cell_type": "code",
   "execution_count": 68,
   "id": "0eda553d-0403-478c-a405-8aff1b17a4f8",
   "metadata": {},
   "outputs": [],
   "source": [
    "from functools import wraps\n",
    "from time import perf_counter_ns\n",
    "\n",
    "import torch\n",
    "from evo import Evo, generate\n",
    "from stripedhyena.sample import sample\n",
    "\n",
    "import numpy as np\n",
    "import matplotlib.pyplot as plt\n",
    "%matplotlib inline"
   ]
  },
  {
   "cell_type": "code",
   "execution_count": 2,
   "id": "1104b902-f6bd-428a-be0a-93661295acb6",
   "metadata": {},
   "outputs": [],
   "source": [
    "def timeit(f):\n",
    "    @wraps(f)\n",
    "    def wrapper(*args, **kwargs):\n",
    "        start = perf_counter_ns()\n",
    "        result = f(*args, **kwargs)\n",
    "        print(f\"{f.__name__}: {(perf_counter_ns() - start) / 10 ** 6:.3f}ms\")\n",
    "        return result\n",
    "    return wrapper"
   ]
  },
  {
   "cell_type": "markdown",
   "id": "f789c1ac-2ccf-4556-a5c4-f4cfde09cd43",
   "metadata": {},
   "source": [
    "# Setup"
   ]
  },
  {
   "cell_type": "code",
   "execution_count": 3,
   "id": "470e5500-416c-481c-8bcc-fe1c463edd8f",
   "metadata": {},
   "outputs": [],
   "source": [
    "# run models on GPU if GPU node is used\n",
    "device = torch.device(\"cuda\" if torch.cuda.is_available() else \"cpu\")"
   ]
  },
  {
   "cell_type": "code",
   "execution_count": 4,
   "id": "8a5bc6cc-113b-4651-9d7b-7217762c4ea3",
   "metadata": {
    "scrolled": true
   },
   "outputs": [
    {
     "data": {
      "application/vnd.jupyter.widget-view+json": {
       "model_id": "68fee264e41e43d58ee56358c31a31d6",
       "version_major": 2,
       "version_minor": 0
      },
      "text/plain": [
       "Loading checkpoint shards:   0%|          | 0/3 [00:00<?, ?it/s]"
      ]
     },
     "metadata": {},
     "output_type": "display_data"
    }
   ],
   "source": [
    "evo_model = Evo(\"evo-1.5-8k-base\")"
   ]
  },
  {
   "cell_type": "code",
   "execution_count": 5,
   "id": "3a3358e2-4302-4ae2-86eb-2ce6b9139081",
   "metadata": {},
   "outputs": [],
   "source": [
    "torch.cuda.empty_cache()"
   ]
  },
  {
   "cell_type": "code",
   "execution_count": 6,
   "id": "b94cf7a5-e828-4067-bbc6-78e89c1f95f3",
   "metadata": {
    "scrolled": true
   },
   "outputs": [
    {
     "data": {
      "text/plain": [
       "StripedHyena(\n",
       "  (embedding_layer): VocabParallelEmbedding(512, 4096)\n",
       "  (norm): RMSNorm()\n",
       "  (unembed): VocabParallelEmbedding(512, 4096)\n",
       "  (blocks): ModuleList(\n",
       "    (0-7): 8 x ParallelGatedConvBlock(\n",
       "      (pre_norm): RMSNorm()\n",
       "      (post_norm): RMSNorm()\n",
       "      (filter): ParallelHyenaFilter()\n",
       "      (projections): Linear(in_features=4096, out_features=12288, bias=True)\n",
       "      (out_filter_dense): Linear(in_features=4096, out_features=4096, bias=True)\n",
       "      (mlp): ParallelGatedMLP(\n",
       "        (l1): Linear(in_features=4096, out_features=10928, bias=False)\n",
       "        (l2): Linear(in_features=4096, out_features=10928, bias=False)\n",
       "        (l3): Linear(in_features=10928, out_features=4096, bias=False)\n",
       "      )\n",
       "    )\n",
       "    (8): AttentionBlock(\n",
       "      (pre_norm): RMSNorm()\n",
       "      (post_norm): RMSNorm()\n",
       "      (inner_mha_cls): MHA(\n",
       "        (rotary_emb): RotaryEmbedding()\n",
       "        (Wqkv): Linear(in_features=4096, out_features=12288, bias=True)\n",
       "        (inner_attn): FlashSelfAttention(\n",
       "          (drop): Dropout(p=0.0, inplace=False)\n",
       "        )\n",
       "        (inner_cross_attn): FlashCrossAttention(\n",
       "          (drop): Dropout(p=0.0, inplace=False)\n",
       "        )\n",
       "        (out_proj): Linear(in_features=4096, out_features=4096, bias=True)\n",
       "      )\n",
       "      (mlp): ParallelGatedMLP(\n",
       "        (l1): Linear(in_features=4096, out_features=10928, bias=False)\n",
       "        (l2): Linear(in_features=4096, out_features=10928, bias=False)\n",
       "        (l3): Linear(in_features=10928, out_features=4096, bias=False)\n",
       "      )\n",
       "    )\n",
       "    (9-15): 7 x ParallelGatedConvBlock(\n",
       "      (pre_norm): RMSNorm()\n",
       "      (post_norm): RMSNorm()\n",
       "      (filter): ParallelHyenaFilter()\n",
       "      (projections): Linear(in_features=4096, out_features=12288, bias=True)\n",
       "      (out_filter_dense): Linear(in_features=4096, out_features=4096, bias=True)\n",
       "      (mlp): ParallelGatedMLP(\n",
       "        (l1): Linear(in_features=4096, out_features=10928, bias=False)\n",
       "        (l2): Linear(in_features=4096, out_features=10928, bias=False)\n",
       "        (l3): Linear(in_features=10928, out_features=4096, bias=False)\n",
       "      )\n",
       "    )\n",
       "    (16): AttentionBlock(\n",
       "      (pre_norm): RMSNorm()\n",
       "      (post_norm): RMSNorm()\n",
       "      (inner_mha_cls): MHA(\n",
       "        (rotary_emb): RotaryEmbedding()\n",
       "        (Wqkv): Linear(in_features=4096, out_features=12288, bias=True)\n",
       "        (inner_attn): FlashSelfAttention(\n",
       "          (drop): Dropout(p=0.0, inplace=False)\n",
       "        )\n",
       "        (inner_cross_attn): FlashCrossAttention(\n",
       "          (drop): Dropout(p=0.0, inplace=False)\n",
       "        )\n",
       "        (out_proj): Linear(in_features=4096, out_features=4096, bias=True)\n",
       "      )\n",
       "      (mlp): ParallelGatedMLP(\n",
       "        (l1): Linear(in_features=4096, out_features=10928, bias=False)\n",
       "        (l2): Linear(in_features=4096, out_features=10928, bias=False)\n",
       "        (l3): Linear(in_features=10928, out_features=4096, bias=False)\n",
       "      )\n",
       "    )\n",
       "    (17-23): 7 x ParallelGatedConvBlock(\n",
       "      (pre_norm): RMSNorm()\n",
       "      (post_norm): RMSNorm()\n",
       "      (filter): ParallelHyenaFilter()\n",
       "      (projections): Linear(in_features=4096, out_features=12288, bias=True)\n",
       "      (out_filter_dense): Linear(in_features=4096, out_features=4096, bias=True)\n",
       "      (mlp): ParallelGatedMLP(\n",
       "        (l1): Linear(in_features=4096, out_features=10928, bias=False)\n",
       "        (l2): Linear(in_features=4096, out_features=10928, bias=False)\n",
       "        (l3): Linear(in_features=10928, out_features=4096, bias=False)\n",
       "      )\n",
       "    )\n",
       "    (24): AttentionBlock(\n",
       "      (pre_norm): RMSNorm()\n",
       "      (post_norm): RMSNorm()\n",
       "      (inner_mha_cls): MHA(\n",
       "        (rotary_emb): RotaryEmbedding()\n",
       "        (Wqkv): Linear(in_features=4096, out_features=12288, bias=True)\n",
       "        (inner_attn): FlashSelfAttention(\n",
       "          (drop): Dropout(p=0.0, inplace=False)\n",
       "        )\n",
       "        (inner_cross_attn): FlashCrossAttention(\n",
       "          (drop): Dropout(p=0.0, inplace=False)\n",
       "        )\n",
       "        (out_proj): Linear(in_features=4096, out_features=4096, bias=True)\n",
       "      )\n",
       "      (mlp): ParallelGatedMLP(\n",
       "        (l1): Linear(in_features=4096, out_features=10928, bias=False)\n",
       "        (l2): Linear(in_features=4096, out_features=10928, bias=False)\n",
       "        (l3): Linear(in_features=10928, out_features=4096, bias=False)\n",
       "      )\n",
       "    )\n",
       "    (25-31): 7 x ParallelGatedConvBlock(\n",
       "      (pre_norm): RMSNorm()\n",
       "      (post_norm): RMSNorm()\n",
       "      (filter): ParallelHyenaFilter()\n",
       "      (projections): Linear(in_features=4096, out_features=12288, bias=True)\n",
       "      (out_filter_dense): Linear(in_features=4096, out_features=4096, bias=True)\n",
       "      (mlp): ParallelGatedMLP(\n",
       "        (l1): Linear(in_features=4096, out_features=10928, bias=False)\n",
       "        (l2): Linear(in_features=4096, out_features=10928, bias=False)\n",
       "        (l3): Linear(in_features=10928, out_features=4096, bias=False)\n",
       "      )\n",
       "    )\n",
       "  )\n",
       ")"
      ]
     },
     "execution_count": 6,
     "metadata": {},
     "output_type": "execute_result"
    }
   ],
   "source": [
    "evo_model.model"
   ]
  },
  {
   "cell_type": "code",
   "execution_count": 7,
   "id": "ce5e5b99-fb08-4618-8d0f-cb73a58ac1a5",
   "metadata": {},
   "outputs": [],
   "source": [
    "tokenizer = evo_model.tokenizer\n",
    "model = evo_model.model.to(device)"
   ]
  },
  {
   "cell_type": "markdown",
   "id": "d5c5ff74-9553-45dc-9818-70c2e11d9bef",
   "metadata": {},
   "source": [
    "# Test generation"
   ]
  },
  {
   "cell_type": "code",
   "execution_count": 8,
   "id": "ba2003a8-908d-4c85-8630-38ca338da6a4",
   "metadata": {},
   "outputs": [],
   "source": [
    "seq = \"ACGTACGT\"\n",
    "input_ids = torch.tensor(\n",
    "        tokenizer.tokenize(seq),\n",
    "        dtype=torch.int,\n",
    "    ).to(device).unsqueeze(0)"
   ]
  },
  {
   "cell_type": "code",
   "execution_count": 9,
   "id": "9c921de8-2d1c-453c-a900-58bd86b56be0",
   "metadata": {},
   "outputs": [
    {
     "data": {
      "text/plain": [
       "tensor([[65, 67, 71, 84, 65, 67, 71, 84]], device='cuda:0', dtype=torch.int32)"
      ]
     },
     "execution_count": 9,
     "metadata": {},
     "output_type": "execute_result"
    }
   ],
   "source": [
    "input_ids"
   ]
  },
  {
   "cell_type": "code",
   "execution_count": 10,
   "id": "da3e4783-35b2-457a-90e3-3ae6b31f9b2a",
   "metadata": {},
   "outputs": [],
   "source": [
    "with torch.inference_mode():\n",
    "    logits, _ = model(input_ids)"
   ]
  },
  {
   "cell_type": "code",
   "execution_count": 11,
   "id": "e6801133-6baf-4439-a5b5-e45fbdae9f29",
   "metadata": {},
   "outputs": [
    {
     "data": {
      "text/plain": [
       "tensor([[[-11.7500, -19.3750, -19.2500,  ..., -19.2500, -19.2500, -19.2500],\n",
       "         [ -8.8125, -21.1250, -21.1250,  ..., -21.1250, -21.1250, -21.1250],\n",
       "         [ -8.4375, -21.8750, -21.8750,  ..., -21.8750, -21.8750, -21.8750],\n",
       "         ...,\n",
       "         [ -9.0625, -22.6250, -22.5000,  ..., -22.5000, -22.5000, -22.5000],\n",
       "         [ -8.7500, -22.5000, -22.3750,  ..., -22.3750, -22.3750, -22.3750],\n",
       "         [ -8.6875, -22.5000, -22.3750,  ..., -22.3750, -22.5000, -22.3750]]],\n",
       "       device='cuda:0', dtype=torch.bfloat16)"
      ]
     },
     "execution_count": 11,
     "metadata": {},
     "output_type": "execute_result"
    }
   ],
   "source": [
    "logits"
   ]
  },
  {
   "cell_type": "code",
   "execution_count": 12,
   "id": "b9f05386-c61a-4bd4-b3cc-3ad84c1b26cc",
   "metadata": {},
   "outputs": [
    {
     "data": {
      "text/plain": [
       "torch.Size([1, 8, 512])"
      ]
     },
     "execution_count": 12,
     "metadata": {},
     "output_type": "execute_result"
    }
   ],
   "source": [
    "logits.shape"
   ]
  },
  {
   "cell_type": "code",
   "execution_count": 13,
   "id": "d8f4b405-694a-46af-8c5a-19f22cf58d10",
   "metadata": {},
   "outputs": [
    {
     "data": {
      "text/plain": [
       "tensor([[ 0,  0],\n",
       "        [ 0, 65],\n",
       "        [ 0, 67],\n",
       "        [ 0, 71],\n",
       "        [ 0, 84]], device='cuda:0')"
      ]
     },
     "execution_count": 13,
     "metadata": {},
     "output_type": "execute_result"
    }
   ],
   "source": [
    "(logits[:,-1] > -10.).nonzero()"
   ]
  },
  {
   "cell_type": "code",
   "execution_count": 14,
   "id": "381429e2-26ab-4f3d-87d1-fa6853d9b9d9",
   "metadata": {},
   "outputs": [],
   "source": [
    "next_id = sample(logits[:,-1], top_k=5, top_p=0)"
   ]
  },
  {
   "cell_type": "code",
   "execution_count": 15,
   "id": "02cd91fc-26a4-4fab-a564-cf6110886766",
   "metadata": {},
   "outputs": [
    {
     "data": {
      "text/plain": [
       "tensor([84], device='cuda:0')"
      ]
     },
     "execution_count": 15,
     "metadata": {},
     "output_type": "execute_result"
    }
   ],
   "source": [
    "next_id"
   ]
  },
  {
   "cell_type": "markdown",
   "id": "e6406331-de23-43ed-b9a5-ab30e33e966c",
   "metadata": {},
   "source": [
    "# Larger example with evo.generate"
   ]
  },
  {
   "cell_type": "code",
   "execution_count": 16,
   "id": "8d74c3c5-b6de-4692-8730-b2473350e934",
   "metadata": {},
   "outputs": [],
   "source": [
    "long_seq = \"\"\"\n",
    "ATGTCGGCGCCGTCGGAGGAGGAGGAGTACGCGCGGCTGGTGATGGAGGCGCAGCCGGAG\n",
    "TGGCTGCGCGCCGAGGTGAAGCGGCTGTCCCACGAGCTGGCCGAGACCACGCGTGAGAAG\n",
    "ATCCAGGCGGCCGAGTACGGGCTGGCGGTGCTCGAGGAGAAGCACCAGCTCAAGCTGCAG\n",
    "TTCGAGGAGCTCGAGGTGGACTATGAGGCTATCCGCAGCGAGATGGAGCAGCTCAAGGAG\n",
    "GCCTTTGGACAAGCACACACAAACCACAAGAAGGTGGCTGCTGACGGAGAGAGCCGGGAG\n",
    "GAGAGCCTGATCCAGGAGTCGGCCTCCAAGGAGCAGTACTACGTGCGGAAGGTGCTAGAG\n",
    "CTGCAGACGGAGCTGAAGCAGTTGCGCAATGTCCTCACCAACACGCAGTCGGAGAATGAG\n",
    "CGCCTGGCCTCTGTGGCCCAGGAGCTGAAGGAGATCAACCAGAATGTGGAGATCCAGCGT\n",
    "GGCCGCCTGCGGGATGACATCAAGGAGTACAAATTCCGGGAAGCTCGTCTGCTGCAGGAC\n",
    "TACTCGGAACTGGAGGAGGAGAACATCAGCCTGCAGAAGCAAGTGTCTGTGCTCAGACAG\n",
    "AACCAGGTGGAGTTTGAGGGCCTCAAGCATGAGATCAAGCGTCTGGAGGAGGAGACCGAG\n",
    "TACCTCAACAGCCAGCTGGAGGATGCCATCCGCCTCAAGGAGATCTCAGAGCGGCAGCTG\n",
    "GAGGAGGCGCTGGAGACCCTGAAGACGGAGCGCGAACAGAAGAACAGCCTGCGCAAGGAG\n",
    "CTGTCACACTACATGAGCATCAATGACTCCTTCTACACCAGCCACCTGCATGTCTCGCTG\n",
    "GATGGCCTCAAGTTCAGTGACGATGCTGCCGAGCCCAACAACGATGCCGAGGCCCTGGTC\n",
    "AATGGCTTTGAGCACGGCGGCCTGGCCAAGCTGCCACTGGACAACAAGACCTCCACGCCC\n",
    "AAGAAGGAGGGCCTCGCACCGCCCTCCCCCAGCCTCGTCTCCGACCTACTCAGTGAGCTC\n",
    "AACATCTCTGAGATCCAGAAGCTGAAGCAGCAGCTGATGCAGATGGAGCGGGAAAAGGCG\n",
    "GGCCTGCTGGCAACGCTGCAGGACACACAGAAGCAGCTGGAGCACACGCGGGGCTCCCTG\n",
    "TCAGAACAGCAGGAGAAGGTGACCCGCCTCACAGAGAATCTGAGTGCCCTGCGGCGCCTG\n",
    "CAGGCCAGCAAGGAGCGGCAGACAGCCCTGGACAACGAGAAGGACCGTGACAGCCATGAG\n",
    "GATGGGGACTACTACGAGGTGGACATCAACGGGCCTGAGATCTTGGCCTGCAAGTACCAT\n",
    "GTGGCTGTGGCTGAGGCTGGCGAGCTCCGCGAGCAGCTCAAGGCACTGCGCAGCACGCAC\n",
    "GAGGCTCGTGAGGCCCAGCACGCCGAGGAGAAGGGCCGCTATGAGGCTGAGGGCCAGGCA\n",
    "CTCACGGAGAAGGTCTCCCTGCTAGAGAAGGCCAGCCGCCAGGACCGCGAGCTGCTGGCC\n",
    "CGGCTGGAGAAGGAGCTAAAGAAGGTGAGCGACGTCGCCGGCGAGACACAGGGCAGCCTG\n",
    "AGTGTGGCCCAGGATGAGCTGGTGACCTTCAGTGAGGAGCTGGCCAATCTCTACCACCAC\n",
    "GTGTGCATGTGCAACAATGAGACACCCAACCGTGTCATGCTGGACTACTACCGCGAGGGC\n",
    "CAGGGCGGGGCCGGCCGCACCAGTCCCGGGGGCCGCACCAGCCCCGAGGCGCGTGGCCGG\n",
    "CGCTCACCCATCCTCCTACCCAAGGGGCTGCTGGCTCCTGAGGCGGGCCGAGCAGATGGT\n",
    "GGGACGGGGGACAGCAGCCCCTCGCCTGGCTCCTCACTGCCATCACCCCTGAGTGACCCA\n",
    "CGCCGGGAGCCCATGAACATCTACAACCTGATCGCTATCATCCGTGACCAGATCAAGCAC\n",
    "CTGCAGGCAGCCGTGGACCGCACCACGGAGCTGTCACGCCAGCGCATTGCCTCTCAGGAG\n",
    "CTGGGCCCCGCCGTGGACAAGGACAAGGAAGCGCTTATGGAGGAGATCCTCAAGCTGAAG\n",
    "TCGCTGCTCAGCACCAAGCGGGAGCAGATCACCACGCTGCGCACTGTGCTCAAGGCCAAC\n",
    "AAGCAGACGGCCGAGGTGGCCCTTGCCAACCTGAAGAGCAAGTATGAGAATGAGAAGGCC\n",
    "ATGGTTACCGAGACCATGATGAAGCTGCGCAATGAGCTCAAGGCCCTCAAGGAGGACGCA\n",
    "GCCACCTTCTCCTCGCTGCGTGCTATGTTTGCCACCAGGTGTGACGAGTACATTACACAG\n",
    "CTGGATGAGATGCAGCGGCAGCTGGCGGCTGCTGAGGACGAGAAGAAGACGCTGAACTCG\n",
    "CTGCTGCGCATGGCCATCCAGCAGAAGCTGGCGCTGACCCAGCGGCTGGAGCTGCTCGAG\n",
    "CTGGACCATGAGCAGACCCGGCGTGGCCGTGCCAAAGCCGCCCCGAAGACCAAGCCAGCC\n",
    "ACACCGAGCCTGTAG\n",
    "\"\"\".replace(\"\\n\", \"\")"
   ]
  },
  {
   "cell_type": "code",
   "execution_count": 17,
   "id": "a83fd0bb-54c8-4271-a552-13e8b1d389dd",
   "metadata": {},
   "outputs": [
    {
     "data": {
      "text/plain": [
       "2475"
      ]
     },
     "execution_count": 17,
     "metadata": {},
     "output_type": "execute_result"
    }
   ],
   "source": [
    "len(long_seq)"
   ]
  },
  {
   "cell_type": "code",
   "execution_count": 18,
   "id": "49fdcb12-9160-4304-9527-0622e721b436",
   "metadata": {},
   "outputs": [],
   "source": [
    "seed = long_seq[:1000]"
   ]
  },
  {
   "cell_type": "code",
   "execution_count": 25,
   "id": "9e9897a1-019e-4da2-841f-324ea791eca4",
   "metadata": {},
   "outputs": [],
   "source": [
    "@timeit\n",
    "def generate_tokens(seed, n_seqs, n_tokens, model, tokenizer, **kwargs):\n",
    "    return generate(\n",
    "        [ seed ] * n_seqs, \n",
    "        model, \n",
    "        tokenizer, \n",
    "        n_tokens = n_tokens,\n",
    "        **kwargs\n",
    "    )"
   ]
  },
  {
   "cell_type": "code",
   "execution_count": 35,
   "id": "8df76201-b33b-490b-afb4-4484457dc2e2",
   "metadata": {
    "scrolled": true
   },
   "outputs": [
    {
     "name": "stdout",
     "output_type": "stream",
     "text": [
      "Prompt: \"ATGTCGGCGCCGTCGGAGGAGGAGGAGTACGCGCGGCTGGTGATGGAGGCGCAGCCGGAGTGGCTGCGCGCCGAGGTGAAGCGGCTGTCCCACGAGCTGGCCGAGACCACGCGTGAGAAGATCCAGGCGGCCGAGTACGGGCTGGCGGTGCTCGAGGAGAAGCACCAGCTCAAGCTGCAGTTCGAGGAGCTCGAGGTGGACTATGAGGCTATCCGCAGCGAGATGGAGCAGCTCAAGGAGGCCTTTGGACAAGCACACACAAACCACAAGAAGGTGGCTGCTGACGGAGAGAGCCGGGAGGAGAGCCTGATCCAGGAGTCGGCCTCCAAGGAGCAGTACTACGTGCGGAAGGTGCTAGAGCTGCAGACGGAGCTGAAGCAGTTGCGCAATGTCCTCACCAACACGCAGTCGGAGAATGAGCGCCTGGCCTCTGTGGCCCAGGAGCTGAAGGAGATCAACCAGAATGTGGAGATCCAGCGTGGCCGCCTGCGGGATGACATCAAGGAGTACAAATTCCGGGAAGCTCGTCTGCTGCAGGACTACTCGGAACTGGAGGAGGAGAACATCAGCCTGCAGAAGCAAGTGTCTGTGCTCAGACAGAACCAGGTGGAGTTTGAGGGCCTCAAGCATGAGATCAAGCGTCTGGAGGAGGAGACCGAGTACCTCAACAGCCAGCTGGAGGATGCCATCCGCCTCAAGGAGATCTCAGAGCGGCAGCTGGAGGAGGCGCTGGAGACCCTGAAGACGGAGCGCGAACAGAAGAACAGCCTGCGCAAGGAGCTGTCACACTACATGAGCATCAATGACTCCTTCTACACCAGCCACCTGCATGTCTCGCTGGATGGCCTCAAGTTCAGTGACGATGCTGCCGAGCCCAACAACGATGCCGAGGCCCTGGTCAATGGCTTTGAGCACGGCGGCCTGGCCAAGCTGCCACTGGACAACAAGACCTCCACGCCCAAGAAGGAGGGCCTCGCACCGCCCTCCCCCAGCCTCGTCT\",\tOutput: \"CCAAGGAGGAGGAGCTGGAGCGCCTGCGCAAGGAGCTGGAGGAGCTGCGCAAGCAGCTGGAGGAGCTGCGCAAGGAGCTGGAGGAGCTGCGCAAGGAGCT\",\tScore: -1.951738953590393\n",
      "generate_tokens: 16348.678ms\n"
     ]
    }
   ],
   "source": [
    "next_seqs, next_scores = generate_tokens(\n",
    "        seed,\n",
    "        1,\n",
    "        100,\n",
    "        model,\n",
    "        tokenizer,\n",
    "        cached_generation = True,\n",
    "        top_p = 1.,\n",
    "        temperature = 20.\n",
    "    )"
   ]
  },
  {
   "cell_type": "markdown",
   "id": "5cf13d16-6011-4744-abb5-a732a330ba03",
   "metadata": {},
   "source": [
    "Generation speed is roughly 6 tokens/s (150ms/token)"
   ]
  },
  {
   "cell_type": "code",
   "execution_count": 28,
   "id": "5aaa259c-a043-49b5-9006-189814e7611d",
   "metadata": {},
   "outputs": [
    {
     "data": {
      "text/plain": [
       "'CCAAGGAGGAGGAGCTGGAGCGCCTGCGCAAGGAGCTGGAGGAGCTGCGCAAGCAGCTGGAGGAGCTGCGCAAGGAGCTGGAGGAGCTGCGCAAGGAGCT'"
      ]
     },
     "execution_count": 28,
     "metadata": {},
     "output_type": "execute_result"
    }
   ],
   "source": [
    "next_seqs[0]"
   ]
  },
  {
   "cell_type": "code",
   "execution_count": 22,
   "id": "0478d7aa-4f09-44c3-b8c8-cab2153e4dc3",
   "metadata": {},
   "outputs": [
    {
     "data": {
      "text/plain": [
       "'CCGACCTACTCAGTGAGCTCAACATCTCTGAGATCCAGAAGCTGAAGCAGCAGCTGATGCAGATGGAGCGGGAAAAGGCGGGCCTGCTGGCAACGCTGCA'"
      ]
     },
     "execution_count": 22,
     "metadata": {},
     "output_type": "execute_result"
    }
   ],
   "source": [
    "real_seq = long_seq[1000:1100]\n",
    "real_seq"
   ]
  },
  {
   "cell_type": "code",
   "execution_count": 29,
   "id": "de2a7a24-0114-4e32-b00e-e20aa806c3ff",
   "metadata": {},
   "outputs": [
    {
     "data": {
      "text/plain": [
       "40"
      ]
     },
     "execution_count": 29,
     "metadata": {},
     "output_type": "execute_result"
    }
   ],
   "source": [
    "sum([a == b for a,b in zip(list(next_seq[0]), list(real_seq))])"
   ]
  },
  {
   "cell_type": "markdown",
   "id": "664ca76b-d396-4f4b-8a7c-071a338368aa",
   "metadata": {},
   "source": [
    "# PWM?"
   ]
  },
  {
   "cell_type": "code",
   "execution_count": 47,
   "id": "e7f08536-4fc1-41f6-8ed7-8936f5a07a95",
   "metadata": {},
   "outputs": [],
   "source": [
    "long_tokens = torch.tensor(tokenizer.tokenize(seed), dtype=torch.int).unsqueeze(0).to(device)"
   ]
  },
  {
   "cell_type": "code",
   "execution_count": 48,
   "id": "fab835d8-a481-4a9b-875a-f615c9e37cd0",
   "metadata": {
    "scrolled": true
   },
   "outputs": [
    {
     "data": {
      "text/plain": [
       "tensor([[65, 84, 71, 84, 67, 71, 71, 67, 71, 67, 67, 71, 84, 67, 71, 71, 65, 71,\n",
       "         71, 65, 71, 71, 65, 71, 71, 65, 71, 84, 65, 67, 71, 67, 71, 67, 71, 71,\n",
       "         67, 84, 71, 71, 84, 71, 65, 84, 71, 71, 65, 71, 71, 67, 71, 67, 65, 71,\n",
       "         67, 67, 71, 71, 65, 71, 84, 71, 71, 67, 84, 71, 67, 71, 67, 71, 67, 67,\n",
       "         71, 65, 71, 71, 84, 71, 65, 65, 71, 67, 71, 71, 67, 84, 71, 84, 67, 67,\n",
       "         67, 65, 67, 71, 65, 71, 67, 84, 71, 71, 67, 67, 71, 65, 71, 65, 67, 67,\n",
       "         65, 67, 71, 67, 71, 84, 71, 65, 71, 65, 65, 71, 65, 84, 67, 67, 65, 71,\n",
       "         71, 67, 71, 71, 67, 67, 71, 65, 71, 84, 65, 67, 71, 71, 71, 67, 84, 71,\n",
       "         71, 67, 71, 71, 84, 71, 67, 84, 67, 71, 65, 71, 71, 65, 71, 65, 65, 71,\n",
       "         67, 65, 67, 67, 65, 71, 67, 84, 67, 65, 65, 71, 67, 84, 71, 67, 65, 71,\n",
       "         84, 84, 67, 71, 65, 71, 71, 65, 71, 67, 84, 67, 71, 65, 71, 71, 84, 71,\n",
       "         71, 65, 67, 84, 65, 84, 71, 65, 71, 71, 67, 84, 65, 84, 67, 67, 71, 67,\n",
       "         65, 71, 67, 71, 65, 71, 65, 84, 71, 71, 65, 71, 67, 65, 71, 67, 84, 67,\n",
       "         65, 65, 71, 71, 65, 71, 71, 67, 67, 84, 84, 84, 71, 71, 65, 67, 65, 65,\n",
       "         71, 67, 65, 67, 65, 67, 65, 67, 65, 65, 65, 67, 67, 65, 67, 65, 65, 71,\n",
       "         65, 65, 71, 71, 84, 71, 71, 67, 84, 71, 67, 84, 71, 65, 67, 71, 71, 65,\n",
       "         71, 65, 71, 65, 71, 67, 67, 71, 71, 71, 65, 71, 71, 65, 71, 65, 71, 67,\n",
       "         67, 84, 71, 65, 84, 67, 67, 65, 71, 71, 65, 71, 84, 67, 71, 71, 67, 67,\n",
       "         84, 67, 67, 65, 65, 71, 71, 65, 71, 67, 65, 71, 84, 65, 67, 84, 65, 67,\n",
       "         71, 84, 71, 67, 71, 71, 65, 65, 71, 71, 84, 71, 67, 84, 65, 71, 65, 71,\n",
       "         67, 84, 71, 67, 65, 71, 65, 67, 71, 71, 65, 71, 67, 84, 71, 65, 65, 71,\n",
       "         67, 65, 71, 84, 84, 71, 67, 71, 67, 65, 65, 84, 71, 84, 67, 67, 84, 67,\n",
       "         65, 67, 67, 65, 65, 67, 65, 67, 71, 67, 65, 71, 84, 67, 71, 71, 65, 71,\n",
       "         65, 65, 84, 71, 65, 71, 67, 71, 67, 67, 84, 71, 71, 67, 67, 84, 67, 84,\n",
       "         71, 84, 71, 71, 67, 67, 67, 65, 71, 71, 65, 71, 67, 84, 71, 65, 65, 71,\n",
       "         71, 65, 71, 65, 84, 67, 65, 65, 67, 67, 65, 71, 65, 65, 84, 71, 84, 71,\n",
       "         71, 65, 71, 65, 84, 67, 67, 65, 71, 67, 71, 84, 71, 71, 67, 67, 71, 67,\n",
       "         67, 84, 71, 67, 71, 71, 71, 65, 84, 71, 65, 67, 65, 84, 67, 65, 65, 71,\n",
       "         71, 65, 71, 84, 65, 67, 65, 65, 65, 84, 84, 67, 67, 71, 71, 71, 65, 65,\n",
       "         71, 67, 84, 67, 71, 84, 67, 84, 71, 67, 84, 71, 67, 65, 71, 71, 65, 67,\n",
       "         84, 65, 67, 84, 67, 71, 71, 65, 65, 67, 84, 71, 71, 65, 71, 71, 65, 71,\n",
       "         71, 65, 71, 65, 65, 67, 65, 84, 67, 65, 71, 67, 67, 84, 71, 67, 65, 71,\n",
       "         65, 65, 71, 67, 65, 65, 71, 84, 71, 84, 67, 84, 71, 84, 71, 67, 84, 67,\n",
       "         65, 71, 65, 67, 65, 71, 65, 65, 67, 67, 65, 71, 71, 84, 71, 71, 65, 71,\n",
       "         84, 84, 84, 71, 65, 71, 71, 71, 67, 67, 84, 67, 65, 65, 71, 67, 65, 84,\n",
       "         71, 65, 71, 65, 84, 67, 65, 65, 71, 67, 71, 84, 67, 84, 71, 71, 65, 71,\n",
       "         71, 65, 71, 71, 65, 71, 65, 67, 67, 71, 65, 71, 84, 65, 67, 67, 84, 67,\n",
       "         65, 65, 67, 65, 71, 67, 67, 65, 71, 67, 84, 71, 71, 65, 71, 71, 65, 84,\n",
       "         71, 67, 67, 65, 84, 67, 67, 71, 67, 67, 84, 67, 65, 65, 71, 71, 65, 71,\n",
       "         65, 84, 67, 84, 67, 65, 71, 65, 71, 67, 71, 71, 67, 65, 71, 67, 84, 71,\n",
       "         71, 65, 71, 71, 65, 71, 71, 67, 71, 67, 84, 71, 71, 65, 71, 65, 67, 67,\n",
       "         67, 84, 71, 65, 65, 71, 65, 67, 71, 71, 65, 71, 67, 71, 67, 71, 65, 65,\n",
       "         67, 65, 71, 65, 65, 71, 65, 65, 67, 65, 71, 67, 67, 84, 71, 67, 71, 67,\n",
       "         65, 65, 71, 71, 65, 71, 67, 84, 71, 84, 67, 65, 67, 65, 67, 84, 65, 67,\n",
       "         65, 84, 71, 65, 71, 67, 65, 84, 67, 65, 65, 84, 71, 65, 67, 84, 67, 67,\n",
       "         84, 84, 67, 84, 65, 67, 65, 67, 67, 65, 71, 67, 67, 65, 67, 67, 84, 71,\n",
       "         67, 65, 84, 71, 84, 67, 84, 67, 71, 67, 84, 71, 71, 65, 84, 71, 71, 67,\n",
       "         67, 84, 67, 65, 65, 71, 84, 84, 67, 65, 71, 84, 71, 65, 67, 71, 65, 84,\n",
       "         71, 67, 84, 71, 67, 67, 71, 65, 71, 67, 67, 67, 65, 65, 67, 65, 65, 67,\n",
       "         71, 65, 84, 71, 67, 67, 71, 65, 71, 71, 67, 67, 67, 84, 71, 71, 84, 67,\n",
       "         65, 65, 84, 71, 71, 67, 84, 84, 84, 71, 65, 71, 67, 65, 67, 71, 71, 67,\n",
       "         71, 71, 67, 67, 84, 71, 71, 67, 67, 65, 65, 71, 67, 84, 71, 67, 67, 65,\n",
       "         67, 84, 71, 71, 65, 67, 65, 65, 67, 65, 65, 71, 65, 67, 67, 84, 67, 67,\n",
       "         65, 67, 71, 67, 67, 67, 65, 65, 71, 65, 65, 71, 71, 65, 71, 71, 71, 67,\n",
       "         67, 84, 67, 71, 67, 65, 67, 67, 71, 67, 67, 67, 84, 67, 67, 67, 67, 67,\n",
       "         65, 71, 67, 67, 84, 67, 71, 84, 67, 84]], device='cuda:0',\n",
       "       dtype=torch.int32)"
      ]
     },
     "execution_count": 48,
     "metadata": {},
     "output_type": "execute_result"
    }
   ],
   "source": [
    "long_tokens"
   ]
  },
  {
   "cell_type": "code",
   "execution_count": 49,
   "id": "5c2d6c3d-d3b3-454c-9a41-b1d925fb6e7b",
   "metadata": {},
   "outputs": [],
   "source": [
    "with torch.inference_mode():\n",
    "    logits, _ = model(long_tokens)"
   ]
  },
  {
   "cell_type": "code",
   "execution_count": 50,
   "id": "ffbed135-03d8-4b01-9edb-5280f60e95d8",
   "metadata": {},
   "outputs": [
    {
     "data": {
      "text/plain": [
       "tensor([[[-11.8750, -19.2500, -19.2500,  ..., -19.1250, -19.2500, -19.2500],\n",
       "         [ -9.0000, -21.2500, -21.2500,  ..., -21.1250, -21.2500, -21.2500],\n",
       "         [ -8.6250, -22.0000, -21.8750,  ..., -21.8750, -21.8750, -21.8750],\n",
       "         ...,\n",
       "         [ -7.8750, -22.3750, -22.3750,  ..., -22.3750, -22.3750, -22.3750],\n",
       "         [ -8.2500, -22.5000, -22.5000,  ..., -22.3750, -22.5000, -22.5000],\n",
       "         [ -8.1250, -22.3750, -22.3750,  ..., -22.3750, -22.3750, -22.3750]]],\n",
       "       device='cuda:0', dtype=torch.bfloat16)"
      ]
     },
     "execution_count": 50,
     "metadata": {},
     "output_type": "execute_result"
    }
   ],
   "source": [
    "logits"
   ]
  },
  {
   "cell_type": "code",
   "execution_count": 51,
   "id": "27e1b724-d560-4e93-8e51-3b18cad864f4",
   "metadata": {},
   "outputs": [
    {
     "data": {
      "text/plain": [
       "torch.Size([1, 1000, 512])"
      ]
     },
     "execution_count": 51,
     "metadata": {},
     "output_type": "execute_result"
    }
   ],
   "source": [
    "logits.shape"
   ]
  },
  {
   "cell_type": "code",
   "execution_count": 52,
   "id": "f36b3551-f150-4356-b366-46753028b41b",
   "metadata": {},
   "outputs": [],
   "source": [
    "acgt_logits = logits[0,:,(65,67,71,84)]"
   ]
  },
  {
   "cell_type": "code",
   "execution_count": 53,
   "id": "b6c2959b-200c-443e-aa85-770a533e2cf8",
   "metadata": {},
   "outputs": [
    {
     "data": {
      "text/plain": [
       "torch.Size([1000, 4])"
      ]
     },
     "execution_count": 53,
     "metadata": {},
     "output_type": "execute_result"
    }
   ],
   "source": [
    "acgt_logits.shape"
   ]
  },
  {
   "cell_type": "code",
   "execution_count": 54,
   "id": "373bd68b-cfc7-4b08-95cb-c81d89b001cb",
   "metadata": {},
   "outputs": [
    {
     "data": {
      "text/plain": [
       "tensor([[-0.1157, -0.3320, -0.3047, -0.1719],\n",
       "        [-0.4941, -0.1553, -0.3398, -0.2871],\n",
       "        [-0.1533, -0.1826, -0.1914, -0.5195],\n",
       "        ...,\n",
       "        [-1.2344,  0.6484,  0.8750, -1.6562],\n",
       "        [ 0.0786, -0.4414, -0.0605, -0.7539],\n",
       "        [-0.6016,  0.9258, -0.9336, -0.6523]], device='cuda:0',\n",
       "       dtype=torch.bfloat16)"
      ]
     },
     "execution_count": 54,
     "metadata": {},
     "output_type": "execute_result"
    }
   ],
   "source": [
    "acgt_logits"
   ]
  },
  {
   "cell_type": "code",
   "execution_count": 56,
   "id": "678248df-fd2d-4d17-aba2-43b0eba28e75",
   "metadata": {},
   "outputs": [],
   "source": [
    "acgt_probs = torch.softmax(acgt_logits, dim=-1)"
   ]
  },
  {
   "cell_type": "code",
   "execution_count": 63,
   "id": "51efdd7d-9e15-4151-8612-4478a98b7661",
   "metadata": {},
   "outputs": [
    {
     "data": {
      "text/plain": [
       "tensor([[0.2793, 0.2246, 0.2314, 0.2637],\n",
       "        [0.2080, 0.2930, 0.2432, 0.2559],\n",
       "        [0.2754, 0.2676, 0.2656, 0.1914],\n",
       "        ...,\n",
       "        [0.0608, 0.3984, 0.5000, 0.0398],\n",
       "        [0.3457, 0.2051, 0.3008, 0.1504],\n",
       "        [0.1377, 0.6328, 0.0986, 0.1309]], device='cuda:0',\n",
       "       dtype=torch.bfloat16)"
      ]
     },
     "execution_count": 63,
     "metadata": {},
     "output_type": "execute_result"
    }
   ],
   "source": [
    "acgt_probs"
   ]
  },
  {
   "cell_type": "code",
   "execution_count": 86,
   "id": "803c6396-9f30-4a41-8d84-c390448ae50c",
   "metadata": {},
   "outputs": [],
   "source": [
    "probs_t = acgt_probs.transpose(1,0).to(\"cpu\").to(torch.float32)[:,:50]"
   ]
  },
  {
   "cell_type": "code",
   "execution_count": 87,
   "id": "bcc9ba5f-2b58-4e95-909d-7914a5bec565",
   "metadata": {},
   "outputs": [],
   "source": [
    "probs_dict = {\n",
    "    'A': probs_t[0,:],\n",
    "    'C': probs_t[1,:],\n",
    "    'G': probs_t[2,:],\n",
    "    'T': probs_t[3,:]\n",
    "}"
   ]
  },
  {
   "cell_type": "code",
   "execution_count": 98,
   "id": "b8141dbf-f45c-4157-a50a-89115e919b75",
   "metadata": {},
   "outputs": [
    {
     "data": {
      "image/png": "[encoded data removed]",
      "text/plain": [
       "<Figure size 640x480 with 1 Axes>"
      ]
     },
     "metadata": {},
     "output_type": "display_data"
    }
   ],
   "source": [
    "x = np.linspace(0,probs_t.shape[1],probs_t.shape[1],dtype=np.int32)\n",
    "plt.bar(x, probs_dict['A'], label = 'A')\n",
    "plt.bar(x, probs_dict['C'], bottom = probs_dict['A'], label = 'C')\n",
    "plt.bar(x, probs_dict['G'], bottom = probs_dict['A'] + probs_dict['C'], label = 'G')\n",
    "plt.bar(x, probs_dict['T'], bottom = probs_dict['A'] + probs_dict['C'] + probs_dict['G'], label = 'T')\n",
    "plt.legend(loc = \"center left\", bbox_to_anchor = (1,0.5))\n",
    "plt.show()"
   ]
  },
  {
   "cell_type": "code",
   "execution_count": 99,
   "id": "7f95d72e-9d01-4321-a370-7013f8947c58",
   "metadata": {},
   "outputs": [
    {
     "data": {
      "text/plain": [
       "'TGTCGGCGCCGTCGGAGGAGGAGGAGTACGCGCGGCTGGTGATGGAGGCG'"
      ]
     },
     "execution_count": 99,
     "metadata": {},
     "output_type": "execute_result"
    }
   ],
   "source": [
    "seed[1:51]"
   ]
  }
 ],
 "metadata": {
  "kernelspec": {
   "display_name": "gpu",
   "language": "python",
   "name": "gpu"
  },
  "language_info": {
   "codemirror_mode": {
    "name": "ipython",
    "version": 3
   },
   "file_extension": ".py",
   "mimetype": "text/x-python",
   "name": "python",
   "nbconvert_exporter": "python",
   "pygments_lexer": "ipython3",
   "version": "3.12.4"
  }
 },
 "nbformat": 4,
 "nbformat_minor": 5
}
