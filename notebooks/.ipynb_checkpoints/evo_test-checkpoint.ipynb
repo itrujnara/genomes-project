{
 "cells": [
  {
   "cell_type": "code",
   "execution_count": 74,
   "id": "0eda553d-0403-478c-a405-8aff1b17a4f8",
   "metadata": {},
   "outputs": [],
   "source": [
    "# imports\n",
    "from functools import wraps\n",
    "from time import perf_counter_ns\n",
    "\n",
    "import torch\n",
    "from evo import Evo, generate\n",
    "from stripedhyena.sample import sample\n",
    "\n",
    "import numpy as np\n",
    "import matplotlib.pyplot as plt\n",
    "%matplotlib inline\n",
    "import pandas as pd\n",
    "from sklearn.metrics import roc_auc_score\n",
    "from sklearn.preprocessing import OneHotEncoder"
   ]
  },
  {
   "cell_type": "code",
   "execution_count": 2,
   "id": "1104b902-f6bd-428a-be0a-93661295acb6",
   "metadata": {},
   "outputs": [],
   "source": [
    "# timing helper\n",
    "def timeit(f):\n",
    "    @wraps(f)\n",
    "    def wrapper(*args, **kwargs):\n",
    "        start = perf_counter_ns()\n",
    "        result = f(*args, **kwargs)\n",
    "        print(f\"{f.__name__}: {(perf_counter_ns() - start) / 10 ** 6:.3f}ms\")\n",
    "        return result\n",
    "    return wrapper"
   ]
  },
  {
   "cell_type": "markdown",
   "id": "f789c1ac-2ccf-4556-a5c4-f4cfde09cd43",
   "metadata": {},
   "source": [
    "# Setup"
   ]
  },
  {
   "cell_type": "code",
   "execution_count": 3,
   "id": "470e5500-416c-481c-8bcc-fe1c463edd8f",
   "metadata": {},
   "outputs": [],
   "source": [
    "# run models on GPU if GPU node is used\n",
    "device = torch.device(\"cuda\" if torch.cuda.is_available() else \"cpu\")"
   ]
  },
  {
   "cell_type": "code",
   "execution_count": 4,
   "id": "8a5bc6cc-113b-4651-9d7b-7217762c4ea3",
   "metadata": {
    "scrolled": true
   },
   "outputs": [
    {
     "data": {
      "application/vnd.jupyter.widget-view+json": {
       "model_id": "ff068bd1245244e8b1145afeb84dfe63",
       "version_major": 2,
       "version_minor": 0
      },
      "text/plain": [
       "Loading checkpoint shards:   0%|          | 0/3 [00:00<?, ?it/s]"
      ]
     },
     "metadata": {},
     "output_type": "display_data"
    }
   ],
   "source": [
    "# download the model\n",
    "evo_model = Evo(\"evo-1.5-8k-base\")"
   ]
  },
  {
   "cell_type": "code",
   "execution_count": 5,
   "id": "3a3358e2-4302-4ae2-86eb-2ce6b9139081",
   "metadata": {},
   "outputs": [],
   "source": [
    "# make sure we're not wasting RAM\n",
    "torch.cuda.empty_cache()"
   ]
  },
  {
   "cell_type": "code",
   "execution_count": 6,
   "id": "b94cf7a5-e828-4067-bbc6-78e89c1f95f3",
   "metadata": {
    "scrolled": true
   },
   "outputs": [
    {
     "data": {
      "text/plain": [
       "StripedHyena(\n",
       "  (embedding_layer): VocabParallelEmbedding(512, 4096)\n",
       "  (norm): RMSNorm()\n",
       "  (unembed): VocabParallelEmbedding(512, 4096)\n",
       "  (blocks): ModuleList(\n",
       "    (0-7): 8 x ParallelGatedConvBlock(\n",
       "      (pre_norm): RMSNorm()\n",
       "      (post_norm): RMSNorm()\n",
       "      (filter): ParallelHyenaFilter()\n",
       "      (projections): Linear(in_features=4096, out_features=12288, bias=True)\n",
       "      (out_filter_dense): Linear(in_features=4096, out_features=4096, bias=True)\n",
       "      (mlp): ParallelGatedMLP(\n",
       "        (l1): Linear(in_features=4096, out_features=10928, bias=False)\n",
       "        (l2): Linear(in_features=4096, out_features=10928, bias=False)\n",
       "        (l3): Linear(in_features=10928, out_features=4096, bias=False)\n",
       "      )\n",
       "    )\n",
       "    (8): AttentionBlock(\n",
       "      (pre_norm): RMSNorm()\n",
       "      (post_norm): RMSNorm()\n",
       "      (inner_mha_cls): MHA(\n",
       "        (rotary_emb): RotaryEmbedding()\n",
       "        (Wqkv): Linear(in_features=4096, out_features=12288, bias=True)\n",
       "        (inner_attn): FlashSelfAttention(\n",
       "          (drop): Dropout(p=0.0, inplace=False)\n",
       "        )\n",
       "        (inner_cross_attn): FlashCrossAttention(\n",
       "          (drop): Dropout(p=0.0, inplace=False)\n",
       "        )\n",
       "        (out_proj): Linear(in_features=4096, out_features=4096, bias=True)\n",
       "      )\n",
       "      (mlp): ParallelGatedMLP(\n",
       "        (l1): Linear(in_features=4096, out_features=10928, bias=False)\n",
       "        (l2): Linear(in_features=4096, out_features=10928, bias=False)\n",
       "        (l3): Linear(in_features=10928, out_features=4096, bias=False)\n",
       "      )\n",
       "    )\n",
       "    (9-15): 7 x ParallelGatedConvBlock(\n",
       "      (pre_norm): RMSNorm()\n",
       "      (post_norm): RMSNorm()\n",
       "      (filter): ParallelHyenaFilter()\n",
       "      (projections): Linear(in_features=4096, out_features=12288, bias=True)\n",
       "      (out_filter_dense): Linear(in_features=4096, out_features=4096, bias=True)\n",
       "      (mlp): ParallelGatedMLP(\n",
       "        (l1): Linear(in_features=4096, out_features=10928, bias=False)\n",
       "        (l2): Linear(in_features=4096, out_features=10928, bias=False)\n",
       "        (l3): Linear(in_features=10928, out_features=4096, bias=False)\n",
       "      )\n",
       "    )\n",
       "    (16): AttentionBlock(\n",
       "      (pre_norm): RMSNorm()\n",
       "      (post_norm): RMSNorm()\n",
       "      (inner_mha_cls): MHA(\n",
       "        (rotary_emb): RotaryEmbedding()\n",
       "        (Wqkv): Linear(in_features=4096, out_features=12288, bias=True)\n",
       "        (inner_attn): FlashSelfAttention(\n",
       "          (drop): Dropout(p=0.0, inplace=False)\n",
       "        )\n",
       "        (inner_cross_attn): FlashCrossAttention(\n",
       "          (drop): Dropout(p=0.0, inplace=False)\n",
       "        )\n",
       "        (out_proj): Linear(in_features=4096, out_features=4096, bias=True)\n",
       "      )\n",
       "      (mlp): ParallelGatedMLP(\n",
       "        (l1): Linear(in_features=4096, out_features=10928, bias=False)\n",
       "        (l2): Linear(in_features=4096, out_features=10928, bias=False)\n",
       "        (l3): Linear(in_features=10928, out_features=4096, bias=False)\n",
       "      )\n",
       "    )\n",
       "    (17-23): 7 x ParallelGatedConvBlock(\n",
       "      (pre_norm): RMSNorm()\n",
       "      (post_norm): RMSNorm()\n",
       "      (filter): ParallelHyenaFilter()\n",
       "      (projections): Linear(in_features=4096, out_features=12288, bias=True)\n",
       "      (out_filter_dense): Linear(in_features=4096, out_features=4096, bias=True)\n",
       "      (mlp): ParallelGatedMLP(\n",
       "        (l1): Linear(in_features=4096, out_features=10928, bias=False)\n",
       "        (l2): Linear(in_features=4096, out_features=10928, bias=False)\n",
       "        (l3): Linear(in_features=10928, out_features=4096, bias=False)\n",
       "      )\n",
       "    )\n",
       "    (24): AttentionBlock(\n",
       "      (pre_norm): RMSNorm()\n",
       "      (post_norm): RMSNorm()\n",
       "      (inner_mha_cls): MHA(\n",
       "        (rotary_emb): RotaryEmbedding()\n",
       "        (Wqkv): Linear(in_features=4096, out_features=12288, bias=True)\n",
       "        (inner_attn): FlashSelfAttention(\n",
       "          (drop): Dropout(p=0.0, inplace=False)\n",
       "        )\n",
       "        (inner_cross_attn): FlashCrossAttention(\n",
       "          (drop): Dropout(p=0.0, inplace=False)\n",
       "        )\n",
       "        (out_proj): Linear(in_features=4096, out_features=4096, bias=True)\n",
       "      )\n",
       "      (mlp): ParallelGatedMLP(\n",
       "        (l1): Linear(in_features=4096, out_features=10928, bias=False)\n",
       "        (l2): Linear(in_features=4096, out_features=10928, bias=False)\n",
       "        (l3): Linear(in_features=10928, out_features=4096, bias=False)\n",
       "      )\n",
       "    )\n",
       "    (25-31): 7 x ParallelGatedConvBlock(\n",
       "      (pre_norm): RMSNorm()\n",
       "      (post_norm): RMSNorm()\n",
       "      (filter): ParallelHyenaFilter()\n",
       "      (projections): Linear(in_features=4096, out_features=12288, bias=True)\n",
       "      (out_filter_dense): Linear(in_features=4096, out_features=4096, bias=True)\n",
       "      (mlp): ParallelGatedMLP(\n",
       "        (l1): Linear(in_features=4096, out_features=10928, bias=False)\n",
       "        (l2): Linear(in_features=4096, out_features=10928, bias=False)\n",
       "        (l3): Linear(in_features=10928, out_features=4096, bias=False)\n",
       "      )\n",
       "    )\n",
       "  )\n",
       ")"
      ]
     },
     "execution_count": 6,
     "metadata": {},
     "output_type": "execute_result"
    }
   ],
   "source": [
    "# verify that the model object is correct\n",
    "evo_model.model"
   ]
  },
  {
   "cell_type": "code",
   "execution_count": 7,
   "id": "ce5e5b99-fb08-4618-8d0f-cb73a58ac1a5",
   "metadata": {},
   "outputs": [],
   "source": [
    "# extract tokenizer and model\n",
    "tokenizer = evo_model.tokenizer\n",
    "model = evo_model.model.to(device)"
   ]
  },
  {
   "cell_type": "markdown",
   "id": "d5c5ff74-9553-45dc-9818-70c2e11d9bef",
   "metadata": {},
   "source": [
    "# Test generation"
   ]
  },
  {
   "cell_type": "code",
   "execution_count": 8,
   "id": "ba2003a8-908d-4c85-8630-38ca338da6a4",
   "metadata": {},
   "outputs": [],
   "source": [
    "# tokenize a short sequence\n",
    "seq = \"ACGTACGT\"\n",
    "input_ids = torch.tensor(\n",
    "        tokenizer.tokenize(seq),\n",
    "        dtype=torch.int,\n",
    "    ).to(device).unsqueeze(0)"
   ]
  },
  {
   "cell_type": "code",
   "execution_count": 9,
   "id": "9c921de8-2d1c-453c-a900-58bd86b56be0",
   "metadata": {},
   "outputs": [
    {
     "data": {
      "text/plain": [
       "tensor([[65, 67, 71, 84, 65, 67, 71, 84]], device='cuda:0', dtype=torch.int32)"
      ]
     },
     "execution_count": 9,
     "metadata": {},
     "output_type": "execute_result"
    }
   ],
   "source": [
    "input_ids"
   ]
  },
  {
   "cell_type": "code",
   "execution_count": 10,
   "id": "da3e4783-35b2-457a-90e3-3ae6b31f9b2a",
   "metadata": {},
   "outputs": [],
   "source": [
    "# get the logits for it\n",
    "with torch.inference_mode():\n",
    "    logits, _ = model(input_ids)"
   ]
  },
  {
   "cell_type": "code",
   "execution_count": 11,
   "id": "e6801133-6baf-4439-a5b5-e45fbdae9f29",
   "metadata": {},
   "outputs": [
    {
     "data": {
      "text/plain": [
       "tensor([[[-11.7500, -19.3750, -19.2500,  ..., -19.2500, -19.2500, -19.2500],\n",
       "         [ -8.8125, -21.1250, -21.1250,  ..., -21.1250, -21.1250, -21.1250],\n",
       "         [ -8.4375, -21.8750, -21.8750,  ..., -21.8750, -21.8750, -21.8750],\n",
       "         ...,\n",
       "         [ -9.0625, -22.6250, -22.5000,  ..., -22.5000, -22.5000, -22.5000],\n",
       "         [ -8.7500, -22.5000, -22.3750,  ..., -22.3750, -22.3750, -22.3750],\n",
       "         [ -8.6875, -22.5000, -22.3750,  ..., -22.3750, -22.5000, -22.3750]]],\n",
       "       device='cuda:0', dtype=torch.bfloat16)"
      ]
     },
     "execution_count": 11,
     "metadata": {},
     "output_type": "execute_result"
    }
   ],
   "source": [
    "logits"
   ]
  },
  {
   "cell_type": "code",
   "execution_count": 12,
   "id": "b9f05386-c61a-4bd4-b3cc-3ad84c1b26cc",
   "metadata": {},
   "outputs": [
    {
     "data": {
      "text/plain": [
       "torch.Size([1, 8, 512])"
      ]
     },
     "execution_count": 12,
     "metadata": {},
     "output_type": "execute_result"
    }
   ],
   "source": [
    "# check tensor shape\n",
    "logits.shape"
   ]
  },
  {
   "cell_type": "code",
   "execution_count": 13,
   "id": "d8f4b405-694a-46af-8c5a-19f22cf58d10",
   "metadata": {},
   "outputs": [
    {
     "data": {
      "text/plain": [
       "tensor([[ 0,  0],\n",
       "        [ 0, 65],\n",
       "        [ 0, 67],\n",
       "        [ 0, 71],\n",
       "        [ 0, 84]], device='cuda:0')"
      ]
     },
     "execution_count": 13,
     "metadata": {},
     "output_type": "execute_result"
    }
   ],
   "source": [
    "# check which tokens have substantial probability - unsurprisingly it's ACGT and end of sequence\n",
    "(logits[:,-1] > -10.).nonzero()"
   ]
  },
  {
   "cell_type": "code",
   "execution_count": 14,
   "id": "381429e2-26ab-4f3d-87d1-fa6853d9b9d9",
   "metadata": {},
   "outputs": [],
   "source": [
    "# calculate one token from final logits\n",
    "next_id = sample(logits[:,-1], top_k=5, top_p=0)"
   ]
  },
  {
   "cell_type": "code",
   "execution_count": 15,
   "id": "02cd91fc-26a4-4fab-a564-cf6110886766",
   "metadata": {},
   "outputs": [
    {
     "data": {
      "text/plain": [
       "tensor([67], device='cuda:0')"
      ]
     },
     "execution_count": 15,
     "metadata": {},
     "output_type": "execute_result"
    }
   ],
   "source": [
    "next_id"
   ]
  },
  {
   "cell_type": "markdown",
   "id": "e6406331-de23-43ed-b9a5-ab30e33e966c",
   "metadata": {},
   "source": [
    "# Larger example with evo.generate"
   ]
  },
  {
   "cell_type": "code",
   "execution_count": 16,
   "id": "8d74c3c5-b6de-4692-8730-b2473350e934",
   "metadata": {},
   "outputs": [],
   "source": [
    "# CDS for BicD2 isoform 1 (Uniprot Q8TD16)\n",
    "long_seq = \"\"\"\n",
    "ATGTCGGCGCCGTCGGAGGAGGAGGAGTACGCGCGGCTGGTGATGGAGGCGCAGCCGGAG\n",
    "TGGCTGCGCGCCGAGGTGAAGCGGCTGTCCCACGAGCTGGCCGAGACCACGCGTGAGAAG\n",
    "ATCCAGGCGGCCGAGTACGGGCTGGCGGTGCTCGAGGAGAAGCACCAGCTCAAGCTGCAG\n",
    "TTCGAGGAGCTCGAGGTGGACTATGAGGCTATCCGCAGCGAGATGGAGCAGCTCAAGGAG\n",
    "GCCTTTGGACAAGCACACACAAACCACAAGAAGGTGGCTGCTGACGGAGAGAGCCGGGAG\n",
    "GAGAGCCTGATCCAGGAGTCGGCCTCCAAGGAGCAGTACTACGTGCGGAAGGTGCTAGAG\n",
    "CTGCAGACGGAGCTGAAGCAGTTGCGCAATGTCCTCACCAACACGCAGTCGGAGAATGAG\n",
    "CGCCTGGCCTCTGTGGCCCAGGAGCTGAAGGAGATCAACCAGAATGTGGAGATCCAGCGT\n",
    "GGCCGCCTGCGGGATGACATCAAGGAGTACAAATTCCGGGAAGCTCGTCTGCTGCAGGAC\n",
    "TACTCGGAACTGGAGGAGGAGAACATCAGCCTGCAGAAGCAAGTGTCTGTGCTCAGACAG\n",
    "AACCAGGTGGAGTTTGAGGGCCTCAAGCATGAGATCAAGCGTCTGGAGGAGGAGACCGAG\n",
    "TACCTCAACAGCCAGCTGGAGGATGCCATCCGCCTCAAGGAGATCTCAGAGCGGCAGCTG\n",
    "GAGGAGGCGCTGGAGACCCTGAAGACGGAGCGCGAACAGAAGAACAGCCTGCGCAAGGAG\n",
    "CTGTCACACTACATGAGCATCAATGACTCCTTCTACACCAGCCACCTGCATGTCTCGCTG\n",
    "GATGGCCTCAAGTTCAGTGACGATGCTGCCGAGCCCAACAACGATGCCGAGGCCCTGGTC\n",
    "AATGGCTTTGAGCACGGCGGCCTGGCCAAGCTGCCACTGGACAACAAGACCTCCACGCCC\n",
    "AAGAAGGAGGGCCTCGCACCGCCCTCCCCCAGCCTCGTCTCCGACCTACTCAGTGAGCTC\n",
    "AACATCTCTGAGATCCAGAAGCTGAAGCAGCAGCTGATGCAGATGGAGCGGGAAAAGGCG\n",
    "GGCCTGCTGGCAACGCTGCAGGACACACAGAAGCAGCTGGAGCACACGCGGGGCTCCCTG\n",
    "TCAGAACAGCAGGAGAAGGTGACCCGCCTCACAGAGAATCTGAGTGCCCTGCGGCGCCTG\n",
    "CAGGCCAGCAAGGAGCGGCAGACAGCCCTGGACAACGAGAAGGACCGTGACAGCCATGAG\n",
    "GATGGGGACTACTACGAGGTGGACATCAACGGGCCTGAGATCTTGGCCTGCAAGTACCAT\n",
    "GTGGCTGTGGCTGAGGCTGGCGAGCTCCGCGAGCAGCTCAAGGCACTGCGCAGCACGCAC\n",
    "GAGGCTCGTGAGGCCCAGCACGCCGAGGAGAAGGGCCGCTATGAGGCTGAGGGCCAGGCA\n",
    "CTCACGGAGAAGGTCTCCCTGCTAGAGAAGGCCAGCCGCCAGGACCGCGAGCTGCTGGCC\n",
    "CGGCTGGAGAAGGAGCTAAAGAAGGTGAGCGACGTCGCCGGCGAGACACAGGGCAGCCTG\n",
    "AGTGTGGCCCAGGATGAGCTGGTGACCTTCAGTGAGGAGCTGGCCAATCTCTACCACCAC\n",
    "GTGTGCATGTGCAACAATGAGACACCCAACCGTGTCATGCTGGACTACTACCGCGAGGGC\n",
    "CAGGGCGGGGCCGGCCGCACCAGTCCCGGGGGCCGCACCAGCCCCGAGGCGCGTGGCCGG\n",
    "CGCTCACCCATCCTCCTACCCAAGGGGCTGCTGGCTCCTGAGGCGGGCCGAGCAGATGGT\n",
    "GGGACGGGGGACAGCAGCCCCTCGCCTGGCTCCTCACTGCCATCACCCCTGAGTGACCCA\n",
    "CGCCGGGAGCCCATGAACATCTACAACCTGATCGCTATCATCCGTGACCAGATCAAGCAC\n",
    "CTGCAGGCAGCCGTGGACCGCACCACGGAGCTGTCACGCCAGCGCATTGCCTCTCAGGAG\n",
    "CTGGGCCCCGCCGTGGACAAGGACAAGGAAGCGCTTATGGAGGAGATCCTCAAGCTGAAG\n",
    "TCGCTGCTCAGCACCAAGCGGGAGCAGATCACCACGCTGCGCACTGTGCTCAAGGCCAAC\n",
    "AAGCAGACGGCCGAGGTGGCCCTTGCCAACCTGAAGAGCAAGTATGAGAATGAGAAGGCC\n",
    "ATGGTTACCGAGACCATGATGAAGCTGCGCAATGAGCTCAAGGCCCTCAAGGAGGACGCA\n",
    "GCCACCTTCTCCTCGCTGCGTGCTATGTTTGCCACCAGGTGTGACGAGTACATTACACAG\n",
    "CTGGATGAGATGCAGCGGCAGCTGGCGGCTGCTGAGGACGAGAAGAAGACGCTGAACTCG\n",
    "CTGCTGCGCATGGCCATCCAGCAGAAGCTGGCGCTGACCCAGCGGCTGGAGCTGCTCGAG\n",
    "CTGGACCATGAGCAGACCCGGCGTGGCCGTGCCAAAGCCGCCCCGAAGACCAAGCCAGCC\n",
    "ACACCGAGCCTGTAG\n",
    "\"\"\".replace(\"\\n\", \"\")"
   ]
  },
  {
   "cell_type": "code",
   "execution_count": 17,
   "id": "a83fd0bb-54c8-4271-a552-13e8b1d389dd",
   "metadata": {},
   "outputs": [
    {
     "data": {
      "text/plain": [
       "2475"
      ]
     },
     "execution_count": 17,
     "metadata": {},
     "output_type": "execute_result"
    }
   ],
   "source": [
    "len(long_seq)"
   ]
  },
  {
   "cell_type": "code",
   "execution_count": 18,
   "id": "49fdcb12-9160-4304-9527-0622e721b436",
   "metadata": {},
   "outputs": [],
   "source": [
    "seed = long_seq[:1000]"
   ]
  },
  {
   "cell_type": "code",
   "execution_count": 19,
   "id": "9e9897a1-019e-4da2-841f-324ea791eca4",
   "metadata": {},
   "outputs": [],
   "source": [
    "# helper to time generation\n",
    "@timeit\n",
    "def generate_tokens(seed, n_seqs, n_tokens, model, tokenizer, **kwargs):\n",
    "    return generate(\n",
    "        [ seed ] * n_seqs, \n",
    "        model, \n",
    "        tokenizer, \n",
    "        n_tokens = n_tokens,\n",
    "        **kwargs\n",
    "    )"
   ]
  },
  {
   "cell_type": "code",
   "execution_count": 20,
   "id": "8df76201-b33b-490b-afb4-4484457dc2e2",
   "metadata": {
    "scrolled": true
   },
   "outputs": [
    {
     "name": "stdout",
     "output_type": "stream",
     "text": [
      "Prompt: \"ATGTCGGCGCCGTCGGAGGAGGAGGAGTACGCGCGGCTGGTGATGGAGGCGCAGCCGGAGTGGCTGCGCGCCGAGGTGAAGCGGCTGTCCCACGAGCTGGCCGAGACCACGCGTGAGAAGATCCAGGCGGCCGAGTACGGGCTGGCGGTGCTCGAGGAGAAGCACCAGCTCAAGCTGCAGTTCGAGGAGCTCGAGGTGGACTATGAGGCTATCCGCAGCGAGATGGAGCAGCTCAAGGAGGCCTTTGGACAAGCACACACAAACCACAAGAAGGTGGCTGCTGACGGAGAGAGCCGGGAGGAGAGCCTGATCCAGGAGTCGGCCTCCAAGGAGCAGTACTACGTGCGGAAGGTGCTAGAGCTGCAGACGGAGCTGAAGCAGTTGCGCAATGTCCTCACCAACACGCAGTCGGAGAATGAGCGCCTGGCCTCTGTGGCCCAGGAGCTGAAGGAGATCAACCAGAATGTGGAGATCCAGCGTGGCCGCCTGCGGGATGACATCAAGGAGTACAAATTCCGGGAAGCTCGTCTGCTGCAGGACTACTCGGAACTGGAGGAGGAGAACATCAGCCTGCAGAAGCAAGTGTCTGTGCTCAGACAGAACCAGGTGGAGTTTGAGGGCCTCAAGCATGAGATCAAGCGTCTGGAGGAGGAGACCGAGTACCTCAACAGCCAGCTGGAGGATGCCATCCGCCTCAAGGAGATCTCAGAGCGGCAGCTGGAGGAGGCGCTGGAGACCCTGAAGACGGAGCGCGAACAGAAGAACAGCCTGCGCAAGGAGCTGTCACACTACATGAGCATCAATGACTCCTTCTACACCAGCCACCTGCATGTCTCGCTGGATGGCCTCAAGTTCAGTGACGATGCTGCCGAGCCCAACAACGATGCCGAGGCCCTGGTCAATGGCTTTGAGCACGGCGGCCTGGCCAAGCTGCCACTGGACAACAAGACCTCCACGCCCAAGAAGGAGGGCCTCGCACCGCCCTCCCCCAGCCTCGTCT\",\tOutput: \"CCAAGGAGGAGGAGCTGGAGCGCCTGCGCAAGGAGCTGGAGGAGCTGCGCAAGCAGCTGGAGGAGCTGCGCAAGGAGCTGGAGGAGCTGCGCAAGGAGCT\",\tScore: -1.951738953590393\n",
      "generate_tokens: 16569.377ms\n"
     ]
    }
   ],
   "source": [
    "# generate 100 characters after the first 1000\n",
    "next_seqs, next_scores = generate_tokens(\n",
    "        seed,\n",
    "        1,\n",
    "        100,\n",
    "        model,\n",
    "        tokenizer,\n",
    "        cached_generation = True,\n",
    "        top_p = 1.,\n",
    "        temperature = 20.\n",
    "    )"
   ]
  },
  {
   "cell_type": "markdown",
   "id": "5cf13d16-6011-4744-abb5-a732a330ba03",
   "metadata": {},
   "source": [
    "Generation speed is roughly 6 tokens/s (150ms/token)"
   ]
  },
  {
   "cell_type": "code",
   "execution_count": 21,
   "id": "5aaa259c-a043-49b5-9006-189814e7611d",
   "metadata": {},
   "outputs": [
    {
     "data": {
      "text/plain": [
       "'CCAAGGAGGAGGAGCTGGAGCGCCTGCGCAAGGAGCTGGAGGAGCTGCGCAAGCAGCTGGAGGAGCTGCGCAAGGAGCTGGAGGAGCTGCGCAAGGAGCT'"
      ]
     },
     "execution_count": 21,
     "metadata": {},
     "output_type": "execute_result"
    }
   ],
   "source": [
    "next_seqs[0]"
   ]
  },
  {
   "cell_type": "code",
   "execution_count": 22,
   "id": "0478d7aa-4f09-44c3-b8c8-cab2153e4dc3",
   "metadata": {},
   "outputs": [
    {
     "data": {
      "text/plain": [
       "'CCGACCTACTCAGTGAGCTCAACATCTCTGAGATCCAGAAGCTGAAGCAGCAGCTGATGCAGATGGAGCGGGAAAAGGCGGGCCTGCTGGCAACGCTGCA'"
      ]
     },
     "execution_count": 22,
     "metadata": {},
     "output_type": "execute_result"
    }
   ],
   "source": [
    "real_seq = long_seq[1000:1100]\n",
    "real_seq"
   ]
  },
  {
   "cell_type": "code",
   "execution_count": 23,
   "id": "de2a7a24-0114-4e32-b00e-e20aa806c3ff",
   "metadata": {},
   "outputs": [
    {
     "data": {
      "text/plain": [
       "40"
      ]
     },
     "execution_count": 23,
     "metadata": {},
     "output_type": "execute_result"
    }
   ],
   "source": [
    "# compare with real sequence\n",
    "sum([a == b for a,b in zip(list(next_seqs[0]), list(real_seq))])\n",
    "# accuracy is 40/100"
   ]
  },
  {
   "cell_type": "markdown",
   "id": "664ca76b-d396-4f4b-8a7c-071a338368aa",
   "metadata": {},
   "source": [
    "# PWM?"
   ]
  },
  {
   "cell_type": "code",
   "execution_count": 24,
   "id": "e7f08536-4fc1-41f6-8ed7-8936f5a07a95",
   "metadata": {},
   "outputs": [],
   "source": [
    "# manually tokenize the long sequence\n",
    "long_tokens = torch.tensor(tokenizer.tokenize(seed), dtype=torch.int).unsqueeze(0).to(device)"
   ]
  },
  {
   "cell_type": "code",
   "execution_count": 25,
   "id": "fab835d8-a481-4a9b-875a-f615c9e37cd0",
   "metadata": {
    "scrolled": true
   },
   "outputs": [
    {
     "data": {
      "text/plain": [
       "tensor([[65, 84, 71, 84, 67, 71, 71, 67, 71, 67, 67, 71, 84, 67, 71, 71, 65, 71,\n",
       "         71, 65, 71, 71, 65, 71, 71, 65, 71, 84, 65, 67, 71, 67, 71, 67, 71, 71,\n",
       "         67, 84, 71, 71, 84, 71, 65, 84, 71, 71, 65, 71, 71, 67, 71, 67, 65, 71,\n",
       "         67, 67, 71, 71, 65, 71, 84, 71, 71, 67, 84, 71, 67, 71, 67, 71, 67, 67,\n",
       "         71, 65, 71, 71, 84, 71, 65, 65, 71, 67, 71, 71, 67, 84, 71, 84, 67, 67,\n",
       "         67, 65, 67, 71, 65, 71, 67, 84, 71, 71, 67, 67, 71, 65, 71, 65, 67, 67,\n",
       "         65, 67, 71, 67, 71, 84, 71, 65, 71, 65, 65, 71, 65, 84, 67, 67, 65, 71,\n",
       "         71, 67, 71, 71, 67, 67, 71, 65, 71, 84, 65, 67, 71, 71, 71, 67, 84, 71,\n",
       "         71, 67, 71, 71, 84, 71, 67, 84, 67, 71, 65, 71, 71, 65, 71, 65, 65, 71,\n",
       "         67, 65, 67, 67, 65, 71, 67, 84, 67, 65, 65, 71, 67, 84, 71, 67, 65, 71,\n",
       "         84, 84, 67, 71, 65, 71, 71, 65, 71, 67, 84, 67, 71, 65, 71, 71, 84, 71,\n",
       "         71, 65, 67, 84, 65, 84, 71, 65, 71, 71, 67, 84, 65, 84, 67, 67, 71, 67,\n",
       "         65, 71, 67, 71, 65, 71, 65, 84, 71, 71, 65, 71, 67, 65, 71, 67, 84, 67,\n",
       "         65, 65, 71, 71, 65, 71, 71, 67, 67, 84, 84, 84, 71, 71, 65, 67, 65, 65,\n",
       "         71, 67, 65, 67, 65, 67, 65, 67, 65, 65, 65, 67, 67, 65, 67, 65, 65, 71,\n",
       "         65, 65, 71, 71, 84, 71, 71, 67, 84, 71, 67, 84, 71, 65, 67, 71, 71, 65,\n",
       "         71, 65, 71, 65, 71, 67, 67, 71, 71, 71, 65, 71, 71, 65, 71, 65, 71, 67,\n",
       "         67, 84, 71, 65, 84, 67, 67, 65, 71, 71, 65, 71, 84, 67, 71, 71, 67, 67,\n",
       "         84, 67, 67, 65, 65, 71, 71, 65, 71, 67, 65, 71, 84, 65, 67, 84, 65, 67,\n",
       "         71, 84, 71, 67, 71, 71, 65, 65, 71, 71, 84, 71, 67, 84, 65, 71, 65, 71,\n",
       "         67, 84, 71, 67, 65, 71, 65, 67, 71, 71, 65, 71, 67, 84, 71, 65, 65, 71,\n",
       "         67, 65, 71, 84, 84, 71, 67, 71, 67, 65, 65, 84, 71, 84, 67, 67, 84, 67,\n",
       "         65, 67, 67, 65, 65, 67, 65, 67, 71, 67, 65, 71, 84, 67, 71, 71, 65, 71,\n",
       "         65, 65, 84, 71, 65, 71, 67, 71, 67, 67, 84, 71, 71, 67, 67, 84, 67, 84,\n",
       "         71, 84, 71, 71, 67, 67, 67, 65, 71, 71, 65, 71, 67, 84, 71, 65, 65, 71,\n",
       "         71, 65, 71, 65, 84, 67, 65, 65, 67, 67, 65, 71, 65, 65, 84, 71, 84, 71,\n",
       "         71, 65, 71, 65, 84, 67, 67, 65, 71, 67, 71, 84, 71, 71, 67, 67, 71, 67,\n",
       "         67, 84, 71, 67, 71, 71, 71, 65, 84, 71, 65, 67, 65, 84, 67, 65, 65, 71,\n",
       "         71, 65, 71, 84, 65, 67, 65, 65, 65, 84, 84, 67, 67, 71, 71, 71, 65, 65,\n",
       "         71, 67, 84, 67, 71, 84, 67, 84, 71, 67, 84, 71, 67, 65, 71, 71, 65, 67,\n",
       "         84, 65, 67, 84, 67, 71, 71, 65, 65, 67, 84, 71, 71, 65, 71, 71, 65, 71,\n",
       "         71, 65, 71, 65, 65, 67, 65, 84, 67, 65, 71, 67, 67, 84, 71, 67, 65, 71,\n",
       "         65, 65, 71, 67, 65, 65, 71, 84, 71, 84, 67, 84, 71, 84, 71, 67, 84, 67,\n",
       "         65, 71, 65, 67, 65, 71, 65, 65, 67, 67, 65, 71, 71, 84, 71, 71, 65, 71,\n",
       "         84, 84, 84, 71, 65, 71, 71, 71, 67, 67, 84, 67, 65, 65, 71, 67, 65, 84,\n",
       "         71, 65, 71, 65, 84, 67, 65, 65, 71, 67, 71, 84, 67, 84, 71, 71, 65, 71,\n",
       "         71, 65, 71, 71, 65, 71, 65, 67, 67, 71, 65, 71, 84, 65, 67, 67, 84, 67,\n",
       "         65, 65, 67, 65, 71, 67, 67, 65, 71, 67, 84, 71, 71, 65, 71, 71, 65, 84,\n",
       "         71, 67, 67, 65, 84, 67, 67, 71, 67, 67, 84, 67, 65, 65, 71, 71, 65, 71,\n",
       "         65, 84, 67, 84, 67, 65, 71, 65, 71, 67, 71, 71, 67, 65, 71, 67, 84, 71,\n",
       "         71, 65, 71, 71, 65, 71, 71, 67, 71, 67, 84, 71, 71, 65, 71, 65, 67, 67,\n",
       "         67, 84, 71, 65, 65, 71, 65, 67, 71, 71, 65, 71, 67, 71, 67, 71, 65, 65,\n",
       "         67, 65, 71, 65, 65, 71, 65, 65, 67, 65, 71, 67, 67, 84, 71, 67, 71, 67,\n",
       "         65, 65, 71, 71, 65, 71, 67, 84, 71, 84, 67, 65, 67, 65, 67, 84, 65, 67,\n",
       "         65, 84, 71, 65, 71, 67, 65, 84, 67, 65, 65, 84, 71, 65, 67, 84, 67, 67,\n",
       "         84, 84, 67, 84, 65, 67, 65, 67, 67, 65, 71, 67, 67, 65, 67, 67, 84, 71,\n",
       "         67, 65, 84, 71, 84, 67, 84, 67, 71, 67, 84, 71, 71, 65, 84, 71, 71, 67,\n",
       "         67, 84, 67, 65, 65, 71, 84, 84, 67, 65, 71, 84, 71, 65, 67, 71, 65, 84,\n",
       "         71, 67, 84, 71, 67, 67, 71, 65, 71, 67, 67, 67, 65, 65, 67, 65, 65, 67,\n",
       "         71, 65, 84, 71, 67, 67, 71, 65, 71, 71, 67, 67, 67, 84, 71, 71, 84, 67,\n",
       "         65, 65, 84, 71, 71, 67, 84, 84, 84, 71, 65, 71, 67, 65, 67, 71, 71, 67,\n",
       "         71, 71, 67, 67, 84, 71, 71, 67, 67, 65, 65, 71, 67, 84, 71, 67, 67, 65,\n",
       "         67, 84, 71, 71, 65, 67, 65, 65, 67, 65, 65, 71, 65, 67, 67, 84, 67, 67,\n",
       "         65, 67, 71, 67, 67, 67, 65, 65, 71, 65, 65, 71, 71, 65, 71, 71, 71, 67,\n",
       "         67, 84, 67, 71, 67, 65, 67, 67, 71, 67, 67, 67, 84, 67, 67, 67, 67, 67,\n",
       "         65, 71, 67, 67, 84, 67, 71, 84, 67, 84]], device='cuda:0',\n",
       "       dtype=torch.int32)"
      ]
     },
     "execution_count": 25,
     "metadata": {},
     "output_type": "execute_result"
    }
   ],
   "source": [
    "long_tokens"
   ]
  },
  {
   "cell_type": "code",
   "execution_count": 26,
   "id": "5c2d6c3d-d3b3-454c-9a41-b1d925fb6e7b",
   "metadata": {},
   "outputs": [],
   "source": [
    "# get logits for it\n",
    "with torch.inference_mode():\n",
    "    logits, _ = model(long_tokens)"
   ]
  },
  {
   "cell_type": "code",
   "execution_count": 27,
   "id": "ffbed135-03d8-4b01-9edb-5280f60e95d8",
   "metadata": {},
   "outputs": [
    {
     "data": {
      "text/plain": [
       "tensor([[[-11.8750, -19.2500, -19.2500,  ..., -19.1250, -19.2500, -19.2500],\n",
       "         [ -9.0000, -21.2500, -21.2500,  ..., -21.1250, -21.2500, -21.2500],\n",
       "         [ -8.6250, -22.0000, -21.8750,  ..., -21.8750, -21.8750, -21.8750],\n",
       "         ...,\n",
       "         [ -7.8750, -22.3750, -22.3750,  ..., -22.3750, -22.3750, -22.3750],\n",
       "         [ -8.2500, -22.5000, -22.5000,  ..., -22.3750, -22.5000, -22.5000],\n",
       "         [ -8.1250, -22.3750, -22.3750,  ..., -22.3750, -22.3750, -22.3750]]],\n",
       "       device='cuda:0', dtype=torch.bfloat16)"
      ]
     },
     "execution_count": 27,
     "metadata": {},
     "output_type": "execute_result"
    }
   ],
   "source": [
    "logits"
   ]
  },
  {
   "cell_type": "code",
   "execution_count": 28,
   "id": "27e1b724-d560-4e93-8e51-3b18cad864f4",
   "metadata": {},
   "outputs": [
    {
     "data": {
      "text/plain": [
       "torch.Size([1, 1000, 512])"
      ]
     },
     "execution_count": 28,
     "metadata": {},
     "output_type": "execute_result"
    }
   ],
   "source": [
    "logits.shape"
   ]
  },
  {
   "cell_type": "code",
   "execution_count": 29,
   "id": "f36b3551-f150-4356-b366-46753028b41b",
   "metadata": {},
   "outputs": [],
   "source": [
    "# extract logits for nucleotides only\n",
    "acgt_logits = logits[0,:,(65,67,71,84)]"
   ]
  },
  {
   "cell_type": "code",
   "execution_count": 30,
   "id": "b6c2959b-200c-443e-aa85-770a533e2cf8",
   "metadata": {},
   "outputs": [
    {
     "data": {
      "text/plain": [
       "torch.Size([1000, 4])"
      ]
     },
     "execution_count": 30,
     "metadata": {},
     "output_type": "execute_result"
    }
   ],
   "source": [
    "acgt_logits.shape"
   ]
  },
  {
   "cell_type": "code",
   "execution_count": 31,
   "id": "373bd68b-cfc7-4b08-95cb-c81d89b001cb",
   "metadata": {},
   "outputs": [
    {
     "data": {
      "text/plain": [
       "tensor([[-0.1157, -0.3320, -0.3047, -0.1719],\n",
       "        [-0.4941, -0.1553, -0.3398, -0.2871],\n",
       "        [-0.1533, -0.1826, -0.1914, -0.5195],\n",
       "        ...,\n",
       "        [-1.2344,  0.6484,  0.8750, -1.6562],\n",
       "        [ 0.0786, -0.4414, -0.0605, -0.7539],\n",
       "        [-0.6016,  0.9258, -0.9336, -0.6523]], device='cuda:0',\n",
       "       dtype=torch.bfloat16)"
      ]
     },
     "execution_count": 31,
     "metadata": {},
     "output_type": "execute_result"
    }
   ],
   "source": [
    "acgt_logits"
   ]
  },
  {
   "cell_type": "code",
   "execution_count": 32,
   "id": "678248df-fd2d-4d17-aba2-43b0eba28e75",
   "metadata": {},
   "outputs": [],
   "source": [
    "# calculate probabilities with softmax\n",
    "acgt_probs = torch.softmax(acgt_logits, dim=-1)"
   ]
  },
  {
   "cell_type": "code",
   "execution_count": 33,
   "id": "51efdd7d-9e15-4151-8612-4478a98b7661",
   "metadata": {},
   "outputs": [
    {
     "data": {
      "text/plain": [
       "tensor([[0.2793, 0.2246, 0.2314, 0.2637],\n",
       "        [0.2080, 0.2930, 0.2432, 0.2559],\n",
       "        [0.2754, 0.2676, 0.2656, 0.1914],\n",
       "        ...,\n",
       "        [0.0608, 0.3984, 0.5000, 0.0398],\n",
       "        [0.3457, 0.2051, 0.3008, 0.1504],\n",
       "        [0.1377, 0.6328, 0.0986, 0.1309]], device='cuda:0',\n",
       "       dtype=torch.bfloat16)"
      ]
     },
     "execution_count": 33,
     "metadata": {},
     "output_type": "execute_result"
    }
   ],
   "source": [
    "acgt_probs"
   ]
  },
  {
   "cell_type": "code",
   "execution_count": 34,
   "id": "803c6396-9f30-4a41-8d84-c390448ae50c",
   "metadata": {},
   "outputs": [],
   "source": [
    "# data transformation for plotting\n",
    "probs_t = acgt_probs.transpose(1,0).to(\"cpu\").to(torch.float32)[:,500:530]"
   ]
  },
  {
   "cell_type": "code",
   "execution_count": 35,
   "id": "bcc9ba5f-2b58-4e95-909d-7914a5bec565",
   "metadata": {},
   "outputs": [],
   "source": [
    "probs_dict = {\n",
    "    'A': probs_t[0,:],\n",
    "    'C': probs_t[1,:],\n",
    "    'G': probs_t[2,:],\n",
    "    'T': probs_t[3,:]\n",
    "}"
   ]
  },
  {
   "cell_type": "code",
   "execution_count": 36,
   "id": "b8141dbf-f45c-4157-a50a-89115e919b75",
   "metadata": {},
   "outputs": [
    {
     "data": {
      "image/png": "[encoded data removed]",
      "text/plain": [
       "<Figure size 640x480 with 1 Axes>"
      ]
     },
     "metadata": {},
     "output_type": "display_data"
    }
   ],
   "source": [
    "# plot probabilities by position\n",
    "x = np.linspace(0,probs_t.shape[1],probs_t.shape[1],dtype=np.int32)\n",
    "plt.bar(x, probs_dict['A'], label = 'A')\n",
    "plt.bar(x, probs_dict['C'], bottom = probs_dict['A'], label = 'C')\n",
    "plt.bar(x, probs_dict['G'], bottom = probs_dict['A'] + probs_dict['C'], label = 'G')\n",
    "plt.bar(x, probs_dict['T'], bottom = probs_dict['A'] + probs_dict['C'] + probs_dict['G'], label = 'T')\n",
    "plt.legend(loc = \"center left\", bbox_to_anchor = (1,0.5))\n",
    "plt.xlabel(\"Position in fragment\")\n",
    "plt.ylabel(\"Probability\")\n",
    "plt.show()"
   ]
  },
  {
   "cell_type": "code",
   "execution_count": 37,
   "id": "7f95d72e-9d01-4321-a370-7013f8947c58",
   "metadata": {},
   "outputs": [
    {
     "data": {
      "text/plain": [
       "'AAGGAGTACAAATTCCGGGAAGCTCGTCTG'"
      ]
     },
     "execution_count": 37,
     "metadata": {},
     "output_type": "execute_result"
    }
   ],
   "source": [
    "seed[501:531]"
   ]
  },
  {
   "cell_type": "code",
   "execution_count": 38,
   "id": "61967008-a30d-4210-a959-2b655b087349",
   "metadata": {
    "scrolled": true
   },
   "outputs": [],
   "source": [
    "# get confidence per position\n",
    "max_probs = acgt_probs.max(dim=1).values.to(\"cpu\").to(torch.float32)"
   ]
  },
  {
   "cell_type": "code",
   "execution_count": 39,
   "id": "1f5839bc-c96e-42d3-bcaf-e05ca8b9a072",
   "metadata": {},
   "outputs": [
    {
     "data": {
      "image/png": "[encoded data removed]",
      "text/plain": [
       "<Figure size 1000x500 with 1 Axes>"
      ]
     },
     "metadata": {},
     "output_type": "display_data"
    }
   ],
   "source": [
    "# plot confidence per position\n",
    "fig = plt.figure(figsize = (10,5))\n",
    "plt.plot(max_probs)\n",
    "plt.xlabel(\"Position\")\n",
    "plt.ylabel(\"Max nucleotide prob\")\n",
    "plt.show()"
   ]
  },
  {
   "cell_type": "markdown",
   "id": "4b18003e-59b8-4e30-9881-46e2845bc085",
   "metadata": {},
   "source": [
    "## Confidence and correctness"
   ]
  },
  {
   "cell_type": "code",
   "execution_count": 40,
   "id": "7b8cb1a6-9112-4156-af0b-54c7402b8df3",
   "metadata": {
    "scrolled": true
   },
   "outputs": [
    {
     "data": {
      "text/plain": [
       "tensor([ 5.,  5.,  5.,  6.,  7.,  5.,  8.,  8.,  6.,  7., 11.,  5.,  8., 11.,\n",
       "         6., 10.,  9., 10.,  9.,  9.,  7.,  7., 10.,  7.,  8., 10.,  5.,  8.,\n",
       "        13.,  6.,  8., 10.,  6.,  7., 10.,  6.,  8., 12.,  8.,  8., 10.,  8.,\n",
       "         6., 10.,  7.,  8., 11.,  6.,  8., 12.,  6., 13., 14.,  7., 10., 13.,\n",
       "         8.,  6.,  9.,  7.,  7., 14.,  7.,  7., 16.,  9.,  8., 12., 10.,  7.,\n",
       "        11.,  9.,  6., 11.,  8.,  5., 12.,  8.,  7., 12., 10.,  9., 12.,  9.,\n",
       "         8., 15.,  8.,  7., 12., 14., 10., 15.,  7.,  8., 11.,  8.,  6., 15.,\n",
       "         9.,  7., 10., 11.,  7., 11.,  8.,  6., 10.,  8.,  6., 12.,  8.,  6.,\n",
       "        10.,  9.,  7., 11.,  8., 10., 11.,  8.,  8., 13.,  7.,  6., 12.,  8.,\n",
       "        10.,  9.,  8.,  7., 12.,  7.,  7., 13., 10., 10., 16., 10.,  7., 12.,\n",
       "         8.,  7., 15.,  6.,  7., 10.,  7.,  6., 13.,  8.,  7., 15., 12.,  7.,\n",
       "        11.,  9.,  6., 12.,  7.,  8., 13.,  7., 11.,  9.,  9., 11., 13.,  8.,\n",
       "         8., 10.,  8.,  8., 11.,  7.,  6., 11.,  9.,  8., 12.,  7.,  6., 14.,\n",
       "         7.,  7., 12.,  8.,  9., 12.,  7.,  9., 14.,  7.,  9., 11.,  7.,  8.,\n",
       "        10.,  9.,  9., 15.,  7.,  7., 19., 11.,  9., 12.,  8.,  7., 12.,  8.,\n",
       "         7., 11.,  7., 10., 12.,  9., 11., 11.,  8., 11., 13.,  7., 13.,  9.,\n",
       "        11., 11., 12.,  8.,  9., 15.,  7., 10.,  9.,  7., 13., 16.,  9.,  9.,\n",
       "        14.,  8., 13.,  9.,  7., 10., 16., 15., 12., 12., 10.,  8., 15.,  8.,\n",
       "         7.,  9.,  7.,  7., 13.,  9.,  8.,  8.,  8.,  8., 11.,  7., 11.,  7.,\n",
       "         7.,  6.,  8.,  7.,  8., 10.,  7., 10.,  9.,  7.,  7.,  8., 11., 10.,\n",
       "         7., 10.,  8.,  9.,  8.,  8.,  9.,  7.,  6.,  8.,  7.,  8.,  8.,  7.,\n",
       "         8.,  8.,  6.,  7.,  9.,  6.,  7., 10.,  6.,  7.,  9.,  8.,  6., 12.,\n",
       "         7.,  8.,  9.,  8.,  9., 14.,  7.,  7., 13.,  8.,  9., 10.,  7.,  8.,\n",
       "         8.,  7.,  5., 10.,  6.,  7., 13.,  7.,  7., 13.,  8.,  7., 14.,  8.,\n",
       "         6., 13.,  7.,  6., 16.,  7., 10., 10.,  9.,  6., 10.,  9., 11., 13.,\n",
       "         7.,  7., 13.,  8.,  7., 11.,  9., 12., 10.,  8.,  6., 11.,  9.,  7.,\n",
       "        13.,  7., 11.,  9.,  8., 10., 14.,  7., 14., 12., 11., 10., 13.,  7.,\n",
       "         7., 15.,  8.,  8.,  9.,  9.,  8.,  9., 10.,  8., 14., 11., 12., 13.,\n",
       "         6.,  8., 12.,  9., 12.,  9.,  9.,  9., 12.,  6.,  8.,  9.,  8.,  7.,\n",
       "        15.,  6.,  9., 10.,  7.,  9., 12.,  8., 11., 12., 11., 10., 11.,  7.,\n",
       "         9., 10.,  8., 15., 13.,  8.,  9.,  8.,  7., 14., 10., 12., 16., 12.,\n",
       "         7.,  6.,  8.,  8.,  9., 15.,  9., 11., 13.,  9.,  8., 13.,  9.,  9.,\n",
       "        14.,  9.,  9., 12.,  6., 11.,  9.,  7., 10.,  9., 10.,  8., 16.,  8.,\n",
       "        11., 16.,  9.,  8., 12.,  8.,  9., 13.,  7.,  8., 10.,  7., 13., 14.,\n",
       "         7.,  7.,  9.,  9., 11.,  8.,  6.,  9.,  8.,  7., 13., 14.,  9.,  8.,\n",
       "        10., 10., 13., 14.,  8.,  7., 14.,  8.,  9., 12.,  7.,  9., 10.,  7.,\n",
       "         8., 12.,  8.,  8., 15.,  6., 10., 12., 11., 13., 11.,  9.,  9., 11.,\n",
       "         8.,  8., 13., 10., 10.,  8., 11.,  9.,  8.,  8.,  9., 12.,  7.,  9.,\n",
       "        12., 11.,  7., 13.,  8., 11., 12.,  6.,  7., 13.,  7.,  7.,  8.,  8.,\n",
       "         9., 10.,  7.,  9., 13.,  7., 11., 13.,  6.,  8., 12.,  7., 11., 13.,\n",
       "         8., 10.,  9.,  8., 12., 12.,  9., 11., 12., 11., 16., 12., 10., 13.,\n",
       "        15.,  8., 10., 12.,  7.,  8., 17., 10., 13., 13., 12., 11.,  8., 13.,\n",
       "        13., 12., 11., 17., 13.,  9., 11., 12., 12., 11., 13.,  7., 10., 12.,\n",
       "         7., 12., 12.,  8.,  9., 13.,  8.,  9., 11.,  7.,  7.,  8., 13., 12.,\n",
       "        12.,  6., 10.,  8.,  6.,  8., 15., 11., 11., 12.,  8.,  9., 15.,  9.,\n",
       "        13., 13.,  9., 10., 10.,  9.,  9.,  9.,  8.,  9., 10., 10., 14., 13.,\n",
       "         8., 15., 14.,  8., 11., 11.,  8., 14., 13.,  8., 10.,  8.,  7.,  9.,\n",
       "        13.,  7., 10., 15.,  9., 13., 12., 11., 13., 13.,  7., 11., 13.,  8.,\n",
       "         8., 16.,  7., 13.,  9.,  8., 11., 13.,  7., 12., 13.,  8., 10., 10.,\n",
       "         8., 12., 12.,  6.,  9., 10.,  7.,  8., 13., 10., 10., 11.,  9., 13.,\n",
       "        12.,  8.,  8., 10.,  8.,  7., 11., 11., 14., 12.,  7.,  8.,  8.,  9.,\n",
       "         8., 14.,  7., 11., 12.,  9., 11., 14.,  8., 13., 14.,  6., 10.,  9.,\n",
       "        10., 10., 13.,  9.,  9., 14.,  6., 10.,  8.,  8.,  8., 13.,  7., 12.,\n",
       "        12.,  7.,  9.,  9.,  8.,  9., 15.,  7.,  8.,  8.,  8., 14., 12.,  8.,\n",
       "        10., 14.,  9.,  9., 13.,  8.,  9., 12.,  6., 11., 12.,  9., 16., 13.,\n",
       "         9.,  7., 10.,  7., 10., 11.,  8., 16., 14., 10., 16., 15., 14., 10.,\n",
       "         8., 12., 10., 15.,  9.,  9., 15.,  6., 11., 11.,  9.,  9., 15.,  6.,\n",
       "         7.,  9.,  6.,  9., 12., 13., 13., 12.,  6.,  9.,  8.,  6.,  8., 11.,\n",
       "         6., 11., 14.,  7., 12.,  9.,  7.,  9., 13.,  7.,  9., 13.,  6.,  7.,\n",
       "        14.,  7.,  9., 15., 10.,  8., 15., 10., 13., 10., 10.,  8., 13.,  8.,\n",
       "        11., 11., 12., 10., 10.,  7.,  9., 14., 11.,  9., 12.,  8.,  9., 11.,\n",
       "         7.,  8., 13., 11., 10.,  9.,  6.,  9., 10., 12., 10., 10.,  9.,  8.,\n",
       "         9.,  6.,  8., 11.,  6.,  9.,  9.,  6.,  7., 11.,  6.,  6., 11.,  6.,\n",
       "         8., 10., 10.,  8., 10.,  5.,  8., 10.,  7.,  7.,  8.,  6., 10., 13.,\n",
       "         8.,  8., 14.,  9.,  9.,  9., 12., 10., 12.,  6.,  8., 12., 13.,  7.,\n",
       "        10.,  7.,  7., 12.,  6.,  8., 11.,  6.,  9., 11.,  6.,  6., 13.,  7.,\n",
       "         9., 10.,  6.,  8.,  9.,  7.,  9., 14.,  8.,  6.,  8.,  8.,  5., 14.,\n",
       "         8.,  8., 10.,  6.,  8., 11.,  7.,  9., 12.,  6.,  6., 10.,  7.,  6.,\n",
       "         8.,  7.,  9., 11.,  9.,  8.,  8.,  9.,  9., 11.,  6.,  8., 13.,  6.,\n",
       "         6.,  9.,  7., 10., 11.,  7.,  9., 13.,  8.,  8., 12., 11.,  7.,  8.,\n",
       "         8.,  7.,  7.,  9., 12.,  8.,  7.,  7.,  7.,  8.,  7., 13.,  6.,  6.,\n",
       "        13.,  8.,  8., 10.,  6., 12.])"
      ]
     },
     "execution_count": 40,
     "metadata": {},
     "output_type": "execute_result"
    }
   ],
   "source": [
    "# split into bins of width 0.2\n",
    "conf_tier = max_probs.div(0.05).floor()\n",
    "conf_tier"
   ]
  },
  {
   "cell_type": "code",
   "execution_count": 41,
   "id": "5485b4c8-c884-4ebf-9a10-dda53acff87b",
   "metadata": {},
   "outputs": [],
   "source": [
    "mapping = {0: 'A', 1: 'C', 2: 'G', 3: 'T'}"
   ]
  },
  {
   "cell_type": "code",
   "execution_count": 42,
   "id": "93165a4d-9537-4ee3-859a-869c6fd84687",
   "metadata": {
    "scrolled": true
   },
   "outputs": [
    {
     "name": "stdout",
     "output_type": "stream",
     "text": [
      "['N', 'A', 'C', 'A', 'T', 'G', 'A', 'C', 'G', 'A', 'C', 'G', 'A', 'C', 'G', 'A', 'C', 'G', 'A', 'C']\n",
      "1000\n"
     ]
    }
   ],
   "source": [
    "# get predicted sequence from logits\n",
    "idx_list = acgt_probs.argmax(dim=1)\n",
    "pred_list = ['N'] + [mapping[x.item()] for x in idx_list][:-1]\n",
    "print(pred_list[:20])\n",
    "print(len(pred_list))"
   ]
  },
  {
   "cell_type": "code",
   "execution_count": 43,
   "id": "96f3e457-bc84-45d4-90dc-ef0c0d711a69",
   "metadata": {},
   "outputs": [
    {
     "name": "stdout",
     "output_type": "stream",
     "text": [
      "['A', 'T', 'G', 'T', 'C', 'G', 'G', 'C', 'G', 'C', 'C', 'G', 'T', 'C', 'G', 'G', 'A', 'G', 'G', 'A']\n",
      "1000\n"
     ]
    }
   ],
   "source": [
    "# get corresponding real sequence\n",
    "real_list = list(long_seq[:1000])\n",
    "print(real_list[:20])\n",
    "print(len(real_list))"
   ]
  },
  {
   "cell_type": "code",
   "execution_count": 44,
   "id": "8d80696d-5f2a-4b69-a021-3a17ea20cc71",
   "metadata": {},
   "outputs": [],
   "source": [
    "# identify correct predictions\n",
    "correct = [a == b for a,b in zip(pred_list, real_list)]"
   ]
  },
  {
   "cell_type": "code",
   "execution_count": 45,
   "id": "d7145ff7-7464-42ff-a488-f2e3064c9d52",
   "metadata": {},
   "outputs": [
    {
     "data": {
      "text/plain": [
       "520"
      ]
     },
     "execution_count": 45,
     "metadata": {},
     "output_type": "execute_result"
    }
   ],
   "source": [
    "sum(correct)"
   ]
  },
  {
   "cell_type": "code",
   "execution_count": 46,
   "id": "c210e0a3-17d4-49c4-96ed-ec258d693634",
   "metadata": {},
   "outputs": [],
   "source": [
    "conf_corr = pd.DataFrame({\"conf\": conf_tier, \"corr\": correct})"
   ]
  },
  {
   "cell_type": "code",
   "execution_count": 47,
   "id": "13f226fd-b23b-4880-96cf-85d0b91d5035",
   "metadata": {},
   "outputs": [
    {
     "data": {
      "text/html": [
       "<div>\n",
       "<style scoped>\n",
       "    .dataframe tbody tr th:only-of-type {\n",
       "        vertical-align: middle;\n",
       "    }\n",
       "\n",
       "    .dataframe tbody tr th {\n",
       "        vertical-align: top;\n",
       "    }\n",
       "\n",
       "    .dataframe thead th {\n",
       "        text-align: right;\n",
       "    }\n",
       "</style>\n",
       "<table border=\"1\" class=\"dataframe\">\n",
       "  <thead>\n",
       "    <tr style=\"text-align: right;\">\n",
       "      <th></th>\n",
       "      <th>corr</th>\n",
       "    </tr>\n",
       "    <tr>\n",
       "      <th>conf</th>\n",
       "      <th></th>\n",
       "    </tr>\n",
       "  </thead>\n",
       "  <tbody>\n",
       "    <tr>\n",
       "      <th>5.0</th>\n",
       "      <td>0.500000</td>\n",
       "    </tr>\n",
       "    <tr>\n",
       "      <th>6.0</th>\n",
       "      <td>0.531646</td>\n",
       "    </tr>\n",
       "    <tr>\n",
       "      <th>7.0</th>\n",
       "      <td>0.644737</td>\n",
       "    </tr>\n",
       "    <tr>\n",
       "      <th>8.0</th>\n",
       "      <td>0.483696</td>\n",
       "    </tr>\n",
       "    <tr>\n",
       "      <th>9.0</th>\n",
       "      <td>0.458333</td>\n",
       "    </tr>\n",
       "    <tr>\n",
       "      <th>10.0</th>\n",
       "      <td>0.438095</td>\n",
       "    </tr>\n",
       "    <tr>\n",
       "      <th>11.0</th>\n",
       "      <td>0.482759</td>\n",
       "    </tr>\n",
       "    <tr>\n",
       "      <th>12.0</th>\n",
       "      <td>0.583333</td>\n",
       "    </tr>\n",
       "    <tr>\n",
       "      <th>13.0</th>\n",
       "      <td>0.525641</td>\n",
       "    </tr>\n",
       "    <tr>\n",
       "      <th>14.0</th>\n",
       "      <td>0.600000</td>\n",
       "    </tr>\n",
       "    <tr>\n",
       "      <th>15.0</th>\n",
       "      <td>0.346154</td>\n",
       "    </tr>\n",
       "    <tr>\n",
       "      <th>16.0</th>\n",
       "      <td>0.769231</td>\n",
       "    </tr>\n",
       "    <tr>\n",
       "      <th>17.0</th>\n",
       "      <td>1.000000</td>\n",
       "    </tr>\n",
       "    <tr>\n",
       "      <th>19.0</th>\n",
       "      <td>0.000000</td>\n",
       "    </tr>\n",
       "  </tbody>\n",
       "</table>\n",
       "</div>"
      ],
      "text/plain": [
       "          corr\n",
       "conf          \n",
       "5.0   0.500000\n",
       "6.0   0.531646\n",
       "7.0   0.644737\n",
       "8.0   0.483696\n",
       "9.0   0.458333\n",
       "10.0  0.438095\n",
       "11.0  0.482759\n",
       "12.0  0.583333\n",
       "13.0  0.525641\n",
       "14.0  0.600000\n",
       "15.0  0.346154\n",
       "16.0  0.769231\n",
       "17.0  1.000000\n",
       "19.0  0.000000"
      ]
     },
     "execution_count": 47,
     "metadata": {},
     "output_type": "execute_result"
    }
   ],
   "source": [
    "percentages = conf_corr.groupby(\"conf\").mean(\"corr\")\n",
    "counts = conf_corr.groupby(\"conf\").count()\n",
    "percentages"
   ]
  },
  {
   "cell_type": "code",
   "execution_count": 1,
   "id": "ca234ad1-e1b0-4d1f-95cd-bae734d7fa0f",
   "metadata": {},
   "outputs": [
    {
     "ename": "NameError",
     "evalue": "name 'np' is not defined",
     "output_type": "error",
     "traceback": [
      "\u001b[0;31m---------------------------------------------------------------------------\u001b[0m",
      "\u001b[0;31mNameError\u001b[0m                                 Traceback (most recent call last)",
      "Cell \u001b[0;32mIn[1], line 2\u001b[0m\n\u001b[1;32m      1\u001b[0m \u001b[38;5;66;03m# plot correctness per confidence bin\u001b[39;00m\n\u001b[0;32m----> 2\u001b[0m x \u001b[38;5;241m=\u001b[39m \u001b[43mnp\u001b[49m\u001b[38;5;241m.\u001b[39mlinspace(\u001b[38;5;241m5\u001b[39m, \u001b[38;5;241m19\u001b[39m, \u001b[38;5;241m14\u001b[39m, dtype\u001b[38;5;241m=\u001b[39mnp\u001b[38;5;241m.\u001b[39mint32)\n\u001b[1;32m      3\u001b[0m plt\u001b[38;5;241m.\u001b[39mbar(x, percentages[\u001b[38;5;124m\"\u001b[39m\u001b[38;5;124mcorr\u001b[39m\u001b[38;5;124m\"\u001b[39m])\n\u001b[1;32m      4\u001b[0m plt\u001b[38;5;241m.\u001b[39maxhline(y\u001b[38;5;241m=\u001b[39m\u001b[38;5;241m0.52\u001b[39m, color\u001b[38;5;241m=\u001b[39m\u001b[38;5;124m\"\u001b[39m\u001b[38;5;124mred\u001b[39m\u001b[38;5;124m\"\u001b[39m)\n",
      "\u001b[0;31mNameError\u001b[0m: name 'np' is not defined"
     ]
    }
   ],
   "source": [
    "# plot correctness per confidence bin\n",
    "x = np.linspace(5, 19, 14, dtype=np.int32)\n",
    "plt.bar(x, percentages[\"corr\"])\n",
    "plt.axhline(y=0.52, color=\"red\")\n",
    "plt.axhline(y=0.25, color=\"purple\")\n",
    "plt.ylim((0,1.1))\n",
    "plt.xlabel(\"Confidence bin\")\n",
    "plt.ylabel(\"Percentage correctness\")\n",
    "for i, count in enumerate(counts[\"corr\"]):\n",
    "    plt.text(x[i], list(percentages[\"corr\"])[i] + 0.03, count, horizontalalignment=\"center\")\n",
    "plt.xticks([])"
   ]
  },
  {
   "cell_type": "code",
   "execution_count": 2,
   "id": "a1805732-c3b1-4419-a560-3e83e314d06e",
   "metadata": {
    "scrolled": true
   },
   "outputs": [
    {
     "ename": "NameError",
     "evalue": "name 'torch' is not defined",
     "output_type": "error",
     "traceback": [
      "\u001b[0;31m---------------------------------------------------------------------------\u001b[0m",
      "\u001b[0;31mNameError\u001b[0m                                 Traceback (most recent call last)",
      "Cell \u001b[0;32mIn[2], line 2\u001b[0m\n\u001b[1;32m      1\u001b[0m \u001b[38;5;66;03m# calculate position bins\u001b[39;00m\n\u001b[0;32m----> 2\u001b[0m pos_tier \u001b[38;5;241m=\u001b[39m \u001b[43mtorch\u001b[49m\u001b[38;5;241m.\u001b[39mfrom_numpy(np\u001b[38;5;241m.\u001b[39mlinspace(\u001b[38;5;241m0\u001b[39m, \u001b[38;5;241m999\u001b[39m, \u001b[38;5;241m1000\u001b[39m, dtype\u001b[38;5;241m=\u001b[39mnp\u001b[38;5;241m.\u001b[39mint32))\u001b[38;5;241m.\u001b[39mdiv(\u001b[38;5;241m100\u001b[39m)\u001b[38;5;241m.\u001b[39mfloor()\n\u001b[1;32m      3\u001b[0m \u001b[38;5;28mprint\u001b[39m(pos_tier)\n",
      "\u001b[0;31mNameError\u001b[0m: name 'torch' is not defined"
     ]
    }
   ],
   "source": [
    "# calculate position bins\n",
    "pos_tier = torch.from_numpy(np.linspace(0, 999, 1000, dtype=np.int32)).div(100).floor()\n",
    "print(pos_tier)"
   ]
  },
  {
   "cell_type": "code",
   "execution_count": 50,
   "id": "fce6b000-4bff-47a3-af7a-679932b185cf",
   "metadata": {},
   "outputs": [],
   "source": [
    "pos_corr = pd.DataFrame({\"pos\": pos_tier, \"corr\": correct})"
   ]
  },
  {
   "cell_type": "code",
   "execution_count": 51,
   "id": "48a46f43-b699-45b3-af90-a3b92bbd8de8",
   "metadata": {},
   "outputs": [],
   "source": [
    "percentages_pos = pos_corr.groupby(\"pos\").mean(\"corr\")"
   ]
  },
  {
   "cell_type": "code",
   "execution_count": 52,
   "id": "160cfeb7-06bd-4b92-9c93-ba6923f45997",
   "metadata": {},
   "outputs": [
    {
     "data": {
      "text/plain": [
       "([], [])"
      ]
     },
     "execution_count": 52,
     "metadata": {},
     "output_type": "execute_result"
    },
    {
     "data": {
      "image/png": "[encoded data removed]",
      "text/plain": [
       "<Figure size 640x480 with 1 Axes>"
      ]
     },
     "metadata": {},
     "output_type": "display_data"
    }
   ],
   "source": [
    "# plot correctness by posistion bin\n",
    "x = np.linspace(0, 9, 10, dtype=np.int32)\n",
    "plt.bar(x, percentages_pos[\"corr\"])\n",
    "plt.axhline(y=0.52, color=\"red\")\n",
    "plt.xlabel(\"Position bin\")\n",
    "plt.ylabel(\"Percentage correctness\")\n",
    "plt.xticks([])"
   ]
  },
  {
   "cell_type": "code",
   "execution_count": 53,
   "id": "197b0740-399d-4ebc-942b-546784ff07c8",
   "metadata": {},
   "outputs": [],
   "source": [
    "# make a data frame to keep the results and use group_by\n",
    "res_df = pd.DataFrame({\"pred\": pred_list, \"real\": real_list, \"conf\": conf_tier, \"pos\": pos_tier})"
   ]
  },
  {
   "cell_type": "code",
   "execution_count": 54,
   "id": "2e924f8f-ad71-45a8-8962-d7cc7ae192dc",
   "metadata": {},
   "outputs": [],
   "source": [
    "res_df[\"corr\"] = res_df[\"pred\"] == res_df[\"real\"]"
   ]
  },
  {
   "cell_type": "code",
   "execution_count": 55,
   "id": "c5a9c28b-6aea-4396-954c-a1cb948cfdd0",
   "metadata": {},
   "outputs": [
    {
     "data": {
      "text/plain": [
       "0      N\n",
       "1      A\n",
       "2      C\n",
       "3      A\n",
       "4      T\n",
       "      ..\n",
       "995    G\n",
       "996    A\n",
       "997    A\n",
       "998    G\n",
       "999    A\n",
       "Name: pred, Length: 1000, dtype: object"
      ]
     },
     "execution_count": 55,
     "metadata": {},
     "output_type": "execute_result"
    }
   ],
   "source": [
    "res_df[\"pred\"]"
   ]
  },
  {
   "cell_type": "markdown",
   "id": "46ef9160-c0aa-4645-b864-c85a5917ffde",
   "metadata": {},
   "source": [
    "## AUROC"
   ]
  },
  {
   "cell_type": "code",
   "execution_count": 3,
   "id": "3b5cac12-4cf7-4b17-873a-2fd2b6acc3a8",
   "metadata": {},
   "outputs": [
    {
     "ename": "NameError",
     "evalue": "name 'np' is not defined",
     "output_type": "error",
     "traceback": [
      "\u001b[0;31m---------------------------------------------------------------------------\u001b[0m",
      "\u001b[0;31mNameError\u001b[0m                                 Traceback (most recent call last)",
      "Cell \u001b[0;32mIn[3], line 2\u001b[0m\n\u001b[1;32m      1\u001b[0m \u001b[38;5;66;03m# transform the sequence to a format suitable for AUROC calculation\u001b[39;00m\n\u001b[0;32m----> 2\u001b[0m arr \u001b[38;5;241m=\u001b[39m \u001b[43mnp\u001b[49m\u001b[38;5;241m.\u001b[39marray(real_list)\u001b[38;5;241m.\u001b[39mreshape(\u001b[38;5;241m-\u001b[39m\u001b[38;5;241m1\u001b[39m,\u001b[38;5;241m1\u001b[39m)\n\u001b[1;32m      3\u001b[0m real_arr \u001b[38;5;241m=\u001b[39m OneHotEncoder()\u001b[38;5;241m.\u001b[39mfit_transform(arr)\u001b[38;5;241m.\u001b[39mtoarray()\n",
      "\u001b[0;31mNameError\u001b[0m: name 'np' is not defined"
     ]
    }
   ],
   "source": [
    "# transform the sequence to a format suitable for AUROC calculation\n",
    "arr = np.array(real_list).reshape(-1,1)\n",
    "real_arr = OneHotEncoder().fit_transform(arr).toarray()"
   ]
  },
  {
   "cell_type": "code",
   "execution_count": 80,
   "id": "11dd4441-ffe4-4d71-840f-cddaa16ed829",
   "metadata": {},
   "outputs": [
    {
     "data": {
      "text/plain": [
       "array([[1., 0., 0., 0.],\n",
       "       [0., 0., 0., 1.],\n",
       "       [0., 0., 1., 0.],\n",
       "       ...,\n",
       "       [0., 0., 0., 1.],\n",
       "       [0., 1., 0., 0.],\n",
       "       [0., 0., 0., 1.]])"
      ]
     },
     "execution_count": 80,
     "metadata": {},
     "output_type": "execute_result"
    }
   ],
   "source": [
    "real_arr"
   ]
  },
  {
   "cell_type": "code",
   "execution_count": 4,
   "id": "ebbe8170-47b6-43e3-ab0f-1b5d122cb61d",
   "metadata": {},
   "outputs": [
    {
     "ename": "NameError",
     "evalue": "name 'torch' is not defined",
     "output_type": "error",
     "traceback": [
      "\u001b[0;31m---------------------------------------------------------------------------\u001b[0m",
      "\u001b[0;31mNameError\u001b[0m                                 Traceback (most recent call last)",
      "Cell \u001b[0;32mIn[4], line 2\u001b[0m\n\u001b[1;32m      1\u001b[0m \u001b[38;5;66;03m# transform the predictions to match positions\u001b[39;00m\n\u001b[0;32m----> 2\u001b[0m preds_moved \u001b[38;5;241m=\u001b[39m \u001b[43mtorch\u001b[49m\u001b[38;5;241m.\u001b[39mcat((torch\u001b[38;5;241m.\u001b[39mtensor([[\u001b[38;5;241m0.25\u001b[39m, \u001b[38;5;241m0.25\u001b[39m, \u001b[38;5;241m0.25\u001b[39m, \u001b[38;5;241m0.25\u001b[39m]], dtype\u001b[38;5;241m=\u001b[39mtorch\u001b[38;5;241m.\u001b[39mfloat32), acgt_probs\u001b[38;5;241m.\u001b[39mto(\u001b[38;5;124m\"\u001b[39m\u001b[38;5;124mcpu\u001b[39m\u001b[38;5;124m\"\u001b[39m)[:\u001b[38;5;241m-\u001b[39m\u001b[38;5;241m1\u001b[39m]))\n\u001b[1;32m      3\u001b[0m pred_arr \u001b[38;5;241m=\u001b[39m preds_moved\u001b[38;5;241m.\u001b[39mto(\u001b[38;5;124m\"\u001b[39m\u001b[38;5;124mcpu\u001b[39m\u001b[38;5;124m\"\u001b[39m)\u001b[38;5;241m.\u001b[39mto(torch\u001b[38;5;241m.\u001b[39mfloat32)\u001b[38;5;241m.\u001b[39mnumpy()\n",
      "\u001b[0;31mNameError\u001b[0m: name 'torch' is not defined"
     ]
    }
   ],
   "source": [
    "# transform the predictions to match positions\n",
    "preds_moved = torch.cat((torch.tensor([[0.25, 0.25, 0.25, 0.25]], dtype=torch.float32), acgt_probs.to(\"cpu\")[:-1]))\n",
    "pred_arr = preds_moved.to(\"cpu\").to(torch.float32).numpy()"
   ]
  },
  {
   "cell_type": "code",
   "execution_count": 97,
   "id": "6d05f713-1d7f-4063-9f23-68f3eafedde9",
   "metadata": {},
   "outputs": [
    {
     "data": {
      "text/plain": [
       "array([[0.25      , 0.25      , 0.25      , 0.25      ],\n",
       "       [0.27929688, 0.22460938, 0.23144531, 0.26367188],\n",
       "       [0.20800781, 0.29296875, 0.24316406, 0.25585938],\n",
       "       ...,\n",
       "       [0.421875  , 0.25      , 0.22851562, 0.09863281],\n",
       "       [0.06079102, 0.3984375 , 0.5       , 0.03979492],\n",
       "       [0.34570312, 0.20507812, 0.30078125, 0.15039062]], dtype=float32)"
      ]
     },
     "execution_count": 97,
     "metadata": {},
     "output_type": "execute_result"
    }
   ],
   "source": [
    "pred_arr"
   ]
  },
  {
   "cell_type": "code",
   "execution_count": 100,
   "id": "c68a1e8b-02e5-48b9-82d1-b5a66c8f35d3",
   "metadata": {},
   "outputs": [
    {
     "data": {
      "text/plain": [
       "0.7387516561308416"
      ]
     },
     "execution_count": 100,
     "metadata": {},
     "output_type": "execute_result"
    }
   ],
   "source": [
    "# calculate AUROC\n",
    "total_auroc = roc_auc_score(real_arr, pred_arr)\n",
    "total_auroc"
   ]
  },
  {
   "cell_type": "code",
   "execution_count": 102,
   "id": "770c655c-ce12-4bb5-a4ad-09798f8a017b",
   "metadata": {},
   "outputs": [],
   "source": [
    "res_df[\"real_mx\"] = list(real_arr)\n",
    "res_df[\"pred_mx\"] = list(pred_arr)"
   ]
  },
  {
   "cell_type": "code",
   "execution_count": 104,
   "id": "02d4ed72-6ae9-42f6-a86e-acb057ea5fc5",
   "metadata": {},
   "outputs": [
    {
     "data": {
      "text/html": [
       "<div>\n",
       "<style scoped>\n",
       "    .dataframe tbody tr th:only-of-type {\n",
       "        vertical-align: middle;\n",
       "    }\n",
       "\n",
       "    .dataframe tbody tr th {\n",
       "        vertical-align: top;\n",
       "    }\n",
       "\n",
       "    .dataframe thead th {\n",
       "        text-align: right;\n",
       "    }\n",
       "</style>\n",
       "<table border=\"1\" class=\"dataframe\">\n",
       "  <thead>\n",
       "    <tr style=\"text-align: right;\">\n",
       "      <th></th>\n",
       "      <th>pred</th>\n",
       "      <th>real</th>\n",
       "      <th>conf</th>\n",
       "      <th>pos</th>\n",
       "      <th>corr</th>\n",
       "      <th>real_mx</th>\n",
       "      <th>pred_mx</th>\n",
       "    </tr>\n",
       "  </thead>\n",
       "  <tbody>\n",
       "    <tr>\n",
       "      <th>0</th>\n",
       "      <td>N</td>\n",
       "      <td>A</td>\n",
       "      <td>5.0</td>\n",
       "      <td>0.0</td>\n",
       "      <td>False</td>\n",
       "      <td>[1.0, 0.0, 0.0, 0.0]</td>\n",
       "      <td>[0.25, 0.25, 0.25, 0.25]</td>\n",
       "    </tr>\n",
       "    <tr>\n",
       "      <th>1</th>\n",
       "      <td>A</td>\n",
       "      <td>T</td>\n",
       "      <td>5.0</td>\n",
       "      <td>0.0</td>\n",
       "      <td>False</td>\n",
       "      <td>[0.0, 0.0, 0.0, 1.0]</td>\n",
       "      <td>[0.27929688, 0.22460938, 0.23144531, 0.26367188]</td>\n",
       "    </tr>\n",
       "    <tr>\n",
       "      <th>2</th>\n",
       "      <td>C</td>\n",
       "      <td>G</td>\n",
       "      <td>5.0</td>\n",
       "      <td>0.0</td>\n",
       "      <td>False</td>\n",
       "      <td>[0.0, 0.0, 1.0, 0.0]</td>\n",
       "      <td>[0.20800781, 0.29296875, 0.24316406, 0.25585938]</td>\n",
       "    </tr>\n",
       "    <tr>\n",
       "      <th>3</th>\n",
       "      <td>A</td>\n",
       "      <td>T</td>\n",
       "      <td>6.0</td>\n",
       "      <td>0.0</td>\n",
       "      <td>False</td>\n",
       "      <td>[0.0, 0.0, 0.0, 1.0]</td>\n",
       "      <td>[0.27539062, 0.26757812, 0.265625, 0.19140625]</td>\n",
       "    </tr>\n",
       "    <tr>\n",
       "      <th>4</th>\n",
       "      <td>T</td>\n",
       "      <td>C</td>\n",
       "      <td>7.0</td>\n",
       "      <td>0.0</td>\n",
       "      <td>False</td>\n",
       "      <td>[0.0, 1.0, 0.0, 0.0]</td>\n",
       "      <td>[0.20898438, 0.27734375, 0.21289062, 0.30273438]</td>\n",
       "    </tr>\n",
       "  </tbody>\n",
       "</table>\n",
       "</div>"
      ],
      "text/plain": [
       "  pred real  conf  pos   corr               real_mx  \\\n",
       "0    N    A   5.0  0.0  False  [1.0, 0.0, 0.0, 0.0]   \n",
       "1    A    T   5.0  0.0  False  [0.0, 0.0, 0.0, 1.0]   \n",
       "2    C    G   5.0  0.0  False  [0.0, 0.0, 1.0, 0.0]   \n",
       "3    A    T   6.0  0.0  False  [0.0, 0.0, 0.0, 1.0]   \n",
       "4    T    C   7.0  0.0  False  [0.0, 1.0, 0.0, 0.0]   \n",
       "\n",
       "                                            pred_mx  \n",
       "0                          [0.25, 0.25, 0.25, 0.25]  \n",
       "1  [0.27929688, 0.22460938, 0.23144531, 0.26367188]  \n",
       "2  [0.20800781, 0.29296875, 0.24316406, 0.25585938]  \n",
       "3    [0.27539062, 0.26757812, 0.265625, 0.19140625]  \n",
       "4  [0.20898438, 0.27734375, 0.21289062, 0.30273438]  "
      ]
     },
     "execution_count": 104,
     "metadata": {},
     "output_type": "execute_result"
    }
   ],
   "source": [
    "res_df.head()"
   ]
  }
 ],
 "metadata": {
  "kernelspec": {
   "display_name": "gpu",
   "language": "python",
   "name": "gpu"
  },
  "language_info": {
   "codemirror_mode": {
    "name": "ipython",
    "version": 3
   },
   "file_extension": ".py",
   "mimetype": "text/x-python",
   "name": "python",
   "nbconvert_exporter": "python",
   "pygments_lexer": "ipython3",
   "version": "3.12.4"
  }
 },
 "nbformat": 4,
 "nbformat_minor": 5
}
