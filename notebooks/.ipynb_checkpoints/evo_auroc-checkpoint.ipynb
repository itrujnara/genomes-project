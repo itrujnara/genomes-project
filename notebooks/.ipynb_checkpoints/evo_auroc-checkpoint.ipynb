{
 "cells": [
  {
   "cell_type": "code",
   "execution_count": 3,
   "id": "47386c3a-5782-4774-919c-23ac019e3a20",
   "metadata": {},
   "outputs": [],
   "source": [
    "from collections import defaultdict\n",
    "from dataclasses import dataclass\n",
    "from functools import wraps\n",
    "import random\n",
    "from time import perf_counter_ns\n",
    "\n",
    "import torch\n",
    "from evo import Evo, generate\n",
    "from stripedhyena.sample import sample\n",
    "\n",
    "from Bio import SeqIO\n",
    "import numpy as np\n",
    "import matplotlib.pyplot as plt\n",
    "%matplotlib inline\n",
    "import pandas as pd\n",
    "import seaborn as sns\n",
    "from sklearn.metrics import roc_auc_score, average_precision_score\n",
    "from sklearn.preprocessing import OneHotEncoder"
   ]
  },
  {
   "cell_type": "code",
   "execution_count": 4,
   "id": "c2a26ac1-e0dd-4995-9b6a-beabc2cb42a4",
   "metadata": {},
   "outputs": [],
   "source": [
    "# run on GPU if available, otherwise panic\n",
    "if not torch.cuda.is_available():\n",
    "    raise RuntimeError(\"CUDA not available, just don't do it\")\n",
    "\n",
    "device = torch.device(\"cuda:0\")"
   ]
  },
  {
   "cell_type": "code",
   "execution_count": 5,
   "id": "afa73f69-f3a5-4d3d-8af2-25151fbfdfb5",
   "metadata": {},
   "outputs": [
    {
     "data": {
      "application/vnd.jupyter.widget-view+json": {
       "model_id": "c2c3d2f61d2b421d8a5370f4e6a1ce51",
       "version_major": 2,
       "version_minor": 0
      },
      "text/plain": [
       "Loading checkpoint shards:   0%|          | 0/3 [00:00<?, ?it/s]"
      ]
     },
     "metadata": {},
     "output_type": "display_data"
    }
   ],
   "source": [
    "# download the model\n",
    "evo_model = Evo(\"evo-1.5-8k-base\")"
   ]
  },
  {
   "cell_type": "code",
   "execution_count": 6,
   "id": "f995a169-f88e-43e5-8c23-2254013c9276",
   "metadata": {},
   "outputs": [],
   "source": [
    "# extract tokenizer and model\n",
    "tokenizer = evo_model.tokenizer\n",
    "model = evo_model.model.to(device)"
   ]
  },
  {
   "cell_type": "markdown",
   "id": "a75f26f3-1186-4242-b536-cf0a7decb952",
   "metadata": {},
   "source": [
    "# Functions – internal logits"
   ]
  },
  {
   "cell_type": "code",
   "execution_count": 7,
   "id": "d4ce2cc8-d775-403d-ad39-20646b8d280e",
   "metadata": {},
   "outputs": [],
   "source": [
    "def get_internal_acgt_probs(seq):\n",
    "    \"\"\"Get per-position nucleotide probabilities within a sequence. They go from position 1 to k+1.\"\"\"\n",
    "    tokens = torch.tensor(tokenizer.tokenize(seq), dtype=torch.int).unsqueeze(0).to(device)\n",
    "    with torch.inference_mode():\n",
    "        logits, _ = model(tokens)\n",
    "    acgt_logits = logits[0,:,(65,67,71,84)]\n",
    "    acgt_probs = torch.softmax(acgt_logits, dim=-1)\n",
    "    return acgt_probs"
   ]
  },
  {
   "cell_type": "code",
   "execution_count": 8,
   "id": "7956ca69-f8c5-43ec-9727-53d454a7bd3a",
   "metadata": {},
   "outputs": [],
   "source": [
    "def calc_simple_correctness(true_seq, y_scores):\n",
    "    \"\"\"Calculate prediction correctness assuming ungapped alignment.\"\"\"\n",
    "    arr = np.array(list(true_seq)).reshape(-1,1)\n",
    "    real_arr = OneHotEncoder().fit_transform(arr).toarray()\n",
    "    preds_moved = torch.cat((torch.tensor([[0.25, 0.25, 0.25, 0.25]], dtype=torch.float32), y_scores.to(\"cpu\")[:-1]))\n",
    "    pred_arr = preds_moved.to(\"cpu\").to(torch.float32).numpy()\n",
    "    correct = real_arr.argmax(axis=1) == pred_arr.argmax(axis=1)\n",
    "    return sum(correct) / len(correct)"
   ]
  },
  {
   "cell_type": "code",
   "execution_count": 9,
   "id": "56d7fe16-fab1-4648-9dbb-3aec2dad56d6",
   "metadata": {},
   "outputs": [],
   "source": [
    "def calc_auroc(true_seq, y_scores):\n",
    "    \"\"\"Calculate AUROC from probabilities.\"\"\"\n",
    "    arr = np.array(list(true_seq)).reshape(-1,1)\n",
    "    real_arr = OneHotEncoder().fit_transform(arr).toarray()\n",
    "    preds_moved = torch.cat((torch.tensor([[0.25, 0.25, 0.25, 0.25]], dtype=torch.float32), y_scores.to(\"cpu\")[:-1]))\n",
    "    pred_arr = preds_moved.to(\"cpu\").to(torch.float32).numpy()\n",
    "    auroc = roc_auc_score(real_arr, pred_arr)\n",
    "    return auroc"
   ]
  },
  {
   "cell_type": "code",
   "execution_count": 10,
   "id": "c23a4ea6-bfeb-49eb-bd37-7f4a0e065698",
   "metadata": {},
   "outputs": [],
   "source": [
    "def calc_auprc(true_seq, y_scores):\n",
    "    \"\"\"Calculate AUPRC from probabilities.\"\"\"\n",
    "    arr = np.array(list(true_seq)).reshape(-1,1)\n",
    "    real_arr = OneHotEncoder().fit_transform(arr).toarray()\n",
    "    preds_moved = torch.cat((torch.tensor([[0.25, 0.25, 0.25, 0.25]], dtype=torch.float32), y_scores.to(\"cpu\")[:-1]))\n",
    "    pred_arr = preds_moved.to(\"cpu\").to(torch.float32).numpy()\n",
    "    auroc = average_precision_score(real_arr, pred_arr, average=\"weighted\")\n",
    "    return auroc"
   ]
  },
  {
   "cell_type": "code",
   "execution_count": 38,
   "id": "5905e451-b6df-4768-a907-87958a1a66cf",
   "metadata": {},
   "outputs": [],
   "source": [
    "@dataclass\n",
    "class SeqStats:\n",
    "    biotype: str\n",
    "    index: int\n",
    "    mock: bool\n",
    "    k: int\n",
    "    correctness: float\n",
    "    auroc: float\n",
    "    auprc: float"
   ]
  },
  {
   "cell_type": "code",
   "execution_count": 12,
   "id": "f900d7c2-fbf0-4fd6-b263-2856d9e3bb8e",
   "metadata": {},
   "outputs": [],
   "source": [
    "def internal_stats_from_seq(seq):\n",
    "    \"\"\"Calculate AUROC and AUPRC from a sequence.\"\"\"\n",
    "    probs = get_internal_acgt_probs(seq)\n",
    "    corr = calc_simple_correctness(seq, probs)\n",
    "    auroc = calc_auroc(seq, probs)\n",
    "    auprc = calc_auprc(seq, probs)\n",
    "    return corr, auroc, auprc"
   ]
  },
  {
   "cell_type": "code",
   "execution_count": 39,
   "id": "43a04991-5ba5-48b6-ad29-8cae80c8d417",
   "metadata": {},
   "outputs": [],
   "source": [
    "def process_fasta_internal(path, *, biotype=\"unknown\", index=0, mock=False, k=1000):\n",
    "    \"\"\"Read the first sequence from a FASTA file, take k bp and calculate internal stats.\"\"\"\n",
    "    with open(path, \"rt\") as f:\n",
    "        seqs = SeqIO.parse(f, \"fasta\")\n",
    "        seq = next(seqs)\n",
    "    corr, auroc, auprc = internal_stats_from_seq(str(seq.seq)[:k])\n",
    "    return SeqStats(biotype=biotype, index=index, mock=mock, k=k, correctness=corr, auroc=auroc, auprc=auprc)"
   ]
  },
  {
   "cell_type": "code",
   "execution_count": null,
   "id": "1af23fb5-d75d-47e0-9741-9ac9c7f70faf",
   "metadata": {},
   "outputs": [],
   "source": [
    "def process_mock_internal(seq, *, biotype=\"unknown\", index=0, k=1000):\n",
    "    corr, auroc, auprc = internal_stats_from_seq(str(seq.seq)[:k])\n",
    "    return SeqStats(biotype=biotype, index=index, mock=True, k=k, correctness=corr, auroc=auroc, auprc=auprc)"
   ]
  },
  {
   "cell_type": "code",
   "execution_count": 14,
   "id": "cfc43280-6e7f-4e5e-bd78-6a6be5d9915b",
   "metadata": {},
   "outputs": [],
   "source": [
    "def generate_mock(original_seq, new_length, seed=None):\n",
    "    \"\"\"Generates a new DNA sequence with the same nucleotide frequencies as the original sequence.\"\"\"\n",
    "    # Convert to uppercase and count valid nucleotides\n",
    "    counts = defaultdict(int)\n",
    "    valid_nucleotides = {'A', 'T', 'C', 'G'}\n",
    "    total = 0\n",
    "    for char in original_seq.upper():\n",
    "        if char in valid_nucleotides:\n",
    "            counts[char] += 1\n",
    "            total += 1\n",
    "    \n",
    "    if total == 0:\n",
    "        raise ValueError(\"Original sequence contains no valid nucleotides (A, T, C, G).\")\n",
    "    \n",
    "    # Prepare nucleotides and their corresponding weights (counts)\n",
    "    nucleotides = []\n",
    "    weights = []\n",
    "    for nuc in ['A', 'T', 'C', 'G']:\n",
    "        if counts[nuc] > 0:\n",
    "            nucleotides.append(nuc)\n",
    "            weights.append(counts[nuc])\n",
    "    \n",
    "    # Generate the new sequence using the calculated weights\n",
    "    if seed is not None:\n",
    "        random.seed(seed)\n",
    "    new_sequence = ''.join(random.choices(nucleotides, weights=weights, k=new_length))\n",
    "    return new_sequence"
   ]
  },
  {
   "cell_type": "code",
   "execution_count": 15,
   "id": "769372e6-8f92-495c-a113-120c3bf0e501",
   "metadata": {},
   "outputs": [],
   "source": [
    "def mock_from_fasta(path, context_len, new_len):\n",
    "    with open(path, \"rt\") as f:\n",
    "        seqs = SeqIO.parse(f, \"fasta\")\n",
    "        seq = next(seqs)\n",
    "    return generate_mock(seq[:context_len], new_len)"
   ]
  },
  {
   "cell_type": "markdown",
   "id": "66834f5a-0e12-4945-a8df-0628aec97e2d",
   "metadata": {},
   "source": [
    "# Test some functions"
   ]
  },
  {
   "cell_type": "code",
   "execution_count": 16,
   "id": "ef5f7e93-1f75-4cab-9d63-f1a8ca2e59fb",
   "metadata": {},
   "outputs": [],
   "source": [
    "with open(\"seqs/cds_1.fa\", \"rt\") as f:\n",
    "    seqs_cds = SeqIO.parse(f, \"fasta\")\n",
    "    seq_cds = next(seqs_cds).seq"
   ]
  },
  {
   "cell_type": "code",
   "execution_count": 17,
   "id": "70e659e6-e4b9-4be0-b7aa-41825cbe5b10",
   "metadata": {},
   "outputs": [
    {
     "data": {
      "text/plain": [
       "'CATAGGGACAACAACCACGAGGTAGTAAGCGGCGCCGCGCGAATAAATCTTATGCCAGACGCCGGGAATTAGGTCCGCTTCTCGCAGCAAACGCACGCGG'"
      ]
     },
     "execution_count": 17,
     "metadata": {},
     "output_type": "execute_result"
    }
   ],
   "source": [
    "generate_mock(seq_cds, 100, seed=42)"
   ]
  },
  {
   "cell_type": "markdown",
   "id": "7d9f0551-fede-4558-a64e-efbe2166b764",
   "metadata": {},
   "source": [
    "# Test on previous CDS sequence"
   ]
  },
  {
   "cell_type": "code",
   "execution_count": 18,
   "id": "989e7545-6955-4ec5-a279-2d1c0b0ffadb",
   "metadata": {},
   "outputs": [],
   "source": [
    "# with open(\"seqs/cds_1.fa\", 'r') as f:\n",
    "#    seq_cds = ''.join(line.strip() for line in f)"
   ]
  },
  {
   "cell_type": "code",
   "execution_count": 19,
   "id": "47265b5d-dc0c-47db-9c39-fd6bbd9d0acc",
   "metadata": {},
   "outputs": [],
   "source": [
    "# len(seq_cds)"
   ]
  },
  {
   "cell_type": "code",
   "execution_count": 20,
   "id": "440c6d9a-a2a3-4727-b76e-1f1f06f40e07",
   "metadata": {},
   "outputs": [],
   "source": [
    "# internal_stats_from_seq(seq_cds[:1000])"
   ]
  },
  {
   "cell_type": "code",
   "execution_count": 21,
   "id": "1a25c183-2d23-4f0b-978e-5b7b6b9046c9",
   "metadata": {},
   "outputs": [],
   "source": [
    "stats = []"
   ]
  },
  {
   "cell_type": "code",
   "execution_count": 22,
   "id": "edbff722-27a6-452b-8e9b-ec20bb791837",
   "metadata": {},
   "outputs": [
    {
     "name": "stdout",
     "output_type": "stream",
     "text": [
      "SeqStats(biotype='CDS', index=0, k=1000, correctness=0.521, auroc=0.7387516561308416, auprc=0.5160719774325769)\n"
     ]
    }
   ],
   "source": [
    "stats_cds = process_fasta_internal(\"seqs/cds_1.fa\", biotype=\"CDS\", index=0)\n",
    "stats.append(stats_cds)\n",
    "print(stats_cds)"
   ]
  },
  {
   "cell_type": "markdown",
   "id": "4bd14ee4-d2f4-4d2e-96c8-6d1b0225953a",
   "metadata": {},
   "source": [
    "# Test on intron and intergenic DNA"
   ]
  },
  {
   "cell_type": "code",
   "execution_count": 23,
   "id": "fd348028-53da-4b24-b7e3-8dc552c33469",
   "metadata": {},
   "outputs": [
    {
     "name": "stdout",
     "output_type": "stream",
     "text": [
      "SeqStats(biotype='intron', index=0, k=1000, correctness=0.414, auroc=0.6102379402731383, auprc=0.35071528501143623)\n"
     ]
    }
   ],
   "source": [
    "stats_intron = process_fasta_internal(\"seqs/intron_1.fa\", biotype=\"intron\", index=0)\n",
    "stats.append(stats_intron)\n",
    "print(stats_intron)"
   ]
  },
  {
   "cell_type": "code",
   "execution_count": 24,
   "id": "a6529236-0a9d-4498-9852-5c7377f5c5bf",
   "metadata": {},
   "outputs": [
    {
     "name": "stdout",
     "output_type": "stream",
     "text": [
      "SeqStats(biotype='intergenic', index=0, k=1000, correctness=0.607, auroc=0.8280435742284944, auprc=0.6878084556224981)\n"
     ]
    }
   ],
   "source": [
    "stats_intergenic = process_fasta_internal(\"seqs/intergenic_1.fa\", biotype=\"intergenic\", index=0)\n",
    "stats.append(stats_intergenic)\n",
    "print(stats_intergenic)"
   ]
  },
  {
   "cell_type": "code",
   "execution_count": 25,
   "id": "c9289bdd-46f6-4911-b4ac-d7e4dc7ec7c8",
   "metadata": {},
   "outputs": [
    {
     "name": "stdout",
     "output_type": "stream",
     "text": [
      "SeqStats(biotype='CDS', index=0, k=2000, correctness=0.511, auroc=0.7366895631570601, auprc=0.5119460362567128)\n"
     ]
    }
   ],
   "source": [
    "stats_cds_longer = process_fasta_internal(\"seqs/cds_1.fa\", biotype=\"CDS\", index=0, k=2000)\n",
    "stats.append(stats_cds_longer)\n",
    "print(stats_cds_longer)"
   ]
  },
  {
   "cell_type": "code",
   "execution_count": 26,
   "id": "915c625c-791f-4dd7-88ff-4f9aaff76a34",
   "metadata": {},
   "outputs": [
    {
     "name": "stdout",
     "output_type": "stream",
     "text": [
      "SeqStats(biotype='intron', index=0, k=2000, correctness=0.4125, auroc=0.6326265903618302, auprc=0.38042887306327156)\n"
     ]
    }
   ],
   "source": [
    "stats_intron_longer = process_fasta_internal(\"seqs/intron_1.fa\", biotype=\"intron\", index=0, k=2000)\n",
    "stats.append(stats_intron_longer)\n",
    "print(stats_intron_longer)"
   ]
  },
  {
   "cell_type": "code",
   "execution_count": 27,
   "id": "fb5f175c-7ea5-4313-900e-8d51e55d9698",
   "metadata": {},
   "outputs": [
    {
     "name": "stdout",
     "output_type": "stream",
     "text": [
      "SeqStats(biotype='intergenic', index=0, k=2000, correctness=0.4715, auroc=0.7506465543266938, auprc=0.5411512545040694)\n"
     ]
    }
   ],
   "source": [
    "stats_intergenic_longer = process_fasta_internal(\"seqs/intergenic_1.fa\", biotype=\"intergenic\", index=0, k=2000)\n",
    "stats.append(stats_intergenic_longer)\n",
    "print(stats_intergenic_longer)"
   ]
  },
  {
   "cell_type": "code",
   "execution_count": 28,
   "id": "121dacde-3243-45af-87fb-aed95a2529bf",
   "metadata": {},
   "outputs": [
    {
     "name": "stdout",
     "output_type": "stream",
     "text": [
      "SeqStats(biotype='intergenic', index=0, k=5000, correctness=0.4304, auroc=0.7136169287300393, auprc=0.4905002083431107)\n"
     ]
    }
   ],
   "source": [
    "stats_intergenic_superlong = process_fasta_internal(\"seqs/intergenic_1.fa\", biotype=\"intergenic\", index=0, k=5000)\n",
    "stats.append(stats_intergenic_superlong)\n",
    "print(stats_intergenic_superlong)"
   ]
  },
  {
   "cell_type": "markdown",
   "id": "a584ca2f-e302-4f5d-b4f8-c5e007d19fe9",
   "metadata": {},
   "source": [
    "# Plots for internal stats"
   ]
  },
  {
   "cell_type": "code",
   "execution_count": 29,
   "id": "50194338-df98-4ee2-8126-e673bcb7641f",
   "metadata": {},
   "outputs": [
    {
     "data": {
      "text/plain": [
       "[SeqStats(biotype='CDS', index=0, k=1000, correctness=0.521, auroc=0.7387516561308416, auprc=0.5160719774325769),\n",
       " SeqStats(biotype='intron', index=0, k=1000, correctness=0.414, auroc=0.6102379402731383, auprc=0.35071528501143623),\n",
       " SeqStats(biotype='intergenic', index=0, k=1000, correctness=0.607, auroc=0.8280435742284944, auprc=0.6878084556224981),\n",
       " SeqStats(biotype='CDS', index=0, k=2000, correctness=0.511, auroc=0.7366895631570601, auprc=0.5119460362567128),\n",
       " SeqStats(biotype='intron', index=0, k=2000, correctness=0.4125, auroc=0.6326265903618302, auprc=0.38042887306327156),\n",
       " SeqStats(biotype='intergenic', index=0, k=2000, correctness=0.4715, auroc=0.7506465543266938, auprc=0.5411512545040694),\n",
       " SeqStats(biotype='intergenic', index=0, k=5000, correctness=0.4304, auroc=0.7136169287300393, auprc=0.4905002083431107)]"
      ]
     },
     "execution_count": 29,
     "metadata": {},
     "output_type": "execute_result"
    }
   ],
   "source": [
    "stats"
   ]
  },
  {
   "cell_type": "code",
   "execution_count": 30,
   "id": "283cc7c3-8af4-4351-b3ac-2c3202bfc3e6",
   "metadata": {},
   "outputs": [],
   "source": [
    "stats_df = pd.DataFrame(stats)"
   ]
  },
  {
   "cell_type": "code",
   "execution_count": 31,
   "id": "44fb5da1-bd72-42bd-a8db-2bffd346e625",
   "metadata": {},
   "outputs": [
    {
     "data": {
      "text/html": [
       "<div>\n",
       "<style scoped>\n",
       "    .dataframe tbody tr th:only-of-type {\n",
       "        vertical-align: middle;\n",
       "    }\n",
       "\n",
       "    .dataframe tbody tr th {\n",
       "        vertical-align: top;\n",
       "    }\n",
       "\n",
       "    .dataframe thead th {\n",
       "        text-align: right;\n",
       "    }\n",
       "</style>\n",
       "<table border=\"1\" class=\"dataframe\">\n",
       "  <thead>\n",
       "    <tr style=\"text-align: right;\">\n",
       "      <th></th>\n",
       "      <th>biotype</th>\n",
       "      <th>index</th>\n",
       "      <th>k</th>\n",
       "      <th>correctness</th>\n",
       "      <th>auroc</th>\n",
       "      <th>auprc</th>\n",
       "    </tr>\n",
       "  </thead>\n",
       "  <tbody>\n",
       "    <tr>\n",
       "      <th>0</th>\n",
       "      <td>CDS</td>\n",
       "      <td>0</td>\n",
       "      <td>1000</td>\n",
       "      <td>0.5210</td>\n",
       "      <td>0.738752</td>\n",
       "      <td>0.516072</td>\n",
       "    </tr>\n",
       "    <tr>\n",
       "      <th>1</th>\n",
       "      <td>intron</td>\n",
       "      <td>0</td>\n",
       "      <td>1000</td>\n",
       "      <td>0.4140</td>\n",
       "      <td>0.610238</td>\n",
       "      <td>0.350715</td>\n",
       "    </tr>\n",
       "    <tr>\n",
       "      <th>2</th>\n",
       "      <td>intergenic</td>\n",
       "      <td>0</td>\n",
       "      <td>1000</td>\n",
       "      <td>0.6070</td>\n",
       "      <td>0.828044</td>\n",
       "      <td>0.687808</td>\n",
       "    </tr>\n",
       "    <tr>\n",
       "      <th>3</th>\n",
       "      <td>CDS</td>\n",
       "      <td>0</td>\n",
       "      <td>2000</td>\n",
       "      <td>0.5110</td>\n",
       "      <td>0.736690</td>\n",
       "      <td>0.511946</td>\n",
       "    </tr>\n",
       "    <tr>\n",
       "      <th>4</th>\n",
       "      <td>intron</td>\n",
       "      <td>0</td>\n",
       "      <td>2000</td>\n",
       "      <td>0.4125</td>\n",
       "      <td>0.632627</td>\n",
       "      <td>0.380429</td>\n",
       "    </tr>\n",
       "    <tr>\n",
       "      <th>5</th>\n",
       "      <td>intergenic</td>\n",
       "      <td>0</td>\n",
       "      <td>2000</td>\n",
       "      <td>0.4715</td>\n",
       "      <td>0.750647</td>\n",
       "      <td>0.541151</td>\n",
       "    </tr>\n",
       "    <tr>\n",
       "      <th>6</th>\n",
       "      <td>intergenic</td>\n",
       "      <td>0</td>\n",
       "      <td>5000</td>\n",
       "      <td>0.4304</td>\n",
       "      <td>0.713617</td>\n",
       "      <td>0.490500</td>\n",
       "    </tr>\n",
       "  </tbody>\n",
       "</table>\n",
       "</div>"
      ],
      "text/plain": [
       "      biotype  index     k  correctness     auroc     auprc\n",
       "0         CDS      0  1000       0.5210  0.738752  0.516072\n",
       "1      intron      0  1000       0.4140  0.610238  0.350715\n",
       "2  intergenic      0  1000       0.6070  0.828044  0.687808\n",
       "3         CDS      0  2000       0.5110  0.736690  0.511946\n",
       "4      intron      0  2000       0.4125  0.632627  0.380429\n",
       "5  intergenic      0  2000       0.4715  0.750647  0.541151\n",
       "6  intergenic      0  5000       0.4304  0.713617  0.490500"
      ]
     },
     "execution_count": 31,
     "metadata": {},
     "output_type": "execute_result"
    }
   ],
   "source": [
    "stats_df"
   ]
  },
  {
   "cell_type": "code",
   "execution_count": 32,
   "id": "d49b2845-9612-4d0a-8302-4b0a4e8e87b2",
   "metadata": {},
   "outputs": [
    {
     "data": {
      "image/png": "[encoded data removed]",
      "text/plain": [
       "<Figure size 640x480 with 1 Axes>"
      ]
     },
     "metadata": {},
     "output_type": "display_data"
    }
   ],
   "source": [
    "ax = sns.barplot(data=stats_df, x=\"biotype\", y=\"correctness\", hue=\"k\")\n",
    "ax.set_ylim(0,1)\n",
    "ax.axhline(y=0.25, label=\"Random model\")\n",
    "ax.set(xlabel=\"Sequence type\", ylabel=\"Simple correctness\", title=\"Correctness by Sequence Type\")\n",
    "ax.legend().set_title(\"Sequence length\")"
   ]
  },
  {
   "cell_type": "code",
   "execution_count": 33,
   "id": "26c701ab-be65-42fa-90e5-0b720db18d53",
   "metadata": {},
   "outputs": [
    {
     "data": {
      "image/png": "[encoded data removed]",
      "text/plain": [
       "<Figure size 640x480 with 1 Axes>"
      ]
     },
     "metadata": {},
     "output_type": "display_data"
    }
   ],
   "source": [
    "ax = sns.barplot(data=stats_df, x=\"biotype\", y=\"auroc\", hue=\"k\")\n",
    "ax.axhline(y=0.5, label=\"Random model\")\n",
    "ax.set_ylim(0,1)\n",
    "ax.set(xlabel=\"Sequence type\", ylabel=\"AUROC\", title=\"AUROC by Sequence Type\")\n",
    "ax.legend().set_title(\"Sequence length\")"
   ]
  },
  {
   "cell_type": "code",
   "execution_count": 34,
   "id": "125790c2-c3ab-4818-b959-471a365b2890",
   "metadata": {},
   "outputs": [
    {
     "data": {
      "image/png": "[encoded data removed]",
      "text/plain": [
       "<Figure size 640x480 with 1 Axes>"
      ]
     },
     "metadata": {},
     "output_type": "display_data"
    }
   ],
   "source": [
    "ax = sns.barplot(data=stats_df, x=\"biotype\", y=\"auprc\", hue=\"k\")\n",
    "ax.set_ylim(0,1)\n",
    "ax.axhline(y=0.25, label=\"Random model\")\n",
    "ax.set(xlabel=\"Sequence type\", ylabel=\"AUPRC\", title=\"AUPRC by Sequence Type\")\n",
    "ax.legend().set_title(\"Sequence length\")"
   ]
  },
  {
   "cell_type": "markdown",
   "id": "91f71497-39be-45a9-a532-5a130053d2ae",
   "metadata": {},
   "source": [
    "# Mock sequences"
   ]
  },
  {
   "cell_type": "code",
   "execution_count": 35,
   "id": "df96c9d2-b167-4191-8659-19931e579839",
   "metadata": {},
   "outputs": [
    {
     "data": {
      "text/plain": [
       "'AGGCTCACCGGTCAGGTCCAGCGCATAGGGTAGGACAGGACCTGCACGATGCCCAATCAAACAGGAAGAAGCCGGAACCCGGGACTGTACCTTGCGCAGGGGGACACATGTGCCGGCGATGCCGACCGAGAACGAAGTCCCCCGAGACGTTGACGGAATGGGTAGGCGCAGTCGAAACTCGACTCGGACTAGCTGCCAAGGCGCAATGGGGATAGGCCAGGGGGAGTGGGGTGAGGAGCTGAAATGGTCCGCGAGAGTACGTCCTCTGAGCGGGTAGTTGGTTCCTACGGGCTCATCCCCCACGGAACCTGGGAAAACGACCAGCACAGGACAGCATGCGGGCGGCGCGCGGCTTCGCCTATTTCAAGGACCCACGCGGGTATGGGCGCCAACATGCACACACCACACATATGTGGTAACGTCGCGGAAAAGCAGGACGAGGAATGGCGAGCAGGCAGGTCTCTGGAGCGGCGGTGCCCGTGGAGACCTAGAAGTGGTAGAGCGGCCGAAGTCCCCGTGTTAAACGAACGGCTAAAAACTGCGAGCGCCCAAGCGCACAACTGAGCGACCCGGTCCGGAACAAAACCTAGGCGGGCCGCCCGGAATGCTAGGGCCAACTTAGGCGGGTAGCCGACCCATTGGTGTGGCCTTGCCGCCCATGCGACGCGAGCAACCAGGCAGCGCTGGACTGCGGTGCGCGTTCGCACTCCCTAGCAGAGGGTCGGCACCGGCCCGCCACGTGCGGGTTGGGAACGGGCACGCGGAGTTACCGAAGCAGACTTAGGGACTCCCTGATCACCGTGCTCGGACCGTGCTCCGGCGCGCTCCGATGAACGCGGTGCGGTAGAGGGGGGTGACCGGCGGAAAGCGAAGGTCAGTCAGACGGGCGACACCGATCGGAGCGTCAAGCCCCAGAACAGAAGTAGAGAATACAAGATAAGCGCGCACGAGGCCGACCGCGAACATCCTGCCCAGGCGGACATCCACGTAGAGAAGGCCC'"
      ]
     },
     "execution_count": 35,
     "metadata": {},
     "output_type": "execute_result"
    }
   ],
   "source": [
    "mock_cds = mock_from_fasta(\"seqs/cds_1.fa\", 1000, 1000)\n",
    "mock_cds"
   ]
  },
  {
   "cell_type": "code",
   "execution_count": 40,
   "id": "aaf39cbe-abfb-4227-8a44-32064c26f51c",
   "metadata": {},
   "outputs": [],
   "source": [
    "mock_stats = []"
   ]
  },
  {
   "cell_type": "code",
   "execution_count": null,
   "id": "6ae914b3-115e-43d5-b5b8-054254ccb17d",
   "metadata": {},
   "outputs": [],
   "source": [
    "mock_cds_stats = internal_stats_from_seq()"
   ]
  }
 ],
 "metadata": {
  "kernelspec": {
   "display_name": "gpu",
   "language": "python",
   "name": "gpu"
  },
  "language_info": {
   "codemirror_mode": {
    "name": "ipython",
    "version": 3
   },
   "file_extension": ".py",
   "mimetype": "text/x-python",
   "name": "python",
   "nbconvert_exporter": "python",
   "pygments_lexer": "ipython3",
   "version": "3.12.4"
  }
 },
 "nbformat": 4,
 "nbformat_minor": 5
}
