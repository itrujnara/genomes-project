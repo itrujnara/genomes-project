{
 "cells": [
  {
   "cell_type": "code",
   "execution_count": 1,
   "id": "0d4fdf61-7792-442e-a0b2-35995e3ba04e",
   "metadata": {},
   "outputs": [],
   "source": [
    "import os\n",
    "import gzip\n",
    "from Bio import SeqIO\n",
    "from collections import defaultdict as dd\n",
    "from functools import wraps\n",
    "from time import perf_counter_ns"
   ]
  },
  {
   "cell_type": "markdown",
   "id": "d51de15f-a34c-4847-970c-f0139ffe1de9",
   "metadata": {},
   "source": [
    "# Genome loading exploration"
   ]
  },
  {
   "cell_type": "markdown",
   "id": "df54b3e3-1b35-4959-9da3-5c92f1528abb",
   "metadata": {},
   "source": [
    "## Timing helper"
   ]
  },
  {
   "cell_type": "code",
   "execution_count": 16,
   "id": "478b2d7d-5c8a-4f5c-8f2c-3594ea88f146",
   "metadata": {},
   "outputs": [],
   "source": [
    "def timeit(f):\n",
    "    @wraps(f)\n",
    "    def wrapper(*args, **kwargs):\n",
    "        start = perf_counter_ns()\n",
    "        result = f(*args, **kwargs)\n",
    "        print(f\"{f}({args[0]}) took {(perf_counter_ns() - start) / 10 ** 6:.2f}ms\")\n",
    "        return result\n",
    "    return wrapper"
   ]
  },
  {
   "cell_type": "markdown",
   "id": "566e6bbe-90be-4c77-ad30-8eaa971be14c",
   "metadata": {},
   "source": [
    "## Basic file search"
   ]
  },
  {
   "cell_type": "code",
   "execution_count": 3,
   "id": "6d4faf59-7148-47d3-9b99-39ac505d9997",
   "metadata": {},
   "outputs": [],
   "source": [
    "ISEULT_GENOMES_PATH = \"/no_backup/rg/ileahy/protists\""
   ]
  },
  {
   "cell_type": "code",
   "execution_count": 4,
   "id": "acbf8dd7-751b-43b7-bb58-fd81edfe7cd6",
   "metadata": {},
   "outputs": [
    {
     "data": {
      "text/plain": [
       "103"
      ]
     },
     "execution_count": 4,
     "metadata": {},
     "output_type": "execute_result"
    }
   ],
   "source": [
    "subdirs = os.listdir(ISEULT_GENOMES_PATH)\n",
    "len(subdirs)"
   ]
  },
  {
   "cell_type": "code",
   "execution_count": 5,
   "id": "43fbf1c9-a6e9-4b22-bf25-ed32e8b262c8",
   "metadata": {},
   "outputs": [
    {
     "data": {
      "text/plain": [
       "['Nitzschia_sp._DOCU1_genomic.fa',\n",
       " 'Nitzschia_sp._DOCU1_assembly_stats.txt',\n",
       " 'Nitzschia_sp._DOCU1_genomic.lengths',\n",
       " 'Nitzschia_sp._DOCU1_genomic.fna.nhr',\n",
       " 'Nitzschia_sp._DOCU1_genomic.index',\n",
       " 'Nitzschia_sp._DOCU1_genomic.gbff.gz',\n",
       " 'Nitzschia_sp._DOCU1_genomic.fna.nsq',\n",
       " 'output',\n",
       " 'Nitzschia_sp._DOCU1_genomic.gff.gz',\n",
       " 'Nitzschia_sp._DOCU1_genomic.fna.gz',\n",
       " 'Nitzschia_sp._DOCU1_genomic.fa.ssi',\n",
       " 'Nitzschia_sp._DOCU1_genomic.fna.nsd',\n",
       " 'Nitzschia_sp._DOCU1_genomic.fna.nin',\n",
       " 'Nitzschia_sp._DOCU1_genomic.fna.nsi']"
      ]
     },
     "execution_count": 5,
     "metadata": {},
     "output_type": "execute_result"
    }
   ],
   "source": [
    "os.listdir(ISEULT_GENOMES_PATH  + '/' + subdirs[0])"
   ]
  },
  {
   "cell_type": "code",
   "execution_count": 6,
   "id": "4a9a7cbb-566c-4d8a-9039-a16b4d64bd07",
   "metadata": {},
   "outputs": [
    {
     "data": {
      "text/plain": [
       "103"
      ]
     },
     "execution_count": 6,
     "metadata": {},
     "output_type": "execute_result"
    }
   ],
   "source": [
    "fastas = {i: f\"{ISEULT_GENOMES_PATH}/{i}/{i}_genomic.fna.gz\" for i in subdirs}\n",
    "len(fastas)"
   ]
  },
  {
   "cell_type": "code",
   "execution_count": 7,
   "id": "0475c712-0818-44f3-bcca-77ded71172bf",
   "metadata": {},
   "outputs": [
    {
     "name": "stdout",
     "output_type": "stream",
     "text": [
      "('Nitzschia_sp._DOCU1', '/no_backup/rg/ileahy/protists/Nitzschia_sp._DOCU1/Nitzschia_sp._DOCU1_genomic.fna.gz')\n"
     ]
    }
   ],
   "source": [
    "first = list(fastas.items())[0]\n",
    "print(first)"
   ]
  },
  {
   "cell_type": "markdown",
   "id": "52d713d8-76c6-462b-bfd0-3ad2a4700fcf",
   "metadata": {},
   "source": [
    "## Manual file opening"
   ]
  },
  {
   "cell_type": "code",
   "execution_count": 8,
   "id": "51e575fd-072b-457a-bd43-f2612277d3ed",
   "metadata": {},
   "outputs": [
    {
     "name": "stdout",
     "output_type": "stream",
     "text": [
      "['>OX595985.1 Nitzschia sp. DOCU1 genome assembly, chromosome: 1', 'accctaaccctaaccctaaccctaaccctaaccctaaccctaaccctaaccctaaccctaaccctaaccctaaccctaac', 'cctaaccctaaccctaaccctaaccctaaccctaaccctaaccctaaccctaaccctaaccctaaccctaaccctaaccc', 'taaccctaaccctaaccctaaccctaaccctaaccctaaccctaaccctaaccctaaccctaaccctaaccctaacccta', 'accctaaccctaaccctaaccctaaccctaaccctaaccctaaccctaaccctaaccctaaccctaaccctaaccctaac']\n"
     ]
    }
   ],
   "source": [
    "with gzip.open(first[1], mode = 'rt') as f:\n",
    "    lines = [line.strip() for line in f.readlines()]\n",
    "\n",
    "print(lines[:5])"
   ]
  },
  {
   "cell_type": "code",
   "execution_count": 9,
   "id": "ff8e0953-6541-4055-9d26-413042e8db03",
   "metadata": {
    "scrolled": true
   },
   "outputs": [
    {
     "name": "stdout",
     "output_type": "stream",
     "text": [
      "<class 'Bio.SeqIO.FastaIO.FastaIterator'>\n"
     ]
    }
   ],
   "source": [
    "with gzip.open(first[1], 'rt') as f:\n",
    "    seqs_first = SeqIO.parse(f, \"fasta\")\n",
    "    print(type(seqs_first))\n",
    "    chromosomes_first = [seq for seq in seqs_first if \"chromosome\" in seq.description]"
   ]
  },
  {
   "cell_type": "markdown",
   "id": "36298496-fe1d-4f2c-9808-541ff73b2015",
   "metadata": {},
   "source": [
    "## Timing iterator vs. list reading"
   ]
  },
  {
   "cell_type": "code",
   "execution_count": 24,
   "id": "eb855d0c-dd03-4e9f-97d3-e20a1f5eba78",
   "metadata": {},
   "outputs": [],
   "source": [
    "@timeit\n",
    "def read_genome_iter(path):\n",
    "    with gzip.open(path, \"rt\") as f:\n",
    "        return SeqIO.parse(f, \"fasta\")"
   ]
  },
  {
   "cell_type": "code",
   "execution_count": 26,
   "id": "5b0cf9aa-f457-4e60-8046-0d0cdc23ced0",
   "metadata": {},
   "outputs": [],
   "source": [
    "@timeit\n",
    "def read_genome_list(path):\n",
    "    with gzip.open(path, \"rt\") as f:\n",
    "        return list(SeqIO.parse(f, \"fasta\"))"
   ]
  },
  {
   "cell_type": "code",
   "execution_count": 32,
   "id": "a2d8d5b3-2a80-41d6-b8bf-3e9cb63134a6",
   "metadata": {},
   "outputs": [
    {
     "name": "stdout",
     "output_type": "stream",
     "text": [
      "<function read_genome_iter at 0x7fa5c87c54e0>(/no_backup/rg/ileahy/protists/Neospora_caninum_Liverpool/Neospora_caninum_Liverpool_genomic.fna.gz) took 0.59ms\n"
     ]
    }
   ],
   "source": [
    "genome_it = read_genome_iter(list(fastas.items())[1][1])\n",
    "# takes about 1ms"
   ]
  },
  {
   "cell_type": "code",
   "execution_count": 37,
   "id": "8fad671f-2911-47e3-86d9-77d9932b377d",
   "metadata": {},
   "outputs": [
    {
     "name": "stdout",
     "output_type": "stream",
     "text": [
      "<function read_genome_list at 0x7fa5c87c5bc0>(/no_backup/rg/ileahy/protists/Neospora_caninum_Liverpool/Neospora_caninum_Liverpool_genomic.fna.gz) took 389.57ms\n"
     ]
    }
   ],
   "source": [
    "genome_list = read_genome_list(list(fastas.items())[1][1])\n",
    "# takes about 400ms"
   ]
  },
  {
   "cell_type": "code",
   "execution_count": 40,
   "id": "780f5d98-c9c0-4a4a-bff4-db48021ce963",
   "metadata": {},
   "outputs": [],
   "source": [
    "# next(genome_it)\n",
    "# the iterator only works while the file is open"
   ]
  },
  {
   "cell_type": "markdown",
   "id": "5d2722c6-09ed-4565-8bad-5ebad562fb85",
   "metadata": {},
   "source": [
    "We should exploit FASTA iterators for large-scale analysis, they should work much faster than converting to a list"
   ]
  },
  {
   "cell_type": "code",
   "execution_count": 9,
   "id": "37aa74a4-2cb4-4662-9e7a-ec23437d9251",
   "metadata": {},
   "outputs": [
    {
     "data": {
      "text/plain": [
       "17"
      ]
     },
     "execution_count": 9,
     "metadata": {},
     "output_type": "execute_result"
    }
   ],
   "source": [
    "len(chromosomes_first)"
   ]
  },
  {
   "cell_type": "markdown",
   "id": "9d10e62e-3afe-48c0-a16e-718cdf3fb0fd",
   "metadata": {},
   "source": [
    "## Some kmer exploration (not too relevant for now)"
   ]
  },
  {
   "cell_type": "code",
   "execution_count": 10,
   "id": "491463fd-6ae6-4c00-bf23-30fdd23635e7",
   "metadata": {},
   "outputs": [],
   "source": [
    "def kmers(seq, k):\n",
    "    counts = dd(int)\n",
    "    total_count = 0\n",
    "    for i in range(0, len(seq) - k, k):\n",
    "        kmer = seq.upper()[i:i+k]\n",
    "        counts[kmer] += 1\n",
    "        total_count += 1\n",
    "    freqs = {kmer: count / total_count for kmer, count in counts.items()}\n",
    "    return freqs"
   ]
  },
  {
   "cell_type": "code",
   "execution_count": 18,
   "id": "cd5de26b-3e46-4c2a-a223-d467bcb537a1",
   "metadata": {},
   "outputs": [
    {
     "data": {
      "text/plain": [
       "{'CGA': 0.2,\n",
       " 'TCA': 0.2,\n",
       " 'GCT': 0.1,\n",
       " 'GAT': 0.1,\n",
       " 'CAG': 0.1,\n",
       " 'CTA': 0.1,\n",
       " 'TTC': 0.1,\n",
       " 'GCA': 0.1}"
      ]
     },
     "execution_count": 18,
     "metadata": {},
     "output_type": "execute_result"
    }
   ],
   "source": [
    "kmers(\"CGATCAGCTGATCAGCTACGATTCTCAGCAT\", 3)"
   ]
  },
  {
   "cell_type": "code",
   "execution_count": null,
   "id": "5cffaf86-c640-46a6-89dd-fe5a01258514",
   "metadata": {},
   "outputs": [],
   "source": [
    "# kmers(chromosomes_first[0].seq, 3)"
   ]
  }
 ],
 "metadata": {
  "kernelspec": {
   "display_name": "gpu",
   "language": "python",
   "name": "gpu"
  },
  "language_info": {
   "codemirror_mode": {
    "name": "ipython",
    "version": 3
   },
   "file_extension": ".py",
   "mimetype": "text/x-python",
   "name": "python",
   "nbconvert_exporter": "python",
   "pygments_lexer": "ipython3",
   "version": "3.12.4"
  }
 },
 "nbformat": 4,
 "nbformat_minor": 5
}
