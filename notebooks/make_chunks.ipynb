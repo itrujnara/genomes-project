{
 "cells": [
  {
   "cell_type": "code",
   "execution_count": 1,
   "id": "50d2c2e6-4846-4931-92ec-9b30347aa3ca",
   "metadata": {},
   "outputs": [],
   "source": [
    "from pathlib import Path \n",
    "import random\n",
    "\n",
    "import polars as pl"
   ]
  },
  {
   "cell_type": "code",
   "execution_count": 2,
   "id": "6f6d764f-6d3a-4810-a187-79215afb0767",
   "metadata": {},
   "outputs": [],
   "source": [
    "basepath = Path(\"/users/cn/itrujnara/genomes-project/infer_chromosome/\")"
   ]
  },
  {
   "cell_type": "code",
   "execution_count": 3,
   "id": "85ff2458-c5e0-418e-88d4-be9b7a98df80",
   "metadata": {},
   "outputs": [],
   "source": [
    "df_seq = pl.read_parquet(basepath / \"one_chunk/random_chunk.pq\")"
   ]
  },
  {
   "cell_type": "code",
   "execution_count": 4,
   "id": "d02c0064-f788-4dd8-9cad-3b2fa8741303",
   "metadata": {},
   "outputs": [
    {
     "data": {
      "text/html": [
       "<div><style>\n",
       ".dataframe > thead > tr,\n",
       ".dataframe > tbody > tr {\n",
       "  text-align: right;\n",
       "  white-space: pre-wrap;\n",
       "}\n",
       "</style>\n",
       "<small>shape: (1, 3)</small><table border=\"1\" class=\"dataframe\"><thead><tr><th>id</th><th>description</th><th>sequence</th></tr><tr><td>str</td><td>str</td><td>str</td></tr></thead><tbody><tr><td>&quot;random_chunk&quot;</td><td>&quot;&lt;unknown description&gt;&quot;</td><td>&quot;ATGTAAGAGAAGAAAACTTTGGCCAAGAAT…</td></tr></tbody></table></div>"
      ],
      "text/plain": [
       "shape: (1, 3)\n",
       "┌──────────────┬───────────────────────┬─────────────────────────────────┐\n",
       "│ id           ┆ description           ┆ sequence                        │\n",
       "│ ---          ┆ ---                   ┆ ---                             │\n",
       "│ str          ┆ str                   ┆ str                             │\n",
       "╞══════════════╪═══════════════════════╪═════════════════════════════════╡\n",
       "│ random_chunk ┆ <unknown description> ┆ ATGTAAGAGAAGAAAACTTTGGCCAAGAAT… │\n",
       "└──────────────┴───────────────────────┴─────────────────────────────────┘"
      ]
     },
     "execution_count": 4,
     "metadata": {},
     "output_type": "execute_result"
    }
   ],
   "source": [
    "df_seq"
   ]
  },
  {
   "cell_type": "code",
   "execution_count": 5,
   "id": "4cded75a-6a0d-4fd9-b0a6-e975042f2c5a",
   "metadata": {},
   "outputs": [],
   "source": [
    "seq = df_seq.item(0,2)"
   ]
  },
  {
   "cell_type": "code",
   "execution_count": 6,
   "id": "bbf09c95-dc87-4daa-9e59-849c08f3ffb5",
   "metadata": {},
   "outputs": [
    {
     "data": {
      "text/plain": [
       "131072"
      ]
     },
     "execution_count": 6,
     "metadata": {},
     "output_type": "execute_result"
    }
   ],
   "source": [
    "len(seq)"
   ]
  },
  {
   "cell_type": "code",
   "execution_count": 18,
   "id": "65daa261-b0d9-4402-844a-3d124a9521c4",
   "metadata": {},
   "outputs": [
    {
     "data": {
      "text/plain": [
       "40960"
      ]
     },
     "execution_count": 18,
     "metadata": {},
     "output_type": "execute_result"
    }
   ],
   "source": [
    "size = 131072 // 4 + 8192\n",
    "size"
   ]
  },
  {
   "cell_type": "code",
   "execution_count": 19,
   "id": "e7148d55-86d9-4004-9160-cab65087d5d7",
   "metadata": {},
   "outputs": [
    {
     "data": {
      "text/plain": [
       "32768"
      ]
     },
     "execution_count": 19,
     "metadata": {},
     "output_type": "execute_result"
    }
   ],
   "source": [
    "stride = size - 8192\n",
    "stride"
   ]
  },
  {
   "cell_type": "code",
   "execution_count": 20,
   "id": "23633fbb-014b-498f-acfe-387ae15ccf80",
   "metadata": {},
   "outputs": [],
   "source": [
    "chunks = []\n",
    "\n",
    "for i,start in enumerate(range(0,len(seq),stride)):\n",
    "    chunk_seq = seq[start:start+size]\n",
    "    chunks.append({\n",
    "        \"id\": f\"random_chunk_{i}\",\n",
    "        \"start\": start,\n",
    "        \"end\": min(start+size, len(seq)),\n",
    "        \"sequence\": chunk_seq\n",
    "    })\n",
    "\n",
    "df_chunks = pl.DataFrame(chunks)"
   ]
  },
  {
   "cell_type": "code",
   "execution_count": 21,
   "id": "affef10a-01f0-4212-82b7-ddd54c327b09",
   "metadata": {},
   "outputs": [
    {
     "data": {
      "text/html": [
       "<div><style>\n",
       ".dataframe > thead > tr,\n",
       ".dataframe > tbody > tr {\n",
       "  text-align: right;\n",
       "  white-space: pre-wrap;\n",
       "}\n",
       "</style>\n",
       "<small>shape: (4, 4)</small><table border=\"1\" class=\"dataframe\"><thead><tr><th>id</th><th>start</th><th>end</th><th>sequence</th></tr><tr><td>str</td><td>i64</td><td>i64</td><td>str</td></tr></thead><tbody><tr><td>&quot;random_chunk_0&quot;</td><td>0</td><td>40960</td><td>&quot;ATGTAAGAGAAGAAAACTTTGGCCAAGAAT…</td></tr><tr><td>&quot;random_chunk_1&quot;</td><td>32768</td><td>73728</td><td>&quot;AAGAAGGAACACAGGACCGTAAACAGCTTT…</td></tr><tr><td>&quot;random_chunk_2&quot;</td><td>65536</td><td>106496</td><td>&quot;AAGTCTTAACTCATTTCAGTATTAACCCAA…</td></tr><tr><td>&quot;random_chunk_3&quot;</td><td>98304</td><td>131072</td><td>&quot;ACATTTATACCTATGTAACAAACCTACACG…</td></tr></tbody></table></div>"
      ],
      "text/plain": [
       "shape: (4, 4)\n",
       "┌────────────────┬───────┬────────┬─────────────────────────────────┐\n",
       "│ id             ┆ start ┆ end    ┆ sequence                        │\n",
       "│ ---            ┆ ---   ┆ ---    ┆ ---                             │\n",
       "│ str            ┆ i64   ┆ i64    ┆ str                             │\n",
       "╞════════════════╪═══════╪════════╪═════════════════════════════════╡\n",
       "│ random_chunk_0 ┆ 0     ┆ 40960  ┆ ATGTAAGAGAAGAAAACTTTGGCCAAGAAT… │\n",
       "│ random_chunk_1 ┆ 32768 ┆ 73728  ┆ AAGAAGGAACACAGGACCGTAAACAGCTTT… │\n",
       "│ random_chunk_2 ┆ 65536 ┆ 106496 ┆ AAGTCTTAACTCATTTCAGTATTAACCCAA… │\n",
       "│ random_chunk_3 ┆ 98304 ┆ 131072 ┆ ACATTTATACCTATGTAACAAACCTACACG… │\n",
       "└────────────────┴───────┴────────┴─────────────────────────────────┘"
      ]
     },
     "execution_count": 21,
     "metadata": {},
     "output_type": "execute_result"
    }
   ],
   "source": [
    "df_chunks"
   ]
  },
  {
   "cell_type": "code",
   "execution_count": 34,
   "id": "2b71b55d-f482-41fc-94d7-c32701c7a1f4",
   "metadata": {},
   "outputs": [
    {
     "data": {
      "text/html": [
       "<div><style>\n",
       ".dataframe > thead > tr,\n",
       ".dataframe > tbody > tr {\n",
       "  text-align: right;\n",
       "  white-space: pre-wrap;\n",
       "}\n",
       "</style>\n",
       "<small>shape: (1, 4)</small><table border=\"1\" class=\"dataframe\"><thead><tr><th>id</th><th>start</th><th>end</th><th>sequence</th></tr><tr><td>str</td><td>i64</td><td>i64</td><td>str</td></tr></thead><tbody><tr><td>&quot;NC_000021.9&quot;</td><td>41615360</td><td>42663936</td><td>&quot;AGTGAGTTCGAGGCTTCAGTGAGCTGTGAC…</td></tr></tbody></table></div>"
      ],
      "text/plain": [
       "shape: (1, 4)\n",
       "┌─────────────┬──────────┬──────────┬─────────────────────────────────┐\n",
       "│ id          ┆ start    ┆ end      ┆ sequence                        │\n",
       "│ ---         ┆ ---      ┆ ---      ┆ ---                             │\n",
       "│ str         ┆ i64      ┆ i64      ┆ str                             │\n",
       "╞═════════════╪══════════╪══════════╪═════════════════════════════════╡\n",
       "│ NC_000021.9 ┆ 41615360 ┆ 42663936 ┆ AGTGAGTTCGAGGCTTCAGTGAGCTGTGAC… │\n",
       "└─────────────┴──────────┴──────────┴─────────────────────────────────┘"
      ]
     },
     "execution_count": 34,
     "metadata": {},
     "output_type": "execute_result"
    }
   ],
   "source": [
    "random.seed(42)\n",
    "random_chunk = df_chunks[random.randint(0,df_chunks.shape[0]-1)]\n",
    "random_chunk"
   ]
  },
  {
   "cell_type": "code",
   "execution_count": 23,
   "id": "a1f01459-a227-413f-b7ce-d07444a3d60b",
   "metadata": {},
   "outputs": [],
   "source": [
    "prefix = \"random_chunk\""
   ]
  },
  {
   "cell_type": "code",
   "execution_count": 38,
   "id": "c66dd521-3308-4a98-90f5-c66c29938c5a",
   "metadata": {},
   "outputs": [],
   "source": [
    "random_chunk.write_parquet(basepath / f\"one_chunk/{prefix}_random_long.pq\")"
   ]
  },
  {
   "cell_type": "code",
   "execution_count": 24,
   "id": "27d53842-18e3-4878-8912-f2c47cc0ee0e",
   "metadata": {},
   "outputs": [],
   "source": [
    "df_chunks.write_parquet(basepath / \"one_chunk\" / f\"{prefix}_chunks_{size}.pq\")"
   ]
  },
  {
   "cell_type": "code",
   "execution_count": null,
   "id": "54a21076-c513-4963-8a05-be6b360b6d01",
   "metadata": {},
   "outputs": [],
   "source": []
  }
 ],
 "metadata": {
  "kernelspec": {
   "display_name": "gpu",
   "language": "python",
   "name": "gpu"
  },
  "language_info": {
   "codemirror_mode": {
    "name": "ipython",
    "version": 3
   },
   "file_extension": ".py",
   "mimetype": "text/x-python",
   "name": "python",
   "nbconvert_exporter": "python",
   "pygments_lexer": "ipython3",
   "version": "3.9.21"
  }
 },
 "nbformat": 4,
 "nbformat_minor": 5
}
